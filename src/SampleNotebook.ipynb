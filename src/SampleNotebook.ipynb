{
  "nbformat": 4,
  "nbformat_minor": 0,
  "metadata": {
    "language_info": {
      "codemirror_mode": {
        "name": "ipython",
        "version": 3
      },
      "file_extension": ".py",
      "mimetype": "text/x-python",
      "name": "python",
      "nbconvert_exporter": "python",
      "pygments_lexer": "ipython3",
      "version": "3.7.9-final"
    },
    "orig_nbformat": 2,
    "kernelspec": {
      "name": "python3",
      "display_name": "Python 3.7.9 64-bit (conda)",
      "metadata": {
        "interpreter": {
          "hash": "b3ba2566441a7c06988d0923437866b63cedc61552a5af99d1f4fb67d367b25f"
        }
      }
    },
    "colab": {
      "name": "SampleNotebook.ipynb",
      "provenance": []
    }
  },
  "cells": [
    {
      "cell_type": "code",
      "metadata": {
        "id": "6daCkjEIw2sM"
      },
      "source": [
        ""
      ],
      "execution_count": null,
      "outputs": []
    },
    {
      "cell_type": "code",
      "metadata": {
        "id": "lsAmmyLdvzd0"
      },
      "source": [
        "# Load Dataset\n",
        "import pandas\n",
        "try:\n",
        "  wine_reviews = pandas.read_csv(\"../data/winemag-data-130k-v2.csv\")\n",
        "except:\n",
        "  wine_reviews = pandas.read_csv(\"https://drive.google.com/uc?export=download&id=1UFKyzq8aTg-1hgYVxVA0bm7D2mmKqSk9\")\n"
      ],
      "execution_count": 9,
      "outputs": []
    },
    {
      "cell_type": "code",
      "metadata": {
        "tags": [],
        "id": "xaQKs_R0u-MY"
      },
      "source": [
        "import re\n",
        "year = []\n",
        "for title in wine_reviews.title:\n",
        "    year_match = re.search(\"(\\d{4})\", title)\n",
        "    if year_match:\n",
        "        year.append(year_match.group(1))\n",
        "    else:\n",
        "        year.append(None)\n",
        "\n",
        "wine_reviews.insert(wine_reviews.shape[1], value=year, column=\"year\")"
      ],
      "execution_count": 10,
      "outputs": []
    },
    {
      "cell_type": "code",
      "metadata": {
        "id": "sJNk7SSvu-MY"
      },
      "source": [
        "# Drop incomplete data\n",
        "wine_reviews.dropna(axis=0, inplace=True)"
      ],
      "execution_count": 11,
      "outputs": []
    },
    {
      "cell_type": "code",
      "metadata": {
        "id": "7eXKkW-hu-MY"
      },
      "source": [
        "# Mark Catergorical Fields as such\n",
        "catergorical_field = [\n",
        "    \"designation\",\n",
        "    \"province\",\n",
        "    \"region_1\",\n",
        "    \"region_2\",\n",
        "    \"taster_name\",\n",
        "    \"variety\",\n",
        "    \"winery\",\n",
        "    \"country\",\n",
        "]\n",
        "for field in catergorical_field:\n",
        "    wine_reviews[field] = wine_reviews[field].astype('category')\n"
      ],
      "execution_count": 12,
      "outputs": []
    },
    {
      "cell_type": "code",
      "metadata": {
        "id": "ptJpqwmou-MY",
        "outputId": "7273dd05-1794-4427-f24b-5fec484aadea",
        "colab": {
          "base_uri": "https://localhost:8080/"
        }
      },
      "source": [
        "from sklearn.ensemble import RandomForestClassifier\n",
        "from sklearn.neighbors import KNeighborsClassifier\n",
        "from sklearn.svm import LinearSVC, SVC\n",
        "from sklearn.gaussian_process import GaussianProcessClassifier\n",
        "from sklearn.tree import DecisionTreeClassifier\n",
        "from sklearn.naive_bayes import GaussianNB\n",
        "from sklearn.discriminant_analysis import QuadraticDiscriminantAnalysis\n",
        "from sklearn.neural_network import MLPClassifier\n",
        "from sklearn.model_selection import train_test_split\n",
        "from matplotlib import pyplot\n",
        "\n",
        "# Train on Catergorical data only\n",
        "feature = pandas.concat([wine_reviews[field].cat.codes for field in catergorical_field], axis=1)\n",
        "feature.columns = catergorical_field\n",
        "\n",
        "# Build forest\n",
        "models = [\n",
        "    KNeighborsClassifier(),\n",
        "    LinearSVC(),\n",
        "    SVC(kernel=\"rbf\"),\n",
        "    SVC(kernel=\"poly\"),\n",
        "    SVC(kernel=\"sigmoid\"),\n",
        "    GaussianProcessClassifier(),\n",
        "    DecisionTreeClassifier(),\n",
        "    RandomForestClassifier(),\n",
        "    GaussianNB(),\n",
        "    QuadraticDiscriminantAnalysis(),\n",
        "    MLPClassifier(hidden_layer_sizes=(100,), activation=\"relu\"),\n",
        "]\n",
        "\n",
        "# Record score\n",
        "for model in models:\n",
        "    train_score = []\n",
        "    test_score = []\n",
        "    nbin_list = range(3, 5)\n",
        "    for nbins in nbin_list:\n",
        "        print(f\"Training: {model} - {nbins}\\n\")\n",
        "        # Bin Scores into 5 bins\n",
        "        labels = pandas.qcut(wine_reviews[\"points\"], nbins, duplicates='drop').cat.codes\n",
        "\n",
        "        # Split into Test/Train Sets\n",
        "        trainX, testX, trainY, testY = train_test_split(feature, labels, test_size=0.2)\n",
        "\n",
        "        # Train Model\n",
        "        model.fit(trainX, trainY)\n",
        "        train_score.append(model.score(trainX, trainY))\n",
        "        test_score.append(model.score(testX, testY))\n",
        "\n",
        "    # Create Plot\n",
        "    pyplot.plot(nbin_list, train_score, label=f\"Train - {model}\")\n",
        "    pyplot.plot(nbin_list, test_score, label=f\"Test - {model}\")\n",
        "\n",
        "pyplot.legend()\n",
        "pyplot.xlabel(\"Number of Bins for Points\")\n",
        "pyplot.ylabel(\"Model Performance\")\n"
      ],
      "execution_count": null,
      "outputs": [
        {
          "output_type": "stream",
          "text": [
            "Training: KNeighborsClassifier(algorithm='auto', leaf_size=30, metric='minkowski',\n",
            "                     metric_params=None, n_jobs=None, n_neighbors=5, p=2,\n",
            "                     weights='uniform') - 3\n",
            "\n",
            "Training: KNeighborsClassifier(algorithm='auto', leaf_size=30, metric='minkowski',\n",
            "                     metric_params=None, n_jobs=None, n_neighbors=5, p=2,\n",
            "                     weights='uniform') - 4\n",
            "\n",
            "Training: LinearSVC(C=1.0, class_weight=None, dual=True, fit_intercept=True,\n",
            "          intercept_scaling=1, loss='squared_hinge', max_iter=1000,\n",
            "          multi_class='ovr', penalty='l2', random_state=None, tol=0.0001,\n",
            "          verbose=0) - 3\n",
            "\n"
          ],
          "name": "stdout"
        },
        {
          "output_type": "stream",
          "text": [
            "/usr/local/lib/python3.6/dist-packages/sklearn/svm/_base.py:947: ConvergenceWarning: Liblinear failed to converge, increase the number of iterations.\n",
            "  \"the number of iterations.\", ConvergenceWarning)\n"
          ],
          "name": "stderr"
        },
        {
          "output_type": "stream",
          "text": [
            "Training: LinearSVC(C=1.0, class_weight=None, dual=True, fit_intercept=True,\n",
            "          intercept_scaling=1, loss='squared_hinge', max_iter=1000,\n",
            "          multi_class='ovr', penalty='l2', random_state=None, tol=0.0001,\n",
            "          verbose=0) - 4\n",
            "\n"
          ],
          "name": "stdout"
        },
        {
          "output_type": "stream",
          "text": [
            "/usr/local/lib/python3.6/dist-packages/sklearn/svm/_base.py:947: ConvergenceWarning: Liblinear failed to converge, increase the number of iterations.\n",
            "  \"the number of iterations.\", ConvergenceWarning)\n"
          ],
          "name": "stderr"
        },
        {
          "output_type": "stream",
          "text": [
            "Training: SVC(C=1.0, break_ties=False, cache_size=200, class_weight=None, coef0=0.0,\n",
            "    decision_function_shape='ovr', degree=3, gamma='scale', kernel='rbf',\n",
            "    max_iter=-1, probability=False, random_state=None, shrinking=True,\n",
            "    tol=0.001, verbose=False) - 3\n",
            "\n",
            "Training: SVC(C=1.0, break_ties=False, cache_size=200, class_weight=None, coef0=0.0,\n",
            "    decision_function_shape='ovr', degree=3, gamma='scale', kernel='rbf',\n",
            "    max_iter=-1, probability=False, random_state=None, shrinking=True,\n",
            "    tol=0.001, verbose=False) - 4\n",
            "\n",
            "Training: SVC(C=1.0, break_ties=False, cache_size=200, class_weight=None, coef0=0.0,\n",
            "    decision_function_shape='ovr', degree=3, gamma='scale', kernel='poly',\n",
            "    max_iter=-1, probability=False, random_state=None, shrinking=True,\n",
            "    tol=0.001, verbose=False) - 3\n",
            "\n",
            "Training: SVC(C=1.0, break_ties=False, cache_size=200, class_weight=None, coef0=0.0,\n",
            "    decision_function_shape='ovr', degree=3, gamma='scale', kernel='poly',\n",
            "    max_iter=-1, probability=False, random_state=None, shrinking=True,\n",
            "    tol=0.001, verbose=False) - 4\n",
            "\n"
          ],
          "name": "stdout"
        }
      ]
    },
    {
      "cell_type": "code",
      "metadata": {
        "id": "VD61Bvn9u-MZ"
      },
      "source": [
        "from sklearn.ensemble import RandomForestClassifier\n",
        "from sklearn.model_selection import train_test_split\n",
        "from matplotlib import pyplot\n",
        "\n",
        "# Train on Catergorical data only\n",
        "feature = pandas.concat([wine_reviews[field].cat.codes for field in catergorical_field], axis=1)\n",
        "feature.columns = catergorical_field\n",
        "\n",
        "# Build forest\n",
        "model = RandomForestClassifier()\n",
        "\n",
        "# Record score\n",
        "train_score = []\n",
        "test_score = []\n",
        "nbin_list = range(2, 20)\n",
        "for nbins in nbin_list:\n",
        "    # Bin Scores into 5 bins\n",
        "    labels = pandas.cut(wine_reviews[\"points\"], nbins).cat.codes\n",
        "\n",
        "    # Split into Test/Train Sets\n",
        "    trainX, testX, trainY, testY = train_test_split(feature, labels, test_size=0.2)\n",
        "\n",
        "    # Train Model\n",
        "    model.fit(trainX, trainY)\n",
        "    train_score.append(model.score(trainX, trainY))\n",
        "    test_score.append(model.score(testX, testY))\n",
        "\n",
        "# Create Plot\n",
        "pyplot.plot(nbin_list, train_score, label=\"Train\")\n",
        "pyplot.plot(nbin_list, test_score, label=\"Test\")\n",
        "pyplot.legend()\n",
        "pyplot.xlabel(\"Number of Bins for Points\")\n",
        "pyplot.ylabel(\"Model Performance\")\n"
      ],
      "execution_count": null,
      "outputs": []
    }
  ]
}