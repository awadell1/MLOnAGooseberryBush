{
  "nbformat": 4,
  "nbformat_minor": 0,
  "metadata": {
    "accelerator": "GPU",
    "colab": {
      "name": "LSTM_cleaned.ipynb",
      "provenance": [],
      "machine_shape": "hm",
      "authorship_tag": "ABX9TyPJ8tz+COdF7jec1nQwE8DU",
      "include_colab_link": true
    },
    "kernelspec": {
      "display_name": "Python 3",
      "name": "python3"
    },
    "widgets": {
      "application/vnd.jupyter.widget-state+json": {
        "7833090969cf4f2d90e2d983825ceadd": {
          "model_module": "@jupyter-widgets/controls",
          "model_name": "HBoxModel",
          "state": {
            "_dom_classes": [],
            "_model_module": "@jupyter-widgets/controls",
            "_model_module_version": "1.5.0",
            "_model_name": "HBoxModel",
            "_view_count": null,
            "_view_module": "@jupyter-widgets/controls",
            "_view_module_version": "1.5.0",
            "_view_name": "HBoxView",
            "box_style": "",
            "children": [
              "IPY_MODEL_017720f451e94a9082933696381ec13c",
              "IPY_MODEL_b9380b82090a4baf9c2dad41c44f5e41"
            ],
            "layout": "IPY_MODEL_f3f2773c07c94b84aa696de7439d6b41"
          }
        },
        "017720f451e94a9082933696381ec13c": {
          "model_module": "@jupyter-widgets/controls",
          "model_name": "FloatProgressModel",
          "state": {
            "_dom_classes": [],
            "_model_module": "@jupyter-widgets/controls",
            "_model_module_version": "1.5.0",
            "_model_name": "FloatProgressModel",
            "_view_count": null,
            "_view_module": "@jupyter-widgets/controls",
            "_view_module_version": "1.5.0",
            "_view_name": "ProgressView",
            "bar_style": "success",
            "description": "100%",
            "description_tooltip": null,
            "layout": "IPY_MODEL_1e68ce46aa1c44b9b5caee391d4ea59a",
            "max": 11798,
            "min": 0,
            "orientation": "horizontal",
            "style": "IPY_MODEL_c933eca591744056b0b6188c642308fb",
            "value": 11798
          }
        },
        "b9380b82090a4baf9c2dad41c44f5e41": {
          "model_module": "@jupyter-widgets/controls",
          "model_name": "HTMLModel",
          "state": {
            "_dom_classes": [],
            "_model_module": "@jupyter-widgets/controls",
            "_model_module_version": "1.5.0",
            "_model_name": "HTMLModel",
            "_view_count": null,
            "_view_module": "@jupyter-widgets/controls",
            "_view_module_version": "1.5.0",
            "_view_name": "HTMLView",
            "description": "",
            "description_tooltip": null,
            "layout": "IPY_MODEL_07e53799e26b445baa65f0b6bd049b73",
            "placeholder": "​",
            "style": "IPY_MODEL_76b11b5abc55474592d7827d85e282d8",
            "value": " 11798/11798 [19:36&lt;00:00, 10.03it/s]"
          }
        },
        "f3f2773c07c94b84aa696de7439d6b41": {
          "model_module": "@jupyter-widgets/base",
          "model_name": "LayoutModel",
          "state": {
            "_model_module": "@jupyter-widgets/base",
            "_model_module_version": "1.2.0",
            "_model_name": "LayoutModel",
            "_view_count": null,
            "_view_module": "@jupyter-widgets/base",
            "_view_module_version": "1.2.0",
            "_view_name": "LayoutView",
            "align_content": null,
            "align_items": null,
            "align_self": null,
            "border": null,
            "bottom": null,
            "display": null,
            "flex": null,
            "flex_flow": null,
            "grid_area": null,
            "grid_auto_columns": null,
            "grid_auto_flow": null,
            "grid_auto_rows": null,
            "grid_column": null,
            "grid_gap": null,
            "grid_row": null,
            "grid_template_areas": null,
            "grid_template_columns": null,
            "grid_template_rows": null,
            "height": null,
            "justify_content": null,
            "justify_items": null,
            "left": null,
            "margin": null,
            "max_height": null,
            "max_width": null,
            "min_height": null,
            "min_width": null,
            "object_fit": null,
            "object_position": null,
            "order": null,
            "overflow": null,
            "overflow_x": null,
            "overflow_y": null,
            "padding": null,
            "right": null,
            "top": null,
            "visibility": null,
            "width": null
          }
        },
        "1e68ce46aa1c44b9b5caee391d4ea59a": {
          "model_module": "@jupyter-widgets/base",
          "model_name": "LayoutModel",
          "state": {
            "_model_module": "@jupyter-widgets/base",
            "_model_module_version": "1.2.0",
            "_model_name": "LayoutModel",
            "_view_count": null,
            "_view_module": "@jupyter-widgets/base",
            "_view_module_version": "1.2.0",
            "_view_name": "LayoutView",
            "align_content": null,
            "align_items": null,
            "align_self": null,
            "border": null,
            "bottom": null,
            "display": null,
            "flex": null,
            "flex_flow": null,
            "grid_area": null,
            "grid_auto_columns": null,
            "grid_auto_flow": null,
            "grid_auto_rows": null,
            "grid_column": null,
            "grid_gap": null,
            "grid_row": null,
            "grid_template_areas": null,
            "grid_template_columns": null,
            "grid_template_rows": null,
            "height": null,
            "justify_content": null,
            "justify_items": null,
            "left": null,
            "margin": null,
            "max_height": null,
            "max_width": null,
            "min_height": null,
            "min_width": null,
            "object_fit": null,
            "object_position": null,
            "order": null,
            "overflow": null,
            "overflow_x": null,
            "overflow_y": null,
            "padding": null,
            "right": null,
            "top": null,
            "visibility": null,
            "width": null
          }
        },
        "c933eca591744056b0b6188c642308fb": {
          "model_module": "@jupyter-widgets/controls",
          "model_name": "ProgressStyleModel",
          "state": {
            "_model_module": "@jupyter-widgets/controls",
            "_model_module_version": "1.5.0",
            "_model_name": "ProgressStyleModel",
            "_view_count": null,
            "_view_module": "@jupyter-widgets/base",
            "_view_module_version": "1.2.0",
            "_view_name": "StyleView",
            "bar_color": null,
            "description_width": "initial"
          }
        },
        "07e53799e26b445baa65f0b6bd049b73": {
          "model_module": "@jupyter-widgets/base",
          "model_name": "LayoutModel",
          "state": {
            "_model_module": "@jupyter-widgets/base",
            "_model_module_version": "1.2.0",
            "_model_name": "LayoutModel",
            "_view_count": null,
            "_view_module": "@jupyter-widgets/base",
            "_view_module_version": "1.2.0",
            "_view_name": "LayoutView",
            "align_content": null,
            "align_items": null,
            "align_self": null,
            "border": null,
            "bottom": null,
            "display": null,
            "flex": null,
            "flex_flow": null,
            "grid_area": null,
            "grid_auto_columns": null,
            "grid_auto_flow": null,
            "grid_auto_rows": null,
            "grid_column": null,
            "grid_gap": null,
            "grid_row": null,
            "grid_template_areas": null,
            "grid_template_columns": null,
            "grid_template_rows": null,
            "height": null,
            "justify_content": null,
            "justify_items": null,
            "left": null,
            "margin": null,
            "max_height": null,
            "max_width": null,
            "min_height": null,
            "min_width": null,
            "object_fit": null,
            "object_position": null,
            "order": null,
            "overflow": null,
            "overflow_x": null,
            "overflow_y": null,
            "padding": null,
            "right": null,
            "top": null,
            "visibility": null,
            "width": null
          }
        },
        "76b11b5abc55474592d7827d85e282d8": {
          "model_module": "@jupyter-widgets/controls",
          "model_name": "DescriptionStyleModel",
          "state": {
            "_model_module": "@jupyter-widgets/controls",
            "_model_module_version": "1.5.0",
            "_model_name": "DescriptionStyleModel",
            "_view_count": null,
            "_view_module": "@jupyter-widgets/base",
            "_view_module_version": "1.2.0",
            "_view_name": "StyleView",
            "description_width": ""
          }
        },
        "685149ac73cd4b05ab1739c0609bcf4f": {
          "model_module": "@jupyter-widgets/controls",
          "model_name": "HBoxModel",
          "state": {
            "_dom_classes": [],
            "_model_module": "@jupyter-widgets/controls",
            "_model_module_version": "1.5.0",
            "_model_name": "HBoxModel",
            "_view_count": null,
            "_view_module": "@jupyter-widgets/controls",
            "_view_module_version": "1.5.0",
            "_view_name": "HBoxView",
            "box_style": "",
            "children": [
              "IPY_MODEL_b0294f9215ab42968e323dd25163dc43",
              "IPY_MODEL_5b2ba7567b32414d8923f5b60b2449ac"
            ],
            "layout": "IPY_MODEL_498397827daf49019c36834d9a8f363b"
          }
        },
        "b0294f9215ab42968e323dd25163dc43": {
          "model_module": "@jupyter-widgets/controls",
          "model_name": "FloatProgressModel",
          "state": {
            "_dom_classes": [],
            "_model_module": "@jupyter-widgets/controls",
            "_model_module_version": "1.5.0",
            "_model_name": "FloatProgressModel",
            "_view_count": null,
            "_view_module": "@jupyter-widgets/controls",
            "_view_module_version": "1.5.0",
            "_view_name": "ProgressView",
            "bar_style": "success",
            "description": "100%",
            "description_tooltip": null,
            "layout": "IPY_MODEL_ada921cb3d3949369cc7ae5d469fe343",
            "max": 129971,
            "min": 0,
            "orientation": "horizontal",
            "style": "IPY_MODEL_fca10a9442184692b9dbe6378b594e24",
            "value": 129971
          }
        },
        "5b2ba7567b32414d8923f5b60b2449ac": {
          "model_module": "@jupyter-widgets/controls",
          "model_name": "HTMLModel",
          "state": {
            "_dom_classes": [],
            "_model_module": "@jupyter-widgets/controls",
            "_model_module_version": "1.5.0",
            "_model_name": "HTMLModel",
            "_view_count": null,
            "_view_module": "@jupyter-widgets/controls",
            "_view_module_version": "1.5.0",
            "_view_name": "HTMLView",
            "description": "",
            "description_tooltip": null,
            "layout": "IPY_MODEL_6e7981ccc5464316a7c3f7c42d8fed12",
            "placeholder": "​",
            "style": "IPY_MODEL_7da50d29f58d47a0800891c7b21a552b",
            "value": " 129971/129971 [00:44&lt;00:00, 2917.49it/s]"
          }
        },
        "498397827daf49019c36834d9a8f363b": {
          "model_module": "@jupyter-widgets/base",
          "model_name": "LayoutModel",
          "state": {
            "_model_module": "@jupyter-widgets/base",
            "_model_module_version": "1.2.0",
            "_model_name": "LayoutModel",
            "_view_count": null,
            "_view_module": "@jupyter-widgets/base",
            "_view_module_version": "1.2.0",
            "_view_name": "LayoutView",
            "align_content": null,
            "align_items": null,
            "align_self": null,
            "border": null,
            "bottom": null,
            "display": null,
            "flex": null,
            "flex_flow": null,
            "grid_area": null,
            "grid_auto_columns": null,
            "grid_auto_flow": null,
            "grid_auto_rows": null,
            "grid_column": null,
            "grid_gap": null,
            "grid_row": null,
            "grid_template_areas": null,
            "grid_template_columns": null,
            "grid_template_rows": null,
            "height": null,
            "justify_content": null,
            "justify_items": null,
            "left": null,
            "margin": null,
            "max_height": null,
            "max_width": null,
            "min_height": null,
            "min_width": null,
            "object_fit": null,
            "object_position": null,
            "order": null,
            "overflow": null,
            "overflow_x": null,
            "overflow_y": null,
            "padding": null,
            "right": null,
            "top": null,
            "visibility": null,
            "width": null
          }
        },
        "ada921cb3d3949369cc7ae5d469fe343": {
          "model_module": "@jupyter-widgets/base",
          "model_name": "LayoutModel",
          "state": {
            "_model_module": "@jupyter-widgets/base",
            "_model_module_version": "1.2.0",
            "_model_name": "LayoutModel",
            "_view_count": null,
            "_view_module": "@jupyter-widgets/base",
            "_view_module_version": "1.2.0",
            "_view_name": "LayoutView",
            "align_content": null,
            "align_items": null,
            "align_self": null,
            "border": null,
            "bottom": null,
            "display": null,
            "flex": null,
            "flex_flow": null,
            "grid_area": null,
            "grid_auto_columns": null,
            "grid_auto_flow": null,
            "grid_auto_rows": null,
            "grid_column": null,
            "grid_gap": null,
            "grid_row": null,
            "grid_template_areas": null,
            "grid_template_columns": null,
            "grid_template_rows": null,
            "height": null,
            "justify_content": null,
            "justify_items": null,
            "left": null,
            "margin": null,
            "max_height": null,
            "max_width": null,
            "min_height": null,
            "min_width": null,
            "object_fit": null,
            "object_position": null,
            "order": null,
            "overflow": null,
            "overflow_x": null,
            "overflow_y": null,
            "padding": null,
            "right": null,
            "top": null,
            "visibility": null,
            "width": null
          }
        },
        "fca10a9442184692b9dbe6378b594e24": {
          "model_module": "@jupyter-widgets/controls",
          "model_name": "ProgressStyleModel",
          "state": {
            "_model_module": "@jupyter-widgets/controls",
            "_model_module_version": "1.5.0",
            "_model_name": "ProgressStyleModel",
            "_view_count": null,
            "_view_module": "@jupyter-widgets/base",
            "_view_module_version": "1.2.0",
            "_view_name": "StyleView",
            "bar_color": null,
            "description_width": "initial"
          }
        },
        "6e7981ccc5464316a7c3f7c42d8fed12": {
          "model_module": "@jupyter-widgets/base",
          "model_name": "LayoutModel",
          "state": {
            "_model_module": "@jupyter-widgets/base",
            "_model_module_version": "1.2.0",
            "_model_name": "LayoutModel",
            "_view_count": null,
            "_view_module": "@jupyter-widgets/base",
            "_view_module_version": "1.2.0",
            "_view_name": "LayoutView",
            "align_content": null,
            "align_items": null,
            "align_self": null,
            "border": null,
            "bottom": null,
            "display": null,
            "flex": null,
            "flex_flow": null,
            "grid_area": null,
            "grid_auto_columns": null,
            "grid_auto_flow": null,
            "grid_auto_rows": null,
            "grid_column": null,
            "grid_gap": null,
            "grid_row": null,
            "grid_template_areas": null,
            "grid_template_columns": null,
            "grid_template_rows": null,
            "height": null,
            "justify_content": null,
            "justify_items": null,
            "left": null,
            "margin": null,
            "max_height": null,
            "max_width": null,
            "min_height": null,
            "min_width": null,
            "object_fit": null,
            "object_position": null,
            "order": null,
            "overflow": null,
            "overflow_x": null,
            "overflow_y": null,
            "padding": null,
            "right": null,
            "top": null,
            "visibility": null,
            "width": null
          }
        },
        "7da50d29f58d47a0800891c7b21a552b": {
          "model_module": "@jupyter-widgets/controls",
          "model_name": "DescriptionStyleModel",
          "state": {
            "_model_module": "@jupyter-widgets/controls",
            "_model_module_version": "1.5.0",
            "_model_name": "DescriptionStyleModel",
            "_view_count": null,
            "_view_module": "@jupyter-widgets/base",
            "_view_module_version": "1.2.0",
            "_view_name": "StyleView",
            "description_width": ""
          }
        },
        "e4913b074b1c45468d9fc8e1a5cfda62": {
          "model_module": "@jupyter-widgets/controls",
          "model_name": "HBoxModel",
          "state": {
            "_dom_classes": [],
            "_model_module": "@jupyter-widgets/controls",
            "_model_module_version": "1.5.0",
            "_model_name": "HBoxModel",
            "_view_count": null,
            "_view_module": "@jupyter-widgets/controls",
            "_view_module_version": "1.5.0",
            "_view_name": "HBoxView",
            "box_style": "",
            "children": [
              "IPY_MODEL_db17bcf7877e4d7a90f345f44360010d",
              "IPY_MODEL_0d2b4e85b6f6484195cd7e3b6ed92fbe"
            ],
            "layout": "IPY_MODEL_2c3ed6fadfb549999d7990584ac64083"
          }
        },
        "db17bcf7877e4d7a90f345f44360010d": {
          "model_module": "@jupyter-widgets/controls",
          "model_name": "FloatProgressModel",
          "state": {
            "_dom_classes": [],
            "_model_module": "@jupyter-widgets/controls",
            "_model_module_version": "1.5.0",
            "_model_name": "FloatProgressModel",
            "_view_count": null,
            "_view_module": "@jupyter-widgets/controls",
            "_view_module_version": "1.5.0",
            "_view_name": "ProgressView",
            "bar_style": "success",
            "description": "100%",
            "description_tooltip": null,
            "layout": "IPY_MODEL_afbec1b88dbe4b278dbb1da72dc43174",
            "max": 129971,
            "min": 0,
            "orientation": "horizontal",
            "style": "IPY_MODEL_28c2954d40cf4432badb021e92afbe5f",
            "value": 129971
          }
        },
        "0d2b4e85b6f6484195cd7e3b6ed92fbe": {
          "model_module": "@jupyter-widgets/controls",
          "model_name": "HTMLModel",
          "state": {
            "_dom_classes": [],
            "_model_module": "@jupyter-widgets/controls",
            "_model_module_version": "1.5.0",
            "_model_name": "HTMLModel",
            "_view_count": null,
            "_view_module": "@jupyter-widgets/controls",
            "_view_module_version": "1.5.0",
            "_view_name": "HTMLView",
            "description": "",
            "description_tooltip": null,
            "layout": "IPY_MODEL_e9e75bb2480f44b794c4314d2bf3ae24",
            "placeholder": "​",
            "style": "IPY_MODEL_e7f6be8413714ee183d114ac5b2116f4",
            "value": " 129971/129971 [00:38&lt;00:00, 3415.02it/s]"
          }
        },
        "2c3ed6fadfb549999d7990584ac64083": {
          "model_module": "@jupyter-widgets/base",
          "model_name": "LayoutModel",
          "state": {
            "_model_module": "@jupyter-widgets/base",
            "_model_module_version": "1.2.0",
            "_model_name": "LayoutModel",
            "_view_count": null,
            "_view_module": "@jupyter-widgets/base",
            "_view_module_version": "1.2.0",
            "_view_name": "LayoutView",
            "align_content": null,
            "align_items": null,
            "align_self": null,
            "border": null,
            "bottom": null,
            "display": null,
            "flex": null,
            "flex_flow": null,
            "grid_area": null,
            "grid_auto_columns": null,
            "grid_auto_flow": null,
            "grid_auto_rows": null,
            "grid_column": null,
            "grid_gap": null,
            "grid_row": null,
            "grid_template_areas": null,
            "grid_template_columns": null,
            "grid_template_rows": null,
            "height": null,
            "justify_content": null,
            "justify_items": null,
            "left": null,
            "margin": null,
            "max_height": null,
            "max_width": null,
            "min_height": null,
            "min_width": null,
            "object_fit": null,
            "object_position": null,
            "order": null,
            "overflow": null,
            "overflow_x": null,
            "overflow_y": null,
            "padding": null,
            "right": null,
            "top": null,
            "visibility": null,
            "width": null
          }
        },
        "afbec1b88dbe4b278dbb1da72dc43174": {
          "model_module": "@jupyter-widgets/base",
          "model_name": "LayoutModel",
          "state": {
            "_model_module": "@jupyter-widgets/base",
            "_model_module_version": "1.2.0",
            "_model_name": "LayoutModel",
            "_view_count": null,
            "_view_module": "@jupyter-widgets/base",
            "_view_module_version": "1.2.0",
            "_view_name": "LayoutView",
            "align_content": null,
            "align_items": null,
            "align_self": null,
            "border": null,
            "bottom": null,
            "display": null,
            "flex": null,
            "flex_flow": null,
            "grid_area": null,
            "grid_auto_columns": null,
            "grid_auto_flow": null,
            "grid_auto_rows": null,
            "grid_column": null,
            "grid_gap": null,
            "grid_row": null,
            "grid_template_areas": null,
            "grid_template_columns": null,
            "grid_template_rows": null,
            "height": null,
            "justify_content": null,
            "justify_items": null,
            "left": null,
            "margin": null,
            "max_height": null,
            "max_width": null,
            "min_height": null,
            "min_width": null,
            "object_fit": null,
            "object_position": null,
            "order": null,
            "overflow": null,
            "overflow_x": null,
            "overflow_y": null,
            "padding": null,
            "right": null,
            "top": null,
            "visibility": null,
            "width": null
          }
        },
        "28c2954d40cf4432badb021e92afbe5f": {
          "model_module": "@jupyter-widgets/controls",
          "model_name": "ProgressStyleModel",
          "state": {
            "_model_module": "@jupyter-widgets/controls",
            "_model_module_version": "1.5.0",
            "_model_name": "ProgressStyleModel",
            "_view_count": null,
            "_view_module": "@jupyter-widgets/base",
            "_view_module_version": "1.2.0",
            "_view_name": "StyleView",
            "bar_color": null,
            "description_width": "initial"
          }
        },
        "e9e75bb2480f44b794c4314d2bf3ae24": {
          "model_module": "@jupyter-widgets/base",
          "model_name": "LayoutModel",
          "state": {
            "_model_module": "@jupyter-widgets/base",
            "_model_module_version": "1.2.0",
            "_model_name": "LayoutModel",
            "_view_count": null,
            "_view_module": "@jupyter-widgets/base",
            "_view_module_version": "1.2.0",
            "_view_name": "LayoutView",
            "align_content": null,
            "align_items": null,
            "align_self": null,
            "border": null,
            "bottom": null,
            "display": null,
            "flex": null,
            "flex_flow": null,
            "grid_area": null,
            "grid_auto_columns": null,
            "grid_auto_flow": null,
            "grid_auto_rows": null,
            "grid_column": null,
            "grid_gap": null,
            "grid_row": null,
            "grid_template_areas": null,
            "grid_template_columns": null,
            "grid_template_rows": null,
            "height": null,
            "justify_content": null,
            "justify_items": null,
            "left": null,
            "margin": null,
            "max_height": null,
            "max_width": null,
            "min_height": null,
            "min_width": null,
            "object_fit": null,
            "object_position": null,
            "order": null,
            "overflow": null,
            "overflow_x": null,
            "overflow_y": null,
            "padding": null,
            "right": null,
            "top": null,
            "visibility": null,
            "width": null
          }
        },
        "e7f6be8413714ee183d114ac5b2116f4": {
          "model_module": "@jupyter-widgets/controls",
          "model_name": "DescriptionStyleModel",
          "state": {
            "_model_module": "@jupyter-widgets/controls",
            "_model_module_version": "1.5.0",
            "_model_name": "DescriptionStyleModel",
            "_view_count": null,
            "_view_module": "@jupyter-widgets/base",
            "_view_module_version": "1.2.0",
            "_view_name": "StyleView",
            "description_width": ""
          }
        },
        "2cf80d9915244f528bf8f207e175005d": {
          "model_module": "@jupyter-widgets/controls",
          "model_name": "HBoxModel",
          "state": {
            "_dom_classes": [],
            "_model_module": "@jupyter-widgets/controls",
            "_model_module_version": "1.5.0",
            "_model_name": "HBoxModel",
            "_view_count": null,
            "_view_module": "@jupyter-widgets/controls",
            "_view_module_version": "1.5.0",
            "_view_name": "HBoxView",
            "box_style": "",
            "children": [
              "IPY_MODEL_5e19a619f64f4a9ea642d18ab6ec08ca",
              "IPY_MODEL_c39bda7168c646bb97619db4d6b45c43"
            ],
            "layout": "IPY_MODEL_8bf06153337f4083a8e8d802913eaa39"
          }
        },
        "5e19a619f64f4a9ea642d18ab6ec08ca": {
          "model_module": "@jupyter-widgets/controls",
          "model_name": "FloatProgressModel",
          "state": {
            "_dom_classes": [],
            "_model_module": "@jupyter-widgets/controls",
            "_model_module_version": "1.5.0",
            "_model_name": "FloatProgressModel",
            "_view_count": null,
            "_view_module": "@jupyter-widgets/controls",
            "_view_module_version": "1.5.0",
            "_view_name": "ProgressView",
            "bar_style": "success",
            "description": "100%",
            "description_tooltip": null,
            "layout": "IPY_MODEL_9bd6b6129ff741fab672496b22394eaf",
            "max": 24422,
            "min": 0,
            "orientation": "horizontal",
            "style": "IPY_MODEL_61c1860da0ed4fc2bd59847a250632d5",
            "value": 24422
          }
        },
        "c39bda7168c646bb97619db4d6b45c43": {
          "model_module": "@jupyter-widgets/controls",
          "model_name": "HTMLModel",
          "state": {
            "_dom_classes": [],
            "_model_module": "@jupyter-widgets/controls",
            "_model_module_version": "1.5.0",
            "_model_name": "HTMLModel",
            "_view_count": null,
            "_view_module": "@jupyter-widgets/controls",
            "_view_module_version": "1.5.0",
            "_view_name": "HTMLView",
            "description": "",
            "description_tooltip": null,
            "layout": "IPY_MODEL_0dca499b036b42afb5ddd8f36dfa0a3c",
            "placeholder": "​",
            "style": "IPY_MODEL_15e2b17b9bb64692867d6bd423c605a7",
            "value": " 24422/24422 [00:07&lt;00:00, 3236.90it/s]"
          }
        },
        "8bf06153337f4083a8e8d802913eaa39": {
          "model_module": "@jupyter-widgets/base",
          "model_name": "LayoutModel",
          "state": {
            "_model_module": "@jupyter-widgets/base",
            "_model_module_version": "1.2.0",
            "_model_name": "LayoutModel",
            "_view_count": null,
            "_view_module": "@jupyter-widgets/base",
            "_view_module_version": "1.2.0",
            "_view_name": "LayoutView",
            "align_content": null,
            "align_items": null,
            "align_self": null,
            "border": null,
            "bottom": null,
            "display": null,
            "flex": null,
            "flex_flow": null,
            "grid_area": null,
            "grid_auto_columns": null,
            "grid_auto_flow": null,
            "grid_auto_rows": null,
            "grid_column": null,
            "grid_gap": null,
            "grid_row": null,
            "grid_template_areas": null,
            "grid_template_columns": null,
            "grid_template_rows": null,
            "height": null,
            "justify_content": null,
            "justify_items": null,
            "left": null,
            "margin": null,
            "max_height": null,
            "max_width": null,
            "min_height": null,
            "min_width": null,
            "object_fit": null,
            "object_position": null,
            "order": null,
            "overflow": null,
            "overflow_x": null,
            "overflow_y": null,
            "padding": null,
            "right": null,
            "top": null,
            "visibility": null,
            "width": null
          }
        },
        "9bd6b6129ff741fab672496b22394eaf": {
          "model_module": "@jupyter-widgets/base",
          "model_name": "LayoutModel",
          "state": {
            "_model_module": "@jupyter-widgets/base",
            "_model_module_version": "1.2.0",
            "_model_name": "LayoutModel",
            "_view_count": null,
            "_view_module": "@jupyter-widgets/base",
            "_view_module_version": "1.2.0",
            "_view_name": "LayoutView",
            "align_content": null,
            "align_items": null,
            "align_self": null,
            "border": null,
            "bottom": null,
            "display": null,
            "flex": null,
            "flex_flow": null,
            "grid_area": null,
            "grid_auto_columns": null,
            "grid_auto_flow": null,
            "grid_auto_rows": null,
            "grid_column": null,
            "grid_gap": null,
            "grid_row": null,
            "grid_template_areas": null,
            "grid_template_columns": null,
            "grid_template_rows": null,
            "height": null,
            "justify_content": null,
            "justify_items": null,
            "left": null,
            "margin": null,
            "max_height": null,
            "max_width": null,
            "min_height": null,
            "min_width": null,
            "object_fit": null,
            "object_position": null,
            "order": null,
            "overflow": null,
            "overflow_x": null,
            "overflow_y": null,
            "padding": null,
            "right": null,
            "top": null,
            "visibility": null,
            "width": null
          }
        },
        "61c1860da0ed4fc2bd59847a250632d5": {
          "model_module": "@jupyter-widgets/controls",
          "model_name": "ProgressStyleModel",
          "state": {
            "_model_module": "@jupyter-widgets/controls",
            "_model_module_version": "1.5.0",
            "_model_name": "ProgressStyleModel",
            "_view_count": null,
            "_view_module": "@jupyter-widgets/base",
            "_view_module_version": "1.2.0",
            "_view_name": "StyleView",
            "bar_color": null,
            "description_width": "initial"
          }
        },
        "0dca499b036b42afb5ddd8f36dfa0a3c": {
          "model_module": "@jupyter-widgets/base",
          "model_name": "LayoutModel",
          "state": {
            "_model_module": "@jupyter-widgets/base",
            "_model_module_version": "1.2.0",
            "_model_name": "LayoutModel",
            "_view_count": null,
            "_view_module": "@jupyter-widgets/base",
            "_view_module_version": "1.2.0",
            "_view_name": "LayoutView",
            "align_content": null,
            "align_items": null,
            "align_self": null,
            "border": null,
            "bottom": null,
            "display": null,
            "flex": null,
            "flex_flow": null,
            "grid_area": null,
            "grid_auto_columns": null,
            "grid_auto_flow": null,
            "grid_auto_rows": null,
            "grid_column": null,
            "grid_gap": null,
            "grid_row": null,
            "grid_template_areas": null,
            "grid_template_columns": null,
            "grid_template_rows": null,
            "height": null,
            "justify_content": null,
            "justify_items": null,
            "left": null,
            "margin": null,
            "max_height": null,
            "max_width": null,
            "min_height": null,
            "min_width": null,
            "object_fit": null,
            "object_position": null,
            "order": null,
            "overflow": null,
            "overflow_x": null,
            "overflow_y": null,
            "padding": null,
            "right": null,
            "top": null,
            "visibility": null,
            "width": null
          }
        },
        "15e2b17b9bb64692867d6bd423c605a7": {
          "model_module": "@jupyter-widgets/controls",
          "model_name": "DescriptionStyleModel",
          "state": {
            "_model_module": "@jupyter-widgets/controls",
            "_model_module_version": "1.5.0",
            "_model_name": "DescriptionStyleModel",
            "_view_count": null,
            "_view_module": "@jupyter-widgets/base",
            "_view_module_version": "1.2.0",
            "_view_name": "StyleView",
            "description_width": ""
          }
        },
        "2d334cd228f84c7b997e2008d28b5dab": {
          "model_module": "@jupyter-widgets/controls",
          "model_name": "HBoxModel",
          "state": {
            "_dom_classes": [],
            "_model_module": "@jupyter-widgets/controls",
            "_model_module_version": "1.5.0",
            "_model_name": "HBoxModel",
            "_view_count": null,
            "_view_module": "@jupyter-widgets/controls",
            "_view_module_version": "1.5.0",
            "_view_name": "HBoxView",
            "box_style": "",
            "children": [
              "IPY_MODEL_d88cc2a0dec3431e988b05aab3a2d144",
              "IPY_MODEL_ae21bc000e4943e490c6f8114e9c5285"
            ],
            "layout": "IPY_MODEL_3e9d8c8477be4fc99857529e7f5a9fac"
          }
        },
        "d88cc2a0dec3431e988b05aab3a2d144": {
          "model_module": "@jupyter-widgets/controls",
          "model_name": "FloatProgressModel",
          "state": {
            "_dom_classes": [],
            "_model_module": "@jupyter-widgets/controls",
            "_model_module_version": "1.5.0",
            "_model_name": "FloatProgressModel",
            "_view_count": null,
            "_view_module": "@jupyter-widgets/controls",
            "_view_module_version": "1.5.0",
            "_view_name": "ProgressView",
            "bar_style": "success",
            "description": "100%",
            "description_tooltip": null,
            "layout": "IPY_MODEL_6ed0a8a55301453793fb1c98d7fcc5a4",
            "max": 24422,
            "min": 0,
            "orientation": "horizontal",
            "style": "IPY_MODEL_899464e850684ee799f87b3c094ce307",
            "value": 24422
          }
        },
        "ae21bc000e4943e490c6f8114e9c5285": {
          "model_module": "@jupyter-widgets/controls",
          "model_name": "HTMLModel",
          "state": {
            "_dom_classes": [],
            "_model_module": "@jupyter-widgets/controls",
            "_model_module_version": "1.5.0",
            "_model_name": "HTMLModel",
            "_view_count": null,
            "_view_module": "@jupyter-widgets/controls",
            "_view_module_version": "1.5.0",
            "_view_name": "HTMLView",
            "description": "",
            "description_tooltip": null,
            "layout": "IPY_MODEL_7e79ddc752d3461eae1ccb4654d41401",
            "placeholder": "​",
            "style": "IPY_MODEL_6b3c95cf6bd8416d90e0f5f454ec9c20",
            "value": " 24422/24422 [00:03&lt;00:00, 8031.18it/s]"
          }
        },
        "3e9d8c8477be4fc99857529e7f5a9fac": {
          "model_module": "@jupyter-widgets/base",
          "model_name": "LayoutModel",
          "state": {
            "_model_module": "@jupyter-widgets/base",
            "_model_module_version": "1.2.0",
            "_model_name": "LayoutModel",
            "_view_count": null,
            "_view_module": "@jupyter-widgets/base",
            "_view_module_version": "1.2.0",
            "_view_name": "LayoutView",
            "align_content": null,
            "align_items": null,
            "align_self": null,
            "border": null,
            "bottom": null,
            "display": null,
            "flex": null,
            "flex_flow": null,
            "grid_area": null,
            "grid_auto_columns": null,
            "grid_auto_flow": null,
            "grid_auto_rows": null,
            "grid_column": null,
            "grid_gap": null,
            "grid_row": null,
            "grid_template_areas": null,
            "grid_template_columns": null,
            "grid_template_rows": null,
            "height": null,
            "justify_content": null,
            "justify_items": null,
            "left": null,
            "margin": null,
            "max_height": null,
            "max_width": null,
            "min_height": null,
            "min_width": null,
            "object_fit": null,
            "object_position": null,
            "order": null,
            "overflow": null,
            "overflow_x": null,
            "overflow_y": null,
            "padding": null,
            "right": null,
            "top": null,
            "visibility": null,
            "width": null
          }
        },
        "6ed0a8a55301453793fb1c98d7fcc5a4": {
          "model_module": "@jupyter-widgets/base",
          "model_name": "LayoutModel",
          "state": {
            "_model_module": "@jupyter-widgets/base",
            "_model_module_version": "1.2.0",
            "_model_name": "LayoutModel",
            "_view_count": null,
            "_view_module": "@jupyter-widgets/base",
            "_view_module_version": "1.2.0",
            "_view_name": "LayoutView",
            "align_content": null,
            "align_items": null,
            "align_self": null,
            "border": null,
            "bottom": null,
            "display": null,
            "flex": null,
            "flex_flow": null,
            "grid_area": null,
            "grid_auto_columns": null,
            "grid_auto_flow": null,
            "grid_auto_rows": null,
            "grid_column": null,
            "grid_gap": null,
            "grid_row": null,
            "grid_template_areas": null,
            "grid_template_columns": null,
            "grid_template_rows": null,
            "height": null,
            "justify_content": null,
            "justify_items": null,
            "left": null,
            "margin": null,
            "max_height": null,
            "max_width": null,
            "min_height": null,
            "min_width": null,
            "object_fit": null,
            "object_position": null,
            "order": null,
            "overflow": null,
            "overflow_x": null,
            "overflow_y": null,
            "padding": null,
            "right": null,
            "top": null,
            "visibility": null,
            "width": null
          }
        },
        "899464e850684ee799f87b3c094ce307": {
          "model_module": "@jupyter-widgets/controls",
          "model_name": "ProgressStyleModel",
          "state": {
            "_model_module": "@jupyter-widgets/controls",
            "_model_module_version": "1.5.0",
            "_model_name": "ProgressStyleModel",
            "_view_count": null,
            "_view_module": "@jupyter-widgets/base",
            "_view_module_version": "1.2.0",
            "_view_name": "StyleView",
            "bar_color": null,
            "description_width": "initial"
          }
        },
        "7e79ddc752d3461eae1ccb4654d41401": {
          "model_module": "@jupyter-widgets/base",
          "model_name": "LayoutModel",
          "state": {
            "_model_module": "@jupyter-widgets/base",
            "_model_module_version": "1.2.0",
            "_model_name": "LayoutModel",
            "_view_count": null,
            "_view_module": "@jupyter-widgets/base",
            "_view_module_version": "1.2.0",
            "_view_name": "LayoutView",
            "align_content": null,
            "align_items": null,
            "align_self": null,
            "border": null,
            "bottom": null,
            "display": null,
            "flex": null,
            "flex_flow": null,
            "grid_area": null,
            "grid_auto_columns": null,
            "grid_auto_flow": null,
            "grid_auto_rows": null,
            "grid_column": null,
            "grid_gap": null,
            "grid_row": null,
            "grid_template_areas": null,
            "grid_template_columns": null,
            "grid_template_rows": null,
            "height": null,
            "justify_content": null,
            "justify_items": null,
            "left": null,
            "margin": null,
            "max_height": null,
            "max_width": null,
            "min_height": null,
            "min_width": null,
            "object_fit": null,
            "object_position": null,
            "order": null,
            "overflow": null,
            "overflow_x": null,
            "overflow_y": null,
            "padding": null,
            "right": null,
            "top": null,
            "visibility": null,
            "width": null
          }
        },
        "6b3c95cf6bd8416d90e0f5f454ec9c20": {
          "model_module": "@jupyter-widgets/controls",
          "model_name": "DescriptionStyleModel",
          "state": {
            "_model_module": "@jupyter-widgets/controls",
            "_model_module_version": "1.5.0",
            "_model_name": "DescriptionStyleModel",
            "_view_count": null,
            "_view_module": "@jupyter-widgets/base",
            "_view_module_version": "1.2.0",
            "_view_name": "StyleView",
            "description_width": ""
          }
        },
        "df94c6675195457697ed719caf504e0a": {
          "model_module": "@jupyter-widgets/controls",
          "model_name": "HBoxModel",
          "state": {
            "_dom_classes": [],
            "_model_module": "@jupyter-widgets/controls",
            "_model_module_version": "1.5.0",
            "_model_name": "HBoxModel",
            "_view_count": null,
            "_view_module": "@jupyter-widgets/controls",
            "_view_module_version": "1.5.0",
            "_view_name": "HBoxView",
            "box_style": "",
            "children": [
              "IPY_MODEL_645e8ee6368b423ab52f1d876187c320",
              "IPY_MODEL_a1df5dd4c95a418e84b3ef4ba3aae069"
            ],
            "layout": "IPY_MODEL_00501ab82d8842bf8a9cafd8855dc95a"
          }
        },
        "645e8ee6368b423ab52f1d876187c320": {
          "model_module": "@jupyter-widgets/controls",
          "model_name": "FloatProgressModel",
          "state": {
            "_dom_classes": [],
            "_model_module": "@jupyter-widgets/controls",
            "_model_module_version": "1.5.0",
            "_model_name": "FloatProgressModel",
            "_view_count": null,
            "_view_module": "@jupyter-widgets/controls",
            "_view_module_version": "1.5.0",
            "_view_name": "ProgressView",
            "bar_style": "success",
            "description": "100%",
            "description_tooltip": null,
            "layout": "IPY_MODEL_aae418995f32495eaf434568edc3ae36",
            "max": 119971,
            "min": 0,
            "orientation": "horizontal",
            "style": "IPY_MODEL_ffa9f39f9c704195ab44bf6670901eb8",
            "value": 119971
          }
        },
        "a1df5dd4c95a418e84b3ef4ba3aae069": {
          "model_module": "@jupyter-widgets/controls",
          "model_name": "HTMLModel",
          "state": {
            "_dom_classes": [],
            "_model_module": "@jupyter-widgets/controls",
            "_model_module_version": "1.5.0",
            "_model_name": "HTMLModel",
            "_view_count": null,
            "_view_module": "@jupyter-widgets/controls",
            "_view_module_version": "1.5.0",
            "_view_name": "HTMLView",
            "description": "",
            "description_tooltip": null,
            "layout": "IPY_MODEL_8866575d60db409ebb13b2032206ecf1",
            "placeholder": "​",
            "style": "IPY_MODEL_abb5248c26174c10b8f64e0a8ee4403a",
            "value": " 119971/119971 [00:20&lt;00:00, 5868.50it/s]"
          }
        },
        "00501ab82d8842bf8a9cafd8855dc95a": {
          "model_module": "@jupyter-widgets/base",
          "model_name": "LayoutModel",
          "state": {
            "_model_module": "@jupyter-widgets/base",
            "_model_module_version": "1.2.0",
            "_model_name": "LayoutModel",
            "_view_count": null,
            "_view_module": "@jupyter-widgets/base",
            "_view_module_version": "1.2.0",
            "_view_name": "LayoutView",
            "align_content": null,
            "align_items": null,
            "align_self": null,
            "border": null,
            "bottom": null,
            "display": null,
            "flex": null,
            "flex_flow": null,
            "grid_area": null,
            "grid_auto_columns": null,
            "grid_auto_flow": null,
            "grid_auto_rows": null,
            "grid_column": null,
            "grid_gap": null,
            "grid_row": null,
            "grid_template_areas": null,
            "grid_template_columns": null,
            "grid_template_rows": null,
            "height": null,
            "justify_content": null,
            "justify_items": null,
            "left": null,
            "margin": null,
            "max_height": null,
            "max_width": null,
            "min_height": null,
            "min_width": null,
            "object_fit": null,
            "object_position": null,
            "order": null,
            "overflow": null,
            "overflow_x": null,
            "overflow_y": null,
            "padding": null,
            "right": null,
            "top": null,
            "visibility": null,
            "width": null
          }
        },
        "aae418995f32495eaf434568edc3ae36": {
          "model_module": "@jupyter-widgets/base",
          "model_name": "LayoutModel",
          "state": {
            "_model_module": "@jupyter-widgets/base",
            "_model_module_version": "1.2.0",
            "_model_name": "LayoutModel",
            "_view_count": null,
            "_view_module": "@jupyter-widgets/base",
            "_view_module_version": "1.2.0",
            "_view_name": "LayoutView",
            "align_content": null,
            "align_items": null,
            "align_self": null,
            "border": null,
            "bottom": null,
            "display": null,
            "flex": null,
            "flex_flow": null,
            "grid_area": null,
            "grid_auto_columns": null,
            "grid_auto_flow": null,
            "grid_auto_rows": null,
            "grid_column": null,
            "grid_gap": null,
            "grid_row": null,
            "grid_template_areas": null,
            "grid_template_columns": null,
            "grid_template_rows": null,
            "height": null,
            "justify_content": null,
            "justify_items": null,
            "left": null,
            "margin": null,
            "max_height": null,
            "max_width": null,
            "min_height": null,
            "min_width": null,
            "object_fit": null,
            "object_position": null,
            "order": null,
            "overflow": null,
            "overflow_x": null,
            "overflow_y": null,
            "padding": null,
            "right": null,
            "top": null,
            "visibility": null,
            "width": null
          }
        },
        "ffa9f39f9c704195ab44bf6670901eb8": {
          "model_module": "@jupyter-widgets/controls",
          "model_name": "ProgressStyleModel",
          "state": {
            "_model_module": "@jupyter-widgets/controls",
            "_model_module_version": "1.5.0",
            "_model_name": "ProgressStyleModel",
            "_view_count": null,
            "_view_module": "@jupyter-widgets/base",
            "_view_module_version": "1.2.0",
            "_view_name": "StyleView",
            "bar_color": null,
            "description_width": "initial"
          }
        },
        "8866575d60db409ebb13b2032206ecf1": {
          "model_module": "@jupyter-widgets/base",
          "model_name": "LayoutModel",
          "state": {
            "_model_module": "@jupyter-widgets/base",
            "_model_module_version": "1.2.0",
            "_model_name": "LayoutModel",
            "_view_count": null,
            "_view_module": "@jupyter-widgets/base",
            "_view_module_version": "1.2.0",
            "_view_name": "LayoutView",
            "align_content": null,
            "align_items": null,
            "align_self": null,
            "border": null,
            "bottom": null,
            "display": null,
            "flex": null,
            "flex_flow": null,
            "grid_area": null,
            "grid_auto_columns": null,
            "grid_auto_flow": null,
            "grid_auto_rows": null,
            "grid_column": null,
            "grid_gap": null,
            "grid_row": null,
            "grid_template_areas": null,
            "grid_template_columns": null,
            "grid_template_rows": null,
            "height": null,
            "justify_content": null,
            "justify_items": null,
            "left": null,
            "margin": null,
            "max_height": null,
            "max_width": null,
            "min_height": null,
            "min_width": null,
            "object_fit": null,
            "object_position": null,
            "order": null,
            "overflow": null,
            "overflow_x": null,
            "overflow_y": null,
            "padding": null,
            "right": null,
            "top": null,
            "visibility": null,
            "width": null
          }
        },
        "abb5248c26174c10b8f64e0a8ee4403a": {
          "model_module": "@jupyter-widgets/controls",
          "model_name": "DescriptionStyleModel",
          "state": {
            "_model_module": "@jupyter-widgets/controls",
            "_model_module_version": "1.5.0",
            "_model_name": "DescriptionStyleModel",
            "_view_count": null,
            "_view_module": "@jupyter-widgets/base",
            "_view_module_version": "1.2.0",
            "_view_name": "StyleView",
            "description_width": ""
          }
        },
        "9c8db8903d064069899412c9e190e62d": {
          "model_module": "@jupyter-widgets/controls",
          "model_name": "HBoxModel",
          "state": {
            "_dom_classes": [],
            "_model_module": "@jupyter-widgets/controls",
            "_model_module_version": "1.5.0",
            "_model_name": "HBoxModel",
            "_view_count": null,
            "_view_module": "@jupyter-widgets/controls",
            "_view_module_version": "1.5.0",
            "_view_name": "HBoxView",
            "box_style": "",
            "children": [
              "IPY_MODEL_0a8c01149a87496da1aaeb0afd1d4260",
              "IPY_MODEL_8db9d3dbb2e6410abd652691f3b06525"
            ],
            "layout": "IPY_MODEL_f6f25e08d9644978a6dcd17436370bdc"
          }
        },
        "0a8c01149a87496da1aaeb0afd1d4260": {
          "model_module": "@jupyter-widgets/controls",
          "model_name": "FloatProgressModel",
          "state": {
            "_dom_classes": [],
            "_model_module": "@jupyter-widgets/controls",
            "_model_module_version": "1.5.0",
            "_model_name": "FloatProgressModel",
            "_view_count": null,
            "_view_module": "@jupyter-widgets/controls",
            "_view_module_version": "1.5.0",
            "_view_name": "ProgressView",
            "bar_style": "success",
            "description": "100%",
            "description_tooltip": null,
            "layout": "IPY_MODEL_fb0324ee21c84ba5a2656656c0edc51b",
            "max": 10000,
            "min": 0,
            "orientation": "horizontal",
            "style": "IPY_MODEL_d282cea1ebef4599a4fe48aa5cd61ca8",
            "value": 10000
          }
        },
        "8db9d3dbb2e6410abd652691f3b06525": {
          "model_module": "@jupyter-widgets/controls",
          "model_name": "HTMLModel",
          "state": {
            "_dom_classes": [],
            "_model_module": "@jupyter-widgets/controls",
            "_model_module_version": "1.5.0",
            "_model_name": "HTMLModel",
            "_view_count": null,
            "_view_module": "@jupyter-widgets/controls",
            "_view_module_version": "1.5.0",
            "_view_name": "HTMLView",
            "description": "",
            "description_tooltip": null,
            "layout": "IPY_MODEL_2a4a6de415054160a52e34460ff2e433",
            "placeholder": "​",
            "style": "IPY_MODEL_54b44743d97142dcb289084224650d22",
            "value": " 10000/10000 [00:02&lt;00:00, 4759.81it/s]"
          }
        },
        "f6f25e08d9644978a6dcd17436370bdc": {
          "model_module": "@jupyter-widgets/base",
          "model_name": "LayoutModel",
          "state": {
            "_model_module": "@jupyter-widgets/base",
            "_model_module_version": "1.2.0",
            "_model_name": "LayoutModel",
            "_view_count": null,
            "_view_module": "@jupyter-widgets/base",
            "_view_module_version": "1.2.0",
            "_view_name": "LayoutView",
            "align_content": null,
            "align_items": null,
            "align_self": null,
            "border": null,
            "bottom": null,
            "display": null,
            "flex": null,
            "flex_flow": null,
            "grid_area": null,
            "grid_auto_columns": null,
            "grid_auto_flow": null,
            "grid_auto_rows": null,
            "grid_column": null,
            "grid_gap": null,
            "grid_row": null,
            "grid_template_areas": null,
            "grid_template_columns": null,
            "grid_template_rows": null,
            "height": null,
            "justify_content": null,
            "justify_items": null,
            "left": null,
            "margin": null,
            "max_height": null,
            "max_width": null,
            "min_height": null,
            "min_width": null,
            "object_fit": null,
            "object_position": null,
            "order": null,
            "overflow": null,
            "overflow_x": null,
            "overflow_y": null,
            "padding": null,
            "right": null,
            "top": null,
            "visibility": null,
            "width": null
          }
        },
        "fb0324ee21c84ba5a2656656c0edc51b": {
          "model_module": "@jupyter-widgets/base",
          "model_name": "LayoutModel",
          "state": {
            "_model_module": "@jupyter-widgets/base",
            "_model_module_version": "1.2.0",
            "_model_name": "LayoutModel",
            "_view_count": null,
            "_view_module": "@jupyter-widgets/base",
            "_view_module_version": "1.2.0",
            "_view_name": "LayoutView",
            "align_content": null,
            "align_items": null,
            "align_self": null,
            "border": null,
            "bottom": null,
            "display": null,
            "flex": null,
            "flex_flow": null,
            "grid_area": null,
            "grid_auto_columns": null,
            "grid_auto_flow": null,
            "grid_auto_rows": null,
            "grid_column": null,
            "grid_gap": null,
            "grid_row": null,
            "grid_template_areas": null,
            "grid_template_columns": null,
            "grid_template_rows": null,
            "height": null,
            "justify_content": null,
            "justify_items": null,
            "left": null,
            "margin": null,
            "max_height": null,
            "max_width": null,
            "min_height": null,
            "min_width": null,
            "object_fit": null,
            "object_position": null,
            "order": null,
            "overflow": null,
            "overflow_x": null,
            "overflow_y": null,
            "padding": null,
            "right": null,
            "top": null,
            "visibility": null,
            "width": null
          }
        },
        "d282cea1ebef4599a4fe48aa5cd61ca8": {
          "model_module": "@jupyter-widgets/controls",
          "model_name": "ProgressStyleModel",
          "state": {
            "_model_module": "@jupyter-widgets/controls",
            "_model_module_version": "1.5.0",
            "_model_name": "ProgressStyleModel",
            "_view_count": null,
            "_view_module": "@jupyter-widgets/base",
            "_view_module_version": "1.2.0",
            "_view_name": "StyleView",
            "bar_color": null,
            "description_width": "initial"
          }
        },
        "2a4a6de415054160a52e34460ff2e433": {
          "model_module": "@jupyter-widgets/base",
          "model_name": "LayoutModel",
          "state": {
            "_model_module": "@jupyter-widgets/base",
            "_model_module_version": "1.2.0",
            "_model_name": "LayoutModel",
            "_view_count": null,
            "_view_module": "@jupyter-widgets/base",
            "_view_module_version": "1.2.0",
            "_view_name": "LayoutView",
            "align_content": null,
            "align_items": null,
            "align_self": null,
            "border": null,
            "bottom": null,
            "display": null,
            "flex": null,
            "flex_flow": null,
            "grid_area": null,
            "grid_auto_columns": null,
            "grid_auto_flow": null,
            "grid_auto_rows": null,
            "grid_column": null,
            "grid_gap": null,
            "grid_row": null,
            "grid_template_areas": null,
            "grid_template_columns": null,
            "grid_template_rows": null,
            "height": null,
            "justify_content": null,
            "justify_items": null,
            "left": null,
            "margin": null,
            "max_height": null,
            "max_width": null,
            "min_height": null,
            "min_width": null,
            "object_fit": null,
            "object_position": null,
            "order": null,
            "overflow": null,
            "overflow_x": null,
            "overflow_y": null,
            "padding": null,
            "right": null,
            "top": null,
            "visibility": null,
            "width": null
          }
        },
        "54b44743d97142dcb289084224650d22": {
          "model_module": "@jupyter-widgets/controls",
          "model_name": "DescriptionStyleModel",
          "state": {
            "_model_module": "@jupyter-widgets/controls",
            "_model_module_version": "1.5.0",
            "_model_name": "DescriptionStyleModel",
            "_view_count": null,
            "_view_module": "@jupyter-widgets/base",
            "_view_module_version": "1.2.0",
            "_view_name": "StyleView",
            "description_width": ""
          }
        },
        "0b717a80d142456f9798ff3b2d764442": {
          "model_module": "@jupyter-widgets/controls",
          "model_name": "HBoxModel",
          "state": {
            "_dom_classes": [],
            "_model_module": "@jupyter-widgets/controls",
            "_model_module_version": "1.5.0",
            "_model_name": "HBoxModel",
            "_view_count": null,
            "_view_module": "@jupyter-widgets/controls",
            "_view_module_version": "1.5.0",
            "_view_name": "HBoxView",
            "box_style": "",
            "children": [
              "IPY_MODEL_19033ba72c954d93a967ba08559a308d",
              "IPY_MODEL_327f3d6114984b609446030dde751288"
            ],
            "layout": "IPY_MODEL_143018c74642470ab6960558a9572a0d"
          }
        },
        "19033ba72c954d93a967ba08559a308d": {
          "model_module": "@jupyter-widgets/controls",
          "model_name": "FloatProgressModel",
          "state": {
            "_dom_classes": [],
            "_model_module": "@jupyter-widgets/controls",
            "_model_module_version": "1.5.0",
            "_model_name": "FloatProgressModel",
            "_view_count": null,
            "_view_module": "@jupyter-widgets/controls",
            "_view_module_version": "1.5.0",
            "_view_name": "ProgressView",
            "bar_style": "success",
            "description": "100%",
            "description_tooltip": null,
            "layout": "IPY_MODEL_4e5ec558e3ce4cf5b453f9a795c1b0aa",
            "max": 24422,
            "min": 0,
            "orientation": "horizontal",
            "style": "IPY_MODEL_a9362d4801614d589be2aa893c132d76",
            "value": 24422
          }
        },
        "327f3d6114984b609446030dde751288": {
          "model_module": "@jupyter-widgets/controls",
          "model_name": "HTMLModel",
          "state": {
            "_dom_classes": [],
            "_model_module": "@jupyter-widgets/controls",
            "_model_module_version": "1.5.0",
            "_model_name": "HTMLModel",
            "_view_count": null,
            "_view_module": "@jupyter-widgets/controls",
            "_view_module_version": "1.5.0",
            "_view_name": "HTMLView",
            "description": "",
            "description_tooltip": null,
            "layout": "IPY_MODEL_e8fccc8858e04e5397d2cf4877fe7774",
            "placeholder": "​",
            "style": "IPY_MODEL_e2238dc317434c8281abe5bcfd7160ba",
            "value": " 24422/24422 [00:13&lt;00:00, 1866.04it/s]"
          }
        },
        "143018c74642470ab6960558a9572a0d": {
          "model_module": "@jupyter-widgets/base",
          "model_name": "LayoutModel",
          "state": {
            "_model_module": "@jupyter-widgets/base",
            "_model_module_version": "1.2.0",
            "_model_name": "LayoutModel",
            "_view_count": null,
            "_view_module": "@jupyter-widgets/base",
            "_view_module_version": "1.2.0",
            "_view_name": "LayoutView",
            "align_content": null,
            "align_items": null,
            "align_self": null,
            "border": null,
            "bottom": null,
            "display": null,
            "flex": null,
            "flex_flow": null,
            "grid_area": null,
            "grid_auto_columns": null,
            "grid_auto_flow": null,
            "grid_auto_rows": null,
            "grid_column": null,
            "grid_gap": null,
            "grid_row": null,
            "grid_template_areas": null,
            "grid_template_columns": null,
            "grid_template_rows": null,
            "height": null,
            "justify_content": null,
            "justify_items": null,
            "left": null,
            "margin": null,
            "max_height": null,
            "max_width": null,
            "min_height": null,
            "min_width": null,
            "object_fit": null,
            "object_position": null,
            "order": null,
            "overflow": null,
            "overflow_x": null,
            "overflow_y": null,
            "padding": null,
            "right": null,
            "top": null,
            "visibility": null,
            "width": null
          }
        },
        "4e5ec558e3ce4cf5b453f9a795c1b0aa": {
          "model_module": "@jupyter-widgets/base",
          "model_name": "LayoutModel",
          "state": {
            "_model_module": "@jupyter-widgets/base",
            "_model_module_version": "1.2.0",
            "_model_name": "LayoutModel",
            "_view_count": null,
            "_view_module": "@jupyter-widgets/base",
            "_view_module_version": "1.2.0",
            "_view_name": "LayoutView",
            "align_content": null,
            "align_items": null,
            "align_self": null,
            "border": null,
            "bottom": null,
            "display": null,
            "flex": null,
            "flex_flow": null,
            "grid_area": null,
            "grid_auto_columns": null,
            "grid_auto_flow": null,
            "grid_auto_rows": null,
            "grid_column": null,
            "grid_gap": null,
            "grid_row": null,
            "grid_template_areas": null,
            "grid_template_columns": null,
            "grid_template_rows": null,
            "height": null,
            "justify_content": null,
            "justify_items": null,
            "left": null,
            "margin": null,
            "max_height": null,
            "max_width": null,
            "min_height": null,
            "min_width": null,
            "object_fit": null,
            "object_position": null,
            "order": null,
            "overflow": null,
            "overflow_x": null,
            "overflow_y": null,
            "padding": null,
            "right": null,
            "top": null,
            "visibility": null,
            "width": null
          }
        },
        "a9362d4801614d589be2aa893c132d76": {
          "model_module": "@jupyter-widgets/controls",
          "model_name": "ProgressStyleModel",
          "state": {
            "_model_module": "@jupyter-widgets/controls",
            "_model_module_version": "1.5.0",
            "_model_name": "ProgressStyleModel",
            "_view_count": null,
            "_view_module": "@jupyter-widgets/base",
            "_view_module_version": "1.2.0",
            "_view_name": "StyleView",
            "bar_color": null,
            "description_width": "initial"
          }
        },
        "e8fccc8858e04e5397d2cf4877fe7774": {
          "model_module": "@jupyter-widgets/base",
          "model_name": "LayoutModel",
          "state": {
            "_model_module": "@jupyter-widgets/base",
            "_model_module_version": "1.2.0",
            "_model_name": "LayoutModel",
            "_view_count": null,
            "_view_module": "@jupyter-widgets/base",
            "_view_module_version": "1.2.0",
            "_view_name": "LayoutView",
            "align_content": null,
            "align_items": null,
            "align_self": null,
            "border": null,
            "bottom": null,
            "display": null,
            "flex": null,
            "flex_flow": null,
            "grid_area": null,
            "grid_auto_columns": null,
            "grid_auto_flow": null,
            "grid_auto_rows": null,
            "grid_column": null,
            "grid_gap": null,
            "grid_row": null,
            "grid_template_areas": null,
            "grid_template_columns": null,
            "grid_template_rows": null,
            "height": null,
            "justify_content": null,
            "justify_items": null,
            "left": null,
            "margin": null,
            "max_height": null,
            "max_width": null,
            "min_height": null,
            "min_width": null,
            "object_fit": null,
            "object_position": null,
            "order": null,
            "overflow": null,
            "overflow_x": null,
            "overflow_y": null,
            "padding": null,
            "right": null,
            "top": null,
            "visibility": null,
            "width": null
          }
        },
        "e2238dc317434c8281abe5bcfd7160ba": {
          "model_module": "@jupyter-widgets/controls",
          "model_name": "DescriptionStyleModel",
          "state": {
            "_model_module": "@jupyter-widgets/controls",
            "_model_module_version": "1.5.0",
            "_model_name": "DescriptionStyleModel",
            "_view_count": null,
            "_view_module": "@jupyter-widgets/base",
            "_view_module_version": "1.2.0",
            "_view_name": "StyleView",
            "description_width": ""
          }
        },
        "28cac1ad6caa416887cf38cb91dad1e8": {
          "model_module": "@jupyter-widgets/controls",
          "model_name": "HBoxModel",
          "state": {
            "_dom_classes": [],
            "_model_module": "@jupyter-widgets/controls",
            "_model_module_version": "1.5.0",
            "_model_name": "HBoxModel",
            "_view_count": null,
            "_view_module": "@jupyter-widgets/controls",
            "_view_module_version": "1.5.0",
            "_view_name": "HBoxView",
            "box_style": "",
            "children": [
              "IPY_MODEL_0d9de804a07b411ab29d81123b65c506",
              "IPY_MODEL_4faac3bc2c6d42bda71fbe6a6adce41b"
            ],
            "layout": "IPY_MODEL_f55f9c83b0d746839e39bbdb2f8928ac"
          }
        },
        "0d9de804a07b411ab29d81123b65c506": {
          "model_module": "@jupyter-widgets/controls",
          "model_name": "FloatProgressModel",
          "state": {
            "_dom_classes": [],
            "_model_module": "@jupyter-widgets/controls",
            "_model_module_version": "1.5.0",
            "_model_name": "FloatProgressModel",
            "_view_count": null,
            "_view_module": "@jupyter-widgets/controls",
            "_view_module_version": "1.5.0",
            "_view_name": "ProgressView",
            "bar_style": "success",
            "description": "100%",
            "description_tooltip": null,
            "layout": "IPY_MODEL_6f610223183b4d159eaf62a2e6706459",
            "max": 119971,
            "min": 0,
            "orientation": "horizontal",
            "style": "IPY_MODEL_17c5edb1600d43fc834136eec4635eff",
            "value": 119971
          }
        },
        "4faac3bc2c6d42bda71fbe6a6adce41b": {
          "model_module": "@jupyter-widgets/controls",
          "model_name": "HTMLModel",
          "state": {
            "_dom_classes": [],
            "_model_module": "@jupyter-widgets/controls",
            "_model_module_version": "1.5.0",
            "_model_name": "HTMLModel",
            "_view_count": null,
            "_view_module": "@jupyter-widgets/controls",
            "_view_module_version": "1.5.0",
            "_view_name": "HTMLView",
            "description": "",
            "description_tooltip": null,
            "layout": "IPY_MODEL_27378a5974b940958697010a83c17a35",
            "placeholder": "​",
            "style": "IPY_MODEL_374d0c0150c14e6099381c69792cb8d9",
            "value": " 119971/119971 [00:18&lt;00:00, 6375.40it/s]"
          }
        },
        "f55f9c83b0d746839e39bbdb2f8928ac": {
          "model_module": "@jupyter-widgets/base",
          "model_name": "LayoutModel",
          "state": {
            "_model_module": "@jupyter-widgets/base",
            "_model_module_version": "1.2.0",
            "_model_name": "LayoutModel",
            "_view_count": null,
            "_view_module": "@jupyter-widgets/base",
            "_view_module_version": "1.2.0",
            "_view_name": "LayoutView",
            "align_content": null,
            "align_items": null,
            "align_self": null,
            "border": null,
            "bottom": null,
            "display": null,
            "flex": null,
            "flex_flow": null,
            "grid_area": null,
            "grid_auto_columns": null,
            "grid_auto_flow": null,
            "grid_auto_rows": null,
            "grid_column": null,
            "grid_gap": null,
            "grid_row": null,
            "grid_template_areas": null,
            "grid_template_columns": null,
            "grid_template_rows": null,
            "height": null,
            "justify_content": null,
            "justify_items": null,
            "left": null,
            "margin": null,
            "max_height": null,
            "max_width": null,
            "min_height": null,
            "min_width": null,
            "object_fit": null,
            "object_position": null,
            "order": null,
            "overflow": null,
            "overflow_x": null,
            "overflow_y": null,
            "padding": null,
            "right": null,
            "top": null,
            "visibility": null,
            "width": null
          }
        },
        "6f610223183b4d159eaf62a2e6706459": {
          "model_module": "@jupyter-widgets/base",
          "model_name": "LayoutModel",
          "state": {
            "_model_module": "@jupyter-widgets/base",
            "_model_module_version": "1.2.0",
            "_model_name": "LayoutModel",
            "_view_count": null,
            "_view_module": "@jupyter-widgets/base",
            "_view_module_version": "1.2.0",
            "_view_name": "LayoutView",
            "align_content": null,
            "align_items": null,
            "align_self": null,
            "border": null,
            "bottom": null,
            "display": null,
            "flex": null,
            "flex_flow": null,
            "grid_area": null,
            "grid_auto_columns": null,
            "grid_auto_flow": null,
            "grid_auto_rows": null,
            "grid_column": null,
            "grid_gap": null,
            "grid_row": null,
            "grid_template_areas": null,
            "grid_template_columns": null,
            "grid_template_rows": null,
            "height": null,
            "justify_content": null,
            "justify_items": null,
            "left": null,
            "margin": null,
            "max_height": null,
            "max_width": null,
            "min_height": null,
            "min_width": null,
            "object_fit": null,
            "object_position": null,
            "order": null,
            "overflow": null,
            "overflow_x": null,
            "overflow_y": null,
            "padding": null,
            "right": null,
            "top": null,
            "visibility": null,
            "width": null
          }
        },
        "17c5edb1600d43fc834136eec4635eff": {
          "model_module": "@jupyter-widgets/controls",
          "model_name": "ProgressStyleModel",
          "state": {
            "_model_module": "@jupyter-widgets/controls",
            "_model_module_version": "1.5.0",
            "_model_name": "ProgressStyleModel",
            "_view_count": null,
            "_view_module": "@jupyter-widgets/base",
            "_view_module_version": "1.2.0",
            "_view_name": "StyleView",
            "bar_color": null,
            "description_width": "initial"
          }
        },
        "27378a5974b940958697010a83c17a35": {
          "model_module": "@jupyter-widgets/base",
          "model_name": "LayoutModel",
          "state": {
            "_model_module": "@jupyter-widgets/base",
            "_model_module_version": "1.2.0",
            "_model_name": "LayoutModel",
            "_view_count": null,
            "_view_module": "@jupyter-widgets/base",
            "_view_module_version": "1.2.0",
            "_view_name": "LayoutView",
            "align_content": null,
            "align_items": null,
            "align_self": null,
            "border": null,
            "bottom": null,
            "display": null,
            "flex": null,
            "flex_flow": null,
            "grid_area": null,
            "grid_auto_columns": null,
            "grid_auto_flow": null,
            "grid_auto_rows": null,
            "grid_column": null,
            "grid_gap": null,
            "grid_row": null,
            "grid_template_areas": null,
            "grid_template_columns": null,
            "grid_template_rows": null,
            "height": null,
            "justify_content": null,
            "justify_items": null,
            "left": null,
            "margin": null,
            "max_height": null,
            "max_width": null,
            "min_height": null,
            "min_width": null,
            "object_fit": null,
            "object_position": null,
            "order": null,
            "overflow": null,
            "overflow_x": null,
            "overflow_y": null,
            "padding": null,
            "right": null,
            "top": null,
            "visibility": null,
            "width": null
          }
        },
        "374d0c0150c14e6099381c69792cb8d9": {
          "model_module": "@jupyter-widgets/controls",
          "model_name": "DescriptionStyleModel",
          "state": {
            "_model_module": "@jupyter-widgets/controls",
            "_model_module_version": "1.5.0",
            "_model_name": "DescriptionStyleModel",
            "_view_count": null,
            "_view_module": "@jupyter-widgets/base",
            "_view_module_version": "1.2.0",
            "_view_name": "StyleView",
            "description_width": ""
          }
        },
        "76887ad5102b4c9abba35208b2077b4b": {
          "model_module": "@jupyter-widgets/controls",
          "model_name": "HBoxModel",
          "state": {
            "_dom_classes": [],
            "_model_module": "@jupyter-widgets/controls",
            "_model_module_version": "1.5.0",
            "_model_name": "HBoxModel",
            "_view_count": null,
            "_view_module": "@jupyter-widgets/controls",
            "_view_module_version": "1.5.0",
            "_view_name": "HBoxView",
            "box_style": "",
            "children": [
              "IPY_MODEL_7933ba58d7b2416ca73debeed23a17f9",
              "IPY_MODEL_c3d841cedc0a42469570ebc1f0eec2b5"
            ],
            "layout": "IPY_MODEL_4c9e12b7dfa54ad182a243fd4e4b8419"
          }
        },
        "7933ba58d7b2416ca73debeed23a17f9": {
          "model_module": "@jupyter-widgets/controls",
          "model_name": "FloatProgressModel",
          "state": {
            "_dom_classes": [],
            "_model_module": "@jupyter-widgets/controls",
            "_model_module_version": "1.5.0",
            "_model_name": "FloatProgressModel",
            "_view_count": null,
            "_view_module": "@jupyter-widgets/controls",
            "_view_module_version": "1.5.0",
            "_view_name": "ProgressView",
            "bar_style": "success",
            "description": "100%",
            "description_tooltip": null,
            "layout": "IPY_MODEL_f5bac28b934547fcbdbe21e00044e976",
            "max": 10000,
            "min": 0,
            "orientation": "horizontal",
            "style": "IPY_MODEL_c73013baab3343fa8d8b81fdb7e0f5a4",
            "value": 10000
          }
        },
        "c3d841cedc0a42469570ebc1f0eec2b5": {
          "model_module": "@jupyter-widgets/controls",
          "model_name": "HTMLModel",
          "state": {
            "_dom_classes": [],
            "_model_module": "@jupyter-widgets/controls",
            "_model_module_version": "1.5.0",
            "_model_name": "HTMLModel",
            "_view_count": null,
            "_view_module": "@jupyter-widgets/controls",
            "_view_module_version": "1.5.0",
            "_view_name": "HTMLView",
            "description": "",
            "description_tooltip": null,
            "layout": "IPY_MODEL_32478121643e43b7902951376373dfff",
            "placeholder": "​",
            "style": "IPY_MODEL_043d11f3af1248caa295705348391132",
            "value": " 10000/10000 [00:01&lt;00:00, 5277.00it/s]"
          }
        },
        "4c9e12b7dfa54ad182a243fd4e4b8419": {
          "model_module": "@jupyter-widgets/base",
          "model_name": "LayoutModel",
          "state": {
            "_model_module": "@jupyter-widgets/base",
            "_model_module_version": "1.2.0",
            "_model_name": "LayoutModel",
            "_view_count": null,
            "_view_module": "@jupyter-widgets/base",
            "_view_module_version": "1.2.0",
            "_view_name": "LayoutView",
            "align_content": null,
            "align_items": null,
            "align_self": null,
            "border": null,
            "bottom": null,
            "display": null,
            "flex": null,
            "flex_flow": null,
            "grid_area": null,
            "grid_auto_columns": null,
            "grid_auto_flow": null,
            "grid_auto_rows": null,
            "grid_column": null,
            "grid_gap": null,
            "grid_row": null,
            "grid_template_areas": null,
            "grid_template_columns": null,
            "grid_template_rows": null,
            "height": null,
            "justify_content": null,
            "justify_items": null,
            "left": null,
            "margin": null,
            "max_height": null,
            "max_width": null,
            "min_height": null,
            "min_width": null,
            "object_fit": null,
            "object_position": null,
            "order": null,
            "overflow": null,
            "overflow_x": null,
            "overflow_y": null,
            "padding": null,
            "right": null,
            "top": null,
            "visibility": null,
            "width": null
          }
        },
        "f5bac28b934547fcbdbe21e00044e976": {
          "model_module": "@jupyter-widgets/base",
          "model_name": "LayoutModel",
          "state": {
            "_model_module": "@jupyter-widgets/base",
            "_model_module_version": "1.2.0",
            "_model_name": "LayoutModel",
            "_view_count": null,
            "_view_module": "@jupyter-widgets/base",
            "_view_module_version": "1.2.0",
            "_view_name": "LayoutView",
            "align_content": null,
            "align_items": null,
            "align_self": null,
            "border": null,
            "bottom": null,
            "display": null,
            "flex": null,
            "flex_flow": null,
            "grid_area": null,
            "grid_auto_columns": null,
            "grid_auto_flow": null,
            "grid_auto_rows": null,
            "grid_column": null,
            "grid_gap": null,
            "grid_row": null,
            "grid_template_areas": null,
            "grid_template_columns": null,
            "grid_template_rows": null,
            "height": null,
            "justify_content": null,
            "justify_items": null,
            "left": null,
            "margin": null,
            "max_height": null,
            "max_width": null,
            "min_height": null,
            "min_width": null,
            "object_fit": null,
            "object_position": null,
            "order": null,
            "overflow": null,
            "overflow_x": null,
            "overflow_y": null,
            "padding": null,
            "right": null,
            "top": null,
            "visibility": null,
            "width": null
          }
        },
        "c73013baab3343fa8d8b81fdb7e0f5a4": {
          "model_module": "@jupyter-widgets/controls",
          "model_name": "ProgressStyleModel",
          "state": {
            "_model_module": "@jupyter-widgets/controls",
            "_model_module_version": "1.5.0",
            "_model_name": "ProgressStyleModel",
            "_view_count": null,
            "_view_module": "@jupyter-widgets/base",
            "_view_module_version": "1.2.0",
            "_view_name": "StyleView",
            "bar_color": null,
            "description_width": "initial"
          }
        },
        "32478121643e43b7902951376373dfff": {
          "model_module": "@jupyter-widgets/base",
          "model_name": "LayoutModel",
          "state": {
            "_model_module": "@jupyter-widgets/base",
            "_model_module_version": "1.2.0",
            "_model_name": "LayoutModel",
            "_view_count": null,
            "_view_module": "@jupyter-widgets/base",
            "_view_module_version": "1.2.0",
            "_view_name": "LayoutView",
            "align_content": null,
            "align_items": null,
            "align_self": null,
            "border": null,
            "bottom": null,
            "display": null,
            "flex": null,
            "flex_flow": null,
            "grid_area": null,
            "grid_auto_columns": null,
            "grid_auto_flow": null,
            "grid_auto_rows": null,
            "grid_column": null,
            "grid_gap": null,
            "grid_row": null,
            "grid_template_areas": null,
            "grid_template_columns": null,
            "grid_template_rows": null,
            "height": null,
            "justify_content": null,
            "justify_items": null,
            "left": null,
            "margin": null,
            "max_height": null,
            "max_width": null,
            "min_height": null,
            "min_width": null,
            "object_fit": null,
            "object_position": null,
            "order": null,
            "overflow": null,
            "overflow_x": null,
            "overflow_y": null,
            "padding": null,
            "right": null,
            "top": null,
            "visibility": null,
            "width": null
          }
        },
        "043d11f3af1248caa295705348391132": {
          "model_module": "@jupyter-widgets/controls",
          "model_name": "DescriptionStyleModel",
          "state": {
            "_model_module": "@jupyter-widgets/controls",
            "_model_module_version": "1.5.0",
            "_model_name": "DescriptionStyleModel",
            "_view_count": null,
            "_view_module": "@jupyter-widgets/base",
            "_view_module_version": "1.2.0",
            "_view_name": "StyleView",
            "description_width": ""
          }
        },
        "07f0d2c6d58049b08ca0da620b661f17": {
          "model_module": "@jupyter-widgets/controls",
          "model_name": "HBoxModel",
          "state": {
            "_dom_classes": [],
            "_model_module": "@jupyter-widgets/controls",
            "_model_module_version": "1.5.0",
            "_model_name": "HBoxModel",
            "_view_count": null,
            "_view_module": "@jupyter-widgets/controls",
            "_view_module_version": "1.5.0",
            "_view_name": "HBoxView",
            "box_style": "",
            "children": [
              "IPY_MODEL_61d28026e8b94bf0bed63cad06c86303",
              "IPY_MODEL_470fe93368644ec79116982efa72db0e"
            ],
            "layout": "IPY_MODEL_f2fa263dc4dd4bd7bbed90fd2205afae"
          }
        },
        "61d28026e8b94bf0bed63cad06c86303": {
          "model_module": "@jupyter-widgets/controls",
          "model_name": "FloatProgressModel",
          "state": {
            "_dom_classes": [],
            "_model_module": "@jupyter-widgets/controls",
            "_model_module_version": "1.5.0",
            "_model_name": "FloatProgressModel",
            "_view_count": null,
            "_view_module": "@jupyter-widgets/controls",
            "_view_module_version": "1.5.0",
            "_view_name": "ProgressView",
            "bar_style": "success",
            "description": "100%",
            "description_tooltip": null,
            "layout": "IPY_MODEL_02236bb7e75e4cec90f0aa29c828e9fc",
            "max": 24422,
            "min": 0,
            "orientation": "horizontal",
            "style": "IPY_MODEL_a50ff6a5fb124e9b9f92a9c10b64dcff",
            "value": 24422
          }
        },
        "470fe93368644ec79116982efa72db0e": {
          "model_module": "@jupyter-widgets/controls",
          "model_name": "HTMLModel",
          "state": {
            "_dom_classes": [],
            "_model_module": "@jupyter-widgets/controls",
            "_model_module_version": "1.5.0",
            "_model_name": "HTMLModel",
            "_view_count": null,
            "_view_module": "@jupyter-widgets/controls",
            "_view_module_version": "1.5.0",
            "_view_name": "HTMLView",
            "description": "",
            "description_tooltip": null,
            "layout": "IPY_MODEL_f19ab1111ba840c781d2b19617945365",
            "placeholder": "​",
            "style": "IPY_MODEL_f247355eb5b34a7bbf2d5321e51369fd",
            "value": " 24422/24422 [00:02&lt;00:00, 8622.04it/s]"
          }
        },
        "f2fa263dc4dd4bd7bbed90fd2205afae": {
          "model_module": "@jupyter-widgets/base",
          "model_name": "LayoutModel",
          "state": {
            "_model_module": "@jupyter-widgets/base",
            "_model_module_version": "1.2.0",
            "_model_name": "LayoutModel",
            "_view_count": null,
            "_view_module": "@jupyter-widgets/base",
            "_view_module_version": "1.2.0",
            "_view_name": "LayoutView",
            "align_content": null,
            "align_items": null,
            "align_self": null,
            "border": null,
            "bottom": null,
            "display": null,
            "flex": null,
            "flex_flow": null,
            "grid_area": null,
            "grid_auto_columns": null,
            "grid_auto_flow": null,
            "grid_auto_rows": null,
            "grid_column": null,
            "grid_gap": null,
            "grid_row": null,
            "grid_template_areas": null,
            "grid_template_columns": null,
            "grid_template_rows": null,
            "height": null,
            "justify_content": null,
            "justify_items": null,
            "left": null,
            "margin": null,
            "max_height": null,
            "max_width": null,
            "min_height": null,
            "min_width": null,
            "object_fit": null,
            "object_position": null,
            "order": null,
            "overflow": null,
            "overflow_x": null,
            "overflow_y": null,
            "padding": null,
            "right": null,
            "top": null,
            "visibility": null,
            "width": null
          }
        },
        "02236bb7e75e4cec90f0aa29c828e9fc": {
          "model_module": "@jupyter-widgets/base",
          "model_name": "LayoutModel",
          "state": {
            "_model_module": "@jupyter-widgets/base",
            "_model_module_version": "1.2.0",
            "_model_name": "LayoutModel",
            "_view_count": null,
            "_view_module": "@jupyter-widgets/base",
            "_view_module_version": "1.2.0",
            "_view_name": "LayoutView",
            "align_content": null,
            "align_items": null,
            "align_self": null,
            "border": null,
            "bottom": null,
            "display": null,
            "flex": null,
            "flex_flow": null,
            "grid_area": null,
            "grid_auto_columns": null,
            "grid_auto_flow": null,
            "grid_auto_rows": null,
            "grid_column": null,
            "grid_gap": null,
            "grid_row": null,
            "grid_template_areas": null,
            "grid_template_columns": null,
            "grid_template_rows": null,
            "height": null,
            "justify_content": null,
            "justify_items": null,
            "left": null,
            "margin": null,
            "max_height": null,
            "max_width": null,
            "min_height": null,
            "min_width": null,
            "object_fit": null,
            "object_position": null,
            "order": null,
            "overflow": null,
            "overflow_x": null,
            "overflow_y": null,
            "padding": null,
            "right": null,
            "top": null,
            "visibility": null,
            "width": null
          }
        },
        "a50ff6a5fb124e9b9f92a9c10b64dcff": {
          "model_module": "@jupyter-widgets/controls",
          "model_name": "ProgressStyleModel",
          "state": {
            "_model_module": "@jupyter-widgets/controls",
            "_model_module_version": "1.5.0",
            "_model_name": "ProgressStyleModel",
            "_view_count": null,
            "_view_module": "@jupyter-widgets/base",
            "_view_module_version": "1.2.0",
            "_view_name": "StyleView",
            "bar_color": null,
            "description_width": "initial"
          }
        },
        "f19ab1111ba840c781d2b19617945365": {
          "model_module": "@jupyter-widgets/base",
          "model_name": "LayoutModel",
          "state": {
            "_model_module": "@jupyter-widgets/base",
            "_model_module_version": "1.2.0",
            "_model_name": "LayoutModel",
            "_view_count": null,
            "_view_module": "@jupyter-widgets/base",
            "_view_module_version": "1.2.0",
            "_view_name": "LayoutView",
            "align_content": null,
            "align_items": null,
            "align_self": null,
            "border": null,
            "bottom": null,
            "display": null,
            "flex": null,
            "flex_flow": null,
            "grid_area": null,
            "grid_auto_columns": null,
            "grid_auto_flow": null,
            "grid_auto_rows": null,
            "grid_column": null,
            "grid_gap": null,
            "grid_row": null,
            "grid_template_areas": null,
            "grid_template_columns": null,
            "grid_template_rows": null,
            "height": null,
            "justify_content": null,
            "justify_items": null,
            "left": null,
            "margin": null,
            "max_height": null,
            "max_width": null,
            "min_height": null,
            "min_width": null,
            "object_fit": null,
            "object_position": null,
            "order": null,
            "overflow": null,
            "overflow_x": null,
            "overflow_y": null,
            "padding": null,
            "right": null,
            "top": null,
            "visibility": null,
            "width": null
          }
        },
        "f247355eb5b34a7bbf2d5321e51369fd": {
          "model_module": "@jupyter-widgets/controls",
          "model_name": "DescriptionStyleModel",
          "state": {
            "_model_module": "@jupyter-widgets/controls",
            "_model_module_version": "1.5.0",
            "_model_name": "DescriptionStyleModel",
            "_view_count": null,
            "_view_module": "@jupyter-widgets/base",
            "_view_module_version": "1.2.0",
            "_view_name": "StyleView",
            "description_width": ""
          }
        },
        "825a3c907d924cddae3a3b15bf8fb7d7": {
          "model_module": "@jupyter-widgets/controls",
          "model_name": "HBoxModel",
          "state": {
            "_dom_classes": [],
            "_model_module": "@jupyter-widgets/controls",
            "_model_module_version": "1.5.0",
            "_model_name": "HBoxModel",
            "_view_count": null,
            "_view_module": "@jupyter-widgets/controls",
            "_view_module_version": "1.5.0",
            "_view_name": "HBoxView",
            "box_style": "",
            "children": [
              "IPY_MODEL_4073ff9be9fa4aed9997375c2850edb1",
              "IPY_MODEL_99f611e79fae4cf3afeb7c2d8b1edc8d"
            ],
            "layout": "IPY_MODEL_87f237704e324ff2bdbb4ff082cf04ef"
          }
        },
        "4073ff9be9fa4aed9997375c2850edb1": {
          "model_module": "@jupyter-widgets/controls",
          "model_name": "FloatProgressModel",
          "state": {
            "_dom_classes": [],
            "_model_module": "@jupyter-widgets/controls",
            "_model_module_version": "1.5.0",
            "_model_name": "FloatProgressModel",
            "_view_count": null,
            "_view_module": "@jupyter-widgets/controls",
            "_view_module_version": "1.5.0",
            "_view_name": "ProgressView",
            "bar_style": "success",
            "description": "100%",
            "description_tooltip": null,
            "layout": "IPY_MODEL_fc8904d3e1c649219642672e84bae5ed",
            "max": 119971,
            "min": 0,
            "orientation": "horizontal",
            "style": "IPY_MODEL_07f12f8f9e4b42bb8d8a04611ab35052",
            "value": 119971
          }
        },
        "99f611e79fae4cf3afeb7c2d8b1edc8d": {
          "model_module": "@jupyter-widgets/controls",
          "model_name": "HTMLModel",
          "state": {
            "_dom_classes": [],
            "_model_module": "@jupyter-widgets/controls",
            "_model_module_version": "1.5.0",
            "_model_name": "HTMLModel",
            "_view_count": null,
            "_view_module": "@jupyter-widgets/controls",
            "_view_module_version": "1.5.0",
            "_view_name": "HTMLView",
            "description": "",
            "description_tooltip": null,
            "layout": "IPY_MODEL_795a1da3d43d4fcca70b2b37b45790aa",
            "placeholder": "​",
            "style": "IPY_MODEL_3da038b6863f4f26bf370f45d921b03b",
            "value": " 119971/119971 [00:03&lt;00:00, 35396.99it/s]"
          }
        },
        "87f237704e324ff2bdbb4ff082cf04ef": {
          "model_module": "@jupyter-widgets/base",
          "model_name": "LayoutModel",
          "state": {
            "_model_module": "@jupyter-widgets/base",
            "_model_module_version": "1.2.0",
            "_model_name": "LayoutModel",
            "_view_count": null,
            "_view_module": "@jupyter-widgets/base",
            "_view_module_version": "1.2.0",
            "_view_name": "LayoutView",
            "align_content": null,
            "align_items": null,
            "align_self": null,
            "border": null,
            "bottom": null,
            "display": null,
            "flex": null,
            "flex_flow": null,
            "grid_area": null,
            "grid_auto_columns": null,
            "grid_auto_flow": null,
            "grid_auto_rows": null,
            "grid_column": null,
            "grid_gap": null,
            "grid_row": null,
            "grid_template_areas": null,
            "grid_template_columns": null,
            "grid_template_rows": null,
            "height": null,
            "justify_content": null,
            "justify_items": null,
            "left": null,
            "margin": null,
            "max_height": null,
            "max_width": null,
            "min_height": null,
            "min_width": null,
            "object_fit": null,
            "object_position": null,
            "order": null,
            "overflow": null,
            "overflow_x": null,
            "overflow_y": null,
            "padding": null,
            "right": null,
            "top": null,
            "visibility": null,
            "width": null
          }
        },
        "fc8904d3e1c649219642672e84bae5ed": {
          "model_module": "@jupyter-widgets/base",
          "model_name": "LayoutModel",
          "state": {
            "_model_module": "@jupyter-widgets/base",
            "_model_module_version": "1.2.0",
            "_model_name": "LayoutModel",
            "_view_count": null,
            "_view_module": "@jupyter-widgets/base",
            "_view_module_version": "1.2.0",
            "_view_name": "LayoutView",
            "align_content": null,
            "align_items": null,
            "align_self": null,
            "border": null,
            "bottom": null,
            "display": null,
            "flex": null,
            "flex_flow": null,
            "grid_area": null,
            "grid_auto_columns": null,
            "grid_auto_flow": null,
            "grid_auto_rows": null,
            "grid_column": null,
            "grid_gap": null,
            "grid_row": null,
            "grid_template_areas": null,
            "grid_template_columns": null,
            "grid_template_rows": null,
            "height": null,
            "justify_content": null,
            "justify_items": null,
            "left": null,
            "margin": null,
            "max_height": null,
            "max_width": null,
            "min_height": null,
            "min_width": null,
            "object_fit": null,
            "object_position": null,
            "order": null,
            "overflow": null,
            "overflow_x": null,
            "overflow_y": null,
            "padding": null,
            "right": null,
            "top": null,
            "visibility": null,
            "width": null
          }
        },
        "07f12f8f9e4b42bb8d8a04611ab35052": {
          "model_module": "@jupyter-widgets/controls",
          "model_name": "ProgressStyleModel",
          "state": {
            "_model_module": "@jupyter-widgets/controls",
            "_model_module_version": "1.5.0",
            "_model_name": "ProgressStyleModel",
            "_view_count": null,
            "_view_module": "@jupyter-widgets/base",
            "_view_module_version": "1.2.0",
            "_view_name": "StyleView",
            "bar_color": null,
            "description_width": "initial"
          }
        },
        "795a1da3d43d4fcca70b2b37b45790aa": {
          "model_module": "@jupyter-widgets/base",
          "model_name": "LayoutModel",
          "state": {
            "_model_module": "@jupyter-widgets/base",
            "_model_module_version": "1.2.0",
            "_model_name": "LayoutModel",
            "_view_count": null,
            "_view_module": "@jupyter-widgets/base",
            "_view_module_version": "1.2.0",
            "_view_name": "LayoutView",
            "align_content": null,
            "align_items": null,
            "align_self": null,
            "border": null,
            "bottom": null,
            "display": null,
            "flex": null,
            "flex_flow": null,
            "grid_area": null,
            "grid_auto_columns": null,
            "grid_auto_flow": null,
            "grid_auto_rows": null,
            "grid_column": null,
            "grid_gap": null,
            "grid_row": null,
            "grid_template_areas": null,
            "grid_template_columns": null,
            "grid_template_rows": null,
            "height": null,
            "justify_content": null,
            "justify_items": null,
            "left": null,
            "margin": null,
            "max_height": null,
            "max_width": null,
            "min_height": null,
            "min_width": null,
            "object_fit": null,
            "object_position": null,
            "order": null,
            "overflow": null,
            "overflow_x": null,
            "overflow_y": null,
            "padding": null,
            "right": null,
            "top": null,
            "visibility": null,
            "width": null
          }
        },
        "3da038b6863f4f26bf370f45d921b03b": {
          "model_module": "@jupyter-widgets/controls",
          "model_name": "DescriptionStyleModel",
          "state": {
            "_model_module": "@jupyter-widgets/controls",
            "_model_module_version": "1.5.0",
            "_model_name": "DescriptionStyleModel",
            "_view_count": null,
            "_view_module": "@jupyter-widgets/base",
            "_view_module_version": "1.2.0",
            "_view_name": "StyleView",
            "description_width": ""
          }
        },
        "5e2d73b550814fcdbd90307abf7f9629": {
          "model_module": "@jupyter-widgets/controls",
          "model_name": "HBoxModel",
          "state": {
            "_dom_classes": [],
            "_model_module": "@jupyter-widgets/controls",
            "_model_module_version": "1.5.0",
            "_model_name": "HBoxModel",
            "_view_count": null,
            "_view_module": "@jupyter-widgets/controls",
            "_view_module_version": "1.5.0",
            "_view_name": "HBoxView",
            "box_style": "",
            "children": [
              "IPY_MODEL_8835c2843a284a91a73e63e3f607739a",
              "IPY_MODEL_1b9d1f3cfc724cff945cc67e4a58ca7e"
            ],
            "layout": "IPY_MODEL_35024f7c563844e0bcdce3b790643261"
          }
        },
        "8835c2843a284a91a73e63e3f607739a": {
          "model_module": "@jupyter-widgets/controls",
          "model_name": "FloatProgressModel",
          "state": {
            "_dom_classes": [],
            "_model_module": "@jupyter-widgets/controls",
            "_model_module_version": "1.5.0",
            "_model_name": "FloatProgressModel",
            "_view_count": null,
            "_view_module": "@jupyter-widgets/controls",
            "_view_module_version": "1.5.0",
            "_view_name": "ProgressView",
            "bar_style": "success",
            "description": "100%",
            "description_tooltip": null,
            "layout": "IPY_MODEL_f385ea2555dc4fa28710ef4b9bedcfa7",
            "max": 10000,
            "min": 0,
            "orientation": "horizontal",
            "style": "IPY_MODEL_8a6aa6c00c3e4ef88bb91d0175295999",
            "value": 10000
          }
        },
        "1b9d1f3cfc724cff945cc67e4a58ca7e": {
          "model_module": "@jupyter-widgets/controls",
          "model_name": "HTMLModel",
          "state": {
            "_dom_classes": [],
            "_model_module": "@jupyter-widgets/controls",
            "_model_module_version": "1.5.0",
            "_model_name": "HTMLModel",
            "_view_count": null,
            "_view_module": "@jupyter-widgets/controls",
            "_view_module_version": "1.5.0",
            "_view_name": "HTMLView",
            "description": "",
            "description_tooltip": null,
            "layout": "IPY_MODEL_e68529dcf6ae420c91539e4c91cd1870",
            "placeholder": "​",
            "style": "IPY_MODEL_7a4c0583e58940b6ba03c7b336c35f0a",
            "value": " 10000/10000 [00:03&lt;00:00, 3122.50it/s]"
          }
        },
        "35024f7c563844e0bcdce3b790643261": {
          "model_module": "@jupyter-widgets/base",
          "model_name": "LayoutModel",
          "state": {
            "_model_module": "@jupyter-widgets/base",
            "_model_module_version": "1.2.0",
            "_model_name": "LayoutModel",
            "_view_count": null,
            "_view_module": "@jupyter-widgets/base",
            "_view_module_version": "1.2.0",
            "_view_name": "LayoutView",
            "align_content": null,
            "align_items": null,
            "align_self": null,
            "border": null,
            "bottom": null,
            "display": null,
            "flex": null,
            "flex_flow": null,
            "grid_area": null,
            "grid_auto_columns": null,
            "grid_auto_flow": null,
            "grid_auto_rows": null,
            "grid_column": null,
            "grid_gap": null,
            "grid_row": null,
            "grid_template_areas": null,
            "grid_template_columns": null,
            "grid_template_rows": null,
            "height": null,
            "justify_content": null,
            "justify_items": null,
            "left": null,
            "margin": null,
            "max_height": null,
            "max_width": null,
            "min_height": null,
            "min_width": null,
            "object_fit": null,
            "object_position": null,
            "order": null,
            "overflow": null,
            "overflow_x": null,
            "overflow_y": null,
            "padding": null,
            "right": null,
            "top": null,
            "visibility": null,
            "width": null
          }
        },
        "f385ea2555dc4fa28710ef4b9bedcfa7": {
          "model_module": "@jupyter-widgets/base",
          "model_name": "LayoutModel",
          "state": {
            "_model_module": "@jupyter-widgets/base",
            "_model_module_version": "1.2.0",
            "_model_name": "LayoutModel",
            "_view_count": null,
            "_view_module": "@jupyter-widgets/base",
            "_view_module_version": "1.2.0",
            "_view_name": "LayoutView",
            "align_content": null,
            "align_items": null,
            "align_self": null,
            "border": null,
            "bottom": null,
            "display": null,
            "flex": null,
            "flex_flow": null,
            "grid_area": null,
            "grid_auto_columns": null,
            "grid_auto_flow": null,
            "grid_auto_rows": null,
            "grid_column": null,
            "grid_gap": null,
            "grid_row": null,
            "grid_template_areas": null,
            "grid_template_columns": null,
            "grid_template_rows": null,
            "height": null,
            "justify_content": null,
            "justify_items": null,
            "left": null,
            "margin": null,
            "max_height": null,
            "max_width": null,
            "min_height": null,
            "min_width": null,
            "object_fit": null,
            "object_position": null,
            "order": null,
            "overflow": null,
            "overflow_x": null,
            "overflow_y": null,
            "padding": null,
            "right": null,
            "top": null,
            "visibility": null,
            "width": null
          }
        },
        "8a6aa6c00c3e4ef88bb91d0175295999": {
          "model_module": "@jupyter-widgets/controls",
          "model_name": "ProgressStyleModel",
          "state": {
            "_model_module": "@jupyter-widgets/controls",
            "_model_module_version": "1.5.0",
            "_model_name": "ProgressStyleModel",
            "_view_count": null,
            "_view_module": "@jupyter-widgets/base",
            "_view_module_version": "1.2.0",
            "_view_name": "StyleView",
            "bar_color": null,
            "description_width": "initial"
          }
        },
        "e68529dcf6ae420c91539e4c91cd1870": {
          "model_module": "@jupyter-widgets/base",
          "model_name": "LayoutModel",
          "state": {
            "_model_module": "@jupyter-widgets/base",
            "_model_module_version": "1.2.0",
            "_model_name": "LayoutModel",
            "_view_count": null,
            "_view_module": "@jupyter-widgets/base",
            "_view_module_version": "1.2.0",
            "_view_name": "LayoutView",
            "align_content": null,
            "align_items": null,
            "align_self": null,
            "border": null,
            "bottom": null,
            "display": null,
            "flex": null,
            "flex_flow": null,
            "grid_area": null,
            "grid_auto_columns": null,
            "grid_auto_flow": null,
            "grid_auto_rows": null,
            "grid_column": null,
            "grid_gap": null,
            "grid_row": null,
            "grid_template_areas": null,
            "grid_template_columns": null,
            "grid_template_rows": null,
            "height": null,
            "justify_content": null,
            "justify_items": null,
            "left": null,
            "margin": null,
            "max_height": null,
            "max_width": null,
            "min_height": null,
            "min_width": null,
            "object_fit": null,
            "object_position": null,
            "order": null,
            "overflow": null,
            "overflow_x": null,
            "overflow_y": null,
            "padding": null,
            "right": null,
            "top": null,
            "visibility": null,
            "width": null
          }
        },
        "7a4c0583e58940b6ba03c7b336c35f0a": {
          "model_module": "@jupyter-widgets/controls",
          "model_name": "DescriptionStyleModel",
          "state": {
            "_model_module": "@jupyter-widgets/controls",
            "_model_module_version": "1.5.0",
            "_model_name": "DescriptionStyleModel",
            "_view_count": null,
            "_view_module": "@jupyter-widgets/base",
            "_view_module_version": "1.2.0",
            "_view_name": "StyleView",
            "description_width": ""
          }
        },
        "27ec11d31c2c4c9ca972f2fe3049fee1": {
          "model_module": "@jupyter-widgets/controls",
          "model_name": "HBoxModel",
          "state": {
            "_dom_classes": [],
            "_model_module": "@jupyter-widgets/controls",
            "_model_module_version": "1.5.0",
            "_model_name": "HBoxModel",
            "_view_count": null,
            "_view_module": "@jupyter-widgets/controls",
            "_view_module_version": "1.5.0",
            "_view_name": "HBoxView",
            "box_style": "",
            "children": [
              "IPY_MODEL_5de8c69ac83d49a6956a750b5acdadb9",
              "IPY_MODEL_75a0a99f42ce43f1ae5b509c9c16e18b"
            ],
            "layout": "IPY_MODEL_4b169e0650374821981260224d16be69"
          }
        },
        "5de8c69ac83d49a6956a750b5acdadb9": {
          "model_module": "@jupyter-widgets/controls",
          "model_name": "FloatProgressModel",
          "state": {
            "_dom_classes": [],
            "_model_module": "@jupyter-widgets/controls",
            "_model_module_version": "1.5.0",
            "_model_name": "FloatProgressModel",
            "_view_count": null,
            "_view_module": "@jupyter-widgets/controls",
            "_view_module_version": "1.5.0",
            "_view_name": "ProgressView",
            "bar_style": "success",
            "description": "100%",
            "description_tooltip": null,
            "layout": "IPY_MODEL_cb2f4506a88244b6bda127b0bdb1369a",
            "max": 24422,
            "min": 0,
            "orientation": "horizontal",
            "style": "IPY_MODEL_aad815c4df814b12898cdad3228fd3ff",
            "value": 24422
          }
        },
        "75a0a99f42ce43f1ae5b509c9c16e18b": {
          "model_module": "@jupyter-widgets/controls",
          "model_name": "HTMLModel",
          "state": {
            "_dom_classes": [],
            "_model_module": "@jupyter-widgets/controls",
            "_model_module_version": "1.5.0",
            "_model_name": "HTMLModel",
            "_view_count": null,
            "_view_module": "@jupyter-widgets/controls",
            "_view_module_version": "1.5.0",
            "_view_name": "HTMLView",
            "description": "",
            "description_tooltip": null,
            "layout": "IPY_MODEL_64af2b1180a74449a901a8b970758787",
            "placeholder": "​",
            "style": "IPY_MODEL_ba7494cb160f4dc98266d93dd65f23c7",
            "value": " 24422/24422 [39:08&lt;00:00, 10.40it/s]"
          }
        },
        "4b169e0650374821981260224d16be69": {
          "model_module": "@jupyter-widgets/base",
          "model_name": "LayoutModel",
          "state": {
            "_model_module": "@jupyter-widgets/base",
            "_model_module_version": "1.2.0",
            "_model_name": "LayoutModel",
            "_view_count": null,
            "_view_module": "@jupyter-widgets/base",
            "_view_module_version": "1.2.0",
            "_view_name": "LayoutView",
            "align_content": null,
            "align_items": null,
            "align_self": null,
            "border": null,
            "bottom": null,
            "display": null,
            "flex": null,
            "flex_flow": null,
            "grid_area": null,
            "grid_auto_columns": null,
            "grid_auto_flow": null,
            "grid_auto_rows": null,
            "grid_column": null,
            "grid_gap": null,
            "grid_row": null,
            "grid_template_areas": null,
            "grid_template_columns": null,
            "grid_template_rows": null,
            "height": null,
            "justify_content": null,
            "justify_items": null,
            "left": null,
            "margin": null,
            "max_height": null,
            "max_width": null,
            "min_height": null,
            "min_width": null,
            "object_fit": null,
            "object_position": null,
            "order": null,
            "overflow": null,
            "overflow_x": null,
            "overflow_y": null,
            "padding": null,
            "right": null,
            "top": null,
            "visibility": null,
            "width": null
          }
        },
        "cb2f4506a88244b6bda127b0bdb1369a": {
          "model_module": "@jupyter-widgets/base",
          "model_name": "LayoutModel",
          "state": {
            "_model_module": "@jupyter-widgets/base",
            "_model_module_version": "1.2.0",
            "_model_name": "LayoutModel",
            "_view_count": null,
            "_view_module": "@jupyter-widgets/base",
            "_view_module_version": "1.2.0",
            "_view_name": "LayoutView",
            "align_content": null,
            "align_items": null,
            "align_self": null,
            "border": null,
            "bottom": null,
            "display": null,
            "flex": null,
            "flex_flow": null,
            "grid_area": null,
            "grid_auto_columns": null,
            "grid_auto_flow": null,
            "grid_auto_rows": null,
            "grid_column": null,
            "grid_gap": null,
            "grid_row": null,
            "grid_template_areas": null,
            "grid_template_columns": null,
            "grid_template_rows": null,
            "height": null,
            "justify_content": null,
            "justify_items": null,
            "left": null,
            "margin": null,
            "max_height": null,
            "max_width": null,
            "min_height": null,
            "min_width": null,
            "object_fit": null,
            "object_position": null,
            "order": null,
            "overflow": null,
            "overflow_x": null,
            "overflow_y": null,
            "padding": null,
            "right": null,
            "top": null,
            "visibility": null,
            "width": null
          }
        },
        "aad815c4df814b12898cdad3228fd3ff": {
          "model_module": "@jupyter-widgets/controls",
          "model_name": "ProgressStyleModel",
          "state": {
            "_model_module": "@jupyter-widgets/controls",
            "_model_module_version": "1.5.0",
            "_model_name": "ProgressStyleModel",
            "_view_count": null,
            "_view_module": "@jupyter-widgets/base",
            "_view_module_version": "1.2.0",
            "_view_name": "StyleView",
            "bar_color": null,
            "description_width": "initial"
          }
        },
        "64af2b1180a74449a901a8b970758787": {
          "model_module": "@jupyter-widgets/base",
          "model_name": "LayoutModel",
          "state": {
            "_model_module": "@jupyter-widgets/base",
            "_model_module_version": "1.2.0",
            "_model_name": "LayoutModel",
            "_view_count": null,
            "_view_module": "@jupyter-widgets/base",
            "_view_module_version": "1.2.0",
            "_view_name": "LayoutView",
            "align_content": null,
            "align_items": null,
            "align_self": null,
            "border": null,
            "bottom": null,
            "display": null,
            "flex": null,
            "flex_flow": null,
            "grid_area": null,
            "grid_auto_columns": null,
            "grid_auto_flow": null,
            "grid_auto_rows": null,
            "grid_column": null,
            "grid_gap": null,
            "grid_row": null,
            "grid_template_areas": null,
            "grid_template_columns": null,
            "grid_template_rows": null,
            "height": null,
            "justify_content": null,
            "justify_items": null,
            "left": null,
            "margin": null,
            "max_height": null,
            "max_width": null,
            "min_height": null,
            "min_width": null,
            "object_fit": null,
            "object_position": null,
            "order": null,
            "overflow": null,
            "overflow_x": null,
            "overflow_y": null,
            "padding": null,
            "right": null,
            "top": null,
            "visibility": null,
            "width": null
          }
        },
        "ba7494cb160f4dc98266d93dd65f23c7": {
          "model_module": "@jupyter-widgets/controls",
          "model_name": "DescriptionStyleModel",
          "state": {
            "_model_module": "@jupyter-widgets/controls",
            "_model_module_version": "1.5.0",
            "_model_name": "DescriptionStyleModel",
            "_view_count": null,
            "_view_module": "@jupyter-widgets/base",
            "_view_module_version": "1.2.0",
            "_view_name": "StyleView",
            "description_width": ""
          }
        }
      }
    }
  },
  "cells": [
    {
      "cell_type": "markdown",
      "metadata": {
        "id": "view-in-github",
        "colab_type": "text"
      },
      "source": [
        "<a href=\"https://colab.research.google.com/github/awadell1/MLOnAGooseberryBush/blob/master/src/LSTM_cleaned.ipynb\" target=\"_parent\"><img src=\"https://colab.research.google.com/assets/colab-badge.svg\" alt=\"Open In Colab\"/></a>"
      ]
    },
    {
      "cell_type": "code",
      "metadata": {
        "colab": {
          "base_uri": "https://localhost:8080/"
        },
        "id": "QWaRJgGHuwXA",
        "outputId": "f360fcdb-509d-48b2-83a4-df20d014f2b4"
      },
      "source": [
        "from google.colab import drive\n",
        "drive.mount('/content/drive')"
      ],
      "execution_count": null,
      "outputs": [
        {
          "output_type": "stream",
          "text": [
            "Mounted at /content/drive\n"
          ],
          "name": "stdout"
        }
      ]
    },
    {
      "cell_type": "code",
      "metadata": {
        "id": "zbcNIsTIifxh"
      },
      "source": [
        "import numpy as np\n",
        "import tensorflow as tf\n",
        "from tensorflow import keras\n",
        "from keras.models import Model\n",
        "from keras.layers import Dense, Input, Dropout, LSTM, Activation, Bidirectional\n",
        "from keras.layers.embeddings import Embedding\n",
        "from keras.preprocessing.text import text_to_word_sequence\n",
        "from tqdm.notebook import tqdm\n",
        "import pandas as pd\n",
        "from tensorflow.keras.preprocessing.sequence import pad_sequences\n",
        "SEED = 42 #setting the seed for reproducebility\n",
        "AUTOTUNE = tf.data.experimental.AUTOTUNE #currently not entirely sure what this can do"
      ],
      "execution_count": null,
      "outputs": []
    },
    {
      "cell_type": "code",
      "metadata": {
        "colab": {
          "base_uri": "https://localhost:8080/"
        },
        "id": "xWNiYc06qXaM",
        "outputId": "59f3c713-e959-49e4-b3db-c3302b1851e3"
      },
      "source": [
        "import sys, os\n",
        "nb_path = '/content/notebooks'\n",
        "os.symlink('/content/drive/My Drive/Colab Notebooks', nb_path)\n",
        "sys.path.insert(0,nb_path)\n",
        "!pip install --target=$nb_path aion\n"
      ],
      "execution_count": null,
      "outputs": [
        {
          "output_type": "stream",
          "text": [
            "Collecting aion\n",
            "  Downloading https://files.pythonhosted.org/packages/a9/57/65514627a8e21f8471e49ecc57011ec83e5a6e086b99687f459b99886b89/Aion-0.1.tar.gz\n",
            "Building wheels for collected packages: aion\n",
            "  Building wheel for aion (setup.py) ... \u001b[?25l\u001b[?25hdone\n",
            "  Created wheel for aion: filename=Aion-0.1-cp36-none-any.whl size=942 sha256=b0ceb37e6c6b5e8a43efad7a6bfe08af710d47c56289fdd27304f8299294a71c\n",
            "  Stored in directory: /root/.cache/pip/wheels/07/57/2b/8d23b69d0bfbba62ef07de99bcccdad45ee152aed5792978eb\n",
            "Successfully built aion\n",
            "Installing collected packages: aion\n",
            "Successfully installed aion-0.1\n",
            "\u001b[33mWARNING: Target directory /content/notebooks/Aion-0.1.dist-info already exists. Specify --upgrade to force replacement.\u001b[0m\n"
          ],
          "name": "stdout"
        }
      ]
    },
    {
      "cell_type": "code",
      "metadata": {
        "colab": {
          "base_uri": "https://localhost:8080/"
        },
        "id": "DF5bz2fCqa-O",
        "outputId": "ec9b9a6b-d7b5-4531-fe21-61b7a4c26f3e"
      },
      "source": [
        "!pip install symspellpy"
      ],
      "execution_count": null,
      "outputs": [
        {
          "output_type": "stream",
          "text": [
            "Collecting symspellpy\n",
            "\u001b[?25l  Downloading https://files.pythonhosted.org/packages/99/af/e71fcca6a42b6a63f518b0c1627e1f67822815cb0cf71e6af05acbd75c78/symspellpy-6.7.0-py3-none-any.whl (2.6MB)\n",
            "\u001b[K     |████████████████████████████████| 2.6MB 13.6MB/s \n",
            "\u001b[?25hRequirement already satisfied: numpy>=1.13.1 in /usr/local/lib/python3.6/dist-packages (from symspellpy) (1.18.5)\n",
            "Installing collected packages: symspellpy\n",
            "Successfully installed symspellpy-6.7.0\n"
          ],
          "name": "stdout"
        }
      ]
    },
    {
      "cell_type": "code",
      "metadata": {
        "id": "dlele3HBqcac"
      },
      "source": [
        "word_df = pd.read_csv('/content/drive/MyDrive/24787 Group Project  /Data/for_final_submission/word_counts_newest.csv',index_col='Unnamed: 0')\n",
        "appears_more_than_once=word_df[word_df['0']>1]\n",
        "dict_appears_more_than_once=appears_more_than_once.to_dict()['0']\n",
        "appears_more_than_once=appears_more_than_once.astype(np.int64)"
      ],
      "execution_count": null,
      "outputs": []
    },
    {
      "cell_type": "code",
      "metadata": {
        "colab": {
          "base_uri": "https://localhost:8080/",
          "height": 66,
          "referenced_widgets": [
            "7833090969cf4f2d90e2d983825ceadd",
            "017720f451e94a9082933696381ec13c",
            "b9380b82090a4baf9c2dad41c44f5e41",
            "f3f2773c07c94b84aa696de7439d6b41",
            "1e68ce46aa1c44b9b5caee391d4ea59a",
            "c933eca591744056b0b6188c642308fb",
            "07e53799e26b445baa65f0b6bd049b73",
            "76b11b5abc55474592d7827d85e282d8"
          ]
        },
        "id": "Qsu1ljJQqeSR",
        "outputId": "219cc062-2596-46f7-8b5b-6128e6d89dee"
      },
      "source": [
        "from collections import Counter\n",
        "from aion.util.spell_check import SpellCorrector\n",
        "#make the correction results more accessible\n",
        "corpus=Counter(dict_appears_more_than_once)\n",
        "spell_corrector = SpellCorrector(dictionary=corpus)\n",
        "appears_once=word_df[word_df['0']<=1]\n",
        "appears_once=appears_once.astype(np.int64).reset_index()[['index']]\n",
        "appears_once.columns=['original']\n",
        "def correction(word):\n",
        "  return spell_corrector.correction(word)\n",
        "tqdm.pandas()\n",
        "appears_once['corrected'] = appears_once['original'].progress_apply(lambda x: correction(x))"
      ],
      "execution_count": null,
      "outputs": [
        {
          "output_type": "display_data",
          "data": {
            "application/vnd.jupyter.widget-view+json": {
              "model_id": "7833090969cf4f2d90e2d983825ceadd",
              "version_major": 2,
              "version_minor": 0
            },
            "text/plain": [
              "HBox(children=(FloatProgress(value=0.0, max=11798.0), HTML(value='')))"
            ]
          },
          "metadata": {
            "tags": []
          }
        },
        {
          "output_type": "stream",
          "text": [
            "\n"
          ],
          "name": "stdout"
        }
      ]
    },
    {
      "cell_type": "code",
      "metadata": {
        "id": "VPBrRPEbqgES"
      },
      "source": [
        "corrected_ls=list(appears_once.to_dict()['corrected'].values())\n",
        "orig_ls=list(appears_once.to_dict()['original'].values())\n",
        "fix_box=dict(zip(orig_ls,corrected_ls))"
      ],
      "execution_count": null,
      "outputs": []
    },
    {
      "cell_type": "code",
      "metadata": {
        "id": "HzmYeqI58EQj"
      },
      "source": [
        "# sentence=sentence_printout(path='/content/drive/MyDrive/24787 Group Project  /Data/for_final_submission/review_cleaned.txt')\n",
        "# raw_df=pd.read_csv('/content/drive/MyDrive/24787 Group Project  /Data/winemag-data-130k-v2.csv',index_col=0)\n",
        "# raw_label=raw_df[['points']]\n",
        "raw_df=pd.read_csv('/content/drive/MyDrive/24787 Group Project  /Data/winemag-data-130k-v2.csv',index_col=0)\n",
        "raw_data=raw_df[['description']]\n",
        "raw_label=raw_df[['points']]"
      ],
      "execution_count": null,
      "outputs": []
    },
    {
      "cell_type": "code",
      "metadata": {
        "id": "w974nGeRqhuK"
      },
      "source": [
        "def review_cleanup(revised_dict,x):\n",
        "  review_ls=text_to_word_sequence(x[0],filters='­­\"…–â€˜‘’—!#$%&()*+,-./:;<=>?@[\\\\]^_`{|}~\\t\\n\\r“”')\n",
        "  revised=[revised_dict.get(word,word) for word in review_ls]\n",
        "  return revised"
      ],
      "execution_count": null,
      "outputs": []
    },
    {
      "cell_type": "code",
      "metadata": {
        "colab": {
          "base_uri": "https://localhost:8080/",
          "height": 188,
          "referenced_widgets": [
            "685149ac73cd4b05ab1739c0609bcf4f",
            "b0294f9215ab42968e323dd25163dc43",
            "5b2ba7567b32414d8923f5b60b2449ac",
            "498397827daf49019c36834d9a8f363b",
            "ada921cb3d3949369cc7ae5d469fe343",
            "fca10a9442184692b9dbe6378b594e24",
            "6e7981ccc5464316a7c3f7c42d8fed12",
            "7da50d29f58d47a0800891c7b21a552b"
          ]
        },
        "id": "GfMqsazsqjkS",
        "outputId": "8287731f-d293-4f57-df61-ac79000417e9"
      },
      "source": [
        "raw_data['corrected_once']=raw_data.progress_apply(lambda x: review_cleanup(fix_box,x),axis=1)"
      ],
      "execution_count": null,
      "outputs": [
        {
          "output_type": "display_data",
          "data": {
            "application/vnd.jupyter.widget-view+json": {
              "model_id": "685149ac73cd4b05ab1739c0609bcf4f",
              "version_major": 2,
              "version_minor": 0
            },
            "text/plain": [
              "HBox(children=(FloatProgress(value=0.0, max=129971.0), HTML(value='')))"
            ]
          },
          "metadata": {
            "tags": []
          }
        },
        {
          "output_type": "stream",
          "text": [
            "\n"
          ],
          "name": "stdout"
        },
        {
          "output_type": "stream",
          "text": [
            "/usr/local/lib/python3.6/dist-packages/ipykernel_launcher.py:1: SettingWithCopyWarning: \n",
            "A value is trying to be set on a copy of a slice from a DataFrame.\n",
            "Try using .loc[row_indexer,col_indexer] = value instead\n",
            "\n",
            "See the caveats in the documentation: https://pandas.pydata.org/pandas-docs/stable/user_guide/indexing.html#returning-a-view-versus-a-copy\n",
            "  \"\"\"Entry point for launching an IPython kernel.\n"
          ],
          "name": "stderr"
        }
      ]
    },
    {
      "cell_type": "code",
      "metadata": {
        "colab": {
          "base_uri": "https://localhost:8080/",
          "height": 177
        },
        "id": "24aH5AvDuZ-V",
        "outputId": "1d7445cc-e45c-442c-9fe7-071429f6277c"
      },
      "source": [
        "save_path='/content/drive/MyDrive/24787 Group Project  /Data/for_final_submission/vectors100_cleaned.tsv'\n",
        "word2vec_map = pd.read_csv(save_path,sep='\\t',header=None)\n",
        "print(word2vec_map.shape)\n",
        "word2vec_map.head(2)"
      ],
      "execution_count": null,
      "outputs": [
        {
          "output_type": "stream",
          "text": [
            "(24421, 100)\n"
          ],
          "name": "stdout"
        },
        {
          "output_type": "execute_result",
          "data": {
            "text/html": [
              "<div>\n",
              "<style scoped>\n",
              "    .dataframe tbody tr th:only-of-type {\n",
              "        vertical-align: middle;\n",
              "    }\n",
              "\n",
              "    .dataframe tbody tr th {\n",
              "        vertical-align: top;\n",
              "    }\n",
              "\n",
              "    .dataframe thead th {\n",
              "        text-align: right;\n",
              "    }\n",
              "</style>\n",
              "<table border=\"1\" class=\"dataframe\">\n",
              "  <thead>\n",
              "    <tr style=\"text-align: right;\">\n",
              "      <th></th>\n",
              "      <th>0</th>\n",
              "      <th>1</th>\n",
              "      <th>2</th>\n",
              "      <th>3</th>\n",
              "      <th>4</th>\n",
              "      <th>5</th>\n",
              "      <th>6</th>\n",
              "      <th>7</th>\n",
              "      <th>8</th>\n",
              "      <th>9</th>\n",
              "      <th>10</th>\n",
              "      <th>11</th>\n",
              "      <th>12</th>\n",
              "      <th>13</th>\n",
              "      <th>14</th>\n",
              "      <th>15</th>\n",
              "      <th>16</th>\n",
              "      <th>17</th>\n",
              "      <th>18</th>\n",
              "      <th>19</th>\n",
              "      <th>20</th>\n",
              "      <th>21</th>\n",
              "      <th>22</th>\n",
              "      <th>23</th>\n",
              "      <th>24</th>\n",
              "      <th>25</th>\n",
              "      <th>26</th>\n",
              "      <th>27</th>\n",
              "      <th>28</th>\n",
              "      <th>29</th>\n",
              "      <th>30</th>\n",
              "      <th>31</th>\n",
              "      <th>32</th>\n",
              "      <th>33</th>\n",
              "      <th>34</th>\n",
              "      <th>35</th>\n",
              "      <th>36</th>\n",
              "      <th>37</th>\n",
              "      <th>38</th>\n",
              "      <th>39</th>\n",
              "      <th>...</th>\n",
              "      <th>60</th>\n",
              "      <th>61</th>\n",
              "      <th>62</th>\n",
              "      <th>63</th>\n",
              "      <th>64</th>\n",
              "      <th>65</th>\n",
              "      <th>66</th>\n",
              "      <th>67</th>\n",
              "      <th>68</th>\n",
              "      <th>69</th>\n",
              "      <th>70</th>\n",
              "      <th>71</th>\n",
              "      <th>72</th>\n",
              "      <th>73</th>\n",
              "      <th>74</th>\n",
              "      <th>75</th>\n",
              "      <th>76</th>\n",
              "      <th>77</th>\n",
              "      <th>78</th>\n",
              "      <th>79</th>\n",
              "      <th>80</th>\n",
              "      <th>81</th>\n",
              "      <th>82</th>\n",
              "      <th>83</th>\n",
              "      <th>84</th>\n",
              "      <th>85</th>\n",
              "      <th>86</th>\n",
              "      <th>87</th>\n",
              "      <th>88</th>\n",
              "      <th>89</th>\n",
              "      <th>90</th>\n",
              "      <th>91</th>\n",
              "      <th>92</th>\n",
              "      <th>93</th>\n",
              "      <th>94</th>\n",
              "      <th>95</th>\n",
              "      <th>96</th>\n",
              "      <th>97</th>\n",
              "      <th>98</th>\n",
              "      <th>99</th>\n",
              "    </tr>\n",
              "  </thead>\n",
              "  <tbody>\n",
              "    <tr>\n",
              "      <th>0</th>\n",
              "      <td>-0.173625</td>\n",
              "      <td>-0.044444</td>\n",
              "      <td>0.113342</td>\n",
              "      <td>0.083261</td>\n",
              "      <td>-0.060938</td>\n",
              "      <td>-0.132793</td>\n",
              "      <td>0.328555</td>\n",
              "      <td>0.224562</td>\n",
              "      <td>0.185575</td>\n",
              "      <td>-0.161447</td>\n",
              "      <td>0.228990</td>\n",
              "      <td>0.165603</td>\n",
              "      <td>-0.005079</td>\n",
              "      <td>0.304789</td>\n",
              "      <td>0.265582</td>\n",
              "      <td>0.501026</td>\n",
              "      <td>-0.119153</td>\n",
              "      <td>0.074965</td>\n",
              "      <td>0.249299</td>\n",
              "      <td>-0.024614</td>\n",
              "      <td>-0.111520</td>\n",
              "      <td>0.016991</td>\n",
              "      <td>0.143916</td>\n",
              "      <td>-0.038430</td>\n",
              "      <td>-0.046623</td>\n",
              "      <td>0.265628</td>\n",
              "      <td>0.312073</td>\n",
              "      <td>0.01483</td>\n",
              "      <td>-0.174740</td>\n",
              "      <td>0.200961</td>\n",
              "      <td>-0.185053</td>\n",
              "      <td>-0.179840</td>\n",
              "      <td>-0.105220</td>\n",
              "      <td>-0.306932</td>\n",
              "      <td>0.099202</td>\n",
              "      <td>0.062982</td>\n",
              "      <td>0.12285</td>\n",
              "      <td>-0.111038</td>\n",
              "      <td>0.162552</td>\n",
              "      <td>0.176298</td>\n",
              "      <td>...</td>\n",
              "      <td>0.126548</td>\n",
              "      <td>0.117353</td>\n",
              "      <td>-0.211523</td>\n",
              "      <td>-0.150847</td>\n",
              "      <td>-0.281774</td>\n",
              "      <td>0.004737</td>\n",
              "      <td>-0.070999</td>\n",
              "      <td>0.263961</td>\n",
              "      <td>0.068182</td>\n",
              "      <td>-0.113628</td>\n",
              "      <td>0.159668</td>\n",
              "      <td>-0.199827</td>\n",
              "      <td>-0.104189</td>\n",
              "      <td>-0.080333</td>\n",
              "      <td>0.163228</td>\n",
              "      <td>-0.552201</td>\n",
              "      <td>0.160589</td>\n",
              "      <td>-0.095748</td>\n",
              "      <td>-0.288310</td>\n",
              "      <td>0.134207</td>\n",
              "      <td>-0.053729</td>\n",
              "      <td>0.315701</td>\n",
              "      <td>0.150047</td>\n",
              "      <td>0.205081</td>\n",
              "      <td>0.087938</td>\n",
              "      <td>-0.296919</td>\n",
              "      <td>0.103946</td>\n",
              "      <td>-0.096799</td>\n",
              "      <td>0.398342</td>\n",
              "      <td>-0.306436</td>\n",
              "      <td>0.311119</td>\n",
              "      <td>-0.080264</td>\n",
              "      <td>-0.274337</td>\n",
              "      <td>0.501867</td>\n",
              "      <td>-0.194469</td>\n",
              "      <td>-0.003606</td>\n",
              "      <td>-0.163824</td>\n",
              "      <td>0.150878</td>\n",
              "      <td>-0.224293</td>\n",
              "      <td>0.223331</td>\n",
              "    </tr>\n",
              "    <tr>\n",
              "      <th>1</th>\n",
              "      <td>-0.257154</td>\n",
              "      <td>-0.363296</td>\n",
              "      <td>0.020309</td>\n",
              "      <td>-0.499152</td>\n",
              "      <td>0.189040</td>\n",
              "      <td>-0.371158</td>\n",
              "      <td>-0.573646</td>\n",
              "      <td>0.401893</td>\n",
              "      <td>0.218572</td>\n",
              "      <td>-0.122283</td>\n",
              "      <td>-0.148845</td>\n",
              "      <td>0.106698</td>\n",
              "      <td>0.288068</td>\n",
              "      <td>-0.026458</td>\n",
              "      <td>-0.341448</td>\n",
              "      <td>0.439929</td>\n",
              "      <td>0.211149</td>\n",
              "      <td>-0.121051</td>\n",
              "      <td>-0.047289</td>\n",
              "      <td>0.362859</td>\n",
              "      <td>-0.040821</td>\n",
              "      <td>-0.004571</td>\n",
              "      <td>-0.202173</td>\n",
              "      <td>-0.350804</td>\n",
              "      <td>0.290275</td>\n",
              "      <td>0.033538</td>\n",
              "      <td>0.206428</td>\n",
              "      <td>0.53440</td>\n",
              "      <td>-0.231279</td>\n",
              "      <td>-0.263137</td>\n",
              "      <td>-0.338335</td>\n",
              "      <td>0.222076</td>\n",
              "      <td>-0.065504</td>\n",
              "      <td>0.233159</td>\n",
              "      <td>0.056918</td>\n",
              "      <td>-0.477155</td>\n",
              "      <td>0.03380</td>\n",
              "      <td>-0.363502</td>\n",
              "      <td>0.201924</td>\n",
              "      <td>0.407232</td>\n",
              "      <td>...</td>\n",
              "      <td>-0.189471</td>\n",
              "      <td>-0.186601</td>\n",
              "      <td>0.205003</td>\n",
              "      <td>-0.259861</td>\n",
              "      <td>0.434576</td>\n",
              "      <td>0.563895</td>\n",
              "      <td>0.254541</td>\n",
              "      <td>-0.000926</td>\n",
              "      <td>-0.119696</td>\n",
              "      <td>-0.344114</td>\n",
              "      <td>-0.356312</td>\n",
              "      <td>-0.849274</td>\n",
              "      <td>-0.449690</td>\n",
              "      <td>-0.568843</td>\n",
              "      <td>-0.186584</td>\n",
              "      <td>-0.215586</td>\n",
              "      <td>0.317289</td>\n",
              "      <td>0.548595</td>\n",
              "      <td>0.634312</td>\n",
              "      <td>0.050545</td>\n",
              "      <td>-0.054913</td>\n",
              "      <td>-0.022056</td>\n",
              "      <td>0.039310</td>\n",
              "      <td>-0.193269</td>\n",
              "      <td>0.528237</td>\n",
              "      <td>-0.581558</td>\n",
              "      <td>-0.074250</td>\n",
              "      <td>-0.302481</td>\n",
              "      <td>-0.007905</td>\n",
              "      <td>-0.248025</td>\n",
              "      <td>-0.196104</td>\n",
              "      <td>-0.541709</td>\n",
              "      <td>-0.118898</td>\n",
              "      <td>0.582164</td>\n",
              "      <td>-0.338514</td>\n",
              "      <td>0.133960</td>\n",
              "      <td>0.490275</td>\n",
              "      <td>0.145898</td>\n",
              "      <td>-0.246337</td>\n",
              "      <td>-0.062087</td>\n",
              "    </tr>\n",
              "  </tbody>\n",
              "</table>\n",
              "<p>2 rows × 100 columns</p>\n",
              "</div>"
            ],
            "text/plain": [
              "         0         1         2   ...        97        98        99\n",
              "0 -0.173625 -0.044444  0.113342  ...  0.150878 -0.224293  0.223331\n",
              "1 -0.257154 -0.363296  0.020309  ...  0.145898 -0.246337 -0.062087\n",
              "\n",
              "[2 rows x 100 columns]"
            ]
          },
          "metadata": {
            "tags": []
          },
          "execution_count": 74
        }
      ]
    },
    {
      "cell_type": "code",
      "metadata": {
        "id": "8_XSWahxTdOQ"
      },
      "source": [
        "def sentence_printout(path):\n",
        "    #just to demonstrate the txt file (the first ten sentence)\n",
        "    sentence=[]\n",
        "    with open(path) as f: \n",
        "        lines = f.read().splitlines()\n",
        "    sentence = []\n",
        "    for line in lines:\n",
        "        filter(None, line.split('\\t'))\n",
        "        sentence.append(list(filter(None, line.split('\\t'))))\n",
        "    f.close()\n",
        "    return sentence"
      ],
      "execution_count": null,
      "outputs": []
    },
    {
      "cell_type": "code",
      "metadata": {
        "id": "EApRBv6dByND"
      },
      "source": [
        "I2W_df=pd.read_csv('/content/drive/My Drive/24787 Group Project  /Data/for_final_submission/Dictionary_cleaned.csv')\n",
        "\n",
        "I2W=I2W_df.to_dict(orient='dict')['Vocab']\n",
        "I2W[0] = ''\n",
        "W2I = {v: k for k, v in I2W.items()}"
      ],
      "execution_count": null,
      "outputs": []
    },
    {
      "cell_type": "code",
      "metadata": {
        "id": "N0Q1lNXBwre3"
      },
      "source": [
        "def sentence_to_indices(data,w2ind):\n",
        "    sentences_num=[]\n",
        "    for row in tqdm(data):\n",
        "        temp_mem=[w2ind[word] for word in row]\n",
        "        sentences_num.append(temp_mem)\n",
        "    return sentences_num"
      ],
      "execution_count": null,
      "outputs": []
    },
    {
      "cell_type": "code",
      "metadata": {
        "colab": {
          "base_uri": "https://localhost:8080/",
          "height": 66,
          "referenced_widgets": [
            "e4913b074b1c45468d9fc8e1a5cfda62",
            "db17bcf7877e4d7a90f345f44360010d",
            "0d2b4e85b6f6484195cd7e3b6ed92fbe",
            "2c3ed6fadfb549999d7990584ac64083",
            "afbec1b88dbe4b278dbb1da72dc43174",
            "28c2954d40cf4432badb021e92afbe5f",
            "e9e75bb2480f44b794c4314d2bf3ae24",
            "e7f6be8413714ee183d114ac5b2116f4"
          ]
        },
        "id": "XzR-OrPyw2Np",
        "outputId": "83d1cbcf-d32b-49c9-c300-cfd985426ed0"
      },
      "source": [
        "# sentences_num = sentence_to_indices(data=sentence,w2ind=W2I)\n",
        "sentences_num = sentence_to_indices(data=raw_data['corrected_once'],w2ind=W2I)"
      ],
      "execution_count": null,
      "outputs": [
        {
          "output_type": "display_data",
          "data": {
            "application/vnd.jupyter.widget-view+json": {
              "model_id": "e4913b074b1c45468d9fc8e1a5cfda62",
              "version_major": 2,
              "version_minor": 0
            },
            "text/plain": [
              "HBox(children=(FloatProgress(value=0.0, max=129971.0), HTML(value='')))"
            ]
          },
          "metadata": {
            "tags": []
          }
        },
        {
          "output_type": "stream",
          "text": [
            "\n"
          ],
          "name": "stdout"
        }
      ]
    },
    {
      "cell_type": "code",
      "metadata": {
        "colab": {
          "base_uri": "https://localhost:8080/"
        },
        "id": "oqJZEHxdC2gg",
        "outputId": "de4a98a8-d348-4d0e-ff80-be066832f5b9"
      },
      "source": [
        "for seq in sentences_num[:2]:\n",
        "  print(f\"{seq} \\n => \\n {[I2W[i] for i in seq]}\")"
      ],
      "execution_count": null,
      "outputs": [
        {
          "output_type": "stream",
          "text": [
            "[15, 874, 202, 13, 1981, 3598, 1, 88, 105, 2, 16, 909, 1031, 928, 308, 13741, 48, 60, 1, 88, 421, 142, 360, 18] \n",
            " => \n",
            " ['aromas', 'include', 'tropical', 'fruit', 'broom', 'brimstone', 'and', 'dried', 'herb', 'the', 'palate', \"isn't\", 'overly', 'expressive', 'offering', 'unripened', 'apple', 'citrus', 'and', 'dried', 'sage', 'alongside', 'brisk', 'acidity']\n",
            "[6, 7, 27, 1, 75, 3, 8, 17, 7, 99, 61, 123, 144, 78, 22, 28, 1063, 90, 5, 72, 30, 43, 49, 1, 3745, 5, 18, 24, 379, 702, 291, 12, 87, 684, 96, 439, 20, 340] \n",
            " => \n",
            " ['this', 'is', 'ripe', 'and', 'fruity', 'a', 'wine', 'that', 'is', 'smooth', 'while', 'still', 'structured', 'firm', 'tannins', 'are', 'filled', 'out', 'with', 'juicy', 'red', 'berry', 'fruits', 'and', 'freshened', 'with', 'acidity', \"it's\", 'already', 'drinkable', 'although', 'it', 'will', 'certainly', 'be', 'better', 'from', '2016']\n"
          ],
          "name": "stdout"
        }
      ]
    },
    {
      "cell_type": "code",
      "metadata": {
        "id": "dXDD2wmXb3-b"
      },
      "source": [
        "reviews_num = sentences_num\n",
        "max_review_length = max([len(seq) for seq in reviews_num])\n",
        "input_sequences = np.array(pad_sequences(reviews_num, maxlen=max_review_length, padding='pre'))"
      ],
      "execution_count": null,
      "outputs": []
    },
    {
      "cell_type": "code",
      "metadata": {
        "colab": {
          "base_uri": "https://localhost:8080/"
        },
        "id": "lNILKkSFYaIk",
        "outputId": "5372b986-21aa-4c07-e0c2-225aee415ec0"
      },
      "source": [
        "for seq in input_sequences[:1]:\n",
        "  print(f\"{seq} \\n => \\n {[I2W[i] for i in seq]}\")"
      ],
      "execution_count": null,
      "outputs": [
        {
          "output_type": "stream",
          "text": [
            "[    0     0     0     0     0     0     0     0     0     0     0     0\n",
            "     0     0     0     0     0     0     0     0     0     0     0     0\n",
            "     0     0     0     0     0     0     0     0     0     0     0     0\n",
            "     0     0     0     0     0     0     0     0     0     0     0     0\n",
            "     0     0     0     0     0     0     0     0     0     0     0     0\n",
            "     0     0     0     0     0     0     0     0     0     0     0     0\n",
            "     0     0     0     0     0     0     0     0     0     0     0     0\n",
            "     0     0     0     0     0     0     0     0     0     0     0     0\n",
            "     0     0     0     0     0     0     0     0     0     0     0     0\n",
            "     0     0     0     0    15   874   202    13  1981  3598     1    88\n",
            "   105     2    16   909  1031   928   308 13741    48    60     1    88\n",
            "   421   142   360    18] \n",
            " => \n",
            " ['', '', '', '', '', '', '', '', '', '', '', '', '', '', '', '', '', '', '', '', '', '', '', '', '', '', '', '', '', '', '', '', '', '', '', '', '', '', '', '', '', '', '', '', '', '', '', '', '', '', '', '', '', '', '', '', '', '', '', '', '', '', '', '', '', '', '', '', '', '', '', '', '', '', '', '', '', '', '', '', '', '', '', '', '', '', '', '', '', '', '', '', '', '', '', '', '', '', '', '', '', '', '', '', '', '', '', '', '', '', '', '', 'aromas', 'include', 'tropical', 'fruit', 'broom', 'brimstone', 'and', 'dried', 'herb', 'the', 'palate', \"isn't\", 'overly', 'expressive', 'offering', 'unripened', 'apple', 'citrus', 'and', 'dried', 'sage', 'alongside', 'brisk', 'acidity']\n"
          ],
          "name": "stdout"
        }
      ]
    },
    {
      "cell_type": "code",
      "metadata": {
        "colab": {
          "base_uri": "https://localhost:8080/"
        },
        "id": "p9G439Y9U3Mo",
        "outputId": "26baacd4-d5d4-4808-f848-2d8f29d56868"
      },
      "source": [
        "input_sequences.shape"
      ],
      "execution_count": null,
      "outputs": [
        {
          "output_type": "execute_result",
          "data": {
            "text/plain": [
              "(129971, 136)"
            ]
          },
          "metadata": {
            "tags": []
          },
          "execution_count": 82
        }
      ]
    },
    {
      "cell_type": "code",
      "metadata": {
        "id": "eMn8iib4Ux99"
      },
      "source": [
        "#for some reason the input_sequences have a shape of 129973\n",
        "#while the total example number is 129971\n",
        "#i will randomly drop 2 input sequences since the fraction is very low\n",
        "targ_ind = np.arange(input_sequences.shape[0])\n",
        "np.random.shuffle(targ_ind)\n",
        "input_sequences=input_sequences[targ_ind[2:]]"
      ],
      "execution_count": null,
      "outputs": []
    },
    {
      "cell_type": "code",
      "metadata": {
        "id": "ORHxzs3ku7zf"
      },
      "source": [
        "def pretrained_embedding_layer(word_to_vec_map, index_to_word):\n",
        "    \"\"\"\n",
        "    Creates a Keras Embedding() layer\n",
        "    \n",
        "    Arguments:\n",
        "    word_to_vec_map -- dictionary mapping words to their GloVe vector representation.\n",
        "    word_to_index -- dictionary mapping from words to their indices in the vocabulary (400,001 words)\n",
        "\n",
        "    Returns:\n",
        "    embedding_layer -- pretrained layer Keras instance\n",
        "    \"\"\"\n",
        "    \n",
        "    vocab_len = len(index_to_word)+1                  # adding 1 to fit Keras embedding (requirement)\n",
        "    emb_dim = word_to_vec_map.shape[1]      # define dimensionality of your word vectors (= 256)\n",
        "    \n",
        "    ### START CODE HERE ###\n",
        "    # Initialize the embedding matrix as a numpy array of zeros of shape (vocab_len, dimensions of word vectors = emb_dim)\n",
        "    emb_matrix = np.zeros((vocab_len,emb_dim))\n",
        "    \n",
        "    # Set each row \"index\" of the embedding matrix to be the word vector representation of the \"index\"th word of the vocabulary\n",
        "    for index, word in tqdm(index_to_word.items()): #skip the first item \"<padding>\"\n",
        "        emb_matrix[index,:]=word_to_vec_map.iloc[index-1]\n",
        "      # word_check = dict_pre.get(word)\n",
        "      # if word_check is not None:\n",
        "      #     emb_matrix[index,:] = word_to_vec_map[word].to_numpy().reshape(emb_dim,)\n",
        "      # else:\n",
        "          \n",
        "      #     emb_matrix[index,:] = average_average_calculator(index, word_to_vec_map,sequence,dict_pre)\n",
        "\n",
        "    # Define Keras embedding layer with the correct output/input sizes, make it trainable. Use Embedding(...). Make sure to set trainable=False. \n",
        "    embedding_layer = Embedding(vocab_len, emb_dim,trainable=True,mask_zero=True) \n",
        "    ##TODO:is this maskz_zero correct here?\n",
        "    ### END CODE HERE ###\n",
        "\n",
        "    # Build the embedding layer, it is required before setting the weights of the embedding layer. Do not modify the \"None\".\n",
        "    embedding_layer.build((None,))\n",
        "    \n",
        "    # Set the weights of the embedding layer to the embedding matrix. Your layer is now pretrained.\n",
        "    embedding_layer.set_weights([emb_matrix])\n",
        "    \n",
        "    return embedding_layer"
      ],
      "execution_count": null,
      "outputs": []
    },
    {
      "cell_type": "code",
      "metadata": {
        "colab": {
          "base_uri": "https://localhost:8080/",
          "height": 83,
          "referenced_widgets": [
            "2cf80d9915244f528bf8f207e175005d",
            "5e19a619f64f4a9ea642d18ab6ec08ca",
            "c39bda7168c646bb97619db4d6b45c43",
            "8bf06153337f4083a8e8d802913eaa39",
            "9bd6b6129ff741fab672496b22394eaf",
            "61c1860da0ed4fc2bd59847a250632d5",
            "0dca499b036b42afb5ddd8f36dfa0a3c",
            "15e2b17b9bb64692867d6bd423c605a7"
          ]
        },
        "id": "4G1EiOmENWEL",
        "outputId": "c67e12e9-0603-48fa-8e2f-77105bac78ec"
      },
      "source": [
        "I2W_nopad=I2W.copy()\n",
        "embedding_layer = pretrained_embedding_layer(word2vec_map, I2W_nopad)\n",
        "print(\"weights[0][1][3] =\", embedding_layer.get_weights()[0][1][3])"
      ],
      "execution_count": null,
      "outputs": [
        {
          "output_type": "display_data",
          "data": {
            "application/vnd.jupyter.widget-view+json": {
              "model_id": "2cf80d9915244f528bf8f207e175005d",
              "version_major": 2,
              "version_minor": 0
            },
            "text/plain": [
              "HBox(children=(FloatProgress(value=0.0, max=24422.0), HTML(value='')))"
            ]
          },
          "metadata": {
            "tags": []
          }
        },
        {
          "output_type": "stream",
          "text": [
            "\n",
            "weights[0][1][3] = 0.083260976\n"
          ],
          "name": "stdout"
        }
      ]
    },
    {
      "cell_type": "code",
      "metadata": {
        "id": "_gF_agesGLk0"
      },
      "source": [
        "def WineReviewMachine_V2(input_shape, word_to_vec_map, index_to_word, num_class):\n",
        "    \"\"\"\n",
        "    Function creating the Emojify-v2 model's graph.\n",
        "    \n",
        "    Arguments:\n",
        "    input_shape -- shape of the input, usually (max_len,)\n",
        "    word_to_vec_map -- dictionary mapping every word in a vocabulary into its 50-dimensional vector representation\n",
        "    word_to_index -- dictionary mapping from words to their indices in the vocabulary (400,001 words)\n",
        "\n",
        "    Returns:\n",
        "    model -- a model instance in Keras\n",
        "    \"\"\"\n",
        "    \n",
        "    ### START CODE HERE ###\n",
        "    # Define sentence_indices as the input of the graph, it should be of shape input_shape and dtype 'int32' (as it contains indices).\n",
        "    sentence_indices = Input(shape = input_shape, dtype = 'int32') #the max length \n",
        "    \n",
        "    # Create the embedding layer pretrained with GloVe Vectors (≈1 line)\n",
        "    embedding_layer = pretrained_embedding_layer(word_to_vec_map, index_to_word)\n",
        "    \n",
        "    # Propagate sentence_indices through your embedding layer, you get back the embeddings\n",
        "    embeddings = embedding_layer(sentence_indices)   \n",
        "    # max_batch_size=1024\n",
        "    # partitions = tf.range(max_batch_size)\n",
        "    # num_partitions = max_batch_size\n",
        "    # x_unpacked = tf.dynamic_partition(embeddings, partitions, num_partitions, name='dynamic_unstack')\n",
        "    # #x_unpacked = tf.unstack(embeddings) # defaults to axis 0, returns a list of tensors\n",
        "    # mini_batched_processed=[]\n",
        "    # for x in x_unpacked:\n",
        "    #    partitions = tf.range(136)\n",
        "    #    num_partitions = 136\n",
        "    #    t_ls = tf.dynamic_partition(x, partitions, num_partitions, name='dynamic_unstack') \n",
        "    #    average_embedding = tf.reduce_mean(x, 0)\n",
        "    #    processed=[]\n",
        "    #    for t in t_ls:\n",
        "    #       if tf.math.count_nonzero(t).numpy()[0]==0:\n",
        "    #          results_tensor=average_embedding\n",
        "    #       else:\n",
        "    #          results_tensor=t\n",
        "    #       processed.append(result_tensor)\n",
        "    #    batched_embeddings=tf.concat(processed,0)\n",
        "    #    mini_batched_embeddings.append(batched_embeddings)\n",
        "    # embeddings=tf.concat(mini_batched_embeddings,0)\n",
        "    \n",
        "    # Propagate the embeddings through an LSTM layer with 128-dimensional hidden state\n",
        "    # Be careful, the returned output should be a batch of sequences.\n",
        "    X = Bidirectional(LSTM(256, return_sequences=True))(embeddings)\n",
        "    # Add dropout with a probability of 0.5\n",
        "    X = Dropout(0.5)(X)\n",
        "    # Propagate X trough another LSTM layer with 128-dimensional hidden state\n",
        "    # Be careful, the returned output should be a single hidden state, not a batch of sequences.\n",
        "    X = Bidirectional(LSTM(256, return_sequences=False))(X)\n",
        "    # Add dropout with a probability of 0.5\n",
        "    X = Dropout(0.5)(X)\n",
        "    # Propagate X through a Dense layer with softmax activation to get back a batch of 5-dimensional vectors.\n",
        "    X = Dense(num_class)(X)\n",
        "    # Add a softmax activation\n",
        "    X = Activation(\"softmax\")(X)\n",
        "    \n",
        "    # Create Model instance which converts sentence_indices into X.\n",
        "    model = Model(inputs=sentence_indices, outputs=X)\n",
        "    \n",
        "    ### END CODE HERE ###\n",
        "    \n",
        "    return model"
      ],
      "execution_count": null,
      "outputs": []
    },
    {
      "cell_type": "code",
      "metadata": {
        "colab": {
          "base_uri": "https://localhost:8080/",
          "height": 474,
          "referenced_widgets": [
            "2d334cd228f84c7b997e2008d28b5dab",
            "d88cc2a0dec3431e988b05aab3a2d144",
            "ae21bc000e4943e490c6f8114e9c5285",
            "3e9d8c8477be4fc99857529e7f5a9fac",
            "6ed0a8a55301453793fb1c98d7fcc5a4",
            "899464e850684ee799f87b3c094ce307",
            "7e79ddc752d3461eae1ccb4654d41401",
            "6b3c95cf6bd8416d90e0f5f454ec9c20"
          ]
        },
        "id": "ZmoCagAuGPpE",
        "outputId": "2ff29c2d-d157-4a61-8471-d179f0aa8601"
      },
      "source": [
        "num_class=3\n",
        "model = WineReviewMachine_V2((max_review_length,), word2vec_map, I2W, num_class)\n",
        "model.summary()"
      ],
      "execution_count": null,
      "outputs": [
        {
          "output_type": "display_data",
          "data": {
            "application/vnd.jupyter.widget-view+json": {
              "model_id": "2d334cd228f84c7b997e2008d28b5dab",
              "version_major": 2,
              "version_minor": 0
            },
            "text/plain": [
              "HBox(children=(FloatProgress(value=0.0, max=24422.0), HTML(value='')))"
            ]
          },
          "metadata": {
            "tags": []
          }
        },
        {
          "output_type": "stream",
          "text": [
            "\n",
            "Model: \"functional_9\"\n",
            "_________________________________________________________________\n",
            "Layer (type)                 Output Shape              Param #   \n",
            "=================================================================\n",
            "input_5 (InputLayer)         [(None, 136)]             0         \n",
            "_________________________________________________________________\n",
            "embedding_7 (Embedding)      (None, 136, 100)          2442300   \n",
            "_________________________________________________________________\n",
            "bidirectional_8 (Bidirection (None, 136, 512)          731136    \n",
            "_________________________________________________________________\n",
            "dropout_8 (Dropout)          (None, 136, 512)          0         \n",
            "_________________________________________________________________\n",
            "bidirectional_9 (Bidirection (None, 512)               1574912   \n",
            "_________________________________________________________________\n",
            "dropout_9 (Dropout)          (None, 512)               0         \n",
            "_________________________________________________________________\n",
            "dense_6 (Dense)              (None, 3)                 1539      \n",
            "_________________________________________________________________\n",
            "activation_4 (Activation)    (None, 3)                 0         \n",
            "=================================================================\n",
            "Total params: 4,749,887\n",
            "Trainable params: 4,749,887\n",
            "Non-trainable params: 0\n",
            "_________________________________________________________________\n"
          ],
          "name": "stdout"
        }
      ]
    },
    {
      "cell_type": "code",
      "metadata": {
        "id": "A31RZFelPwux"
      },
      "source": [
        "y_label=raw_label.values\n",
        "y_label_3levels = []\n",
        "for i,y0 in enumerate(y_label):\n",
        "  temp = 0\n",
        "  if y0 <87:\n",
        "    temp = int(0)\n",
        "  elif y0>=87 and y0<93:\n",
        "     temp = int(1.0)\n",
        "  elif y0>=93: temp = int(2.0)\n",
        "  y_label_3levels.append(temp)"
      ],
      "execution_count": null,
      "outputs": []
    },
    {
      "cell_type": "code",
      "metadata": {
        "id": "ZfxPiTL2IqhP"
      },
      "source": [
        "indices = y_label_3levels\n",
        "depth = max(indices)+1\n",
        "y_label_one_hot=tf.one_hot(indices, depth)"
      ],
      "execution_count": null,
      "outputs": []
    },
    {
      "cell_type": "code",
      "metadata": {
        "colab": {
          "base_uri": "https://localhost:8080/",
          "height": 115,
          "referenced_widgets": [
            "df94c6675195457697ed719caf504e0a",
            "645e8ee6368b423ab52f1d876187c320",
            "a1df5dd4c95a418e84b3ef4ba3aae069",
            "00501ab82d8842bf8a9cafd8855dc95a",
            "aae418995f32495eaf434568edc3ae36",
            "ffa9f39f9c704195ab44bf6670901eb8",
            "8866575d60db409ebb13b2032206ecf1",
            "abb5248c26174c10b8f64e0a8ee4403a",
            "9c8db8903d064069899412c9e190e62d",
            "0a8c01149a87496da1aaeb0afd1d4260",
            "8db9d3dbb2e6410abd652691f3b06525",
            "f6f25e08d9644978a6dcd17436370bdc",
            "fb0324ee21c84ba5a2656656c0edc51b",
            "d282cea1ebef4599a4fe48aa5cd61ca8",
            "2a4a6de415054160a52e34460ff2e433",
            "54b44743d97142dcb289084224650d22"
          ]
        },
        "id": "z_Cgniokr_Gv",
        "outputId": "af7801c2-90a3-46b1-dde5-8949dceda977"
      },
      "source": [
        "#because we have 2 inputs, targets and contexts, I dont know how to use train_test_split on this \n",
        "#I created a home grown train_test_spliter\n",
        "\n",
        "#first, shuffle the indices\n",
        "targ_ind = np.arange(input_sequences.shape[0])\n",
        "np.random.shuffle(targ_ind)\n",
        "#second, assign around 80% of the indices to train\n",
        "\n",
        "train_ind = targ_ind[:-10000]\n",
        "test_ind = targ_ind[-10000:]\n",
        "#third, assign the general data to train and test datatset \n",
        "x_train_vec=[]\n",
        "y_train_label=[]\n",
        "for i in tqdm(train_ind):\n",
        "   x_train_vec_temp = input_sequences[i]\n",
        "   y_train_label_temp = y_label_one_hot[i]\n",
        "   x_train_vec.append(x_train_vec_temp)\n",
        "   y_train_label.append(y_train_label_temp)\n",
        "x_test_vec=[]\n",
        "y_test_label=[]\n",
        "for i in tqdm(test_ind):\n",
        "   x_test_vec_temp = input_sequences[i]\n",
        "   y_test_label_temp = y_label_one_hot[i]\n",
        "   x_test_vec.append(x_test_vec_temp)\n",
        "   y_test_label.append(y_test_label_temp)"
      ],
      "execution_count": null,
      "outputs": [
        {
          "output_type": "display_data",
          "data": {
            "application/vnd.jupyter.widget-view+json": {
              "model_id": "df94c6675195457697ed719caf504e0a",
              "version_major": 2,
              "version_minor": 0
            },
            "text/plain": [
              "HBox(children=(FloatProgress(value=0.0, max=119971.0), HTML(value='')))"
            ]
          },
          "metadata": {
            "tags": []
          }
        },
        {
          "output_type": "stream",
          "text": [
            "\n"
          ],
          "name": "stdout"
        },
        {
          "output_type": "display_data",
          "data": {
            "application/vnd.jupyter.widget-view+json": {
              "model_id": "9c8db8903d064069899412c9e190e62d",
              "version_major": 2,
              "version_minor": 0
            },
            "text/plain": [
              "HBox(children=(FloatProgress(value=0.0, max=10000.0), HTML(value='')))"
            ]
          },
          "metadata": {
            "tags": []
          }
        },
        {
          "output_type": "stream",
          "text": [
            "\n"
          ],
          "name": "stdout"
        }
      ]
    },
    {
      "cell_type": "code",
      "metadata": {
        "colab": {
          "base_uri": "https://localhost:8080/"
        },
        "id": "nD1IQHVosEbY",
        "outputId": "8ec671ef-1b47-4e27-95c4-638c59bf11f9"
      },
      "source": [
        "BATCH_SIZE = 1024\n",
        "BUFFER_SIZE = 10000\n",
        "#this is some tensorflow data cleaning function\n",
        "dataset_train = tf.data.Dataset.from_tensor_slices((x_train_vec, y_train_label))\n",
        "dataset_train = dataset_train.shuffle(BUFFER_SIZE).batch(BATCH_SIZE, drop_remainder=True)\n",
        "#dataset_train = dataset_train.batch(BATCH_SIZE, drop_remainder=True)\n",
        "BATCH_SIZE = 1024\n",
        "BUFFER_SIZE = 10000\n",
        "dataset_test = tf.data.Dataset.from_tensor_slices((x_test_vec, y_test_label))\n",
        "dataset_test = dataset_test.shuffle(BUFFER_SIZE).batch(BATCH_SIZE, drop_remainder=True)\n",
        "#dataset_test = dataset_test.batch(BATCH_SIZE, drop_remainder=True)\n",
        "print(dataset_train)\n",
        "print(dataset_test)"
      ],
      "execution_count": null,
      "outputs": [
        {
          "output_type": "stream",
          "text": [
            "<BatchDataset shapes: ((1024, 136), (1024, 3)), types: (tf.int32, tf.float32)>\n",
            "<BatchDataset shapes: ((1024, 136), (1024, 3)), types: (tf.int32, tf.float32)>\n"
          ],
          "name": "stdout"
        }
      ]
    },
    {
      "cell_type": "code",
      "metadata": {
        "colab": {
          "base_uri": "https://localhost:8080/"
        },
        "id": "1YDd77YQsX_v",
        "outputId": "79de2039-df54-4ef4-b56e-c934ccde9a8a"
      },
      "source": [
        "dataset_train = dataset_train.cache().prefetch(buffer_size=AUTOTUNE)\n",
        "dataset_test = dataset_test.cache().prefetch(buffer_size=AUTOTUNE)\n",
        "print(dataset_train)\n",
        "print(dataset_test)"
      ],
      "execution_count": null,
      "outputs": [
        {
          "output_type": "stream",
          "text": [
            "<PrefetchDataset shapes: ((1024, 136), (1024, 3)), types: (tf.int32, tf.float32)>\n",
            "<PrefetchDataset shapes: ((1024, 136), (1024, 3)), types: (tf.int32, tf.float32)>\n"
          ],
          "name": "stdout"
        }
      ]
    },
    {
      "cell_type": "code",
      "metadata": {
        "id": "cwLnyNjCO-e-"
      },
      "source": [
        "model.compile(loss='categorical_crossentropy', optimizer='adam', metrics=['accuracy'])"
      ],
      "execution_count": null,
      "outputs": []
    },
    {
      "cell_type": "code",
      "metadata": {
        "colab": {
          "background_save": true,
          "base_uri": "https://localhost:8080/"
        },
        "id": "ZYA7cy81P2s_",
        "outputId": "4f6edad9-db53-4543-e8f2-9ab3f9f6ff56"
      },
      "source": [
        "#trained 25 epochs\n",
        "model.fit(dataset_train,epochs=15,verbose=1,validation_data=dataset_test)"
      ],
      "execution_count": null,
      "outputs": [
        {
          "output_type": "stream",
          "text": [
            "Epoch 1/15\n",
            "117/117 [==============================] - 62s 532ms/step - loss: 0.3901 - accuracy: 0.8323 - val_loss: 0.4680 - val_accuracy: 0.7994\n",
            "Epoch 2/15\n",
            "117/117 [==============================] - 63s 535ms/step - loss: 0.3646 - accuracy: 0.8441 - val_loss: 0.4820 - val_accuracy: 0.7996\n",
            "Epoch 3/15\n",
            "117/117 [==============================] - 62s 534ms/step - loss: 0.3399 - accuracy: 0.8567 - val_loss: 0.5118 - val_accuracy: 0.7990\n",
            "Epoch 4/15\n",
            "117/117 [==============================] - 62s 529ms/step - loss: 0.3227 - accuracy: 0.8644 - val_loss: 0.5197 - val_accuracy: 0.7972\n",
            "Epoch 5/15\n",
            "117/117 [==============================] - 62s 527ms/step - loss: 0.3145 - accuracy: 0.8686 - val_loss: 0.5178 - val_accuracy: 0.7945\n",
            "Epoch 6/15\n",
            "117/117 [==============================] - 62s 527ms/step - loss: 0.2919 - accuracy: 0.8790 - val_loss: 0.5737 - val_accuracy: 0.7871\n",
            "Epoch 7/15\n",
            "117/117 [==============================] - 62s 528ms/step - loss: 0.2738 - accuracy: 0.8883 - val_loss: 0.6455 - val_accuracy: 0.7765\n",
            "Epoch 8/15\n",
            "117/117 [==============================] - 61s 522ms/step - loss: 0.2654 - accuracy: 0.8918 - val_loss: 0.6722 - val_accuracy: 0.7783\n",
            "Epoch 9/15\n",
            "117/117 [==============================] - 62s 528ms/step - loss: 0.2397 - accuracy: 0.9029 - val_loss: 0.6671 - val_accuracy: 0.7860\n",
            "Epoch 10/15\n",
            "117/117 [==============================] - 62s 528ms/step - loss: 0.2079 - accuracy: 0.9172 - val_loss: 0.7326 - val_accuracy: 0.7888\n",
            "Epoch 11/15\n",
            "117/117 [==============================] - 61s 523ms/step - loss: 0.1898 - accuracy: 0.9245 - val_loss: 0.7529 - val_accuracy: 0.7833\n",
            "Epoch 12/15\n",
            "117/117 [==============================] - 61s 525ms/step - loss: 0.1889 - accuracy: 0.9234 - val_loss: 0.7513 - val_accuracy: 0.7837\n",
            "Epoch 13/15\n",
            "117/117 [==============================] - 61s 518ms/step - loss: 0.1726 - accuracy: 0.9317 - val_loss: 0.7689 - val_accuracy: 0.7884\n",
            "Epoch 14/15\n",
            "117/117 [==============================] - 61s 519ms/step - loss: 0.1436 - accuracy: 0.9441 - val_loss: 0.8652 - val_accuracy: 0.7870\n",
            "Epoch 15/15\n",
            "117/117 [==============================] - 61s 518ms/step - loss: 0.1206 - accuracy: 0.9540 - val_loss: 0.9762 - val_accuracy: 0.7798\n"
          ],
          "name": "stdout"
        },
        {
          "output_type": "execute_result",
          "data": {
            "text/plain": [
              "<tensorflow.python.keras.callbacks.History at 0x7effcc02e0f0>"
            ]
          },
          "metadata": {
            "tags": []
          },
          "execution_count": 0
        }
      ]
    },
    {
      "cell_type": "code",
      "metadata": {
        "colab": {
          "background_save": true
        },
        "id": "IWZT2lOxKKAx"
      },
      "source": [
        "def WineReviewMachine_V3(input_shape, word_to_vec_map, index_to_word):\n",
        "    \"\"\"\n",
        "    Function creating the Emojify-v2 model's graph.\n",
        "    \n",
        "    Arguments:\n",
        "    input_shape -- shape of the input, usually (max_len,)\n",
        "    word_to_vec_map -- dictionary mapping every word in a vocabulary into its 50-dimensional vector representation\n",
        "    word_to_index -- dictionary mapping from words to their indices in the vocabulary (400,001 words)\n",
        "\n",
        "    Returns:\n",
        "    model -- a model instance in Keras\n",
        "    \"\"\"\n",
        "    \n",
        "    ### START CODE HERE ###\n",
        "    # Define sentence_indices as the input of the graph, it should be of shape input_shape and dtype 'int32' (as it contains indices).\n",
        "    sentence_indices = Input(shape = input_shape, dtype = 'int32') #the max length \n",
        "    \n",
        "    # Create the embedding layer pretrained with GloVe Vectors (≈1 line)\n",
        "    embedding_layer = pretrained_embedding_layer(word_to_vec_map, index_to_word)\n",
        "    \n",
        "    # Propagate sentence_indices through your embedding layer, you get back the embeddings\n",
        "    embeddings = embedding_layer(sentence_indices)   \n",
        "    # max_batch_size=1024\n",
        "    # partitions = tf.range(max_batch_size)\n",
        "    # num_partitions = max_batch_size\n",
        "    # x_unpacked = tf.dynamic_partition(embeddings, partitions, num_partitions, name='dynamic_unstack')\n",
        "    # #x_unpacked = tf.unstack(embeddings) # defaults to axis 0, returns a list of tensors\n",
        "    # mini_batched_processed=[]\n",
        "    # for x in x_unpacked:\n",
        "    #    partitions = tf.range(136)\n",
        "    #    num_partitions = 136\n",
        "    #    t_ls = tf.dynamic_partition(x, partitions, num_partitions, name='dynamic_unstack') \n",
        "    #    average_embedding = tf.reduce_mean(x, 0)\n",
        "    #    processed=[]\n",
        "    #    for t in t_ls:\n",
        "    #       if tf.math.count_nonzero(t).numpy()[0]==0:\n",
        "    #          results_tensor=average_embedding\n",
        "    #       else:\n",
        "    #          results_tensor=t\n",
        "    #       processed.append(result_tensor)\n",
        "    #    batched_embeddings=tf.concat(processed,0)\n",
        "    #    mini_batched_embeddings.append(batched_embeddings)\n",
        "    # embeddings=tf.concat(mini_batched_embeddings,0)\n",
        "    \n",
        "    # Propagate the embeddings through an LSTM layer with 128-dimensional hidden state\n",
        "    # Be careful, the returned output should be a batch of sequences.\n",
        "    X = Bidirectional(LSTM(256, return_sequences=True))(embeddings)\n",
        "    # Add dropout with a probability of 0.5\n",
        "    X = Dropout(0.5)(X)\n",
        "    # Propagate X trough another LSTM layer with 128-dimensional hidden state\n",
        "    # Be careful, the returned output should be a single hidden state, not a batch of sequences.\n",
        "    X = Bidirectional(LSTM(256, return_sequences=False))(X)\n",
        "    # Add dropout with a probability of 0.5\n",
        "    X = Dropout(0.5)(X)\n",
        "    # Propagate X through a Dense layer with softmax activation to get back a batch of 5-dimensional vectors.\n",
        "    X = Dense(20)(X)\n",
        "    X = Dense(1)(X)\n",
        "    # Add a softmax activation\n",
        "    X = Activation(\"linear\")(X)\n",
        "    \n",
        "    # Create Model instance which converts sentence_indices into X.\n",
        "    model = Model(inputs=sentence_indices, outputs=X)\n",
        "    \n",
        "    ### END CODE HERE ###\n",
        "    \n",
        "    return model"
      ],
      "execution_count": null,
      "outputs": []
    },
    {
      "cell_type": "code",
      "metadata": {
        "colab": {
          "background_save": true,
          "referenced_widgets": [
            "48c495db198d48a0939c922f77fcb903",
            "269b4291c9f84eed90b25062e0add31e"
          ]
        },
        "id": "snNFyly2LphM",
        "outputId": "a8f7c18f-cbc6-4d65-8dc5-01356206e15f"
      },
      "source": [
        "y_test=raw_label.values-80\n",
        "#because we have 2 inputs, targets and contexts, I dont know how to use train_test_split on this \n",
        "#I created a home grown train_test_spliter\n",
        "\n",
        "#first, shuffle the indices\n",
        "targ_ind = np.arange(input_sequences.shape[0])\n",
        "np.random.shuffle(targ_ind)\n",
        "#second, assign around 80% of the indices to train\n",
        "\n",
        "train_ind = targ_ind[:-10000]\n",
        "test_ind = targ_ind[-10000:]\n",
        "#third, assign the general data to train and test datatset \n",
        "x_train_vec=[]\n",
        "y_train_label=[]\n",
        "for i in tqdm(train_ind):\n",
        "   x_train_vec_temp = input_sequences[i]\n",
        "   y_train_label_temp = y_test[i]\n",
        "   x_train_vec.append(x_train_vec_temp)\n",
        "   y_train_label.append(y_train_label_temp)\n",
        "x_test_vec=[]\n",
        "y_test_label=[]\n",
        "for i in tqdm(test_ind):\n",
        "   x_test_vec_temp = input_sequences[i]\n",
        "   y_test_label_temp = y_test[i]\n",
        "   x_test_vec.append(x_test_vec_temp)\n",
        "   y_test_label.append(y_test_label_temp)"
      ],
      "execution_count": null,
      "outputs": [
        {
          "output_type": "display_data",
          "data": {
            "application/vnd.jupyter.widget-view+json": {
              "model_id": "48c495db198d48a0939c922f77fcb903",
              "version_major": 2,
              "version_minor": 0
            },
            "text/plain": [
              "HBox(children=(FloatProgress(value=0.0, max=119971.0), HTML(value='')))"
            ]
          },
          "metadata": {
            "tags": []
          }
        },
        {
          "output_type": "stream",
          "text": [
            "\n"
          ],
          "name": "stdout"
        },
        {
          "output_type": "display_data",
          "data": {
            "application/vnd.jupyter.widget-view+json": {
              "model_id": "269b4291c9f84eed90b25062e0add31e",
              "version_major": 2,
              "version_minor": 0
            },
            "text/plain": [
              "HBox(children=(FloatProgress(value=0.0, max=10000.0), HTML(value='')))"
            ]
          },
          "metadata": {
            "tags": []
          }
        },
        {
          "output_type": "stream",
          "text": [
            "\n"
          ],
          "name": "stdout"
        }
      ]
    },
    {
      "cell_type": "code",
      "metadata": {
        "colab": {
          "background_save": true,
          "referenced_widgets": [
            "9abb0ecbd0854abfa3a2db136b8b7afc"
          ]
        },
        "id": "yOOhFnniKfQ1",
        "outputId": "92da988b-e5e1-4a73-82f2-a430f83c8551"
      },
      "source": [
        "model_linear100 = WineReviewMachine_V3((max_review_length,), word2vec_map, I2W)\n",
        "model_linear100.summary()"
      ],
      "execution_count": null,
      "outputs": [
        {
          "output_type": "display_data",
          "data": {
            "application/vnd.jupyter.widget-view+json": {
              "model_id": "9abb0ecbd0854abfa3a2db136b8b7afc",
              "version_major": 2,
              "version_minor": 0
            },
            "text/plain": [
              "HBox(children=(FloatProgress(value=0.0, max=24422.0), HTML(value='')))"
            ]
          },
          "metadata": {
            "tags": []
          }
        },
        {
          "output_type": "stream",
          "text": [
            "\n",
            "Model: \"functional_11\"\n",
            "_________________________________________________________________\n",
            "Layer (type)                 Output Shape              Param #   \n",
            "=================================================================\n",
            "input_6 (InputLayer)         [(None, 136)]             0         \n",
            "_________________________________________________________________\n",
            "embedding_8 (Embedding)      (None, 136, 100)          2442300   \n",
            "_________________________________________________________________\n",
            "bidirectional_10 (Bidirectio (None, 136, 512)          731136    \n",
            "_________________________________________________________________\n",
            "dropout_10 (Dropout)         (None, 136, 512)          0         \n",
            "_________________________________________________________________\n",
            "bidirectional_11 (Bidirectio (None, 512)               1574912   \n",
            "_________________________________________________________________\n",
            "dropout_11 (Dropout)         (None, 512)               0         \n",
            "_________________________________________________________________\n",
            "dense_7 (Dense)              (None, 20)                10260     \n",
            "_________________________________________________________________\n",
            "dense_8 (Dense)              (None, 1)                 21        \n",
            "_________________________________________________________________\n",
            "activation_5 (Activation)    (None, 1)                 0         \n",
            "=================================================================\n",
            "Total params: 4,758,629\n",
            "Trainable params: 4,758,629\n",
            "Non-trainable params: 0\n",
            "_________________________________________________________________\n"
          ],
          "name": "stdout"
        }
      ]
    },
    {
      "cell_type": "code",
      "metadata": {
        "colab": {
          "background_save": true
        },
        "id": "OEXfR-eTK6ln"
      },
      "source": [
        "model_linear100.compile(loss=tf.keras.losses.MeanSquaredError(), optimizer='adam', metrics=[tf.keras.losses.MeanSquaredError()])"
      ],
      "execution_count": null,
      "outputs": []
    },
    {
      "cell_type": "code",
      "metadata": {
        "id": "VLxhgRSlMS7z"
      },
      "source": [
        "#trained 9 epochs\n",
        "model_linear100.fit(dataset_train,epochs=15,verbose=1,validation_data=dataset_test)"
      ],
      "execution_count": null,
      "outputs": []
    },
    {
      "cell_type": "markdown",
      "metadata": {
        "id": "-VcaVd3-YaLR"
      },
      "source": [
        "start 300D"
      ]
    },
    {
      "cell_type": "code",
      "metadata": {
        "colab": {
          "base_uri": "https://localhost:8080/",
          "height": 177
        },
        "id": "d-Wc2EmAN1pa",
        "outputId": "2e153867-6a2d-4fa9-ca52-541f12ebcf97"
      },
      "source": [
        "save_path='/content/drive/MyDrive/24787 Group Project  /Data/for_final_submission/vectors300.tsv'\n",
        "word2vec_map = pd.read_csv(save_path,sep='\\t',header=None)\n",
        "print(word2vec_map.shape)\n",
        "word2vec_map.head(2)"
      ],
      "execution_count": null,
      "outputs": [
        {
          "output_type": "stream",
          "text": [
            "(33167, 300)\n"
          ],
          "name": "stdout"
        },
        {
          "output_type": "execute_result",
          "data": {
            "text/html": [
              "<div>\n",
              "<style scoped>\n",
              "    .dataframe tbody tr th:only-of-type {\n",
              "        vertical-align: middle;\n",
              "    }\n",
              "\n",
              "    .dataframe tbody tr th {\n",
              "        vertical-align: top;\n",
              "    }\n",
              "\n",
              "    .dataframe thead th {\n",
              "        text-align: right;\n",
              "    }\n",
              "</style>\n",
              "<table border=\"1\" class=\"dataframe\">\n",
              "  <thead>\n",
              "    <tr style=\"text-align: right;\">\n",
              "      <th></th>\n",
              "      <th>0</th>\n",
              "      <th>1</th>\n",
              "      <th>2</th>\n",
              "      <th>3</th>\n",
              "      <th>4</th>\n",
              "      <th>5</th>\n",
              "      <th>6</th>\n",
              "      <th>7</th>\n",
              "      <th>8</th>\n",
              "      <th>9</th>\n",
              "      <th>10</th>\n",
              "      <th>11</th>\n",
              "      <th>12</th>\n",
              "      <th>13</th>\n",
              "      <th>14</th>\n",
              "      <th>15</th>\n",
              "      <th>16</th>\n",
              "      <th>17</th>\n",
              "      <th>18</th>\n",
              "      <th>19</th>\n",
              "      <th>20</th>\n",
              "      <th>21</th>\n",
              "      <th>22</th>\n",
              "      <th>23</th>\n",
              "      <th>24</th>\n",
              "      <th>25</th>\n",
              "      <th>26</th>\n",
              "      <th>27</th>\n",
              "      <th>28</th>\n",
              "      <th>29</th>\n",
              "      <th>30</th>\n",
              "      <th>31</th>\n",
              "      <th>32</th>\n",
              "      <th>33</th>\n",
              "      <th>34</th>\n",
              "      <th>35</th>\n",
              "      <th>36</th>\n",
              "      <th>37</th>\n",
              "      <th>38</th>\n",
              "      <th>39</th>\n",
              "      <th>...</th>\n",
              "      <th>260</th>\n",
              "      <th>261</th>\n",
              "      <th>262</th>\n",
              "      <th>263</th>\n",
              "      <th>264</th>\n",
              "      <th>265</th>\n",
              "      <th>266</th>\n",
              "      <th>267</th>\n",
              "      <th>268</th>\n",
              "      <th>269</th>\n",
              "      <th>270</th>\n",
              "      <th>271</th>\n",
              "      <th>272</th>\n",
              "      <th>273</th>\n",
              "      <th>274</th>\n",
              "      <th>275</th>\n",
              "      <th>276</th>\n",
              "      <th>277</th>\n",
              "      <th>278</th>\n",
              "      <th>279</th>\n",
              "      <th>280</th>\n",
              "      <th>281</th>\n",
              "      <th>282</th>\n",
              "      <th>283</th>\n",
              "      <th>284</th>\n",
              "      <th>285</th>\n",
              "      <th>286</th>\n",
              "      <th>287</th>\n",
              "      <th>288</th>\n",
              "      <th>289</th>\n",
              "      <th>290</th>\n",
              "      <th>291</th>\n",
              "      <th>292</th>\n",
              "      <th>293</th>\n",
              "      <th>294</th>\n",
              "      <th>295</th>\n",
              "      <th>296</th>\n",
              "      <th>297</th>\n",
              "      <th>298</th>\n",
              "      <th>299</th>\n",
              "    </tr>\n",
              "  </thead>\n",
              "  <tbody>\n",
              "    <tr>\n",
              "      <th>0</th>\n",
              "      <td>0.072741</td>\n",
              "      <td>0.177086</td>\n",
              "      <td>0.046955</td>\n",
              "      <td>-0.161159</td>\n",
              "      <td>-0.262453</td>\n",
              "      <td>-0.022582</td>\n",
              "      <td>-0.175011</td>\n",
              "      <td>0.193300</td>\n",
              "      <td>0.081327</td>\n",
              "      <td>0.513394</td>\n",
              "      <td>0.486482</td>\n",
              "      <td>0.270007</td>\n",
              "      <td>-0.055469</td>\n",
              "      <td>-0.017736</td>\n",
              "      <td>0.233057</td>\n",
              "      <td>-0.339189</td>\n",
              "      <td>0.080459</td>\n",
              "      <td>-0.211314</td>\n",
              "      <td>0.230841</td>\n",
              "      <td>-0.092777</td>\n",
              "      <td>-0.354089</td>\n",
              "      <td>0.353036</td>\n",
              "      <td>-0.032889</td>\n",
              "      <td>-0.039103</td>\n",
              "      <td>-0.100094</td>\n",
              "      <td>-0.262138</td>\n",
              "      <td>-0.219273</td>\n",
              "      <td>-0.020130</td>\n",
              "      <td>-0.142205</td>\n",
              "      <td>0.016919</td>\n",
              "      <td>-0.149281</td>\n",
              "      <td>-0.289330</td>\n",
              "      <td>-0.298905</td>\n",
              "      <td>-0.299549</td>\n",
              "      <td>-0.046952</td>\n",
              "      <td>0.050852</td>\n",
              "      <td>-0.162308</td>\n",
              "      <td>-0.301594</td>\n",
              "      <td>-0.210345</td>\n",
              "      <td>-0.224959</td>\n",
              "      <td>...</td>\n",
              "      <td>0.269495</td>\n",
              "      <td>0.561228</td>\n",
              "      <td>0.110157</td>\n",
              "      <td>0.371961</td>\n",
              "      <td>-0.091705</td>\n",
              "      <td>-0.042529</td>\n",
              "      <td>-0.270073</td>\n",
              "      <td>-0.233123</td>\n",
              "      <td>0.027484</td>\n",
              "      <td>-0.057847</td>\n",
              "      <td>0.025248</td>\n",
              "      <td>0.312116</td>\n",
              "      <td>0.155597</td>\n",
              "      <td>0.338420</td>\n",
              "      <td>0.188724</td>\n",
              "      <td>0.064901</td>\n",
              "      <td>0.057733</td>\n",
              "      <td>0.408761</td>\n",
              "      <td>0.200816</td>\n",
              "      <td>-0.221229</td>\n",
              "      <td>-0.000132</td>\n",
              "      <td>0.308902</td>\n",
              "      <td>-0.411560</td>\n",
              "      <td>0.268989</td>\n",
              "      <td>-0.036705</td>\n",
              "      <td>0.528598</td>\n",
              "      <td>-0.220828</td>\n",
              "      <td>0.026004</td>\n",
              "      <td>-0.039186</td>\n",
              "      <td>-0.078684</td>\n",
              "      <td>-0.030462</td>\n",
              "      <td>0.147154</td>\n",
              "      <td>-0.264258</td>\n",
              "      <td>0.445950</td>\n",
              "      <td>-0.252144</td>\n",
              "      <td>-0.463734</td>\n",
              "      <td>-0.086174</td>\n",
              "      <td>0.195977</td>\n",
              "      <td>0.044055</td>\n",
              "      <td>-0.141106</td>\n",
              "    </tr>\n",
              "    <tr>\n",
              "      <th>1</th>\n",
              "      <td>-0.162451</td>\n",
              "      <td>0.056447</td>\n",
              "      <td>0.074096</td>\n",
              "      <td>0.247125</td>\n",
              "      <td>0.275788</td>\n",
              "      <td>-0.075669</td>\n",
              "      <td>-0.405454</td>\n",
              "      <td>0.067573</td>\n",
              "      <td>-0.296444</td>\n",
              "      <td>-0.120678</td>\n",
              "      <td>0.676957</td>\n",
              "      <td>-0.044911</td>\n",
              "      <td>0.046235</td>\n",
              "      <td>0.292248</td>\n",
              "      <td>0.051215</td>\n",
              "      <td>0.366189</td>\n",
              "      <td>-0.120822</td>\n",
              "      <td>0.290646</td>\n",
              "      <td>-0.205931</td>\n",
              "      <td>-0.146317</td>\n",
              "      <td>0.129239</td>\n",
              "      <td>0.328307</td>\n",
              "      <td>-0.261547</td>\n",
              "      <td>0.371859</td>\n",
              "      <td>0.095685</td>\n",
              "      <td>-0.247538</td>\n",
              "      <td>-0.391735</td>\n",
              "      <td>0.014415</td>\n",
              "      <td>0.118940</td>\n",
              "      <td>-0.245449</td>\n",
              "      <td>0.211864</td>\n",
              "      <td>0.195619</td>\n",
              "      <td>0.209814</td>\n",
              "      <td>0.063449</td>\n",
              "      <td>-0.125104</td>\n",
              "      <td>-0.066620</td>\n",
              "      <td>0.020668</td>\n",
              "      <td>-0.013998</td>\n",
              "      <td>-0.467575</td>\n",
              "      <td>0.248410</td>\n",
              "      <td>...</td>\n",
              "      <td>0.273146</td>\n",
              "      <td>0.058361</td>\n",
              "      <td>-0.292375</td>\n",
              "      <td>-0.193279</td>\n",
              "      <td>-0.226322</td>\n",
              "      <td>0.058354</td>\n",
              "      <td>-0.225004</td>\n",
              "      <td>-0.123047</td>\n",
              "      <td>0.010058</td>\n",
              "      <td>-0.657200</td>\n",
              "      <td>-0.042546</td>\n",
              "      <td>0.359351</td>\n",
              "      <td>-0.180970</td>\n",
              "      <td>0.175821</td>\n",
              "      <td>0.042868</td>\n",
              "      <td>0.461206</td>\n",
              "      <td>-0.026787</td>\n",
              "      <td>-0.333164</td>\n",
              "      <td>0.025929</td>\n",
              "      <td>0.368363</td>\n",
              "      <td>-0.224638</td>\n",
              "      <td>-0.160631</td>\n",
              "      <td>0.348195</td>\n",
              "      <td>0.179474</td>\n",
              "      <td>0.058651</td>\n",
              "      <td>0.425275</td>\n",
              "      <td>-0.291038</td>\n",
              "      <td>0.428397</td>\n",
              "      <td>-0.703248</td>\n",
              "      <td>0.350351</td>\n",
              "      <td>0.058166</td>\n",
              "      <td>-0.252873</td>\n",
              "      <td>-0.376265</td>\n",
              "      <td>0.005129</td>\n",
              "      <td>-0.359104</td>\n",
              "      <td>0.110904</td>\n",
              "      <td>0.242587</td>\n",
              "      <td>-0.066842</td>\n",
              "      <td>0.333056</td>\n",
              "      <td>0.044874</td>\n",
              "    </tr>\n",
              "  </tbody>\n",
              "</table>\n",
              "<p>2 rows × 300 columns</p>\n",
              "</div>"
            ],
            "text/plain": [
              "        0         1         2    ...       297       298       299\n",
              "0  0.072741  0.177086  0.046955  ...  0.195977  0.044055 -0.141106\n",
              "1 -0.162451  0.056447  0.074096  ... -0.066842  0.333056  0.044874\n",
              "\n",
              "[2 rows x 300 columns]"
            ]
          },
          "metadata": {
            "tags": []
          },
          "execution_count": 42
        }
      ]
    },
    {
      "cell_type": "code",
      "metadata": {
        "colab": {
          "base_uri": "https://localhost:8080/",
          "height": 83,
          "referenced_widgets": [
            "0b717a80d142456f9798ff3b2d764442",
            "19033ba72c954d93a967ba08559a308d",
            "327f3d6114984b609446030dde751288",
            "143018c74642470ab6960558a9572a0d",
            "4e5ec558e3ce4cf5b453f9a795c1b0aa",
            "a9362d4801614d589be2aa893c132d76",
            "e8fccc8858e04e5397d2cf4877fe7774",
            "e2238dc317434c8281abe5bcfd7160ba"
          ]
        },
        "id": "MiZlW8ePOKxP",
        "outputId": "1cb13192-d938-4f89-c5c0-b14e4e9a7697"
      },
      "source": [
        "I2W_nopad=I2W.copy()\n",
        "embedding_layer300 = pretrained_embedding_layer(word2vec_map, I2W_nopad)\n",
        "print(\"weights[0][1][3] =\", embedding_layer.get_weights()[0][1][3])"
      ],
      "execution_count": null,
      "outputs": [
        {
          "output_type": "display_data",
          "data": {
            "application/vnd.jupyter.widget-view+json": {
              "model_id": "0b717a80d142456f9798ff3b2d764442",
              "version_major": 2,
              "version_minor": 0
            },
            "text/plain": [
              "HBox(children=(FloatProgress(value=0.0, max=24422.0), HTML(value='')))"
            ]
          },
          "metadata": {
            "tags": []
          }
        },
        {
          "output_type": "stream",
          "text": [
            "\n",
            "weights[0][1][3] = 0.083260976\n"
          ],
          "name": "stdout"
        }
      ]
    },
    {
      "cell_type": "code",
      "metadata": {
        "id": "vQOEzcsyWbmU"
      },
      "source": [
        "y_label=raw_label.values\n",
        "y_label_3levels = []\n",
        "for i,y0 in enumerate(y_label):\n",
        "  temp = 0\n",
        "  if y0 <87:\n",
        "    temp = int(0)\n",
        "  elif y0>=87 and y0<93:\n",
        "     temp = int(1.0)\n",
        "  elif y0>=93: temp = int(2.0)\n",
        "  y_label_3levels.append(temp)"
      ],
      "execution_count": null,
      "outputs": []
    },
    {
      "cell_type": "code",
      "metadata": {
        "id": "-rLtKOYfYqEq"
      },
      "source": [
        "indices = y_label_3levels\n",
        "depth = max(indices)+1\n",
        "y_label_one_hot=tf.one_hot(indices, depth)"
      ],
      "execution_count": null,
      "outputs": []
    },
    {
      "cell_type": "code",
      "metadata": {
        "colab": {
          "base_uri": "https://localhost:8080/",
          "height": 115,
          "referenced_widgets": [
            "28cac1ad6caa416887cf38cb91dad1e8",
            "0d9de804a07b411ab29d81123b65c506",
            "4faac3bc2c6d42bda71fbe6a6adce41b",
            "f55f9c83b0d746839e39bbdb2f8928ac",
            "6f610223183b4d159eaf62a2e6706459",
            "17c5edb1600d43fc834136eec4635eff",
            "27378a5974b940958697010a83c17a35",
            "374d0c0150c14e6099381c69792cb8d9",
            "76887ad5102b4c9abba35208b2077b4b",
            "7933ba58d7b2416ca73debeed23a17f9",
            "c3d841cedc0a42469570ebc1f0eec2b5",
            "4c9e12b7dfa54ad182a243fd4e4b8419",
            "f5bac28b934547fcbdbe21e00044e976",
            "c73013baab3343fa8d8b81fdb7e0f5a4",
            "32478121643e43b7902951376373dfff",
            "043d11f3af1248caa295705348391132"
          ]
        },
        "id": "P61jQzyDSSLT",
        "outputId": "ad9e7b03-f2fa-4d8e-bf63-32e49d1ae336"
      },
      "source": [
        "#because we have 2 inputs, targets and contexts, I dont know how to use train_test_split on this \n",
        "#I created a home grown train_test_spliter\n",
        "\n",
        "#first, shuffle the indices\n",
        "targ_ind = np.arange(input_sequences.shape[0])\n",
        "np.random.shuffle(targ_ind)\n",
        "#second, assign around 80% of the indices to train\n",
        "\n",
        "train_ind = targ_ind[:-10000]\n",
        "test_ind = targ_ind[-10000:]\n",
        "#third, assign the general data to train and test datatset \n",
        "x_train_vec=[]\n",
        "y_train_label=[]\n",
        "for i in tqdm(train_ind):\n",
        "   x_train_vec_temp = input_sequences[i]\n",
        "   y_train_label_temp = y_label_one_hot[i]\n",
        "   x_train_vec.append(x_train_vec_temp)\n",
        "   y_train_label.append(y_train_label_temp)\n",
        "x_test_vec=[]\n",
        "y_test_label=[]\n",
        "for i in tqdm(test_ind):\n",
        "   x_test_vec_temp = input_sequences[i]\n",
        "   y_test_label_temp = y_label_one_hot[i]\n",
        "   x_test_vec.append(x_test_vec_temp)\n",
        "   y_test_label.append(y_test_label_temp)"
      ],
      "execution_count": null,
      "outputs": [
        {
          "output_type": "display_data",
          "data": {
            "application/vnd.jupyter.widget-view+json": {
              "model_id": "28cac1ad6caa416887cf38cb91dad1e8",
              "version_major": 2,
              "version_minor": 0
            },
            "text/plain": [
              "HBox(children=(FloatProgress(value=0.0, max=119971.0), HTML(value='')))"
            ]
          },
          "metadata": {
            "tags": []
          }
        },
        {
          "output_type": "stream",
          "text": [
            "\n"
          ],
          "name": "stdout"
        },
        {
          "output_type": "display_data",
          "data": {
            "application/vnd.jupyter.widget-view+json": {
              "model_id": "76887ad5102b4c9abba35208b2077b4b",
              "version_major": 2,
              "version_minor": 0
            },
            "text/plain": [
              "HBox(children=(FloatProgress(value=0.0, max=10000.0), HTML(value='')))"
            ]
          },
          "metadata": {
            "tags": []
          }
        },
        {
          "output_type": "stream",
          "text": [
            "\n"
          ],
          "name": "stdout"
        }
      ]
    },
    {
      "cell_type": "code",
      "metadata": {
        "colab": {
          "base_uri": "https://localhost:8080/"
        },
        "id": "wvwJ_4U5Wmn3",
        "outputId": "c1235eae-3067-4b80-a65b-ece9fb9f05df"
      },
      "source": [
        "BATCH_SIZE = 1024\n",
        "BUFFER_SIZE = 10000\n",
        "#this is some tensorflow data cleaning function\n",
        "dataset_train = tf.data.Dataset.from_tensor_slices((x_train_vec, y_train_label))\n",
        "dataset_train = dataset_train.shuffle(BUFFER_SIZE).batch(BATCH_SIZE, drop_remainder=True)\n",
        "#dataset_train = dataset_train.batch(BATCH_SIZE, drop_remainder=True)\n",
        "BATCH_SIZE = 1024\n",
        "BUFFER_SIZE = 10000\n",
        "dataset_test = tf.data.Dataset.from_tensor_slices((x_test_vec, y_test_label))\n",
        "dataset_test = dataset_test.shuffle(BUFFER_SIZE).batch(BATCH_SIZE, drop_remainder=True)\n",
        "#dataset_test = dataset_test.batch(BATCH_SIZE, drop_remainder=True)\n",
        "print(dataset_train)\n",
        "print(dataset_test)"
      ],
      "execution_count": null,
      "outputs": [
        {
          "output_type": "stream",
          "text": [
            "<BatchDataset shapes: ((1024, 136), (1024, 3)), types: (tf.int32, tf.float32)>\n",
            "<BatchDataset shapes: ((1024, 136), (1024, 3)), types: (tf.int32, tf.float32)>\n"
          ],
          "name": "stdout"
        }
      ]
    },
    {
      "cell_type": "code",
      "metadata": {
        "colab": {
          "base_uri": "https://localhost:8080/"
        },
        "id": "3jcqnunTXHfE",
        "outputId": "551b4888-5d40-46d9-f69e-71cdd427a34c"
      },
      "source": [
        "dataset_train = dataset_train.cache().prefetch(buffer_size=AUTOTUNE)\n",
        "dataset_test = dataset_test.cache().prefetch(buffer_size=AUTOTUNE)\n",
        "print(dataset_train)\n",
        "print(dataset_test)"
      ],
      "execution_count": null,
      "outputs": [
        {
          "output_type": "stream",
          "text": [
            "<PrefetchDataset shapes: ((1024, 136), (1024, 3)), types: (tf.int32, tf.float32)>\n",
            "<PrefetchDataset shapes: ((1024, 136), (1024, 3)), types: (tf.int32, tf.float32)>\n"
          ],
          "name": "stdout"
        }
      ]
    },
    {
      "cell_type": "code",
      "metadata": {
        "colab": {
          "base_uri": "https://localhost:8080/",
          "height": 474,
          "referenced_widgets": [
            "07f0d2c6d58049b08ca0da620b661f17",
            "61d28026e8b94bf0bed63cad06c86303",
            "470fe93368644ec79116982efa72db0e",
            "f2fa263dc4dd4bd7bbed90fd2205afae",
            "02236bb7e75e4cec90f0aa29c828e9fc",
            "a50ff6a5fb124e9b9f92a9c10b64dcff",
            "f19ab1111ba840c781d2b19617945365",
            "f247355eb5b34a7bbf2d5321e51369fd"
          ]
        },
        "id": "rqM6Ncfp0wnl",
        "outputId": "39a807fc-673d-4950-93e1-87329b066724"
      },
      "source": [
        "num_class=3\n",
        "model300 = WineReviewMachine_V2((max_review_length,), word2vec_map, I2W_nopad, num_class)\n",
        "model300.summary()"
      ],
      "execution_count": null,
      "outputs": [
        {
          "output_type": "display_data",
          "data": {
            "application/vnd.jupyter.widget-view+json": {
              "model_id": "07f0d2c6d58049b08ca0da620b661f17",
              "version_major": 2,
              "version_minor": 0
            },
            "text/plain": [
              "HBox(children=(FloatProgress(value=0.0, max=24422.0), HTML(value='')))"
            ]
          },
          "metadata": {
            "tags": []
          }
        },
        {
          "output_type": "stream",
          "text": [
            "\n",
            "Model: \"functional_5\"\n",
            "_________________________________________________________________\n",
            "Layer (type)                 Output Shape              Param #   \n",
            "=================================================================\n",
            "input_3 (InputLayer)         [(None, 136)]             0         \n",
            "_________________________________________________________________\n",
            "embedding_4 (Embedding)      (None, 136, 300)          7326900   \n",
            "_________________________________________________________________\n",
            "bidirectional_4 (Bidirection (None, 136, 512)          1140736   \n",
            "_________________________________________________________________\n",
            "dropout_4 (Dropout)          (None, 136, 512)          0         \n",
            "_________________________________________________________________\n",
            "bidirectional_5 (Bidirection (None, 512)               1574912   \n",
            "_________________________________________________________________\n",
            "dropout_5 (Dropout)          (None, 512)               0         \n",
            "_________________________________________________________________\n",
            "dense_3 (Dense)              (None, 3)                 1539      \n",
            "_________________________________________________________________\n",
            "activation_2 (Activation)    (None, 3)                 0         \n",
            "=================================================================\n",
            "Total params: 10,044,087\n",
            "Trainable params: 10,044,087\n",
            "Non-trainable params: 0\n",
            "_________________________________________________________________\n"
          ],
          "name": "stdout"
        }
      ]
    },
    {
      "cell_type": "code",
      "metadata": {
        "colab": {
          "base_uri": "https://localhost:8080/"
        },
        "id": "zuMVVbPN24kj",
        "outputId": "998617c8-fede-46ff-b7ea-973ec8f01912"
      },
      "source": [
        "model300.compile(loss='categorical_crossentropy', optimizer='adam', metrics=['accuracy'])\n",
        "model300.fit(dataset_train,epochs=15,verbose=1,validation_data=dataset_test)"
      ],
      "execution_count": null,
      "outputs": [
        {
          "output_type": "stream",
          "text": [
            "117/117 [==============================] - 74s 631ms/step - loss: 0.8760 - accuracy: 0.6337 - val_loss: 0.8574 - val_accuracy: 0.6421\n",
            "Epoch 2/10\n",
            "117/117 [==============================] - 71s 604ms/step - loss: 0.8676 - accuracy: 0.6363 - val_loss: 0.8582 - val_accuracy: 0.6421\n",
            "Epoch 3/10\n",
            "117/117 [==============================] - 71s 606ms/step - loss: 0.8617 - accuracy: 0.6363 - val_loss: 0.8619 - val_accuracy: 0.6421\n",
            "Epoch 4/10\n",
            "117/117 [==============================] - 71s 607ms/step - loss: 0.8460 - accuracy: 0.6385 - val_loss: 0.8763 - val_accuracy: 0.6402\n",
            "Epoch 5/10\n",
            "117/117 [==============================] - 70s 601ms/step - loss: 0.8117 - accuracy: 0.6515 - val_loss: 0.9151 - val_accuracy: 0.6255\n",
            "Epoch 6/10\n",
            "117/117 [==============================] - 70s 602ms/step - loss: 0.7617 - accuracy: 0.6732 - val_loss: 0.9612 - val_accuracy: 0.6144\n",
            "Epoch 7/10\n",
            "117/117 [==============================] - 70s 600ms/step - loss: 0.7119 - accuracy: 0.6955 - val_loss: 0.9965 - val_accuracy: 0.6118\n",
            "Epoch 8/10\n",
            "117/117 [==============================] - 72s 611ms/step - loss: 0.6709 - accuracy: 0.7129 - val_loss: 1.0581 - val_accuracy: 0.5916\n",
            "Epoch 9/10\n",
            "117/117 [==============================] - 70s 601ms/step - loss: 0.6337 - accuracy: 0.7297 - val_loss: 1.1533 - val_accuracy: 0.5831\n",
            "Epoch 10/10\n",
            "117/117 [==============================] - 71s 606ms/step - loss: 0.5892 - accuracy: 0.7499 - val_loss: 1.2424 - val_accuracy: 0.5722\n"
          ],
          "name": "stdout"
        },
        {
          "output_type": "execute_result",
          "data": {
            "text/plain": [
              "<tensorflow.python.keras.callbacks.History at 0x7efcfb013f60>"
            ]
          },
          "metadata": {
            "tags": []
          },
          "execution_count": 51
        }
      ]
    },
    {
      "cell_type": "code",
      "metadata": {
        "colab": {
          "base_uri": "https://localhost:8080/",
          "height": 115,
          "referenced_widgets": [
            "825a3c907d924cddae3a3b15bf8fb7d7",
            "4073ff9be9fa4aed9997375c2850edb1",
            "99f611e79fae4cf3afeb7c2d8b1edc8d",
            "87f237704e324ff2bdbb4ff082cf04ef",
            "fc8904d3e1c649219642672e84bae5ed",
            "07f12f8f9e4b42bb8d8a04611ab35052",
            "795a1da3d43d4fcca70b2b37b45790aa",
            "3da038b6863f4f26bf370f45d921b03b",
            "5e2d73b550814fcdbd90307abf7f9629",
            "8835c2843a284a91a73e63e3f607739a",
            "1b9d1f3cfc724cff945cc67e4a58ca7e",
            "35024f7c563844e0bcdce3b790643261",
            "f385ea2555dc4fa28710ef4b9bedcfa7",
            "8a6aa6c00c3e4ef88bb91d0175295999",
            "e68529dcf6ae420c91539e4c91cd1870",
            "7a4c0583e58940b6ba03c7b336c35f0a"
          ]
        },
        "id": "jCYOSvrR2sv-",
        "outputId": "4c5069d4-becb-4623-dfda-122d44c076cf"
      },
      "source": [
        "y_test=raw_label.values-80\n",
        "#because we have 2 inputs, targets and contexts, I dont know how to use train_test_split on this \n",
        "#I created a home grown train_test_spliter\n",
        "\n",
        "#first, shuffle the indices\n",
        "targ_ind = np.arange(input_sequences.shape[0])\n",
        "np.random.shuffle(targ_ind)\n",
        "#second, assign around 80% of the indices to train\n",
        "\n",
        "train_ind = targ_ind[:-10000]\n",
        "test_ind = targ_ind[-10000:]\n",
        "#third, assign the general data to train and test datatset \n",
        "x_train_vec=[]\n",
        "y_train_label=[]\n",
        "for i in tqdm(train_ind):\n",
        "   x_train_vec_temp = input_sequences[i]\n",
        "   y_train_label_temp = y_test[i]\n",
        "   x_train_vec.append(x_train_vec_temp)\n",
        "   y_train_label.append(y_train_label_temp)\n",
        "x_test_vec=[]\n",
        "y_test_label=[]\n",
        "for i in tqdm(test_ind):\n",
        "   x_test_vec_temp = input_sequences[i]\n",
        "   y_test_label_temp = y_test[i]\n",
        "   x_test_vec.append(x_test_vec_temp)\n",
        "   y_test_label.append(y_test_label_temp)"
      ],
      "execution_count": null,
      "outputs": [
        {
          "output_type": "display_data",
          "data": {
            "application/vnd.jupyter.widget-view+json": {
              "model_id": "825a3c907d924cddae3a3b15bf8fb7d7",
              "version_major": 2,
              "version_minor": 0
            },
            "text/plain": [
              "HBox(children=(FloatProgress(value=0.0, max=119971.0), HTML(value='')))"
            ]
          },
          "metadata": {
            "tags": []
          }
        },
        {
          "output_type": "stream",
          "text": [
            "\n"
          ],
          "name": "stdout"
        },
        {
          "output_type": "display_data",
          "data": {
            "application/vnd.jupyter.widget-view+json": {
              "model_id": "5e2d73b550814fcdbd90307abf7f9629",
              "version_major": 2,
              "version_minor": 0
            },
            "text/plain": [
              "HBox(children=(FloatProgress(value=0.0, max=10000.0), HTML(value='')))"
            ]
          },
          "metadata": {
            "tags": []
          }
        },
        {
          "output_type": "stream",
          "text": [
            "\n"
          ],
          "name": "stdout"
        }
      ]
    },
    {
      "cell_type": "code",
      "metadata": {
        "colab": {
          "base_uri": "https://localhost:8080/",
          "height": 508,
          "referenced_widgets": [
            "27ec11d31c2c4c9ca972f2fe3049fee1",
            "5de8c69ac83d49a6956a750b5acdadb9",
            "75a0a99f42ce43f1ae5b509c9c16e18b",
            "4b169e0650374821981260224d16be69",
            "cb2f4506a88244b6bda127b0bdb1369a",
            "aad815c4df814b12898cdad3228fd3ff",
            "64af2b1180a74449a901a8b970758787",
            "ba7494cb160f4dc98266d93dd65f23c7"
          ]
        },
        "id": "sWwY_wV0Igyv",
        "outputId": "b9900c17-7e11-49b5-899e-3c24c29dca2d"
      },
      "source": [
        "model_linear300 = WineReviewMachine_V3((max_review_length,), word2vec_map, I2W_nopad)\n",
        "model_linear300.summary()"
      ],
      "execution_count": null,
      "outputs": [
        {
          "output_type": "display_data",
          "data": {
            "application/vnd.jupyter.widget-view+json": {
              "model_id": "27ec11d31c2c4c9ca972f2fe3049fee1",
              "version_major": 2,
              "version_minor": 0
            },
            "text/plain": [
              "HBox(children=(FloatProgress(value=0.0, max=24422.0), HTML(value='')))"
            ]
          },
          "metadata": {
            "tags": []
          }
        },
        {
          "output_type": "stream",
          "text": [
            "\n",
            "Model: \"functional_7\"\n",
            "_________________________________________________________________\n",
            "Layer (type)                 Output Shape              Param #   \n",
            "=================================================================\n",
            "input_4 (InputLayer)         [(None, 136)]             0         \n",
            "_________________________________________________________________\n",
            "embedding_5 (Embedding)      (None, 136, 300)          7326900   \n",
            "_________________________________________________________________\n",
            "bidirectional_6 (Bidirection (None, 136, 512)          1140736   \n",
            "_________________________________________________________________\n",
            "dropout_6 (Dropout)          (None, 136, 512)          0         \n",
            "_________________________________________________________________\n",
            "bidirectional_7 (Bidirection (None, 512)               1574912   \n",
            "_________________________________________________________________\n",
            "dropout_7 (Dropout)          (None, 512)               0         \n",
            "_________________________________________________________________\n",
            "dense_4 (Dense)              (None, 20)                10260     \n",
            "_________________________________________________________________\n",
            "dense_5 (Dense)              (None, 1)                 21        \n",
            "_________________________________________________________________\n",
            "activation_3 (Activation)    (None, 1)                 0         \n",
            "=================================================================\n",
            "Total params: 10,052,829\n",
            "Trainable params: 10,052,829\n",
            "Non-trainable params: 0\n",
            "_________________________________________________________________\n"
          ],
          "name": "stdout"
        }
      ]
    },
    {
      "cell_type": "code",
      "metadata": {
        "colab": {
          "base_uri": "https://localhost:8080/"
        },
        "id": "C1q03C0x2Tdh",
        "outputId": "51e67dda-a41b-48ba-ca35-13faeb55a087"
      },
      "source": [
        "model_linear300.compile(loss=tf.keras.losses.MeanSquaredError(), optimizer='adam', metrics=[tf.keras.losses.MeanSquaredError()])\n",
        "model_linear300.fit(dataset_train,epochs=10,verbose=1,validation_data=dataset_test)"
      ],
      "execution_count": null,
      "outputs": [
        {
          "output_type": "stream",
          "text": [
            "Epoch 1/10\n",
            "117/117 [==============================] - 74s 629ms/step - loss: 0.2418 - mean_squared_error: 0.2418 - val_loss: 0.2224 - val_mean_squared_error: 0.2224\n",
            "Epoch 2/10\n",
            "117/117 [==============================] - 71s 610ms/step - loss: 0.2240 - mean_squared_error: 0.2240 - val_loss: 0.2223 - val_mean_squared_error: 0.2223\n",
            "Epoch 3/10\n",
            "117/117 [==============================] - 71s 604ms/step - loss: 0.2232 - mean_squared_error: 0.2232 - val_loss: 0.2223 - val_mean_squared_error: 0.2223\n",
            "Epoch 4/10\n",
            "117/117 [==============================] - 70s 600ms/step - loss: 0.2228 - mean_squared_error: 0.2228 - val_loss: 0.2222 - val_mean_squared_error: 0.2222\n",
            "Epoch 5/10\n",
            "117/117 [==============================] - 71s 607ms/step - loss: 0.2226 - mean_squared_error: 0.2226 - val_loss: 0.2222 - val_mean_squared_error: 0.2222\n",
            "Epoch 6/10\n",
            "117/117 [==============================] - 71s 607ms/step - loss: 0.2225 - mean_squared_error: 0.2225 - val_loss: 0.2222 - val_mean_squared_error: 0.2222\n",
            "Epoch 7/10\n",
            "117/117 [==============================] - 71s 607ms/step - loss: 0.2224 - mean_squared_error: 0.2224 - val_loss: 0.2222 - val_mean_squared_error: 0.2222\n",
            "Epoch 8/10\n",
            "117/117 [==============================] - 71s 607ms/step - loss: 0.2224 - mean_squared_error: 0.2224 - val_loss: 0.2222 - val_mean_squared_error: 0.2222\n",
            "Epoch 9/10\n",
            "117/117 [==============================] - 70s 597ms/step - loss: 0.2224 - mean_squared_error: 0.2224 - val_loss: 0.2222 - val_mean_squared_error: 0.2222\n",
            "Epoch 10/10\n",
            "117/117 [==============================] - 70s 598ms/step - loss: 0.2224 - mean_squared_error: 0.2224 - val_loss: 0.2222 - val_mean_squared_error: 0.2222\n"
          ],
          "name": "stdout"
        },
        {
          "output_type": "execute_result",
          "data": {
            "text/plain": [
              "<tensorflow.python.keras.callbacks.History at 0x7eff2a1ddbe0>"
            ]
          },
          "metadata": {
            "tags": []
          },
          "execution_count": 54
        }
      ]
    },
    {
      "cell_type": "code",
      "metadata": {
        "id": "D9e5lAC4ycj2"
      },
      "source": [
        ""
      ],
      "execution_count": null,
      "outputs": []
    }
  ]
}