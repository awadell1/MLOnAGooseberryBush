{
  "nbformat": 4,
  "nbformat_minor": 0,
  "metadata": {
    "colab": {
      "name": "Data_Preprocessing_new.ipynb",
      "provenance": [],
      "authorship_tag": "ABX9TyMrl+vEWg450ftgrXHyJBZN",
      "include_colab_link": true
    },
    "kernelspec": {
      "name": "python3",
      "display_name": "Python 3"
    },
    "widgets": {
      "application/vnd.jupyter.widget-state+json": {
        "4c86ebf556334eddb5bb286c253fbabe": {
          "model_module": "@jupyter-widgets/controls",
          "model_name": "HBoxModel",
          "state": {
            "_view_name": "HBoxView",
            "_dom_classes": [],
            "_model_name": "HBoxModel",
            "_view_module": "@jupyter-widgets/controls",
            "_model_module_version": "1.5.0",
            "_view_count": null,
            "_view_module_version": "1.5.0",
            "box_style": "",
            "layout": "IPY_MODEL_0456260e6f6e47ada5d7067ae0b50aee",
            "_model_module": "@jupyter-widgets/controls",
            "children": [
              "IPY_MODEL_a5e80fa127924681b072f1e205e586b1",
              "IPY_MODEL_b20810b658fd48b79ef5de0e9e2a1350"
            ]
          }
        },
        "0456260e6f6e47ada5d7067ae0b50aee": {
          "model_module": "@jupyter-widgets/base",
          "model_name": "LayoutModel",
          "state": {
            "_view_name": "LayoutView",
            "grid_template_rows": null,
            "right": null,
            "justify_content": null,
            "_view_module": "@jupyter-widgets/base",
            "overflow": null,
            "_model_module_version": "1.2.0",
            "_view_count": null,
            "flex_flow": null,
            "width": null,
            "min_width": null,
            "border": null,
            "align_items": null,
            "bottom": null,
            "_model_module": "@jupyter-widgets/base",
            "top": null,
            "grid_column": null,
            "overflow_y": null,
            "overflow_x": null,
            "grid_auto_flow": null,
            "grid_area": null,
            "grid_template_columns": null,
            "flex": null,
            "_model_name": "LayoutModel",
            "justify_items": null,
            "grid_row": null,
            "max_height": null,
            "align_content": null,
            "visibility": null,
            "align_self": null,
            "height": null,
            "min_height": null,
            "padding": null,
            "grid_auto_rows": null,
            "grid_gap": null,
            "max_width": null,
            "order": null,
            "_view_module_version": "1.2.0",
            "grid_template_areas": null,
            "object_position": null,
            "object_fit": null,
            "grid_auto_columns": null,
            "margin": null,
            "display": null,
            "left": null
          }
        },
        "a5e80fa127924681b072f1e205e586b1": {
          "model_module": "@jupyter-widgets/controls",
          "model_name": "FloatProgressModel",
          "state": {
            "_view_name": "ProgressView",
            "style": "IPY_MODEL_e3f084bfc56844feb6ae6bd29bae88ce",
            "_dom_classes": [],
            "description": "",
            "_model_name": "FloatProgressModel",
            "bar_style": "success",
            "max": 1,
            "_view_module": "@jupyter-widgets/controls",
            "_model_module_version": "1.5.0",
            "value": 1,
            "_view_count": null,
            "_view_module_version": "1.5.0",
            "orientation": "horizontal",
            "min": 0,
            "description_tooltip": null,
            "_model_module": "@jupyter-widgets/controls",
            "layout": "IPY_MODEL_e25abcd2b53a4c6a92378c5576eae677"
          }
        },
        "b20810b658fd48b79ef5de0e9e2a1350": {
          "model_module": "@jupyter-widgets/controls",
          "model_name": "HTMLModel",
          "state": {
            "_view_name": "HTMLView",
            "style": "IPY_MODEL_860f2f6f6a20425a9a50bb43dbf26f85",
            "_dom_classes": [],
            "description": "",
            "_model_name": "HTMLModel",
            "placeholder": "​",
            "_view_module": "@jupyter-widgets/controls",
            "_model_module_version": "1.5.0",
            "value": " 129971/? [00:56&lt;00:00, 2306.36it/s]",
            "_view_count": null,
            "_view_module_version": "1.5.0",
            "description_tooltip": null,
            "_model_module": "@jupyter-widgets/controls",
            "layout": "IPY_MODEL_e63739256d8c44978079c721f04692a7"
          }
        },
        "e3f084bfc56844feb6ae6bd29bae88ce": {
          "model_module": "@jupyter-widgets/controls",
          "model_name": "ProgressStyleModel",
          "state": {
            "_view_name": "StyleView",
            "_model_name": "ProgressStyleModel",
            "description_width": "initial",
            "_view_module": "@jupyter-widgets/base",
            "_model_module_version": "1.5.0",
            "_view_count": null,
            "_view_module_version": "1.2.0",
            "bar_color": null,
            "_model_module": "@jupyter-widgets/controls"
          }
        },
        "e25abcd2b53a4c6a92378c5576eae677": {
          "model_module": "@jupyter-widgets/base",
          "model_name": "LayoutModel",
          "state": {
            "_view_name": "LayoutView",
            "grid_template_rows": null,
            "right": null,
            "justify_content": null,
            "_view_module": "@jupyter-widgets/base",
            "overflow": null,
            "_model_module_version": "1.2.0",
            "_view_count": null,
            "flex_flow": null,
            "width": null,
            "min_width": null,
            "border": null,
            "align_items": null,
            "bottom": null,
            "_model_module": "@jupyter-widgets/base",
            "top": null,
            "grid_column": null,
            "overflow_y": null,
            "overflow_x": null,
            "grid_auto_flow": null,
            "grid_area": null,
            "grid_template_columns": null,
            "flex": null,
            "_model_name": "LayoutModel",
            "justify_items": null,
            "grid_row": null,
            "max_height": null,
            "align_content": null,
            "visibility": null,
            "align_self": null,
            "height": null,
            "min_height": null,
            "padding": null,
            "grid_auto_rows": null,
            "grid_gap": null,
            "max_width": null,
            "order": null,
            "_view_module_version": "1.2.0",
            "grid_template_areas": null,
            "object_position": null,
            "object_fit": null,
            "grid_auto_columns": null,
            "margin": null,
            "display": null,
            "left": null
          }
        },
        "860f2f6f6a20425a9a50bb43dbf26f85": {
          "model_module": "@jupyter-widgets/controls",
          "model_name": "DescriptionStyleModel",
          "state": {
            "_view_name": "StyleView",
            "_model_name": "DescriptionStyleModel",
            "description_width": "",
            "_view_module": "@jupyter-widgets/base",
            "_model_module_version": "1.5.0",
            "_view_count": null,
            "_view_module_version": "1.2.0",
            "_model_module": "@jupyter-widgets/controls"
          }
        },
        "e63739256d8c44978079c721f04692a7": {
          "model_module": "@jupyter-widgets/base",
          "model_name": "LayoutModel",
          "state": {
            "_view_name": "LayoutView",
            "grid_template_rows": null,
            "right": null,
            "justify_content": null,
            "_view_module": "@jupyter-widgets/base",
            "overflow": null,
            "_model_module_version": "1.2.0",
            "_view_count": null,
            "flex_flow": null,
            "width": null,
            "min_width": null,
            "border": null,
            "align_items": null,
            "bottom": null,
            "_model_module": "@jupyter-widgets/base",
            "top": null,
            "grid_column": null,
            "overflow_y": null,
            "overflow_x": null,
            "grid_auto_flow": null,
            "grid_area": null,
            "grid_template_columns": null,
            "flex": null,
            "_model_name": "LayoutModel",
            "justify_items": null,
            "grid_row": null,
            "max_height": null,
            "align_content": null,
            "visibility": null,
            "align_self": null,
            "height": null,
            "min_height": null,
            "padding": null,
            "grid_auto_rows": null,
            "grid_gap": null,
            "max_width": null,
            "order": null,
            "_view_module_version": "1.2.0",
            "grid_template_areas": null,
            "object_position": null,
            "object_fit": null,
            "grid_auto_columns": null,
            "margin": null,
            "display": null,
            "left": null
          }
        },
        "e5ccbe0e85a64e1bac5995d0fce3406d": {
          "model_module": "@jupyter-widgets/controls",
          "model_name": "HBoxModel",
          "state": {
            "_view_name": "HBoxView",
            "_dom_classes": [],
            "_model_name": "HBoxModel",
            "_view_module": "@jupyter-widgets/controls",
            "_model_module_version": "1.5.0",
            "_view_count": null,
            "_view_module_version": "1.5.0",
            "box_style": "",
            "layout": "IPY_MODEL_03b260b4a923495e9ffc13e31fcaef29",
            "_model_module": "@jupyter-widgets/controls",
            "children": [
              "IPY_MODEL_551beef79ce14d91b511837279c81568",
              "IPY_MODEL_a437edb23c224feb92ff49e4bd81205d"
            ]
          }
        },
        "03b260b4a923495e9ffc13e31fcaef29": {
          "model_module": "@jupyter-widgets/base",
          "model_name": "LayoutModel",
          "state": {
            "_view_name": "LayoutView",
            "grid_template_rows": null,
            "right": null,
            "justify_content": null,
            "_view_module": "@jupyter-widgets/base",
            "overflow": null,
            "_model_module_version": "1.2.0",
            "_view_count": null,
            "flex_flow": null,
            "width": null,
            "min_width": null,
            "border": null,
            "align_items": null,
            "bottom": null,
            "_model_module": "@jupyter-widgets/base",
            "top": null,
            "grid_column": null,
            "overflow_y": null,
            "overflow_x": null,
            "grid_auto_flow": null,
            "grid_area": null,
            "grid_template_columns": null,
            "flex": null,
            "_model_name": "LayoutModel",
            "justify_items": null,
            "grid_row": null,
            "max_height": null,
            "align_content": null,
            "visibility": null,
            "align_self": null,
            "height": null,
            "min_height": null,
            "padding": null,
            "grid_auto_rows": null,
            "grid_gap": null,
            "max_width": null,
            "order": null,
            "_view_module_version": "1.2.0",
            "grid_template_areas": null,
            "object_position": null,
            "object_fit": null,
            "grid_auto_columns": null,
            "margin": null,
            "display": null,
            "left": null
          }
        },
        "551beef79ce14d91b511837279c81568": {
          "model_module": "@jupyter-widgets/controls",
          "model_name": "FloatProgressModel",
          "state": {
            "_view_name": "ProgressView",
            "style": "IPY_MODEL_41605fb1110b40d9a4c4e38961bbf432",
            "_dom_classes": [],
            "description": "",
            "_model_name": "FloatProgressModel",
            "bar_style": "success",
            "max": 1,
            "_view_module": "@jupyter-widgets/controls",
            "_model_module_version": "1.5.0",
            "value": 1,
            "_view_count": null,
            "_view_module_version": "1.5.0",
            "orientation": "horizontal",
            "min": 0,
            "description_tooltip": null,
            "_model_module": "@jupyter-widgets/controls",
            "layout": "IPY_MODEL_aac2cb8daa3c49759476db2229f4bc28"
          }
        },
        "a437edb23c224feb92ff49e4bd81205d": {
          "model_module": "@jupyter-widgets/controls",
          "model_name": "HTMLModel",
          "state": {
            "_view_name": "HTMLView",
            "style": "IPY_MODEL_bbb1d32d00534b8c8ffad9718a710ea2",
            "_dom_classes": [],
            "description": "",
            "_model_name": "HTMLModel",
            "placeholder": "​",
            "_view_module": "@jupyter-widgets/controls",
            "_model_module_version": "1.5.0",
            "value": " 129971/? [00:21&lt;00:00, 6020.97it/s]",
            "_view_count": null,
            "_view_module_version": "1.5.0",
            "description_tooltip": null,
            "_model_module": "@jupyter-widgets/controls",
            "layout": "IPY_MODEL_2248b8fafadd4f4f9660e608bb9a3f1b"
          }
        },
        "41605fb1110b40d9a4c4e38961bbf432": {
          "model_module": "@jupyter-widgets/controls",
          "model_name": "ProgressStyleModel",
          "state": {
            "_view_name": "StyleView",
            "_model_name": "ProgressStyleModel",
            "description_width": "initial",
            "_view_module": "@jupyter-widgets/base",
            "_model_module_version": "1.5.0",
            "_view_count": null,
            "_view_module_version": "1.2.0",
            "bar_color": null,
            "_model_module": "@jupyter-widgets/controls"
          }
        },
        "aac2cb8daa3c49759476db2229f4bc28": {
          "model_module": "@jupyter-widgets/base",
          "model_name": "LayoutModel",
          "state": {
            "_view_name": "LayoutView",
            "grid_template_rows": null,
            "right": null,
            "justify_content": null,
            "_view_module": "@jupyter-widgets/base",
            "overflow": null,
            "_model_module_version": "1.2.0",
            "_view_count": null,
            "flex_flow": null,
            "width": null,
            "min_width": null,
            "border": null,
            "align_items": null,
            "bottom": null,
            "_model_module": "@jupyter-widgets/base",
            "top": null,
            "grid_column": null,
            "overflow_y": null,
            "overflow_x": null,
            "grid_auto_flow": null,
            "grid_area": null,
            "grid_template_columns": null,
            "flex": null,
            "_model_name": "LayoutModel",
            "justify_items": null,
            "grid_row": null,
            "max_height": null,
            "align_content": null,
            "visibility": null,
            "align_self": null,
            "height": null,
            "min_height": null,
            "padding": null,
            "grid_auto_rows": null,
            "grid_gap": null,
            "max_width": null,
            "order": null,
            "_view_module_version": "1.2.0",
            "grid_template_areas": null,
            "object_position": null,
            "object_fit": null,
            "grid_auto_columns": null,
            "margin": null,
            "display": null,
            "left": null
          }
        },
        "bbb1d32d00534b8c8ffad9718a710ea2": {
          "model_module": "@jupyter-widgets/controls",
          "model_name": "DescriptionStyleModel",
          "state": {
            "_view_name": "StyleView",
            "_model_name": "DescriptionStyleModel",
            "description_width": "",
            "_view_module": "@jupyter-widgets/base",
            "_model_module_version": "1.5.0",
            "_view_count": null,
            "_view_module_version": "1.2.0",
            "_model_module": "@jupyter-widgets/controls"
          }
        },
        "2248b8fafadd4f4f9660e608bb9a3f1b": {
          "model_module": "@jupyter-widgets/base",
          "model_name": "LayoutModel",
          "state": {
            "_view_name": "LayoutView",
            "grid_template_rows": null,
            "right": null,
            "justify_content": null,
            "_view_module": "@jupyter-widgets/base",
            "overflow": null,
            "_model_module_version": "1.2.0",
            "_view_count": null,
            "flex_flow": null,
            "width": null,
            "min_width": null,
            "border": null,
            "align_items": null,
            "bottom": null,
            "_model_module": "@jupyter-widgets/base",
            "top": null,
            "grid_column": null,
            "overflow_y": null,
            "overflow_x": null,
            "grid_auto_flow": null,
            "grid_area": null,
            "grid_template_columns": null,
            "flex": null,
            "_model_name": "LayoutModel",
            "justify_items": null,
            "grid_row": null,
            "max_height": null,
            "align_content": null,
            "visibility": null,
            "align_self": null,
            "height": null,
            "min_height": null,
            "padding": null,
            "grid_auto_rows": null,
            "grid_gap": null,
            "max_width": null,
            "order": null,
            "_view_module_version": "1.2.0",
            "grid_template_areas": null,
            "object_position": null,
            "object_fit": null,
            "grid_auto_columns": null,
            "margin": null,
            "display": null,
            "left": null
          }
        },
        "78c7a6319d4e445aa88d09cbf5c67c30": {
          "model_module": "@jupyter-widgets/controls",
          "model_name": "HBoxModel",
          "state": {
            "_view_name": "HBoxView",
            "_dom_classes": [],
            "_model_name": "HBoxModel",
            "_view_module": "@jupyter-widgets/controls",
            "_model_module_version": "1.5.0",
            "_view_count": null,
            "_view_module_version": "1.5.0",
            "box_style": "",
            "layout": "IPY_MODEL_6ffcc0c30a124b3480415fabccd675a6",
            "_model_module": "@jupyter-widgets/controls",
            "children": [
              "IPY_MODEL_855ad9471eae4f3dafd9877ef5dcfb2d",
              "IPY_MODEL_4c134e7c2c0d47d6bab4bbac5abb01f7"
            ]
          }
        },
        "6ffcc0c30a124b3480415fabccd675a6": {
          "model_module": "@jupyter-widgets/base",
          "model_name": "LayoutModel",
          "state": {
            "_view_name": "LayoutView",
            "grid_template_rows": null,
            "right": null,
            "justify_content": null,
            "_view_module": "@jupyter-widgets/base",
            "overflow": null,
            "_model_module_version": "1.2.0",
            "_view_count": null,
            "flex_flow": null,
            "width": null,
            "min_width": null,
            "border": null,
            "align_items": null,
            "bottom": null,
            "_model_module": "@jupyter-widgets/base",
            "top": null,
            "grid_column": null,
            "overflow_y": null,
            "overflow_x": null,
            "grid_auto_flow": null,
            "grid_area": null,
            "grid_template_columns": null,
            "flex": null,
            "_model_name": "LayoutModel",
            "justify_items": null,
            "grid_row": null,
            "max_height": null,
            "align_content": null,
            "visibility": null,
            "align_self": null,
            "height": null,
            "min_height": null,
            "padding": null,
            "grid_auto_rows": null,
            "grid_gap": null,
            "max_width": null,
            "order": null,
            "_view_module_version": "1.2.0",
            "grid_template_areas": null,
            "object_position": null,
            "object_fit": null,
            "grid_auto_columns": null,
            "margin": null,
            "display": null,
            "left": null
          }
        },
        "855ad9471eae4f3dafd9877ef5dcfb2d": {
          "model_module": "@jupyter-widgets/controls",
          "model_name": "FloatProgressModel",
          "state": {
            "_view_name": "ProgressView",
            "style": "IPY_MODEL_bdefceb838e24ca49537bd59825f7806",
            "_dom_classes": [],
            "description": "",
            "_model_name": "FloatProgressModel",
            "bar_style": "success",
            "max": 1,
            "_view_module": "@jupyter-widgets/controls",
            "_model_module_version": "1.5.0",
            "value": 1,
            "_view_count": null,
            "_view_module_version": "1.5.0",
            "orientation": "horizontal",
            "min": 0,
            "description_tooltip": null,
            "_model_module": "@jupyter-widgets/controls",
            "layout": "IPY_MODEL_ea03a2dda3dd4192822f23087a2f8e67"
          }
        },
        "4c134e7c2c0d47d6bab4bbac5abb01f7": {
          "model_module": "@jupyter-widgets/controls",
          "model_name": "HTMLModel",
          "state": {
            "_view_name": "HTMLView",
            "style": "IPY_MODEL_144f112fc9054002a2113c3e6072919f",
            "_dom_classes": [],
            "description": "",
            "_model_name": "HTMLModel",
            "placeholder": "​",
            "_view_module": "@jupyter-widgets/controls",
            "_model_module_version": "1.5.0",
            "value": " 129971/? [00:17&lt;00:00, 7231.22it/s]",
            "_view_count": null,
            "_view_module_version": "1.5.0",
            "description_tooltip": null,
            "_model_module": "@jupyter-widgets/controls",
            "layout": "IPY_MODEL_5087185908df4511851501e90113189a"
          }
        },
        "bdefceb838e24ca49537bd59825f7806": {
          "model_module": "@jupyter-widgets/controls",
          "model_name": "ProgressStyleModel",
          "state": {
            "_view_name": "StyleView",
            "_model_name": "ProgressStyleModel",
            "description_width": "initial",
            "_view_module": "@jupyter-widgets/base",
            "_model_module_version": "1.5.0",
            "_view_count": null,
            "_view_module_version": "1.2.0",
            "bar_color": null,
            "_model_module": "@jupyter-widgets/controls"
          }
        },
        "ea03a2dda3dd4192822f23087a2f8e67": {
          "model_module": "@jupyter-widgets/base",
          "model_name": "LayoutModel",
          "state": {
            "_view_name": "LayoutView",
            "grid_template_rows": null,
            "right": null,
            "justify_content": null,
            "_view_module": "@jupyter-widgets/base",
            "overflow": null,
            "_model_module_version": "1.2.0",
            "_view_count": null,
            "flex_flow": null,
            "width": null,
            "min_width": null,
            "border": null,
            "align_items": null,
            "bottom": null,
            "_model_module": "@jupyter-widgets/base",
            "top": null,
            "grid_column": null,
            "overflow_y": null,
            "overflow_x": null,
            "grid_auto_flow": null,
            "grid_area": null,
            "grid_template_columns": null,
            "flex": null,
            "_model_name": "LayoutModel",
            "justify_items": null,
            "grid_row": null,
            "max_height": null,
            "align_content": null,
            "visibility": null,
            "align_self": null,
            "height": null,
            "min_height": null,
            "padding": null,
            "grid_auto_rows": null,
            "grid_gap": null,
            "max_width": null,
            "order": null,
            "_view_module_version": "1.2.0",
            "grid_template_areas": null,
            "object_position": null,
            "object_fit": null,
            "grid_auto_columns": null,
            "margin": null,
            "display": null,
            "left": null
          }
        },
        "144f112fc9054002a2113c3e6072919f": {
          "model_module": "@jupyter-widgets/controls",
          "model_name": "DescriptionStyleModel",
          "state": {
            "_view_name": "StyleView",
            "_model_name": "DescriptionStyleModel",
            "description_width": "",
            "_view_module": "@jupyter-widgets/base",
            "_model_module_version": "1.5.0",
            "_view_count": null,
            "_view_module_version": "1.2.0",
            "_model_module": "@jupyter-widgets/controls"
          }
        },
        "5087185908df4511851501e90113189a": {
          "model_module": "@jupyter-widgets/base",
          "model_name": "LayoutModel",
          "state": {
            "_view_name": "LayoutView",
            "grid_template_rows": null,
            "right": null,
            "justify_content": null,
            "_view_module": "@jupyter-widgets/base",
            "overflow": null,
            "_model_module_version": "1.2.0",
            "_view_count": null,
            "flex_flow": null,
            "width": null,
            "min_width": null,
            "border": null,
            "align_items": null,
            "bottom": null,
            "_model_module": "@jupyter-widgets/base",
            "top": null,
            "grid_column": null,
            "overflow_y": null,
            "overflow_x": null,
            "grid_auto_flow": null,
            "grid_area": null,
            "grid_template_columns": null,
            "flex": null,
            "_model_name": "LayoutModel",
            "justify_items": null,
            "grid_row": null,
            "max_height": null,
            "align_content": null,
            "visibility": null,
            "align_self": null,
            "height": null,
            "min_height": null,
            "padding": null,
            "grid_auto_rows": null,
            "grid_gap": null,
            "max_width": null,
            "order": null,
            "_view_module_version": "1.2.0",
            "grid_template_areas": null,
            "object_position": null,
            "object_fit": null,
            "grid_auto_columns": null,
            "margin": null,
            "display": null,
            "left": null
          }
        },
        "19fe558fc9e0438bbeced0992cf56c20": {
          "model_module": "@jupyter-widgets/controls",
          "model_name": "HBoxModel",
          "state": {
            "_view_name": "HBoxView",
            "_dom_classes": [],
            "_model_name": "HBoxModel",
            "_view_module": "@jupyter-widgets/controls",
            "_model_module_version": "1.5.0",
            "_view_count": null,
            "_view_module_version": "1.5.0",
            "box_style": "",
            "layout": "IPY_MODEL_717b7385e256451dbc4e481afd9716aa",
            "_model_module": "@jupyter-widgets/controls",
            "children": [
              "IPY_MODEL_9c4571934c254179b716f6594613d8e7",
              "IPY_MODEL_3d197241c2e74fcea8abb153e0ed16ee"
            ]
          }
        },
        "717b7385e256451dbc4e481afd9716aa": {
          "model_module": "@jupyter-widgets/base",
          "model_name": "LayoutModel",
          "state": {
            "_view_name": "LayoutView",
            "grid_template_rows": null,
            "right": null,
            "justify_content": null,
            "_view_module": "@jupyter-widgets/base",
            "overflow": null,
            "_model_module_version": "1.2.0",
            "_view_count": null,
            "flex_flow": null,
            "width": null,
            "min_width": null,
            "border": null,
            "align_items": null,
            "bottom": null,
            "_model_module": "@jupyter-widgets/base",
            "top": null,
            "grid_column": null,
            "overflow_y": null,
            "overflow_x": null,
            "grid_auto_flow": null,
            "grid_area": null,
            "grid_template_columns": null,
            "flex": null,
            "_model_name": "LayoutModel",
            "justify_items": null,
            "grid_row": null,
            "max_height": null,
            "align_content": null,
            "visibility": null,
            "align_self": null,
            "height": null,
            "min_height": null,
            "padding": null,
            "grid_auto_rows": null,
            "grid_gap": null,
            "max_width": null,
            "order": null,
            "_view_module_version": "1.2.0",
            "grid_template_areas": null,
            "object_position": null,
            "object_fit": null,
            "grid_auto_columns": null,
            "margin": null,
            "display": null,
            "left": null
          }
        },
        "9c4571934c254179b716f6594613d8e7": {
          "model_module": "@jupyter-widgets/controls",
          "model_name": "FloatProgressModel",
          "state": {
            "_view_name": "ProgressView",
            "style": "IPY_MODEL_0b451f1d15d743da879c427bbdc7707a",
            "_dom_classes": [],
            "description": "",
            "_model_name": "FloatProgressModel",
            "bar_style": "success",
            "max": 1,
            "_view_module": "@jupyter-widgets/controls",
            "_model_module_version": "1.5.0",
            "value": 1,
            "_view_count": null,
            "_view_module_version": "1.5.0",
            "orientation": "horizontal",
            "min": 0,
            "description_tooltip": null,
            "_model_module": "@jupyter-widgets/controls",
            "layout": "IPY_MODEL_2000a3bc82804691bb43beec669bab27"
          }
        },
        "3d197241c2e74fcea8abb153e0ed16ee": {
          "model_module": "@jupyter-widgets/controls",
          "model_name": "HTMLModel",
          "state": {
            "_view_name": "HTMLView",
            "style": "IPY_MODEL_fde22d3b11814532911a2c4ef0d113ba",
            "_dom_classes": [],
            "description": "",
            "_model_name": "HTMLModel",
            "placeholder": "​",
            "_view_module": "@jupyter-widgets/controls",
            "_model_module_version": "1.5.0",
            "value": " 129971/? [00:21&lt;00:00, 6142.65it/s]",
            "_view_count": null,
            "_view_module_version": "1.5.0",
            "description_tooltip": null,
            "_model_module": "@jupyter-widgets/controls",
            "layout": "IPY_MODEL_4300263df8d34fa9862b85e1db7a3cb0"
          }
        },
        "0b451f1d15d743da879c427bbdc7707a": {
          "model_module": "@jupyter-widgets/controls",
          "model_name": "ProgressStyleModel",
          "state": {
            "_view_name": "StyleView",
            "_model_name": "ProgressStyleModel",
            "description_width": "initial",
            "_view_module": "@jupyter-widgets/base",
            "_model_module_version": "1.5.0",
            "_view_count": null,
            "_view_module_version": "1.2.0",
            "bar_color": null,
            "_model_module": "@jupyter-widgets/controls"
          }
        },
        "2000a3bc82804691bb43beec669bab27": {
          "model_module": "@jupyter-widgets/base",
          "model_name": "LayoutModel",
          "state": {
            "_view_name": "LayoutView",
            "grid_template_rows": null,
            "right": null,
            "justify_content": null,
            "_view_module": "@jupyter-widgets/base",
            "overflow": null,
            "_model_module_version": "1.2.0",
            "_view_count": null,
            "flex_flow": null,
            "width": null,
            "min_width": null,
            "border": null,
            "align_items": null,
            "bottom": null,
            "_model_module": "@jupyter-widgets/base",
            "top": null,
            "grid_column": null,
            "overflow_y": null,
            "overflow_x": null,
            "grid_auto_flow": null,
            "grid_area": null,
            "grid_template_columns": null,
            "flex": null,
            "_model_name": "LayoutModel",
            "justify_items": null,
            "grid_row": null,
            "max_height": null,
            "align_content": null,
            "visibility": null,
            "align_self": null,
            "height": null,
            "min_height": null,
            "padding": null,
            "grid_auto_rows": null,
            "grid_gap": null,
            "max_width": null,
            "order": null,
            "_view_module_version": "1.2.0",
            "grid_template_areas": null,
            "object_position": null,
            "object_fit": null,
            "grid_auto_columns": null,
            "margin": null,
            "display": null,
            "left": null
          }
        },
        "fde22d3b11814532911a2c4ef0d113ba": {
          "model_module": "@jupyter-widgets/controls",
          "model_name": "DescriptionStyleModel",
          "state": {
            "_view_name": "StyleView",
            "_model_name": "DescriptionStyleModel",
            "description_width": "",
            "_view_module": "@jupyter-widgets/base",
            "_model_module_version": "1.5.0",
            "_view_count": null,
            "_view_module_version": "1.2.0",
            "_model_module": "@jupyter-widgets/controls"
          }
        },
        "4300263df8d34fa9862b85e1db7a3cb0": {
          "model_module": "@jupyter-widgets/base",
          "model_name": "LayoutModel",
          "state": {
            "_view_name": "LayoutView",
            "grid_template_rows": null,
            "right": null,
            "justify_content": null,
            "_view_module": "@jupyter-widgets/base",
            "overflow": null,
            "_model_module_version": "1.2.0",
            "_view_count": null,
            "flex_flow": null,
            "width": null,
            "min_width": null,
            "border": null,
            "align_items": null,
            "bottom": null,
            "_model_module": "@jupyter-widgets/base",
            "top": null,
            "grid_column": null,
            "overflow_y": null,
            "overflow_x": null,
            "grid_auto_flow": null,
            "grid_area": null,
            "grid_template_columns": null,
            "flex": null,
            "_model_name": "LayoutModel",
            "justify_items": null,
            "grid_row": null,
            "max_height": null,
            "align_content": null,
            "visibility": null,
            "align_self": null,
            "height": null,
            "min_height": null,
            "padding": null,
            "grid_auto_rows": null,
            "grid_gap": null,
            "max_width": null,
            "order": null,
            "_view_module_version": "1.2.0",
            "grid_template_areas": null,
            "object_position": null,
            "object_fit": null,
            "grid_auto_columns": null,
            "margin": null,
            "display": null,
            "left": null
          }
        }
      }
    }
  },
  "cells": [
    {
      "cell_type": "markdown",
      "metadata": {
        "id": "view-in-github",
        "colab_type": "text"
      },
      "source": [
        "<a href=\"https://colab.research.google.com/github/awadell1/MLOnAGooseberryBush/blob/master/src/Data_Preprocessing_new.ipynb\" target=\"_parent\"><img src=\"https://colab.research.google.com/assets/colab-badge.svg\" alt=\"Open In Colab\"/></a>"
      ]
    },
    {
      "cell_type": "code",
      "metadata": {
        "colab": {
          "base_uri": "https://localhost:8080/"
        },
        "id": "bMREgaDVn7It",
        "outputId": "2c6562cf-1cf8-4573-eb4e-5e6220c8a6ac"
      },
      "source": [
        "from google.colab import drive\n",
        "drive.mount('/content/drive')"
      ],
      "execution_count": 1,
      "outputs": [
        {
          "output_type": "stream",
          "text": [
            "Mounted at /content/drive\n"
          ],
          "name": "stdout"
        }
      ]
    },
    {
      "cell_type": "code",
      "metadata": {
        "id": "E-zP6SHQoCaI"
      },
      "source": [
        "import os\n",
        "import tensorflow as tf\n",
        "from tensorflow import keras\n",
        "import re\n",
        "import string\n",
        "from tqdm.notebook import tqdm #create a progress bar\n",
        "import numpy as np\n",
        "from keras.preprocessing.text import text_to_word_sequence\n",
        "import io\n",
        "import pandas as pd\n",
        "import matplotlib.pyplot as plt\n",
        "from tensorflow.keras.preprocessing.sequence import pad_sequences"
      ],
      "execution_count": 2,
      "outputs": []
    },
    {
      "cell_type": "code",
      "metadata": {
        "colab": {
          "base_uri": "https://localhost:8080/",
          "height": 382
        },
        "id": "-D8AuxlUoOEW",
        "outputId": "576984f8-ff8f-4c56-803b-54d81e88b552"
      },
      "source": [
        "#load the data\n",
        "raw_df=pd.read_csv('/content/drive/My Drive/24787 Group Project  /Data/winemag-data-130k-v2.csv',index_col=0)\n",
        "#get all the description but the last one to make the next step easier\n",
        "#the last description is added back 2 cells later\n",
        "raw_data=raw_df[['description']]\n",
        "raw_data['Length']=raw_data['description'].str.len()\n",
        "raw_data['description'].str.len().hist()"
      ],
      "execution_count": 3,
      "outputs": [
        {
          "output_type": "stream",
          "text": [
            "/usr/local/lib/python3.6/dist-packages/ipykernel_launcher.py:6: SettingWithCopyWarning: \n",
            "A value is trying to be set on a copy of a slice from a DataFrame.\n",
            "Try using .loc[row_indexer,col_indexer] = value instead\n",
            "\n",
            "See the caveats in the documentation: https://pandas.pydata.org/pandas-docs/stable/user_guide/indexing.html#returning-a-view-versus-a-copy\n",
            "  \n"
          ],
          "name": "stderr"
        },
        {
          "output_type": "execute_result",
          "data": {
            "text/plain": [
              "<matplotlib.axes._subplots.AxesSubplot at 0x7fe058aa1b70>"
            ]
          },
          "metadata": {
            "tags": []
          },
          "execution_count": 3
        },
        {
          "output_type": "display_data",
          "data": {
            "image/png": "[encoded data removed]",
            "text/plain": [
              "<Figure size 432x288 with 1 Axes>"
            ]
          },
          "metadata": {
            "tags": [],
            "needs_background": "light"
          }
        }
      ]
    },
    {
      "cell_type": "markdown",
      "metadata": {
        "id": "oO92nmCDRS0j"
      },
      "source": [
        "#### I was wrong about deleting the double quotation mark. It turns out it was because I put the double quotation mark at the wrong place in the filter. And also, now the issue of '\\xad' is fixed as well. No need to explicitly get rid of it."
      ]
    },
    {
      "cell_type": "markdown",
      "metadata": {
        "id": "MyPhob89RyV8"
      },
      "source": [
        "##### This following function is a helper function to check whether a certain vocab is in the filtered dictionary given a customized filter."
      ]
    },
    {
      "cell_type": "code",
      "metadata": {
        "id": "5u0lxO4xoXUA"
      },
      "source": [
        "def check_word(string_to_find, filter_to_use, df):\n",
        "  #this function will check whether a certain word is in the description after you provide the filters.\n",
        "    all_words = []\n",
        "    count=0\n",
        "    for i, row in tqdm(df.iterrows()):\n",
        "            temp=text_to_word_sequence(row[0],filters=filter_to_use)\n",
        "            all_words.extend(temp)\n",
        "            if string_to_find in temp:\n",
        "               count+=1\n",
        "               print(\"'\"+string_to_find+\"'\"+\" appears in the\",str(i)+\"th line in the description\")\n",
        "    if count == 0:\n",
        "       print(\"'\"+string_to_find+\"'\"+\" is not in the cleaned up text.\")"
      ],
      "execution_count": 5,
      "outputs": []
    },
    {
      "cell_type": "code",
      "metadata": {
        "colab": {
          "base_uri": "https://localhost:8080/",
          "height": 148,
          "referenced_widgets": [
            "4c86ebf556334eddb5bb286c253fbabe",
            "0456260e6f6e47ada5d7067ae0b50aee",
            "a5e80fa127924681b072f1e205e586b1",
            "b20810b658fd48b79ef5de0e9e2a1350",
            "e3f084bfc56844feb6ae6bd29bae88ce",
            "e25abcd2b53a4c6a92378c5576eae677",
            "860f2f6f6a20425a9a50bb43dbf26f85",
            "e63739256d8c44978079c721f04692a7",
            "e5ccbe0e85a64e1bac5995d0fce3406d",
            "03b260b4a923495e9ffc13e31fcaef29",
            "551beef79ce14d91b511837279c81568",
            "a437edb23c224feb92ff49e4bd81205d",
            "41605fb1110b40d9a4c4e38961bbf432",
            "aac2cb8daa3c49759476db2229f4bc28",
            "bbb1d32d00534b8c8ffad9718a710ea2",
            "2248b8fafadd4f4f9660e608bb9a3f1b"
          ]
        },
        "id": "BP8eojfdp5kG",
        "outputId": "03af2121-bb0c-4845-894e-20bb0e09d3da"
      },
      "source": [
        "#examples (!!!remember to update the filters if you find a new text to get rid off!!!)\n",
        "check_word(string_to_find='\"loin\"',filter_to_use='­­\"…–â€˜‘’—!#$%&()*+,-./:;<=>?@[\\\\]^_`{|}~\\t\\n“”',df=raw_data)\n",
        "check_word(string_to_find='intensfiy',filter_to_use='­­\"…–â€˜‘’—!#$%&()*+,-./:;<=>?@[\\\\]^_`{|}~\\t\\n“”',df=raw_data)"
      ],
      "execution_count": 6,
      "outputs": [
        {
          "output_type": "display_data",
          "data": {
            "application/vnd.jupyter.widget-view+json": {
              "model_id": "4c86ebf556334eddb5bb286c253fbabe",
              "version_minor": 0,
              "version_major": 2
            },
            "text/plain": [
              "HBox(children=(FloatProgress(value=1.0, bar_style='info', max=1.0), HTML(value='')))"
            ]
          },
          "metadata": {
            "tags": []
          }
        },
        {
          "output_type": "stream",
          "text": [
            "\n",
            "'\"loin\"' is not in the cleaned up text.\n"
          ],
          "name": "stdout"
        },
        {
          "output_type": "display_data",
          "data": {
            "application/vnd.jupyter.widget-view+json": {
              "model_id": "e5ccbe0e85a64e1bac5995d0fce3406d",
              "version_minor": 0,
              "version_major": 2
            },
            "text/plain": [
              "HBox(children=(FloatProgress(value=1.0, bar_style='info', max=1.0), HTML(value='')))"
            ]
          },
          "metadata": {
            "tags": []
          }
        },
        {
          "output_type": "stream",
          "text": [
            "'intensfiy' appears in the 92247th line in the description\n",
            "\n"
          ],
          "name": "stdout"
        }
      ]
    },
    {
      "cell_type": "markdown",
      "metadata": {
        "id": "wR5-7uCgV_du"
      },
      "source": [
        "##### This function will clean up the text and create a word_count dataframe. Also show the plot if the plotter option is turned on"
      ]
    },
    {
      "cell_type": "code",
      "metadata": {
        "id": "3C-7m9JZSMsH"
      },
      "source": [
        "def text_clean_up(dataframe,filter_to_use,plotter):\n",
        "    all_words = []\n",
        "    for i, row in tqdm(dataframe.iterrows()):\n",
        "            all_words.extend(text_to_word_sequence(row[0],filters=filter_to_use))\n",
        "    word_counts = pd.Series(all_words).value_counts()\n",
        "    if plotter == True:\n",
        "        plt.figure(figsize=(12,6))\n",
        "        print('20 most common tokens')\n",
        "        word_counts.head(20).iloc[::-1].plot.barh()\n",
        "        plt.xlabel('# of occurences')\n",
        "        plt.show()\n",
        "\n",
        "        plt.figure(figsize=(12,6))\n",
        "        print('20 least common tokens')\n",
        "        word_counts.tail(20).iloc[::-1].plot.barh()\n",
        "        plt.xlabel('# of occurences')\n",
        "        plt.show()\n",
        "    return all_words, word_counts"
      ],
      "execution_count": 4,
      "outputs": []
    },
    {
      "cell_type": "code",
      "metadata": {
        "colab": {
          "base_uri": "https://localhost:8080/",
          "height": 842,
          "referenced_widgets": [
            "78c7a6319d4e445aa88d09cbf5c67c30",
            "6ffcc0c30a124b3480415fabccd675a6",
            "855ad9471eae4f3dafd9877ef5dcfb2d",
            "4c134e7c2c0d47d6bab4bbac5abb01f7",
            "bdefceb838e24ca49537bd59825f7806",
            "ea03a2dda3dd4192822f23087a2f8e67",
            "144f112fc9054002a2113c3e6072919f",
            "5087185908df4511851501e90113189a"
          ]
        },
        "id": "_abnfSuwWaS1",
        "outputId": "2be06391-93c6-437c-bbc6-bc5129a692d1"
      },
      "source": [
        "##(!!!remember to update the filters if you find a new text to get rid off!!!)\n",
        "all_words, word_counts=text_clean_up(dataframe=raw_data,filter_to_use='­­\"…–â€˜‘’—!#$%&()*+,-./:;<=>?@[\\\\]^_`{|}~\\t\\n“”',plotter=True)"
      ],
      "execution_count": 5,
      "outputs": [
        {
          "output_type": "display_data",
          "data": {
            "application/vnd.jupyter.widget-view+json": {
              "model_id": "78c7a6319d4e445aa88d09cbf5c67c30",
              "version_minor": 0,
              "version_major": 2
            },
            "text/plain": [
              "HBox(children=(FloatProgress(value=1.0, bar_style='info', max=1.0), HTML(value='')))"
            ]
          },
          "metadata": {
            "tags": []
          }
        },
        {
          "output_type": "stream",
          "text": [
            "\n",
            "20 most common tokens\n"
          ],
          "name": "stdout"
        },
        {
          "output_type": "display_data",
          "data": {
            "image/png": "[encoded data removed]",
            "text/plain": [
              "<Figure size 864x432 with 1 Axes>"
            ]
          },
          "metadata": {
            "tags": [],
            "needs_background": "light"
          }
        },
        {
          "output_type": "stream",
          "text": [
            "20 least common tokens\n"
          ],
          "name": "stdout"
        },
        {
          "output_type": "display_data",
          "data": {
            "image/png": "[encoded data removed]",
            "text/plain": [
              "<Figure size 864x432 with 1 Axes>"
            ]
          },
          "metadata": {
            "tags": [],
            "needs_background": "light"
          }
        }
      ]
    },
    {
      "cell_type": "code",
      "metadata": {
        "colab": {
          "base_uri": "https://localhost:8080/"
        },
        "id": "s0g2FwGiWwh9",
        "outputId": "ce78ddd8-5af9-4811-cf40-e5d24d0173a9"
      },
      "source": [
        "print('The number of vocab only appears once in the descriptions: '+str(sum(word_counts==1)))\n",
        "print('The ratio of vocab only appears once in the description to the total vocab: '+str(sum(word_counts==1)/len(word_counts)))"
      ],
      "execution_count": 9,
      "outputs": [
        {
          "output_type": "stream",
          "text": [
            "The number of vocab only appears once in the descriptions: 11798\n",
            "The ratio of vocab only appears once in the description to the total vocab: 0.3557042932947419\n"
          ],
          "name": "stdout"
        }
      ]
    },
    {
      "cell_type": "code",
      "metadata": {
        "id": "s4onhAJ7r1G_"
      },
      "source": [
        "def word_counts_saver(data,name):\n",
        "   #save the word_counts if neccessary\n",
        "    word_counts=pd.DataFrame(data)\n",
        "    path = '/content/drive/My Drive/24787 Group Project  /Data/'+name+'.csv'\n",
        "    word_counts.to_csv(path)"
      ],
      "execution_count": 11,
      "outputs": []
    },
    {
      "cell_type": "code",
      "metadata": {
        "id": "9RwKvDeTtKwm"
      },
      "source": [
        "word_counts_saver(data=word_counts,name='word_counts_newest')"
      ],
      "execution_count": 12,
      "outputs": []
    },
    {
      "cell_type": "code",
      "metadata": {
        "id": "-i-RLe-XaoHx"
      },
      "source": [
        "#a helperfunction to print out n items of dictionary\n",
        "from itertools import islice\n",
        " \n",
        "def take(n, iterable):\n",
        "    \"Return first n items of the iterable as a list\"\n",
        "    return list(islice(iterable, n))"
      ],
      "execution_count": 13,
      "outputs": []
    },
    {
      "cell_type": "code",
      "metadata": {
        "id": "AN0JdAdbuIWi"
      },
      "source": [
        "def dict_generator(data):\n",
        "    vocab = pd.DataFrame(data).index.values\n",
        "    vocab=vocab.tolist()\n",
        "    w2ind={}\n",
        "    w2ind[''] = 0 #for padding\n",
        "    ind2w={}\n",
        "    ind2w[0]= '' #for padding\n",
        "    for i,word in enumerate(vocab):\n",
        "        w2ind[word] = i+1\n",
        "        ind2w[i+1] = word\n",
        "    return w2ind, ind2w"
      ],
      "execution_count": 14,
      "outputs": []
    },
    {
      "cell_type": "code",
      "metadata": {
        "colab": {
          "base_uri": "https://localhost:8080/"
        },
        "id": "6mucWPfUZwD5",
        "outputId": "b8d818ff-0856-428c-973d-a43bb14e92fe"
      },
      "source": [
        "word2ind,ind2word=dict_generator(data=word_counts)\n",
        "print('word2ind_dict',take(10, word2ind.items()))\n",
        "print('ind2word_dict',take(10, ind2word.items()))"
      ],
      "execution_count": 15,
      "outputs": [
        {
          "output_type": "stream",
          "text": [
            "word2ind_dict [('', 0), ('and', 1), ('the', 2), ('a', 3), ('of', 4), ('with', 5), ('this', 6), ('is', 7), ('wine', 8), ('flavors', 9)]\n",
            "ind2word_dict [(0, ''), (1, 'and'), (2, 'the'), (3, 'a'), (4, 'of'), (5, 'with'), (6, 'this'), (7, 'is'), (8, 'wine'), (9, 'flavors')]\n"
          ],
          "name": "stdout"
        }
      ]
    },
    {
      "cell_type": "markdown",
      "metadata": {
        "id": "C1YAuBtvbJHl"
      },
      "source": [
        "#### create data for w2v model. This function also separates each sentence by spliting '.'"
      ]
    },
    {
      "cell_type": "code",
      "metadata": {
        "id": "0z2uuAfQuJbe"
      },
      "source": [
        "def sentence_to_indices(dataframe,filter_to_use,w2ind):\n",
        "    sentences_num=[]\n",
        "    for _, row in tqdm(raw_data.iterrows()):\n",
        "        temp_sentences=row[0].split('.')\n",
        "        temp_sentences=list(filter(None, temp_sentences))\n",
        "        for _, sentence in enumerate(temp_sentences):\n",
        "            tokens=text_to_word_sequence(sentence,filters=filter_to_use)\n",
        "            temp_mem=[w2ind[word] for word in tokens]\n",
        "            sentences_num.append(temp_mem)\n",
        "    return sentences_num"
      ],
      "execution_count": 16,
      "outputs": []
    },
    {
      "cell_type": "code",
      "metadata": {
        "colab": {
          "base_uri": "https://localhost:8080/",
          "height": 99,
          "referenced_widgets": [
            "19fe558fc9e0438bbeced0992cf56c20",
            "717b7385e256451dbc4e481afd9716aa",
            "9c4571934c254179b716f6594613d8e7",
            "3d197241c2e74fcea8abb153e0ed16ee",
            "0b451f1d15d743da879c427bbdc7707a",
            "2000a3bc82804691bb43beec669bab27",
            "fde22d3b11814532911a2c4ef0d113ba",
            "4300263df8d34fa9862b85e1db7a3cb0"
          ]
        },
        "id": "2cz9Q2envBVG",
        "outputId": "419da241-e047-4138-a183-ec9ee159139e"
      },
      "source": [
        "##(!!!remember to update the filters if you find a new text to get rid off!!!)\n",
        "sentences_num=sentence_to_indices(dataframe=raw_data,filter_to_use='­­\"…–â€˜‘’—!#$%&()*+,-./:;<=>?@[\\\\]^_`{|}~\\t\\n“”',w2ind=word2ind)\n",
        "print(\"the number of sentences is \"+str(len(sentences_num)))\n",
        "max_sentence_length = max([len(seq) for seq in sentences_num])\n",
        "print(\"the maximum length of the sentence is \"+str(max_sentence_length))"
      ],
      "execution_count": 17,
      "outputs": [
        {
          "output_type": "display_data",
          "data": {
            "application/vnd.jupyter.widget-view+json": {
              "model_id": "19fe558fc9e0438bbeced0992cf56c20",
              "version_minor": 0,
              "version_major": 2
            },
            "text/plain": [
              "HBox(children=(FloatProgress(value=1.0, bar_style='info', max=1.0), HTML(value='')))"
            ]
          },
          "metadata": {
            "tags": []
          }
        },
        {
          "output_type": "stream",
          "text": [
            "\n",
            "the number of sentences is 356461\n",
            "the maximum length of the sentence is 66\n"
          ],
          "name": "stdout"
        }
      ]
    },
    {
      "cell_type": "code",
      "metadata": {
        "id": "qjEmZo8Zvlp8"
      },
      "source": [
        "def sentence_save(data,name,ind2w):\n",
        "    path_to_file = \"/content/drive/My Drive/24787 Group Project  /Data/\"+name+\".txt\"\n",
        "    f= open(path_to_file,\"w\")\n",
        "    for i in range(len(data)):\n",
        "        text = [ind2w[j] for j in data[i]]\n",
        "        for text0 in text:\n",
        "            f.write(text0+'\\t')\n",
        "        f.write('\\n')\n",
        "    f.close()"
      ],
      "execution_count": 18,
      "outputs": []
    },
    {
      "cell_type": "code",
      "metadata": {
        "id": "iSdI7Al9dQPl"
      },
      "source": [
        "sentence_save(data=sentences_num,name='description_sentence_newest',ind2w=ind2word)"
      ],
      "execution_count": 19,
      "outputs": []
    },
    {
      "cell_type": "code",
      "metadata": {
        "id": "UATd5g2txnr3"
      },
      "source": [
        "def sentence_printout(path):\n",
        "    #just to demonstrate the txt file (the first ten sentence)\n",
        "    with open(path) as f: \n",
        "        lines = f.read().splitlines()\n",
        "    for line in lines[:10]:\n",
        "        print(line)\n",
        "    f.close()"
      ],
      "execution_count": 20,
      "outputs": []
    },
    {
      "cell_type": "code",
      "metadata": {
        "colab": {
          "base_uri": "https://localhost:8080/"
        },
        "id": "xg5IqZn3dlmt",
        "outputId": "e4c80633-2a2b-49ab-a394-5023de8c483a"
      },
      "source": [
        "sentence_printout(path= \"/content/drive/My Drive/24787 Group Project  /Data/description_sentence_newest.txt\")"
      ],
      "execution_count": 22,
      "outputs": [
        {
          "output_type": "stream",
          "text": [
            "aromas\tinclude\ttropical\tfruit\tbroom\tbrimstone\tand\tdried\therb\t\n",
            "the\tpalate\tisn't\toverly\texpressive\toffering\tunripened\tapple\tcitrus\tand\tdried\tsage\talongside\tbrisk\tacidity\t\n",
            "this\tis\tripe\tand\tfruity\ta\twine\tthat\tis\tsmooth\twhile\tstill\tstructured\t\n",
            "firm\ttannins\tare\tfilled\tout\twith\tjuicy\tred\tberry\tfruits\tand\tfreshened\twith\tacidity\t\n",
            "it's\talready\tdrinkable\talthough\tit\twill\tcertainly\tbe\tbetter\tfrom\t2016\t\n",
            "tart\tand\tsnappy\tthe\tflavors\tof\tlime\tflesh\tand\trind\tdominate\t\n",
            "some\tgreen\tpineapple\tpokes\tthrough\twith\tcrisp\tacidity\tunderscoring\tthe\tflavors\t\n",
            "the\twine\twas\tall\tstainless\tsteel\tfermented\t\n",
            "pineapple\trind\tlemon\tpith\tand\torange\tblossom\tstart\toff\tthe\taromas\t\n",
            "the\tpalate\tis\ta\tbit\tmore\topulent\twith\tnotes\tof\thoney\tdrizzled\tguava\tand\tmango\tgiving\tway\tto\ta\tslightly\tastringent\tsemidry\tfinish\t\n"
          ],
          "name": "stdout"
        }
      ]
    },
    {
      "cell_type": "code",
      "metadata": {
        "id": "Vuy33Y0dd-QQ"
      },
      "source": [
        "input_sequences = np.array(pad_sequences(sentences_num, maxlen=max_sentence_length, padding='pre'))"
      ],
      "execution_count": 23,
      "outputs": []
    },
    {
      "cell_type": "code",
      "metadata": {
        "colab": {
          "base_uri": "https://localhost:8080/"
        },
        "id": "XsStu_kKeyPv",
        "outputId": "f13a4163-837b-412e-8f40-e3498f5ae61b"
      },
      "source": [
        "for seq in input_sequences[:2]:\n",
        "  print(f\"{seq} \\n => \\n {[ind2word[i] for i in seq]}\")"
      ],
      "execution_count": 24,
      "outputs": [
        {
          "output_type": "stream",
          "text": [
            "[   0    0    0    0    0    0    0    0    0    0    0    0    0    0\n",
            "    0    0    0    0    0    0    0    0    0    0    0    0    0    0\n",
            "    0    0    0    0    0    0    0    0    0    0    0    0    0    0\n",
            "    0    0    0    0    0    0    0    0    0    0    0    0    0    0\n",
            "    0   15  875  202   13 1979 3599    1   88  105] \n",
            " => \n",
            " ['', '', '', '', '', '', '', '', '', '', '', '', '', '', '', '', '', '', '', '', '', '', '', '', '', '', '', '', '', '', '', '', '', '', '', '', '', '', '', '', '', '', '', '', '', '', '', '', '', '', '', '', '', '', '', '', '', 'aromas', 'include', 'tropical', 'fruit', 'broom', 'brimstone', 'and', 'dried', 'herb']\n",
            "[    0     0     0     0     0     0     0     0     0     0     0     0\n",
            "     0     0     0     0     0     0     0     0     0     0     0     0\n",
            "     0     0     0     0     0     0     0     0     0     0     0     0\n",
            "     0     0     0     0     0     0     0     0     0     0     0     0\n",
            "     0     0     0     2    16   908  1028   927   308 14674    48    60\n",
            "     1    88   420   142   360    18] \n",
            " => \n",
            " ['', '', '', '', '', '', '', '', '', '', '', '', '', '', '', '', '', '', '', '', '', '', '', '', '', '', '', '', '', '', '', '', '', '', '', '', '', '', '', '', '', '', '', '', '', '', '', '', '', '', '', 'the', 'palate', \"isn't\", 'overly', 'expressive', 'offering', 'unripened', 'apple', 'citrus', 'and', 'dried', 'sage', 'alongside', 'brisk', 'acidity']\n"
          ],
          "name": "stdout"
        }
      ]
    },
    {
      "cell_type": "markdown",
      "metadata": {
        "id": "7wMU8dUffd8R"
      },
      "source": [
        "### This is a demonstration of spell corrector.\n",
        "#### Go to this github repos to find the code: https://github.com/makcedward/nlp . Download the code and upload the folder name \"aion\" to the Colad Notebook folder. Once you are done you can run the following code to import it.\n",
        "##### This method is not the optimal(Let me know if you know how to do the better upload, install and import method)"
      ]
    },
    {
      "cell_type": "markdown",
      "metadata": {
        "id": "31LlTQTxhFt1"
      },
      "source": [
        "#### I tried a couple of times to permanently install it on the colab. But then the library doesn't work as expected. So I just gave up. Now we need to install it every time when running the notebook."
      ]
    },
    {
      "cell_type": "code",
      "metadata": {
        "colab": {
          "base_uri": "https://localhost:8080/"
        },
        "id": "g0wg1EnjlNJH",
        "outputId": "4f4b5199-e381-4bc1-b564-5bdd7b6f3b69"
      },
      "source": [
        "import sys, os\n",
        "nb_path = '/content/notebooks'\n",
        "os.symlink('/content/drive/My Drive/Colab Notebooks', nb_path)\n",
        "sys.path.insert(0,nb_path)\n",
        "!pip install --target=$nb_path aion"
      ],
      "execution_count": 6,
      "outputs": [
        {
          "output_type": "stream",
          "text": [
            "Collecting aion\n",
            "  Downloading https://files.pythonhosted.org/packages/a9/57/65514627a8e21f8471e49ecc57011ec83e5a6e086b99687f459b99886b89/Aion-0.1.tar.gz\n",
            "Building wheels for collected packages: aion\n",
            "  Building wheel for aion (setup.py) ... \u001b[?25l\u001b[?25hdone\n",
            "  Created wheel for aion: filename=Aion-0.1-cp36-none-any.whl size=942 sha256=2e10c28cee9a8cccfe39d877cf2fca45ef046e20b0049f5687db8ee9ea111af6\n",
            "  Stored in directory: /root/.cache/pip/wheels/07/57/2b/8d23b69d0bfbba62ef07de99bcccdad45ee152aed5792978eb\n",
            "Successfully built aion\n",
            "Installing collected packages: aion\n",
            "Successfully installed aion-0.1\n",
            "\u001b[33mWARNING: Target directory /content/notebooks/Aion-0.1.dist-info already exists. Specify --upgrade to force replacement.\u001b[0m\n"
          ],
          "name": "stdout"
        }
      ]
    },
    {
      "cell_type": "code",
      "metadata": {
        "colab": {
          "base_uri": "https://localhost:8080/"
        },
        "id": "3CgQIHIXnxQ9",
        "outputId": "2ea9df81-002f-4d26-f34d-927bae3eb083"
      },
      "source": [
        "#for some reason you can't combine these 2 cells(the above one and this one)\n",
        "#otherwise the spellcorrector will not work as expected\n",
        "!pip install symspellpy"
      ],
      "execution_count": 7,
      "outputs": [
        {
          "output_type": "stream",
          "text": [
            "Collecting symspellpy\n",
            "\u001b[?25l  Downloading https://files.pythonhosted.org/packages/99/af/e71fcca6a42b6a63f518b0c1627e1f67822815cb0cf71e6af05acbd75c78/symspellpy-6.7.0-py3-none-any.whl (2.6MB)\n",
            "\u001b[K     |████████████████████████████████| 2.6MB 5.4MB/s \n",
            "\u001b[?25hRequirement already satisfied: numpy>=1.13.1 in /usr/local/lib/python3.6/dist-packages (from symspellpy) (1.18.5)\n",
            "Installing collected packages: symspellpy\n",
            "Successfully installed symspellpy-6.7.0\n"
          ],
          "name": "stdout"
        }
      ]
    },
    {
      "cell_type": "code",
      "metadata": {
        "colab": {
          "base_uri": "https://localhost:8080/",
          "height": 86
        },
        "id": "-1Gaq8zInzm2",
        "outputId": "f9d573b4-766a-40c0-f772-a6ad9376dc3a"
      },
      "source": [
        "from collections import Counter\n",
        "corpus = Counter(all_words)\n",
        "from aion.util.spell_check import SpellCorrector\n",
        "spell_corrector = SpellCorrector(dictionary=corpus, verbose=1)\n",
        "spell_corrector.correction('intensfiy')"
      ],
      "execution_count": 8,
      "outputs": [
        {
          "output_type": "stream",
          "text": [
            "Known Result:  {'intensfiy'}\n",
            "Edit1 Result:  {'intensify', 'intensfiy'}\n",
            "Edit2 Result:  {'intensely', 'intensly', 'intensfiy', 'intensity', 'intensitiy', 'intensify'}\n"
          ],
          "name": "stdout"
        },
        {
          "output_type": "execute_result",
          "data": {
            "application/vnd.google.colaboratory.intrinsic+json": {
              "type": "string"
            },
            "text/plain": [
              "'intensfiy'"
            ]
          },
          "metadata": {
            "tags": []
          },
          "execution_count": 8
        }
      ]
    },
    {
      "cell_type": "code",
      "metadata": {
        "colab": {
          "base_uri": "https://localhost:8080/",
          "height": 86
        },
        "id": "7mF7bMzlp7tH",
        "outputId": "7b868091-d944-4b25-b6e7-529a61f44541"
      },
      "source": [
        "spell_corrector.correction('guardia')"
      ],
      "execution_count": 13,
      "outputs": [
        {
          "output_type": "stream",
          "text": [
            "Known Result:  {'guardia'}\n",
            "Edit1 Result:  {'guardian', 'guardia', 'guarda'}\n",
            "Edit2 Result:  {'guardian', 'guards', 'guarding', 'guarda', 'guard', 'guarded', 'guardia', 'guardiola', 'garcia', 'garda', 'gandia'}\n"
          ],
          "name": "stdout"
        },
        {
          "output_type": "execute_result",
          "data": {
            "application/vnd.google.colaboratory.intrinsic+json": {
              "type": "string"
            },
            "text/plain": [
              "'guardia'"
            ]
          },
          "metadata": {
            "tags": []
          },
          "execution_count": 13
        }
      ]
    },
    {
      "cell_type": "code",
      "metadata": {
        "id": "dY16T4yfp_a2"
      },
      "source": [
        ""
      ],
      "execution_count": null,
      "outputs": []
    }
  ]
}