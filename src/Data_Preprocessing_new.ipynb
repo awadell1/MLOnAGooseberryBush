{
  "nbformat": 4,
  "nbformat_minor": 0,
  "metadata": {
    "colab": {
      "name": "Data_Preprocessing_new.ipynb",
      "provenance": [],
      "authorship_tag": "ABX9TyNiSLScnPgZ41rzJ8JHv/Wr",
      "include_colab_link": true
    },
    "kernelspec": {
      "name": "python3",
      "display_name": "Python 3"
    },
    "widgets": {
      "application/vnd.jupyter.widget-state+json": {
        "b4d9a521ccf34253adaa92c00d3a3c98": {
          "model_module": "@jupyter-widgets/controls",
          "model_name": "HBoxModel",
          "state": {
            "_view_name": "HBoxView",
            "_dom_classes": [],
            "_model_name": "HBoxModel",
            "_view_module": "@jupyter-widgets/controls",
            "_model_module_version": "1.5.0",
            "_view_count": null,
            "_view_module_version": "1.5.0",
            "box_style": "",
            "layout": "IPY_MODEL_b1e5a3b622bf4905a21770c0a818baa2",
            "_model_module": "@jupyter-widgets/controls",
            "children": [
              "IPY_MODEL_31b286448cfc4733a33f8d89b2a8a212",
              "IPY_MODEL_180ba90b1d3f4442bbe8cef3066aa79f"
            ]
          }
        },
        "b1e5a3b622bf4905a21770c0a818baa2": {
          "model_module": "@jupyter-widgets/base",
          "model_name": "LayoutModel",
          "state": {
            "_view_name": "LayoutView",
            "grid_template_rows": null,
            "right": null,
            "justify_content": null,
            "_view_module": "@jupyter-widgets/base",
            "overflow": null,
            "_model_module_version": "1.2.0",
            "_view_count": null,
            "flex_flow": null,
            "width": null,
            "min_width": null,
            "border": null,
            "align_items": null,
            "bottom": null,
            "_model_module": "@jupyter-widgets/base",
            "top": null,
            "grid_column": null,
            "overflow_y": null,
            "overflow_x": null,
            "grid_auto_flow": null,
            "grid_area": null,
            "grid_template_columns": null,
            "flex": null,
            "_model_name": "LayoutModel",
            "justify_items": null,
            "grid_row": null,
            "max_height": null,
            "align_content": null,
            "visibility": null,
            "align_self": null,
            "height": null,
            "min_height": null,
            "padding": null,
            "grid_auto_rows": null,
            "grid_gap": null,
            "max_width": null,
            "order": null,
            "_view_module_version": "1.2.0",
            "grid_template_areas": null,
            "object_position": null,
            "object_fit": null,
            "grid_auto_columns": null,
            "margin": null,
            "display": null,
            "left": null
          }
        },
        "31b286448cfc4733a33f8d89b2a8a212": {
          "model_module": "@jupyter-widgets/controls",
          "model_name": "FloatProgressModel",
          "state": {
            "_view_name": "ProgressView",
            "style": "IPY_MODEL_42606bfefe334e1382e5e85f2243a1bf",
            "_dom_classes": [],
            "description": "",
            "_model_name": "FloatProgressModel",
            "bar_style": "success",
            "max": 1,
            "_view_module": "@jupyter-widgets/controls",
            "_model_module_version": "1.5.0",
            "value": 1,
            "_view_count": null,
            "_view_module_version": "1.5.0",
            "orientation": "horizontal",
            "min": 0,
            "description_tooltip": null,
            "_model_module": "@jupyter-widgets/controls",
            "layout": "IPY_MODEL_9c330699e59444209cdecae021e94f8a"
          }
        },
        "180ba90b1d3f4442bbe8cef3066aa79f": {
          "model_module": "@jupyter-widgets/controls",
          "model_name": "HTMLModel",
          "state": {
            "_view_name": "HTMLView",
            "style": "IPY_MODEL_d2e1f858c52840638ca830c4add71279",
            "_dom_classes": [],
            "description": "",
            "_model_name": "HTMLModel",
            "placeholder": "​",
            "_view_module": "@jupyter-widgets/controls",
            "_model_module_version": "1.5.0",
            "value": " 129971/? [00:16&lt;00:00, 7745.66it/s]",
            "_view_count": null,
            "_view_module_version": "1.5.0",
            "description_tooltip": null,
            "_model_module": "@jupyter-widgets/controls",
            "layout": "IPY_MODEL_709032f4756841908b40296ae5bda199"
          }
        },
        "42606bfefe334e1382e5e85f2243a1bf": {
          "model_module": "@jupyter-widgets/controls",
          "model_name": "ProgressStyleModel",
          "state": {
            "_view_name": "StyleView",
            "_model_name": "ProgressStyleModel",
            "description_width": "initial",
            "_view_module": "@jupyter-widgets/base",
            "_model_module_version": "1.5.0",
            "_view_count": null,
            "_view_module_version": "1.2.0",
            "bar_color": null,
            "_model_module": "@jupyter-widgets/controls"
          }
        },
        "9c330699e59444209cdecae021e94f8a": {
          "model_module": "@jupyter-widgets/base",
          "model_name": "LayoutModel",
          "state": {
            "_view_name": "LayoutView",
            "grid_template_rows": null,
            "right": null,
            "justify_content": null,
            "_view_module": "@jupyter-widgets/base",
            "overflow": null,
            "_model_module_version": "1.2.0",
            "_view_count": null,
            "flex_flow": null,
            "width": null,
            "min_width": null,
            "border": null,
            "align_items": null,
            "bottom": null,
            "_model_module": "@jupyter-widgets/base",
            "top": null,
            "grid_column": null,
            "overflow_y": null,
            "overflow_x": null,
            "grid_auto_flow": null,
            "grid_area": null,
            "grid_template_columns": null,
            "flex": null,
            "_model_name": "LayoutModel",
            "justify_items": null,
            "grid_row": null,
            "max_height": null,
            "align_content": null,
            "visibility": null,
            "align_self": null,
            "height": null,
            "min_height": null,
            "padding": null,
            "grid_auto_rows": null,
            "grid_gap": null,
            "max_width": null,
            "order": null,
            "_view_module_version": "1.2.0",
            "grid_template_areas": null,
            "object_position": null,
            "object_fit": null,
            "grid_auto_columns": null,
            "margin": null,
            "display": null,
            "left": null
          }
        },
        "d2e1f858c52840638ca830c4add71279": {
          "model_module": "@jupyter-widgets/controls",
          "model_name": "DescriptionStyleModel",
          "state": {
            "_view_name": "StyleView",
            "_model_name": "DescriptionStyleModel",
            "description_width": "",
            "_view_module": "@jupyter-widgets/base",
            "_model_module_version": "1.5.0",
            "_view_count": null,
            "_view_module_version": "1.2.0",
            "_model_module": "@jupyter-widgets/controls"
          }
        },
        "709032f4756841908b40296ae5bda199": {
          "model_module": "@jupyter-widgets/base",
          "model_name": "LayoutModel",
          "state": {
            "_view_name": "LayoutView",
            "grid_template_rows": null,
            "right": null,
            "justify_content": null,
            "_view_module": "@jupyter-widgets/base",
            "overflow": null,
            "_model_module_version": "1.2.0",
            "_view_count": null,
            "flex_flow": null,
            "width": null,
            "min_width": null,
            "border": null,
            "align_items": null,
            "bottom": null,
            "_model_module": "@jupyter-widgets/base",
            "top": null,
            "grid_column": null,
            "overflow_y": null,
            "overflow_x": null,
            "grid_auto_flow": null,
            "grid_area": null,
            "grid_template_columns": null,
            "flex": null,
            "_model_name": "LayoutModel",
            "justify_items": null,
            "grid_row": null,
            "max_height": null,
            "align_content": null,
            "visibility": null,
            "align_self": null,
            "height": null,
            "min_height": null,
            "padding": null,
            "grid_auto_rows": null,
            "grid_gap": null,
            "max_width": null,
            "order": null,
            "_view_module_version": "1.2.0",
            "grid_template_areas": null,
            "object_position": null,
            "object_fit": null,
            "grid_auto_columns": null,
            "margin": null,
            "display": null,
            "left": null
          }
        },
        "1b05c419056b42789065b2351796f899": {
          "model_module": "@jupyter-widgets/controls",
          "model_name": "HBoxModel",
          "state": {
            "_view_name": "HBoxView",
            "_dom_classes": [],
            "_model_name": "HBoxModel",
            "_view_module": "@jupyter-widgets/controls",
            "_model_module_version": "1.5.0",
            "_view_count": null,
            "_view_module_version": "1.5.0",
            "box_style": "",
            "layout": "IPY_MODEL_7e61fb69f1bf4848bd36d332fa5b8c05",
            "_model_module": "@jupyter-widgets/controls",
            "children": [
              "IPY_MODEL_cb886b188b014898b590c9520b7cb2f3",
              "IPY_MODEL_7e18e41fa1e14910be79507008bd7727"
            ]
          }
        },
        "7e61fb69f1bf4848bd36d332fa5b8c05": {
          "model_module": "@jupyter-widgets/base",
          "model_name": "LayoutModel",
          "state": {
            "_view_name": "LayoutView",
            "grid_template_rows": null,
            "right": null,
            "justify_content": null,
            "_view_module": "@jupyter-widgets/base",
            "overflow": null,
            "_model_module_version": "1.2.0",
            "_view_count": null,
            "flex_flow": null,
            "width": null,
            "min_width": null,
            "border": null,
            "align_items": null,
            "bottom": null,
            "_model_module": "@jupyter-widgets/base",
            "top": null,
            "grid_column": null,
            "overflow_y": null,
            "overflow_x": null,
            "grid_auto_flow": null,
            "grid_area": null,
            "grid_template_columns": null,
            "flex": null,
            "_model_name": "LayoutModel",
            "justify_items": null,
            "grid_row": null,
            "max_height": null,
            "align_content": null,
            "visibility": null,
            "align_self": null,
            "height": null,
            "min_height": null,
            "padding": null,
            "grid_auto_rows": null,
            "grid_gap": null,
            "max_width": null,
            "order": null,
            "_view_module_version": "1.2.0",
            "grid_template_areas": null,
            "object_position": null,
            "object_fit": null,
            "grid_auto_columns": null,
            "margin": null,
            "display": null,
            "left": null
          }
        },
        "cb886b188b014898b590c9520b7cb2f3": {
          "model_module": "@jupyter-widgets/controls",
          "model_name": "FloatProgressModel",
          "state": {
            "_view_name": "ProgressView",
            "style": "IPY_MODEL_1673ff5b6acc4335b09daf4d55fa17f7",
            "_dom_classes": [],
            "description": "",
            "_model_name": "FloatProgressModel",
            "bar_style": "success",
            "max": 1,
            "_view_module": "@jupyter-widgets/controls",
            "_model_module_version": "1.5.0",
            "value": 1,
            "_view_count": null,
            "_view_module_version": "1.5.0",
            "orientation": "horizontal",
            "min": 0,
            "description_tooltip": null,
            "_model_module": "@jupyter-widgets/controls",
            "layout": "IPY_MODEL_8f3c682ca54448fdb135506ef70851c7"
          }
        },
        "7e18e41fa1e14910be79507008bd7727": {
          "model_module": "@jupyter-widgets/controls",
          "model_name": "HTMLModel",
          "state": {
            "_view_name": "HTMLView",
            "style": "IPY_MODEL_cb5cbe73e38348658f6685e299c96699",
            "_dom_classes": [],
            "description": "",
            "_model_name": "HTMLModel",
            "placeholder": "​",
            "_view_module": "@jupyter-widgets/controls",
            "_model_module_version": "1.5.0",
            "value": " 129971/? [1:13:18&lt;00:00, 29.55it/s]",
            "_view_count": null,
            "_view_module_version": "1.5.0",
            "description_tooltip": null,
            "_model_module": "@jupyter-widgets/controls",
            "layout": "IPY_MODEL_8b98729a374349fc829962675a85f1d2"
          }
        },
        "1673ff5b6acc4335b09daf4d55fa17f7": {
          "model_module": "@jupyter-widgets/controls",
          "model_name": "ProgressStyleModel",
          "state": {
            "_view_name": "StyleView",
            "_model_name": "ProgressStyleModel",
            "description_width": "initial",
            "_view_module": "@jupyter-widgets/base",
            "_model_module_version": "1.5.0",
            "_view_count": null,
            "_view_module_version": "1.2.0",
            "bar_color": null,
            "_model_module": "@jupyter-widgets/controls"
          }
        },
        "8f3c682ca54448fdb135506ef70851c7": {
          "model_module": "@jupyter-widgets/base",
          "model_name": "LayoutModel",
          "state": {
            "_view_name": "LayoutView",
            "grid_template_rows": null,
            "right": null,
            "justify_content": null,
            "_view_module": "@jupyter-widgets/base",
            "overflow": null,
            "_model_module_version": "1.2.0",
            "_view_count": null,
            "flex_flow": null,
            "width": null,
            "min_width": null,
            "border": null,
            "align_items": null,
            "bottom": null,
            "_model_module": "@jupyter-widgets/base",
            "top": null,
            "grid_column": null,
            "overflow_y": null,
            "overflow_x": null,
            "grid_auto_flow": null,
            "grid_area": null,
            "grid_template_columns": null,
            "flex": null,
            "_model_name": "LayoutModel",
            "justify_items": null,
            "grid_row": null,
            "max_height": null,
            "align_content": null,
            "visibility": null,
            "align_self": null,
            "height": null,
            "min_height": null,
            "padding": null,
            "grid_auto_rows": null,
            "grid_gap": null,
            "max_width": null,
            "order": null,
            "_view_module_version": "1.2.0",
            "grid_template_areas": null,
            "object_position": null,
            "object_fit": null,
            "grid_auto_columns": null,
            "margin": null,
            "display": null,
            "left": null
          }
        },
        "cb5cbe73e38348658f6685e299c96699": {
          "model_module": "@jupyter-widgets/controls",
          "model_name": "DescriptionStyleModel",
          "state": {
            "_view_name": "StyleView",
            "_model_name": "DescriptionStyleModel",
            "description_width": "",
            "_view_module": "@jupyter-widgets/base",
            "_model_module_version": "1.5.0",
            "_view_count": null,
            "_view_module_version": "1.2.0",
            "_model_module": "@jupyter-widgets/controls"
          }
        },
        "8b98729a374349fc829962675a85f1d2": {
          "model_module": "@jupyter-widgets/base",
          "model_name": "LayoutModel",
          "state": {
            "_view_name": "LayoutView",
            "grid_template_rows": null,
            "right": null,
            "justify_content": null,
            "_view_module": "@jupyter-widgets/base",
            "overflow": null,
            "_model_module_version": "1.2.0",
            "_view_count": null,
            "flex_flow": null,
            "width": null,
            "min_width": null,
            "border": null,
            "align_items": null,
            "bottom": null,
            "_model_module": "@jupyter-widgets/base",
            "top": null,
            "grid_column": null,
            "overflow_y": null,
            "overflow_x": null,
            "grid_auto_flow": null,
            "grid_area": null,
            "grid_template_columns": null,
            "flex": null,
            "_model_name": "LayoutModel",
            "justify_items": null,
            "grid_row": null,
            "max_height": null,
            "align_content": null,
            "visibility": null,
            "align_self": null,
            "height": null,
            "min_height": null,
            "padding": null,
            "grid_auto_rows": null,
            "grid_gap": null,
            "max_width": null,
            "order": null,
            "_view_module_version": "1.2.0",
            "grid_template_areas": null,
            "object_position": null,
            "object_fit": null,
            "grid_auto_columns": null,
            "margin": null,
            "display": null,
            "left": null
          }
        },
        "dd4a47388a5e47cbaff4b607926e274a": {
          "model_module": "@jupyter-widgets/controls",
          "model_name": "HBoxModel",
          "state": {
            "_view_name": "HBoxView",
            "_dom_classes": [],
            "_model_name": "HBoxModel",
            "_view_module": "@jupyter-widgets/controls",
            "_model_module_version": "1.5.0",
            "_view_count": null,
            "_view_module_version": "1.5.0",
            "box_style": "",
            "layout": "IPY_MODEL_8d40c53d1f414561b46bd79cdc51b9fb",
            "_model_module": "@jupyter-widgets/controls",
            "children": [
              "IPY_MODEL_f9501df5012747e592a88ca5e30b903e",
              "IPY_MODEL_1b7cd85a312042ec9744d7b33f7ff60c"
            ]
          }
        },
        "8d40c53d1f414561b46bd79cdc51b9fb": {
          "model_module": "@jupyter-widgets/base",
          "model_name": "LayoutModel",
          "state": {
            "_view_name": "LayoutView",
            "grid_template_rows": null,
            "right": null,
            "justify_content": null,
            "_view_module": "@jupyter-widgets/base",
            "overflow": null,
            "_model_module_version": "1.2.0",
            "_view_count": null,
            "flex_flow": null,
            "width": null,
            "min_width": null,
            "border": null,
            "align_items": null,
            "bottom": null,
            "_model_module": "@jupyter-widgets/base",
            "top": null,
            "grid_column": null,
            "overflow_y": null,
            "overflow_x": null,
            "grid_auto_flow": null,
            "grid_area": null,
            "grid_template_columns": null,
            "flex": null,
            "_model_name": "LayoutModel",
            "justify_items": null,
            "grid_row": null,
            "max_height": null,
            "align_content": null,
            "visibility": null,
            "align_self": null,
            "height": null,
            "min_height": null,
            "padding": null,
            "grid_auto_rows": null,
            "grid_gap": null,
            "max_width": null,
            "order": null,
            "_view_module_version": "1.2.0",
            "grid_template_areas": null,
            "object_position": null,
            "object_fit": null,
            "grid_auto_columns": null,
            "margin": null,
            "display": null,
            "left": null
          }
        },
        "f9501df5012747e592a88ca5e30b903e": {
          "model_module": "@jupyter-widgets/controls",
          "model_name": "FloatProgressModel",
          "state": {
            "_view_name": "ProgressView",
            "style": "IPY_MODEL_6922676f7d5e4e069688372dfcc2967e",
            "_dom_classes": [],
            "description": " 16%",
            "_model_name": "FloatProgressModel",
            "bar_style": "",
            "max": 11798,
            "_view_module": "@jupyter-widgets/controls",
            "_model_module_version": "1.5.0",
            "value": 1846,
            "_view_count": null,
            "_view_module_version": "1.5.0",
            "orientation": "horizontal",
            "min": 0,
            "description_tooltip": null,
            "_model_module": "@jupyter-widgets/controls",
            "layout": "IPY_MODEL_8b6cdc968f354b30834d26e9898dbacc"
          }
        },
        "1b7cd85a312042ec9744d7b33f7ff60c": {
          "model_module": "@jupyter-widgets/controls",
          "model_name": "HTMLModel",
          "state": {
            "_view_name": "HTMLView",
            "style": "IPY_MODEL_ed03601c6ec14d10ac21abfb4cfae66c",
            "_dom_classes": [],
            "description": "",
            "_model_name": "HTMLModel",
            "placeholder": "​",
            "_view_module": "@jupyter-widgets/controls",
            "_model_module_version": "1.5.0",
            "value": " 1845/11798 [03:10&lt;20:20,  8.16it/s]",
            "_view_count": null,
            "_view_module_version": "1.5.0",
            "description_tooltip": null,
            "_model_module": "@jupyter-widgets/controls",
            "layout": "IPY_MODEL_8660c46c56c24cb18a5719b3cc1586e5"
          }
        },
        "6922676f7d5e4e069688372dfcc2967e": {
          "model_module": "@jupyter-widgets/controls",
          "model_name": "ProgressStyleModel",
          "state": {
            "_view_name": "StyleView",
            "_model_name": "ProgressStyleModel",
            "description_width": "initial",
            "_view_module": "@jupyter-widgets/base",
            "_model_module_version": "1.5.0",
            "_view_count": null,
            "_view_module_version": "1.2.0",
            "bar_color": null,
            "_model_module": "@jupyter-widgets/controls"
          }
        },
        "8b6cdc968f354b30834d26e9898dbacc": {
          "model_module": "@jupyter-widgets/base",
          "model_name": "LayoutModel",
          "state": {
            "_view_name": "LayoutView",
            "grid_template_rows": null,
            "right": null,
            "justify_content": null,
            "_view_module": "@jupyter-widgets/base",
            "overflow": null,
            "_model_module_version": "1.2.0",
            "_view_count": null,
            "flex_flow": null,
            "width": null,
            "min_width": null,
            "border": null,
            "align_items": null,
            "bottom": null,
            "_model_module": "@jupyter-widgets/base",
            "top": null,
            "grid_column": null,
            "overflow_y": null,
            "overflow_x": null,
            "grid_auto_flow": null,
            "grid_area": null,
            "grid_template_columns": null,
            "flex": null,
            "_model_name": "LayoutModel",
            "justify_items": null,
            "grid_row": null,
            "max_height": null,
            "align_content": null,
            "visibility": null,
            "align_self": null,
            "height": null,
            "min_height": null,
            "padding": null,
            "grid_auto_rows": null,
            "grid_gap": null,
            "max_width": null,
            "order": null,
            "_view_module_version": "1.2.0",
            "grid_template_areas": null,
            "object_position": null,
            "object_fit": null,
            "grid_auto_columns": null,
            "margin": null,
            "display": null,
            "left": null
          }
        },
        "ed03601c6ec14d10ac21abfb4cfae66c": {
          "model_module": "@jupyter-widgets/controls",
          "model_name": "DescriptionStyleModel",
          "state": {
            "_view_name": "StyleView",
            "_model_name": "DescriptionStyleModel",
            "description_width": "",
            "_view_module": "@jupyter-widgets/base",
            "_model_module_version": "1.5.0",
            "_view_count": null,
            "_view_module_version": "1.2.0",
            "_model_module": "@jupyter-widgets/controls"
          }
        },
        "8660c46c56c24cb18a5719b3cc1586e5": {
          "model_module": "@jupyter-widgets/base",
          "model_name": "LayoutModel",
          "state": {
            "_view_name": "LayoutView",
            "grid_template_rows": null,
            "right": null,
            "justify_content": null,
            "_view_module": "@jupyter-widgets/base",
            "overflow": null,
            "_model_module_version": "1.2.0",
            "_view_count": null,
            "flex_flow": null,
            "width": null,
            "min_width": null,
            "border": null,
            "align_items": null,
            "bottom": null,
            "_model_module": "@jupyter-widgets/base",
            "top": null,
            "grid_column": null,
            "overflow_y": null,
            "overflow_x": null,
            "grid_auto_flow": null,
            "grid_area": null,
            "grid_template_columns": null,
            "flex": null,
            "_model_name": "LayoutModel",
            "justify_items": null,
            "grid_row": null,
            "max_height": null,
            "align_content": null,
            "visibility": null,
            "align_self": null,
            "height": null,
            "min_height": null,
            "padding": null,
            "grid_auto_rows": null,
            "grid_gap": null,
            "max_width": null,
            "order": null,
            "_view_module_version": "1.2.0",
            "grid_template_areas": null,
            "object_position": null,
            "object_fit": null,
            "grid_auto_columns": null,
            "margin": null,
            "display": null,
            "left": null
          }
        },
        "b5f992eb7f40442baa6cc966b75f9ba3": {
          "model_module": "@jupyter-widgets/controls",
          "model_name": "HBoxModel",
          "state": {
            "_view_name": "HBoxView",
            "_dom_classes": [],
            "_model_name": "HBoxModel",
            "_view_module": "@jupyter-widgets/controls",
            "_model_module_version": "1.5.0",
            "_view_count": null,
            "_view_module_version": "1.5.0",
            "box_style": "",
            "layout": "IPY_MODEL_6849299e3a57401ebec612a16b1e4a4b",
            "_model_module": "@jupyter-widgets/controls",
            "children": [
              "IPY_MODEL_bb32d4e446a24ca794c086a2e477e586",
              "IPY_MODEL_f6fe4b1e3bee4bcca0b891d7b45dbcf7"
            ]
          }
        },
        "6849299e3a57401ebec612a16b1e4a4b": {
          "model_module": "@jupyter-widgets/base",
          "model_name": "LayoutModel",
          "state": {
            "_view_name": "LayoutView",
            "grid_template_rows": null,
            "right": null,
            "justify_content": null,
            "_view_module": "@jupyter-widgets/base",
            "overflow": null,
            "_model_module_version": "1.2.0",
            "_view_count": null,
            "flex_flow": null,
            "width": null,
            "min_width": null,
            "border": null,
            "align_items": null,
            "bottom": null,
            "_model_module": "@jupyter-widgets/base",
            "top": null,
            "grid_column": null,
            "overflow_y": null,
            "overflow_x": null,
            "grid_auto_flow": null,
            "grid_area": null,
            "grid_template_columns": null,
            "flex": null,
            "_model_name": "LayoutModel",
            "justify_items": null,
            "grid_row": null,
            "max_height": null,
            "align_content": null,
            "visibility": null,
            "align_self": null,
            "height": null,
            "min_height": null,
            "padding": null,
            "grid_auto_rows": null,
            "grid_gap": null,
            "max_width": null,
            "order": null,
            "_view_module_version": "1.2.0",
            "grid_template_areas": null,
            "object_position": null,
            "object_fit": null,
            "grid_auto_columns": null,
            "margin": null,
            "display": null,
            "left": null
          }
        },
        "bb32d4e446a24ca794c086a2e477e586": {
          "model_module": "@jupyter-widgets/controls",
          "model_name": "FloatProgressModel",
          "state": {
            "_view_name": "ProgressView",
            "style": "IPY_MODEL_7ac8ee41fe5749c6a5571e06deb479a6",
            "_dom_classes": [],
            "description": "100%",
            "_model_name": "FloatProgressModel",
            "bar_style": "success",
            "max": 129971,
            "_view_module": "@jupyter-widgets/controls",
            "_model_module_version": "1.5.0",
            "value": 129971,
            "_view_count": null,
            "_view_module_version": "1.5.0",
            "orientation": "horizontal",
            "min": 0,
            "description_tooltip": null,
            "_model_module": "@jupyter-widgets/controls",
            "layout": "IPY_MODEL_ae954934624845fd9b5712d8a017bde9"
          }
        },
        "f6fe4b1e3bee4bcca0b891d7b45dbcf7": {
          "model_module": "@jupyter-widgets/controls",
          "model_name": "HTMLModel",
          "state": {
            "_view_name": "HTMLView",
            "style": "IPY_MODEL_8cd990745bba4ab783507bd3f0556533",
            "_dom_classes": [],
            "description": "",
            "_model_name": "HTMLModel",
            "placeholder": "​",
            "_view_module": "@jupyter-widgets/controls",
            "_model_module_version": "1.5.0",
            "value": " 129971/129971 [23:02&lt;00:00, 93.99it/s]",
            "_view_count": null,
            "_view_module_version": "1.5.0",
            "description_tooltip": null,
            "_model_module": "@jupyter-widgets/controls",
            "layout": "IPY_MODEL_0dea16cce3b646128672fb3e0bea481b"
          }
        },
        "7ac8ee41fe5749c6a5571e06deb479a6": {
          "model_module": "@jupyter-widgets/controls",
          "model_name": "ProgressStyleModel",
          "state": {
            "_view_name": "StyleView",
            "_model_name": "ProgressStyleModel",
            "description_width": "initial",
            "_view_module": "@jupyter-widgets/base",
            "_model_module_version": "1.5.0",
            "_view_count": null,
            "_view_module_version": "1.2.0",
            "bar_color": null,
            "_model_module": "@jupyter-widgets/controls"
          }
        },
        "ae954934624845fd9b5712d8a017bde9": {
          "model_module": "@jupyter-widgets/base",
          "model_name": "LayoutModel",
          "state": {
            "_view_name": "LayoutView",
            "grid_template_rows": null,
            "right": null,
            "justify_content": null,
            "_view_module": "@jupyter-widgets/base",
            "overflow": null,
            "_model_module_version": "1.2.0",
            "_view_count": null,
            "flex_flow": null,
            "width": null,
            "min_width": null,
            "border": null,
            "align_items": null,
            "bottom": null,
            "_model_module": "@jupyter-widgets/base",
            "top": null,
            "grid_column": null,
            "overflow_y": null,
            "overflow_x": null,
            "grid_auto_flow": null,
            "grid_area": null,
            "grid_template_columns": null,
            "flex": null,
            "_model_name": "LayoutModel",
            "justify_items": null,
            "grid_row": null,
            "max_height": null,
            "align_content": null,
            "visibility": null,
            "align_self": null,
            "height": null,
            "min_height": null,
            "padding": null,
            "grid_auto_rows": null,
            "grid_gap": null,
            "max_width": null,
            "order": null,
            "_view_module_version": "1.2.0",
            "grid_template_areas": null,
            "object_position": null,
            "object_fit": null,
            "grid_auto_columns": null,
            "margin": null,
            "display": null,
            "left": null
          }
        },
        "8cd990745bba4ab783507bd3f0556533": {
          "model_module": "@jupyter-widgets/controls",
          "model_name": "DescriptionStyleModel",
          "state": {
            "_view_name": "StyleView",
            "_model_name": "DescriptionStyleModel",
            "description_width": "",
            "_view_module": "@jupyter-widgets/base",
            "_model_module_version": "1.5.0",
            "_view_count": null,
            "_view_module_version": "1.2.0",
            "_model_module": "@jupyter-widgets/controls"
          }
        },
        "0dea16cce3b646128672fb3e0bea481b": {
          "model_module": "@jupyter-widgets/base",
          "model_name": "LayoutModel",
          "state": {
            "_view_name": "LayoutView",
            "grid_template_rows": null,
            "right": null,
            "justify_content": null,
            "_view_module": "@jupyter-widgets/base",
            "overflow": null,
            "_model_module_version": "1.2.0",
            "_view_count": null,
            "flex_flow": null,
            "width": null,
            "min_width": null,
            "border": null,
            "align_items": null,
            "bottom": null,
            "_model_module": "@jupyter-widgets/base",
            "top": null,
            "grid_column": null,
            "overflow_y": null,
            "overflow_x": null,
            "grid_auto_flow": null,
            "grid_area": null,
            "grid_template_columns": null,
            "flex": null,
            "_model_name": "LayoutModel",
            "justify_items": null,
            "grid_row": null,
            "max_height": null,
            "align_content": null,
            "visibility": null,
            "align_self": null,
            "height": null,
            "min_height": null,
            "padding": null,
            "grid_auto_rows": null,
            "grid_gap": null,
            "max_width": null,
            "order": null,
            "_view_module_version": "1.2.0",
            "grid_template_areas": null,
            "object_position": null,
            "object_fit": null,
            "grid_auto_columns": null,
            "margin": null,
            "display": null,
            "left": null
          }
        },
        "225ae21b87e24cd3a5ff48f5cf393aef": {
          "model_module": "@jupyter-widgets/controls",
          "model_name": "HBoxModel",
          "state": {
            "_view_name": "HBoxView",
            "_dom_classes": [],
            "_model_name": "HBoxModel",
            "_view_module": "@jupyter-widgets/controls",
            "_model_module_version": "1.5.0",
            "_view_count": null,
            "_view_module_version": "1.5.0",
            "box_style": "",
            "layout": "IPY_MODEL_4797e18d52c749218f44dff938f39755",
            "_model_module": "@jupyter-widgets/controls",
            "children": [
              "IPY_MODEL_2e90afb3a2fe494fb7d5d042a2159227",
              "IPY_MODEL_78abccdf296948d89ba6bbaf8d971070"
            ]
          }
        },
        "4797e18d52c749218f44dff938f39755": {
          "model_module": "@jupyter-widgets/base",
          "model_name": "LayoutModel",
          "state": {
            "_view_name": "LayoutView",
            "grid_template_rows": null,
            "right": null,
            "justify_content": null,
            "_view_module": "@jupyter-widgets/base",
            "overflow": null,
            "_model_module_version": "1.2.0",
            "_view_count": null,
            "flex_flow": null,
            "width": null,
            "min_width": null,
            "border": null,
            "align_items": null,
            "bottom": null,
            "_model_module": "@jupyter-widgets/base",
            "top": null,
            "grid_column": null,
            "overflow_y": null,
            "overflow_x": null,
            "grid_auto_flow": null,
            "grid_area": null,
            "grid_template_columns": null,
            "flex": null,
            "_model_name": "LayoutModel",
            "justify_items": null,
            "grid_row": null,
            "max_height": null,
            "align_content": null,
            "visibility": null,
            "align_self": null,
            "height": null,
            "min_height": null,
            "padding": null,
            "grid_auto_rows": null,
            "grid_gap": null,
            "max_width": null,
            "order": null,
            "_view_module_version": "1.2.0",
            "grid_template_areas": null,
            "object_position": null,
            "object_fit": null,
            "grid_auto_columns": null,
            "margin": null,
            "display": null,
            "left": null
          }
        },
        "2e90afb3a2fe494fb7d5d042a2159227": {
          "model_module": "@jupyter-widgets/controls",
          "model_name": "FloatProgressModel",
          "state": {
            "_view_name": "ProgressView",
            "style": "IPY_MODEL_53e49695e15e44b3b6d426f62534e2c9",
            "_dom_classes": [],
            "description": "",
            "_model_name": "FloatProgressModel",
            "bar_style": "success",
            "max": 1,
            "_view_module": "@jupyter-widgets/controls",
            "_model_module_version": "1.5.0",
            "value": 1,
            "_view_count": null,
            "_view_module_version": "1.5.0",
            "orientation": "horizontal",
            "min": 0,
            "description_tooltip": null,
            "_model_module": "@jupyter-widgets/controls",
            "layout": "IPY_MODEL_46b07805734442a3a4c099dcd70b6c6f"
          }
        },
        "78abccdf296948d89ba6bbaf8d971070": {
          "model_module": "@jupyter-widgets/controls",
          "model_name": "HTMLModel",
          "state": {
            "_view_name": "HTMLView",
            "style": "IPY_MODEL_949228a5a0b14f9495b118486cb645c3",
            "_dom_classes": [],
            "description": "",
            "_model_name": "HTMLModel",
            "placeholder": "​",
            "_view_module": "@jupyter-widgets/controls",
            "_model_module_version": "1.5.0",
            "value": " 129971/? [01:00&lt;00:00, 2140.00it/s]",
            "_view_count": null,
            "_view_module_version": "1.5.0",
            "description_tooltip": null,
            "_model_module": "@jupyter-widgets/controls",
            "layout": "IPY_MODEL_95fb1ef8e0c14614b87eeca67694af7c"
          }
        },
        "53e49695e15e44b3b6d426f62534e2c9": {
          "model_module": "@jupyter-widgets/controls",
          "model_name": "ProgressStyleModel",
          "state": {
            "_view_name": "StyleView",
            "_model_name": "ProgressStyleModel",
            "description_width": "initial",
            "_view_module": "@jupyter-widgets/base",
            "_model_module_version": "1.5.0",
            "_view_count": null,
            "_view_module_version": "1.2.0",
            "bar_color": null,
            "_model_module": "@jupyter-widgets/controls"
          }
        },
        "46b07805734442a3a4c099dcd70b6c6f": {
          "model_module": "@jupyter-widgets/base",
          "model_name": "LayoutModel",
          "state": {
            "_view_name": "LayoutView",
            "grid_template_rows": null,
            "right": null,
            "justify_content": null,
            "_view_module": "@jupyter-widgets/base",
            "overflow": null,
            "_model_module_version": "1.2.0",
            "_view_count": null,
            "flex_flow": null,
            "width": null,
            "min_width": null,
            "border": null,
            "align_items": null,
            "bottom": null,
            "_model_module": "@jupyter-widgets/base",
            "top": null,
            "grid_column": null,
            "overflow_y": null,
            "overflow_x": null,
            "grid_auto_flow": null,
            "grid_area": null,
            "grid_template_columns": null,
            "flex": null,
            "_model_name": "LayoutModel",
            "justify_items": null,
            "grid_row": null,
            "max_height": null,
            "align_content": null,
            "visibility": null,
            "align_self": null,
            "height": null,
            "min_height": null,
            "padding": null,
            "grid_auto_rows": null,
            "grid_gap": null,
            "max_width": null,
            "order": null,
            "_view_module_version": "1.2.0",
            "grid_template_areas": null,
            "object_position": null,
            "object_fit": null,
            "grid_auto_columns": null,
            "margin": null,
            "display": null,
            "left": null
          }
        },
        "949228a5a0b14f9495b118486cb645c3": {
          "model_module": "@jupyter-widgets/controls",
          "model_name": "DescriptionStyleModel",
          "state": {
            "_view_name": "StyleView",
            "_model_name": "DescriptionStyleModel",
            "description_width": "",
            "_view_module": "@jupyter-widgets/base",
            "_model_module_version": "1.5.0",
            "_view_count": null,
            "_view_module_version": "1.2.0",
            "_model_module": "@jupyter-widgets/controls"
          }
        },
        "95fb1ef8e0c14614b87eeca67694af7c": {
          "model_module": "@jupyter-widgets/base",
          "model_name": "LayoutModel",
          "state": {
            "_view_name": "LayoutView",
            "grid_template_rows": null,
            "right": null,
            "justify_content": null,
            "_view_module": "@jupyter-widgets/base",
            "overflow": null,
            "_model_module_version": "1.2.0",
            "_view_count": null,
            "flex_flow": null,
            "width": null,
            "min_width": null,
            "border": null,
            "align_items": null,
            "bottom": null,
            "_model_module": "@jupyter-widgets/base",
            "top": null,
            "grid_column": null,
            "overflow_y": null,
            "overflow_x": null,
            "grid_auto_flow": null,
            "grid_area": null,
            "grid_template_columns": null,
            "flex": null,
            "_model_name": "LayoutModel",
            "justify_items": null,
            "grid_row": null,
            "max_height": null,
            "align_content": null,
            "visibility": null,
            "align_self": null,
            "height": null,
            "min_height": null,
            "padding": null,
            "grid_auto_rows": null,
            "grid_gap": null,
            "max_width": null,
            "order": null,
            "_view_module_version": "1.2.0",
            "grid_template_areas": null,
            "object_position": null,
            "object_fit": null,
            "grid_auto_columns": null,
            "margin": null,
            "display": null,
            "left": null
          }
        }
      }
    }
  },
  "cells": [
    {
      "cell_type": "markdown",
      "metadata": {
        "id": "view-in-github",
        "colab_type": "text"
      },
      "source": [
        "<a href=\"https://colab.research.google.com/github/awadell1/MLOnAGooseberryBush/blob/master/src/Data_Preprocessing_new.ipynb\" target=\"_parent\"><img src=\"https://colab.research.google.com/assets/colab-badge.svg\" alt=\"Open In Colab\"/></a>"
      ]
    },
    {
      "cell_type": "code",
      "metadata": {
        "colab": {
          "base_uri": "https://localhost:8080/"
        },
        "id": "bMREgaDVn7It",
        "outputId": "b96993eb-43eb-42fd-be42-36b7392e212b"
      },
      "source": [
        "from google.colab import drive\n",
        "drive.mount('/content/drive')"
      ],
      "execution_count": null,
      "outputs": [
        {
          "output_type": "stream",
          "text": [
            "Mounted at /content/drive\n"
          ],
          "name": "stdout"
        }
      ]
    },
    {
      "cell_type": "code",
      "metadata": {
        "id": "E-zP6SHQoCaI"
      },
      "source": [
        "import os\n",
        "import tensorflow as tf\n",
        "from tensorflow import keras\n",
        "import re\n",
        "import string\n",
        "from tqdm.notebook import tqdm #create a progress bar\n",
        "import numpy as np\n",
        "from keras.preprocessing.text import text_to_word_sequence\n",
        "import io\n",
        "import pandas as pd\n",
        "import matplotlib.pyplot as plt\n",
        "from tensorflow.keras.preprocessing.sequence import pad_sequences"
      ],
      "execution_count": null,
      "outputs": []
    },
    {
      "cell_type": "code",
      "metadata": {
        "colab": {
          "base_uri": "https://localhost:8080/",
          "height": 401
        },
        "id": "-D8AuxlUoOEW",
        "outputId": "ffd28ead-2082-4aa7-9495-b67fc0690c66"
      },
      "source": [
        "#load the data\n",
        "raw_df=pd.read_csv('/content/drive/My Drive/24787 Group Project  /Data/winemag-data-130k-v2.csv',index_col=0)\n",
        "#get all the description but the last one to make the next step easier\n",
        "#the last description is added back 2 cells later\n",
        "raw_data=raw_df[['description']]\n",
        "raw_data['Length']=raw_data['description'].apply(lambda x: len(text_to_word_sequence(x)))\n",
        "raw_data['Length'].hist()\n",
        "plt.xlabel('Review Length')\n",
        "plt.ylabel('Counts')\n",
        "plt.show()"
      ],
      "execution_count": null,
      "outputs": [
        {
          "output_type": "stream",
          "text": [
            "/usr/local/lib/python3.6/dist-packages/ipykernel_launcher.py:6: SettingWithCopyWarning: \n",
            "A value is trying to be set on a copy of a slice from a DataFrame.\n",
            "Try using .loc[row_indexer,col_indexer] = value instead\n",
            "\n",
            "See the caveats in the documentation: https://pandas.pydata.org/pandas-docs/stable/user_guide/indexing.html#returning-a-view-versus-a-copy\n",
            "  \n"
          ],
          "name": "stderr"
        },
        {
          "output_type": "display_data",
          "data": {
            "image/png": "[encoded data removed]",
            "text/plain": [
              "<Figure size 432x288 with 1 Axes>"
            ]
          },
          "metadata": {
            "tags": [],
            "needs_background": "light"
          }
        }
      ]
    },
    {
      "cell_type": "markdown",
      "metadata": {
        "id": "oO92nmCDRS0j"
      },
      "source": [
        "#### I was wrong about deleting the double quotation mark. It turns out it was because I put the double quotation mark at the wrong place in the filter. And also, now the issue of '\\xad' is fixed as well. No need to explicitly get rid of it."
      ]
    },
    {
      "cell_type": "markdown",
      "metadata": {
        "id": "MyPhob89RyV8"
      },
      "source": [
        "##### This following function is a helper function to check whether a certain vocab is in the filtered dictionary given a customized filter."
      ]
    },
    {
      "cell_type": "code",
      "metadata": {
        "id": "5u0lxO4xoXUA"
      },
      "source": [
        "def check_word(string_to_find, filter_to_use, df):\n",
        "  #this function will check whether a certain word is in the description after you provide the filters.\n",
        "    all_words = []\n",
        "    count=0\n",
        "    for i, row in tqdm(df.iterrows()):\n",
        "            temp=text_to_word_sequence(row[0],filters=filter_to_use)\n",
        "            all_words.extend(temp)\n",
        "            if string_to_find in temp:\n",
        "               count+=1\n",
        "               print(\"'\"+string_to_find+\"'\"+\" appears in the\",str(i)+\"th line in the description\")\n",
        "    if count == 0:\n",
        "       print(\"'\"+string_to_find+\"'\"+\" is not in the cleaned up text.\")"
      ],
      "execution_count": null,
      "outputs": []
    },
    {
      "cell_type": "code",
      "metadata": {
        "id": "BP8eojfdp5kG"
      },
      "source": [
        "#examples (!!!remember to update the filters if you find a new text to get rid off!!!)\n",
        "check_word(string_to_find='\"loin\"',filter_to_use='­­\"…–â€˜‘’—!#$%&()*+,-./:;<=>?@[\\\\]^_`{|}~\\t\\n“”',df=raw_data)\n",
        "check_word(string_to_find='intensfiy',filter_to_use='­­\"…–â€˜‘’—!#$%&()*+,-./:;<=>?@[\\\\]^_`{|}~\\t\\n“”',df=raw_data)\n",
        "check_word(string_to_find='2',filter_to_use='­­\"…–â€˜‘’—!#$%&()*+,-./:;<=>?@[\\\\]^_`{|}~\\t\\n“”',df=raw_data)"
      ],
      "execution_count": null,
      "outputs": []
    },
    {
      "cell_type": "markdown",
      "metadata": {
        "id": "wR5-7uCgV_du"
      },
      "source": [
        "##### This function will clean up the text and create a word_count dataframe. Also show the plot if the plotter option is turned on"
      ]
    },
    {
      "cell_type": "code",
      "metadata": {
        "id": "3C-7m9JZSMsH"
      },
      "source": [
        "def text_clean_up(dataframe,filter_to_use,plotter):\n",
        "    all_words = []\n",
        "    for i, row in tqdm(dataframe.iterrows()):\n",
        "            all_words.extend(text_to_word_sequence(row[0],filters=filter_to_use))\n",
        "    word_counts = pd.Series(all_words).value_counts()\n",
        "    if plotter == True:\n",
        "        plt.figure(figsize=(12,6))\n",
        "        print('20 most common tokens')\n",
        "        word_counts.head(20).iloc[::-1].plot.barh()\n",
        "        plt.xlabel('# of occurences')\n",
        "        plt.show()\n",
        "\n",
        "        plt.figure(figsize=(12,6))\n",
        "        print('20 least common tokens')\n",
        "        word_counts.tail(20).iloc[::-1].plot.barh()\n",
        "        plt.xlabel('# of occurences')\n",
        "        plt.show()\n",
        "    return all_words, word_counts"
      ],
      "execution_count": null,
      "outputs": []
    },
    {
      "cell_type": "code",
      "metadata": {
        "colab": {
          "base_uri": "https://localhost:8080/",
          "height": 842,
          "referenced_widgets": [
            "b4d9a521ccf34253adaa92c00d3a3c98",
            "b1e5a3b622bf4905a21770c0a818baa2",
            "31b286448cfc4733a33f8d89b2a8a212",
            "180ba90b1d3f4442bbe8cef3066aa79f",
            "42606bfefe334e1382e5e85f2243a1bf",
            "9c330699e59444209cdecae021e94f8a",
            "d2e1f858c52840638ca830c4add71279",
            "709032f4756841908b40296ae5bda199"
          ]
        },
        "id": "_abnfSuwWaS1",
        "outputId": "5919b1cb-5257-46e3-926f-70f98da6debf"
      },
      "source": [
        "##(!!!remember to update the filters if you find a new text to get rid off!!!)\n",
        "all_words, word_counts=text_clean_up(dataframe=raw_data,filter_to_use='­­\"…–â€˜‘’—!#$%&()*+,-./:;<=>?@[\\\\]^_`{|}~\\t\\n“”',plotter=True)"
      ],
      "execution_count": null,
      "outputs": [
        {
          "output_type": "display_data",
          "data": {
            "application/vnd.jupyter.widget-view+json": {
              "model_id": "b4d9a521ccf34253adaa92c00d3a3c98",
              "version_minor": 0,
              "version_major": 2
            },
            "text/plain": [
              "HBox(children=(FloatProgress(value=1.0, bar_style='info', max=1.0), HTML(value='')))"
            ]
          },
          "metadata": {
            "tags": []
          }
        },
        {
          "output_type": "stream",
          "text": [
            "\n",
            "20 most common tokens\n"
          ],
          "name": "stdout"
        },
        {
          "output_type": "display_data",
          "data": {
            "image/png": "[encoded data removed]",
            "text/plain": [
              "<Figure size 864x432 with 1 Axes>"
            ]
          },
          "metadata": {
            "tags": [],
            "needs_background": "light"
          }
        },
        {
          "output_type": "stream",
          "text": [
            "20 least common tokens\n"
          ],
          "name": "stdout"
        },
        {
          "output_type": "display_data",
          "data": {
            "image/png": "[encoded data removed]",
            "text/plain": [
              "<Figure size 864x432 with 1 Axes>"
            ]
          },
          "metadata": {
            "tags": [],
            "needs_background": "light"
          }
        }
      ]
    },
    {
      "cell_type": "code",
      "metadata": {
        "colab": {
          "base_uri": "https://localhost:8080/"
        },
        "id": "bFiMW-NL76hb",
        "outputId": "e35b7e38-75d6-4ad2-a9c0-59a94f3b477d"
      },
      "source": [
        "x for x in list1 if l <= x <= r"
      ],
      "execution_count": null,
      "outputs": [
        {
          "output_type": "execute_result",
          "data": {
            "text/plain": [
              "True"
            ]
          },
          "metadata": {
            "tags": []
          },
          "execution_count": 32
        }
      ]
    },
    {
      "cell_type": "code",
      "metadata": {
        "colab": {
          "base_uri": "https://localhost:8080/",
          "height": 283
        },
        "id": "qZsbhieY75XF",
        "outputId": "135305f4-70cf-464f-f09a-cd1bccf2e464"
      },
      "source": [
        "sum(word_counts>1 and word_counts <=10)/len(word_counts)"
      ],
      "execution_count": null,
      "outputs": [
        {
          "output_type": "error",
          "ename": "ValueError",
          "evalue": "ignored",
          "traceback": [
            "\u001b[0;31m---------------------------------------------------------------------------\u001b[0m",
            "\u001b[0;31mValueError\u001b[0m                                Traceback (most recent call last)",
            "\u001b[0;32m<ipython-input-21-ab193e01def4>\u001b[0m in \u001b[0;36m<module>\u001b[0;34m()\u001b[0m\n\u001b[0;32m----> 1\u001b[0;31m \u001b[0msum\u001b[0m\u001b[0;34m(\u001b[0m\u001b[0mword_counts\u001b[0m\u001b[0;34m>\u001b[0m\u001b[0;36m1\u001b[0m \u001b[0;32mand\u001b[0m \u001b[0mword_counts\u001b[0m \u001b[0;34m<=\u001b[0m\u001b[0;36m10\u001b[0m\u001b[0;34m)\u001b[0m\u001b[0;34m/\u001b[0m\u001b[0mlen\u001b[0m\u001b[0;34m(\u001b[0m\u001b[0mword_counts\u001b[0m\u001b[0;34m)\u001b[0m\u001b[0;34m\u001b[0m\u001b[0;34m\u001b[0m\u001b[0m\n\u001b[0m",
            "\u001b[0;32m/usr/local/lib/python3.6/dist-packages/pandas/core/generic.py\u001b[0m in \u001b[0;36m__nonzero__\u001b[0;34m(self)\u001b[0m\n\u001b[1;32m   1328\u001b[0m     \u001b[0;32mdef\u001b[0m \u001b[0m__nonzero__\u001b[0m\u001b[0;34m(\u001b[0m\u001b[0mself\u001b[0m\u001b[0;34m)\u001b[0m\u001b[0;34m:\u001b[0m\u001b[0;34m\u001b[0m\u001b[0;34m\u001b[0m\u001b[0m\n\u001b[1;32m   1329\u001b[0m         raise ValueError(\n\u001b[0;32m-> 1330\u001b[0;31m             \u001b[0;34mf\"The truth value of a {type(self).__name__} is ambiguous. \"\u001b[0m\u001b[0;34m\u001b[0m\u001b[0;34m\u001b[0m\u001b[0m\n\u001b[0m\u001b[1;32m   1331\u001b[0m             \u001b[0;34m\"Use a.empty, a.bool(), a.item(), a.any() or a.all().\"\u001b[0m\u001b[0;34m\u001b[0m\u001b[0;34m\u001b[0m\u001b[0m\n\u001b[1;32m   1332\u001b[0m         )\n",
            "\u001b[0;31mValueError\u001b[0m: The truth value of a Series is ambiguous. Use a.empty, a.bool(), a.item(), a.any() or a.all()."
          ]
        }
      ]
    },
    {
      "cell_type": "code",
      "metadata": {
        "colab": {
          "base_uri": "https://localhost:8080/"
        },
        "id": "1oQKTd767AzT",
        "outputId": "7223c05b-19e9-4a74-bb5d-3bdb08a962ab"
      },
      "source": [
        "counts_1 = len([x for x in word_counts if 1 == x])/len(word_counts)\n",
        "count_2_10 = len([x for x in word_counts if 2 <= x <= 10])/len(word_counts)\n",
        "count_10_100 = len([x for x in word_counts if 11 <= x <= 100])/len(word_counts)\n",
        "count_100_up = len([x for x in word_counts if x>= 101])/len(word_counts)\n",
        "print(counts_1, count_2_10, count_10_100, count_100_up)\n",
        "label = ['counts = 1','2 <= counts <= 10','11 <= counts <= 100','101 <= counts']\n",
        "plt.rcParams.update({'font.size': 17})\n",
        "plt.pie([counts_1, count_2_10, count_10_100, count_100_up],labels=label,autopct='%1.1f%%', startangle=140)\n",
        "plt.rcParams['figure.figsize'] = 6, 11\n",
        "\n",
        "plt.show()"
      ],
      "execution_count": null,
      "outputs": [
        {
          "output_type": "stream",
          "text": [
            "0.3557042932947419 0.38491919922817175 0.17221418234442837 0.08716232513265798\n"
          ],
          "name": "stdout"
        },
        {
          "output_type": "display_data",
          "data": {
            "image/png": "[encoded data removed]",
            "text/plain": [
              "<Figure size 432x792 with 1 Axes>"
            ]
          },
          "metadata": {
            "tags": []
          }
        }
      ]
    },
    {
      "cell_type": "code",
      "metadata": {
        "colab": {
          "base_uri": "https://localhost:8080/",
          "height": 265
        },
        "id": "zy_t8LLY6DTM",
        "outputId": "83c97880-52a0-4d42-aaf0-a663ff7dba9e"
      },
      "source": [
        "list_word_counts=word_counts.to_numpy()/len(word_counts)\n",
        "plt.hist(list_word_counts,bins=10)\n",
        "plt.show()"
      ],
      "execution_count": null,
      "outputs": [
        {
          "output_type": "display_data",
          "data": {
            "image/png": "[encoded data removed]",
            "text/plain": [
              "<Figure size 432x288 with 1 Axes>"
            ]
          },
          "metadata": {
            "tags": [],
            "needs_background": "light"
          }
        }
      ]
    },
    {
      "cell_type": "code",
      "metadata": {
        "colab": {
          "base_uri": "https://localhost:8080/"
        },
        "id": "LzTG6IKl-D0m",
        "outputId": "40dd8d0f-7203-4800-9590-ec32ac3642a9"
      },
      "source": [
        "sum(word_counts==1)/len(word_counts)"
      ],
      "execution_count": null,
      "outputs": [
        {
          "output_type": "execute_result",
          "data": {
            "text/plain": [
              "0.3557042932947419"
            ]
          },
          "metadata": {
            "tags": []
          },
          "execution_count": 41
        }
      ]
    },
    {
      "cell_type": "code",
      "metadata": {
        "colab": {
          "base_uri": "https://localhost:8080/"
        },
        "id": "s0g2FwGiWwh9",
        "outputId": "f088f67f-99fb-4362-9638-5159718550a6"
      },
      "source": [
        "print('The number of vocab only appears once in the descriptions: '+str(sum(word_counts==1)))\n",
        "print('The ratio of vocab only appears once in the description to the total vocab: '+str(sum(word_counts==1)/len(word_counts)))"
      ],
      "execution_count": null,
      "outputs": [
        {
          "output_type": "stream",
          "text": [
            "The number of vocab only appears once in the descriptions: 11798\n",
            "The ratio of vocab only appears once in the description to the total vocab: 0.3557042932947419\n"
          ],
          "name": "stdout"
        }
      ]
    },
    {
      "cell_type": "code",
      "metadata": {
        "id": "s4onhAJ7r1G_"
      },
      "source": [
        "def word_counts_saver(data,name):\n",
        "   #save the word_counts if neccessary\n",
        "    word_counts=pd.DataFrame(data)\n",
        "    path = '/content/drive/MyDrive/24787 Group Project  /Data/for_final_submission/'+name+'.csv'\n",
        "    word_counts.to_csv(path)"
      ],
      "execution_count": null,
      "outputs": []
    },
    {
      "cell_type": "code",
      "metadata": {
        "id": "9RwKvDeTtKwm"
      },
      "source": [
        "word_counts_saver(data=word_counts,name='word_counts_newest')"
      ],
      "execution_count": null,
      "outputs": []
    },
    {
      "cell_type": "code",
      "metadata": {
        "id": "-i-RLe-XaoHx"
      },
      "source": [
        "#a helperfunction to print out n items of dictionary\n",
        "from itertools import islice\n",
        " \n",
        "def take(n, iterable):\n",
        "    \"Return first n items of the iterable as a list\"\n",
        "    return list(islice(iterable, n))"
      ],
      "execution_count": null,
      "outputs": []
    },
    {
      "cell_type": "code",
      "metadata": {
        "id": "AN0JdAdbuIWi"
      },
      "source": [
        "def dict_generator(data):\n",
        "    vocab = pd.DataFrame(data).index.values\n",
        "    vocab=vocab.tolist()\n",
        "    w2ind={}\n",
        "    w2ind[''] = 0 #for padding\n",
        "    ind2w={}\n",
        "    ind2w[0]= '' #for padding\n",
        "    for i,word in enumerate(vocab):\n",
        "        w2ind[word] = i+1\n",
        "        ind2w[i+1] = word\n",
        "    return w2ind, ind2w"
      ],
      "execution_count": null,
      "outputs": []
    },
    {
      "cell_type": "code",
      "metadata": {
        "colab": {
          "base_uri": "https://localhost:8080/"
        },
        "id": "6mucWPfUZwD5",
        "outputId": "66ffce9f-4626-4e83-a63d-fa6e252ec9ff"
      },
      "source": [
        "word2ind,ind2word=dict_generator(data=word_counts)\n",
        "print('word2ind_dict',take(10, word2ind.items()))\n",
        "print('ind2word_dict',take(10, ind2word.items()))\n",
        "IW2_df=pd.DataFrame.from_dict(ind2word, orient='index',columns=['Vocab'])\n",
        "IW2_df.to_csv('/content/drive/MyDrive/24787 Group Project  /Data/for_final_submission/Dictionary_new.csv',index=False)"
      ],
      "execution_count": null,
      "outputs": [
        {
          "output_type": "stream",
          "text": [
            "word2ind_dict [('', 0), ('and', 1), ('the', 2), ('a', 3), ('of', 4), ('with', 5), ('this', 6), ('is', 7), ('wine', 8), ('flavors', 9)]\n",
            "ind2word_dict [(0, ''), (1, 'and'), (2, 'the'), (3, 'a'), (4, 'of'), (5, 'with'), (6, 'this'), (7, 'is'), (8, 'wine'), (9, 'flavors')]\n"
          ],
          "name": "stdout"
        }
      ]
    },
    {
      "cell_type": "markdown",
      "metadata": {
        "id": "C1YAuBtvbJHl"
      },
      "source": [
        "#### create data for w2v model. This function also separates each sentence by spliting '.'"
      ]
    },
    {
      "cell_type": "code",
      "metadata": {
        "id": "0z2uuAfQuJbe"
      },
      "source": [
        "def sentence_to_indices(dataframe,filter_to_use,w2ind):\n",
        "    sentences_num=[]\n",
        "    for _, row in tqdm(raw_data.iterrows()):\n",
        "        temp_sentences=row[0].split('.')\n",
        "        temp_sentences=list(filter(None, temp_sentences))\n",
        "        for _, sentence in enumerate(temp_sentences):\n",
        "            tokens=text_to_word_sequence(sentence,filters=filter_to_use)\n",
        "            temp_mem=[w2ind[word] for word in tokens]\n",
        "            sentences_num.append(temp_mem)\n",
        "    return sentences_num"
      ],
      "execution_count": null,
      "outputs": []
    },
    {
      "cell_type": "code",
      "metadata": {
        "colab": {
          "base_uri": "https://localhost:8080/",
          "height": 100,
          "referenced_widgets": [
            "1b05c419056b42789065b2351796f899",
            "7e61fb69f1bf4848bd36d332fa5b8c05",
            "cb886b188b014898b590c9520b7cb2f3",
            "7e18e41fa1e14910be79507008bd7727",
            "1673ff5b6acc4335b09daf4d55fa17f7",
            "8f3c682ca54448fdb135506ef70851c7",
            "cb5cbe73e38348658f6685e299c96699",
            "8b98729a374349fc829962675a85f1d2"
          ]
        },
        "id": "2cz9Q2envBVG",
        "outputId": "dd345da5-6f1b-46d3-99fa-a52d107960e9"
      },
      "source": [
        "##(!!!remember to update the filters if you find a new text to get rid off!!!)\n",
        "sentences_num=sentence_to_indices(dataframe=raw_data,filter_to_use='­­\"…–â€˜‘’—!#$%&()*+,-./:;<=>?@[\\\\]^_`{|}~\\t\\n“”',w2ind=word2ind)\n",
        "print(\"the number of sentences is \"+str(len(sentences_num)))\n",
        "max_sentence_length = max([len(seq) for seq in sentences_num])\n",
        "print(\"the maximum length of the sentence is \"+str(max_sentence_length))"
      ],
      "execution_count": null,
      "outputs": [
        {
          "output_type": "display_data",
          "data": {
            "application/vnd.jupyter.widget-view+json": {
              "model_id": "1b05c419056b42789065b2351796f899",
              "version_minor": 0,
              "version_major": 2
            },
            "text/plain": [
              "HBox(children=(FloatProgress(value=1.0, bar_style='info', max=1.0), HTML(value='')))"
            ]
          },
          "metadata": {
            "tags": []
          }
        },
        {
          "output_type": "stream",
          "text": [
            "\n",
            "the number of sentences is 356461\n",
            "the maximum length of the sentence is 66\n"
          ],
          "name": "stdout"
        }
      ]
    },
    {
      "cell_type": "code",
      "metadata": {
        "id": "qjEmZo8Zvlp8"
      },
      "source": [
        "def sentence_save(data,name,ind2w):\n",
        "    path_to_file = \"/content/drive/MyDrive/24787 Group Project  /Data/for_final_submission/\"+name+\".txt\"\n",
        "    f= open(path_to_file,\"w\")\n",
        "    for i in range(len(data)):\n",
        "        text = [ind2w[j] for j in data[i]]\n",
        "        for text0 in text:\n",
        "            f.write(text0+'\\t')\n",
        "        f.write('\\n')\n",
        "    f.close()"
      ],
      "execution_count": null,
      "outputs": []
    },
    {
      "cell_type": "code",
      "metadata": {
        "id": "iSdI7Al9dQPl"
      },
      "source": [
        "sentence_save(data=sentences_num,name='description_sentence_newest',ind2w=ind2word)"
      ],
      "execution_count": null,
      "outputs": []
    },
    {
      "cell_type": "code",
      "metadata": {
        "id": "UATd5g2txnr3"
      },
      "source": [
        "def sentence_printout(path):\n",
        "    #just to demonstrate the txt file (the first ten sentence)\n",
        "    with open(path) as f: \n",
        "        lines = f.read().splitlines()\n",
        "    for line in lines[:10]:\n",
        "        print(line)\n",
        "    f.close()"
      ],
      "execution_count": null,
      "outputs": []
    },
    {
      "cell_type": "code",
      "metadata": {
        "colab": {
          "base_uri": "https://localhost:8080/"
        },
        "id": "xg5IqZn3dlmt",
        "outputId": "4c45a18b-9ebf-4490-a439-1e396c37bbee"
      },
      "source": [
        "sentence_printout(path= \"/content/drive/MyDrive/24787 Group Project  /Data/for_final_submission/description_sentence_newest.txt\")"
      ],
      "execution_count": null,
      "outputs": [
        {
          "output_type": "stream",
          "text": [
            "aromas\tinclude\ttropical\tfruit\tbroom\tbrimstone\tand\tdried\therb\t\n",
            "the\tpalate\tisn't\toverly\texpressive\toffering\tunripened\tapple\tcitrus\tand\tdried\tsage\talongside\tbrisk\tacidity\t\n",
            "this\tis\tripe\tand\tfruity\ta\twine\tthat\tis\tsmooth\twhile\tstill\tstructured\t\n",
            "firm\ttannins\tare\tfilled\tout\twith\tjuicy\tred\tberry\tfruits\tand\tfreshened\twith\tacidity\t\n",
            "it's\talready\tdrinkable\talthough\tit\twill\tcertainly\tbe\tbetter\tfrom\t2016\t\n",
            "tart\tand\tsnappy\tthe\tflavors\tof\tlime\tflesh\tand\trind\tdominate\t\n",
            "some\tgreen\tpineapple\tpokes\tthrough\twith\tcrisp\tacidity\tunderscoring\tthe\tflavors\t\n",
            "the\twine\twas\tall\tstainless\tsteel\tfermented\t\n",
            "pineapple\trind\tlemon\tpith\tand\torange\tblossom\tstart\toff\tthe\taromas\t\n",
            "the\tpalate\tis\ta\tbit\tmore\topulent\twith\tnotes\tof\thoney\tdrizzled\tguava\tand\tmango\tgiving\tway\tto\ta\tslightly\tastringent\tsemidry\tfinish\t\n"
          ],
          "name": "stdout"
        }
      ]
    },
    {
      "cell_type": "code",
      "metadata": {
        "colab": {
          "base_uri": "https://localhost:8080/"
        },
        "id": "XsStu_kKeyPv",
        "outputId": "cee63404-5b9a-465e-bc0e-f97229e71c4e"
      },
      "source": [
        "for seq in sentences_num[:2]:\n",
        "  print(f\"{seq} \\n => \\n {[ind2word[i] for i in seq]}\")"
      ],
      "execution_count": null,
      "outputs": [
        {
          "output_type": "stream",
          "text": [
            "[15, 873, 202, 13, 1978, 3581, 1, 88, 105] \n",
            " => \n",
            " ['aromas', 'include', 'tropical', 'fruit', 'broom', 'brimstone', 'and', 'dried', 'herb']\n",
            "[2, 16, 908, 1030, 928, 308, 14444, 48, 60, 1, 88, 421, 142, 360, 18] \n",
            " => \n",
            " ['the', 'palate', \"isn't\", 'overly', 'expressive', 'offering', 'unripened', 'apple', 'citrus', 'and', 'dried', 'sage', 'alongside', 'brisk', 'acidity']\n"
          ],
          "name": "stdout"
        }
      ]
    },
    {
      "cell_type": "markdown",
      "metadata": {
        "id": "CN2copUaQN6_"
      },
      "source": [
        "### Part 2 Using Spell-checker"
      ]
    },
    {
      "cell_type": "markdown",
      "metadata": {
        "id": "7wMU8dUffd8R"
      },
      "source": [
        "### This is a demonstration of spell corrector.\n",
        "#### Go to this github repos to find the code: https://github.com/makcedward/nlp . Download the code and upload the folder name \"aion\" to the Colad Notebook folder. Once you are done you can run the following code to import it.\n",
        "##### This method is not the optimal(Let me know if you know how to do the better upload, install and import method)"
      ]
    },
    {
      "cell_type": "markdown",
      "metadata": {
        "id": "31LlTQTxhFt1"
      },
      "source": [
        "#### I tried a couple of times to permanently install it on the colab. But then the library doesn't work as expected. So I just gave up. Now we need to install it every time when running the notebook."
      ]
    },
    {
      "cell_type": "code",
      "metadata": {
        "colab": {
          "base_uri": "https://localhost:8080/"
        },
        "id": "g0wg1EnjlNJH",
        "outputId": "91fb9c4b-4980-4d2b-f02e-ee1b5c4680d8"
      },
      "source": [
        "import sys, os\n",
        "nb_path = '/content/notebooks'\n",
        "os.symlink('/content/drive/My Drive/Colab Notebooks', nb_path)\n",
        "sys.path.insert(0,nb_path)\n",
        "!pip install --target=$nb_path aion"
      ],
      "execution_count": null,
      "outputs": [
        {
          "output_type": "stream",
          "text": [
            "Collecting aion\n",
            "  Downloading https://files.pythonhosted.org/packages/a9/57/65514627a8e21f8471e49ecc57011ec83e5a6e086b99687f459b99886b89/Aion-0.1.tar.gz\n",
            "Building wheels for collected packages: aion\n",
            "  Building wheel for aion (setup.py) ... \u001b[?25l\u001b[?25hdone\n",
            "  Created wheel for aion: filename=Aion-0.1-cp36-none-any.whl size=942 sha256=abf8a4fac9524349096413d828e513d21838d264e2d203bbf2a40d446033d7df\n",
            "  Stored in directory: /root/.cache/pip/wheels/07/57/2b/8d23b69d0bfbba62ef07de99bcccdad45ee152aed5792978eb\n",
            "Successfully built aion\n",
            "Installing collected packages: aion\n",
            "Successfully installed aion-0.1\n",
            "\u001b[33mWARNING: Target directory /content/notebooks/Aion-0.1.dist-info already exists. Specify --upgrade to force replacement.\u001b[0m\n"
          ],
          "name": "stdout"
        }
      ]
    },
    {
      "cell_type": "code",
      "metadata": {
        "colab": {
          "base_uri": "https://localhost:8080/"
        },
        "id": "3CgQIHIXnxQ9",
        "outputId": "d29e396c-9331-4119-b209-92545a7314e4"
      },
      "source": [
        "#for some reason you can't combine these 2 cells(the above one and this one)\n",
        "#otherwise the spellcorrector will not work as expected\n",
        "!pip install symspellpy"
      ],
      "execution_count": null,
      "outputs": [
        {
          "output_type": "stream",
          "text": [
            "Collecting symspellpy\n",
            "\u001b[?25l  Downloading https://files.pythonhosted.org/packages/99/af/e71fcca6a42b6a63f518b0c1627e1f67822815cb0cf71e6af05acbd75c78/symspellpy-6.7.0-py3-none-any.whl (2.6MB)\n",
            "\u001b[K     |████████████████████████████████| 2.6MB 4.2MB/s \n",
            "\u001b[?25hRequirement already satisfied: numpy>=1.13.1 in /usr/local/lib/python3.6/dist-packages (from symspellpy) (1.18.5)\n",
            "Installing collected packages: symspellpy\n",
            "Successfully installed symspellpy-6.7.0\n"
          ],
          "name": "stdout"
        }
      ]
    },
    {
      "cell_type": "markdown",
      "metadata": {
        "id": "R8ahFtGzQVR-"
      },
      "source": [
        "#### Demonstration"
      ]
    },
    {
      "cell_type": "code",
      "metadata": {
        "colab": {
          "base_uri": "https://localhost:8080/",
          "height": 159
        },
        "id": "-1Gaq8zInzm2",
        "outputId": "e4292f74-508b-4073-9fd5-4cc6f0748c8d"
      },
      "source": [
        "from collections import Counter\n",
        "corpus = Counter(all_words)\n",
        "from aion.util.spell_check import SpellCorrector\n",
        "spell_corrector = SpellCorrector(dictionary=corpus, verbose=1)\n",
        "spell_corrector.correction('intensfiy')\n",
        "spell_corrector.correction('guardia')"
      ],
      "execution_count": null,
      "outputs": [
        {
          "output_type": "stream",
          "text": [
            "Known Result:  {'intensfiy'}\n",
            "Edit1 Result:  {'intensfiy', 'intensify'}\n",
            "Edit2 Result:  {'intensity', 'intensfiy', 'intensly', 'intensely', 'intensify', 'intensitiy'}\n",
            "Known Result:  {'guardia'}\n",
            "Edit1 Result:  {'guardia', 'guarda', 'guardian'}\n",
            "Edit2 Result:  {'garcia', 'guard', 'gandia', 'guards', 'guarda', 'guarding', 'guarded', 'guardian', 'garda', 'guardiola', 'guardia'}\n"
          ],
          "name": "stdout"
        },
        {
          "output_type": "execute_result",
          "data": {
            "application/vnd.google.colaboratory.intrinsic+json": {
              "type": "string"
            },
            "text/plain": [
              "'guardia'"
            ]
          },
          "metadata": {
            "tags": []
          },
          "execution_count": 27
        }
      ]
    },
    {
      "cell_type": "markdown",
      "metadata": {
        "id": "ro4qY-iGQiyK"
      },
      "source": [
        "#### Start Cleaning"
      ]
    },
    {
      "cell_type": "code",
      "metadata": {
        "id": "7mF7bMzlp7tH"
      },
      "source": [
        "word_df = pd.read_csv('/content/drive/MyDrive/24787 Group Project  /Data/for_final_submission/word_counts_newest.csv',index_col='Unnamed: 0')\n",
        "appears_more_than_once=word_df[word_df['0']>1]\n",
        "dict_appears_more_than_once=appears_more_than_once.to_dict()['0']"
      ],
      "execution_count": null,
      "outputs": []
    },
    {
      "cell_type": "code",
      "metadata": {
        "id": "dY16T4yfp_a2"
      },
      "source": [
        "appears_more_than_once=appears_more_than_once.astype(np.int64)"
      ],
      "execution_count": null,
      "outputs": []
    },
    {
      "cell_type": "code",
      "metadata": {
        "id": "7htOz2cEoGtE"
      },
      "source": [
        "from collections import Counter\n",
        "\n",
        "from aion.util.spell_check import SpellCorrector"
      ],
      "execution_count": null,
      "outputs": []
    },
    {
      "cell_type": "code",
      "metadata": {
        "colab": {
          "base_uri": "https://localhost:8080/"
        },
        "id": "VW23uhlRQsZH",
        "outputId": "eced28b1-7364-4a72-ab87-1a8689689876"
      },
      "source": [
        "#make the correction results more accessible\n",
        "corpus=Counter(dict_appears_more_than_once)\n",
        "spell_corrector = SpellCorrector(dictionary=corpus)\n",
        "print(spell_corrector.correction('intensfiy'))\n",
        "print(type(spell_corrector.correction('intensfiy')))"
      ],
      "execution_count": null,
      "outputs": [
        {
          "output_type": "stream",
          "text": [
            "intensify\n",
            "<class 'str'>\n"
          ],
          "name": "stdout"
        }
      ]
    },
    {
      "cell_type": "code",
      "metadata": {
        "id": "wU9h27t-S3gH"
      },
      "source": [
        "appears_once=word_df[word_df['0']<=1]"
      ],
      "execution_count": null,
      "outputs": []
    },
    {
      "cell_type": "code",
      "metadata": {
        "id": "oONbUP_-T8ss"
      },
      "source": [
        "appears_once=appears_once.astype(np.int64).reset_index()[['index']]"
      ],
      "execution_count": null,
      "outputs": []
    },
    {
      "cell_type": "code",
      "metadata": {
        "id": "8GC4DbXqUkeA"
      },
      "source": [
        "appears_once.columns=['original']"
      ],
      "execution_count": null,
      "outputs": []
    },
    {
      "cell_type": "code",
      "metadata": {
        "id": "JgNyAIFxUMRu"
      },
      "source": [
        "def correction(word):\n",
        "  return spell_corrector.correction(word)"
      ],
      "execution_count": null,
      "outputs": []
    },
    {
      "cell_type": "code",
      "metadata": {
        "colab": {
          "base_uri": "https://localhost:8080/",
          "height": 424,
          "referenced_widgets": [
            "dd4a47388a5e47cbaff4b607926e274a",
            "8d40c53d1f414561b46bd79cdc51b9fb",
            "f9501df5012747e592a88ca5e30b903e",
            "1b7cd85a312042ec9744d7b33f7ff60c",
            "6922676f7d5e4e069688372dfcc2967e",
            "8b6cdc968f354b30834d26e9898dbacc",
            "ed03601c6ec14d10ac21abfb4cfae66c",
            "8660c46c56c24cb18a5719b3cc1586e5"
          ]
        },
        "id": "97lZm1IpUctE",
        "outputId": "d770eafa-f463-41e5-fd74-53831a567f74"
      },
      "source": [
        "tqdm.pandas()\n",
        "appears_once['corrected'] = appears_once['original'].progress_apply(lambda x: correction(x))"
      ],
      "execution_count": null,
      "outputs": [
        {
          "output_type": "display_data",
          "data": {
            "application/vnd.jupyter.widget-view+json": {
              "model_id": "dd4a47388a5e47cbaff4b607926e274a",
              "version_minor": 0,
              "version_major": 2
            },
            "text/plain": [
              "HBox(children=(FloatProgress(value=0.0, max=11798.0), HTML(value='')))"
            ]
          },
          "metadata": {
            "tags": []
          }
        },
        {
          "output_type": "error",
          "ename": "KeyboardInterrupt",
          "evalue": "ignored",
          "traceback": [
            "\u001b[0;31m---------------------------------------------------------------------------\u001b[0m",
            "\u001b[0;31mKeyboardInterrupt\u001b[0m                         Traceback (most recent call last)",
            "\u001b[0;32m<ipython-input-15-a7ca85eb6bfe>\u001b[0m in \u001b[0;36m<module>\u001b[0;34m()\u001b[0m\n\u001b[1;32m      1\u001b[0m \u001b[0mtqdm\u001b[0m\u001b[0;34m.\u001b[0m\u001b[0mpandas\u001b[0m\u001b[0;34m(\u001b[0m\u001b[0;34m)\u001b[0m\u001b[0;34m\u001b[0m\u001b[0;34m\u001b[0m\u001b[0m\n\u001b[0;32m----> 2\u001b[0;31m \u001b[0mappears_once\u001b[0m\u001b[0;34m[\u001b[0m\u001b[0;34m'corrected'\u001b[0m\u001b[0;34m]\u001b[0m \u001b[0;34m=\u001b[0m \u001b[0mappears_once\u001b[0m\u001b[0;34m[\u001b[0m\u001b[0;34m'original'\u001b[0m\u001b[0;34m]\u001b[0m\u001b[0;34m.\u001b[0m\u001b[0mprogress_apply\u001b[0m\u001b[0;34m(\u001b[0m\u001b[0;32mlambda\u001b[0m \u001b[0mx\u001b[0m\u001b[0;34m:\u001b[0m \u001b[0mcorrection\u001b[0m\u001b[0;34m(\u001b[0m\u001b[0mx\u001b[0m\u001b[0;34m)\u001b[0m\u001b[0;34m)\u001b[0m\u001b[0;34m\u001b[0m\u001b[0;34m\u001b[0m\u001b[0m\n\u001b[0m",
            "\u001b[0;32m/usr/local/lib/python3.6/dist-packages/tqdm/std.py\u001b[0m in \u001b[0;36minner\u001b[0;34m(df, func, *args, **kwargs)\u001b[0m\n\u001b[1;32m    751\u001b[0m                 \u001b[0;31m# Apply the provided function (in **kwargs)\u001b[0m\u001b[0;34m\u001b[0m\u001b[0;34m\u001b[0m\u001b[0;34m\u001b[0m\u001b[0m\n\u001b[1;32m    752\u001b[0m                 \u001b[0;31m# on the df using our wrapper (which provides bar updating)\u001b[0m\u001b[0;34m\u001b[0m\u001b[0;34m\u001b[0m\u001b[0;34m\u001b[0m\u001b[0m\n\u001b[0;32m--> 753\u001b[0;31m                 \u001b[0mresult\u001b[0m \u001b[0;34m=\u001b[0m \u001b[0mgetattr\u001b[0m\u001b[0;34m(\u001b[0m\u001b[0mdf\u001b[0m\u001b[0;34m,\u001b[0m \u001b[0mdf_function\u001b[0m\u001b[0;34m)\u001b[0m\u001b[0;34m(\u001b[0m\u001b[0mwrapper\u001b[0m\u001b[0;34m,\u001b[0m \u001b[0;34m**\u001b[0m\u001b[0mkwargs\u001b[0m\u001b[0;34m)\u001b[0m\u001b[0;34m\u001b[0m\u001b[0;34m\u001b[0m\u001b[0m\n\u001b[0m\u001b[1;32m    754\u001b[0m \u001b[0;34m\u001b[0m\u001b[0m\n\u001b[1;32m    755\u001b[0m                 \u001b[0;31m# Close bar and return pandas calculation result\u001b[0m\u001b[0;34m\u001b[0m\u001b[0;34m\u001b[0m\u001b[0;34m\u001b[0m\u001b[0m\n",
            "\u001b[0;32m/usr/local/lib/python3.6/dist-packages/pandas/core/series.py\u001b[0m in \u001b[0;36mapply\u001b[0;34m(self, func, convert_dtype, args, **kwds)\u001b[0m\n\u001b[1;32m   4210\u001b[0m             \u001b[0;32melse\u001b[0m\u001b[0;34m:\u001b[0m\u001b[0;34m\u001b[0m\u001b[0;34m\u001b[0m\u001b[0m\n\u001b[1;32m   4211\u001b[0m                 \u001b[0mvalues\u001b[0m \u001b[0;34m=\u001b[0m \u001b[0mself\u001b[0m\u001b[0;34m.\u001b[0m\u001b[0mastype\u001b[0m\u001b[0;34m(\u001b[0m\u001b[0mobject\u001b[0m\u001b[0;34m)\u001b[0m\u001b[0;34m.\u001b[0m\u001b[0m_values\u001b[0m\u001b[0;34m\u001b[0m\u001b[0;34m\u001b[0m\u001b[0m\n\u001b[0;32m-> 4212\u001b[0;31m                 \u001b[0mmapped\u001b[0m \u001b[0;34m=\u001b[0m \u001b[0mlib\u001b[0m\u001b[0;34m.\u001b[0m\u001b[0mmap_infer\u001b[0m\u001b[0;34m(\u001b[0m\u001b[0mvalues\u001b[0m\u001b[0;34m,\u001b[0m \u001b[0mf\u001b[0m\u001b[0;34m,\u001b[0m \u001b[0mconvert\u001b[0m\u001b[0;34m=\u001b[0m\u001b[0mconvert_dtype\u001b[0m\u001b[0;34m)\u001b[0m\u001b[0;34m\u001b[0m\u001b[0;34m\u001b[0m\u001b[0m\n\u001b[0m\u001b[1;32m   4213\u001b[0m \u001b[0;34m\u001b[0m\u001b[0m\n\u001b[1;32m   4214\u001b[0m         \u001b[0;32mif\u001b[0m \u001b[0mlen\u001b[0m\u001b[0;34m(\u001b[0m\u001b[0mmapped\u001b[0m\u001b[0;34m)\u001b[0m \u001b[0;32mand\u001b[0m \u001b[0misinstance\u001b[0m\u001b[0;34m(\u001b[0m\u001b[0mmapped\u001b[0m\u001b[0;34m[\u001b[0m\u001b[0;36m0\u001b[0m\u001b[0;34m]\u001b[0m\u001b[0;34m,\u001b[0m \u001b[0mSeries\u001b[0m\u001b[0;34m)\u001b[0m\u001b[0;34m:\u001b[0m\u001b[0;34m\u001b[0m\u001b[0;34m\u001b[0m\u001b[0m\n",
            "\u001b[0;32mpandas/_libs/lib.pyx\u001b[0m in \u001b[0;36mpandas._libs.lib.map_infer\u001b[0;34m()\u001b[0m\n",
            "\u001b[0;32m/usr/local/lib/python3.6/dist-packages/tqdm/std.py\u001b[0m in \u001b[0;36mwrapper\u001b[0;34m(*args, **kwargs)\u001b[0m\n\u001b[1;32m    746\u001b[0m                     \u001b[0;31m# on the first column/row to decide whether it can\u001b[0m\u001b[0;34m\u001b[0m\u001b[0;34m\u001b[0m\u001b[0;34m\u001b[0m\u001b[0m\n\u001b[1;32m    747\u001b[0m                     \u001b[0;31m# take a fast or slow code path; so stop when t.total==t.n\u001b[0m\u001b[0;34m\u001b[0m\u001b[0;34m\u001b[0m\u001b[0;34m\u001b[0m\u001b[0m\n\u001b[0;32m--> 748\u001b[0;31m                     \u001b[0mt\u001b[0m\u001b[0;34m.\u001b[0m\u001b[0mupdate\u001b[0m\u001b[0;34m(\u001b[0m\u001b[0mn\u001b[0m\u001b[0;34m=\u001b[0m\u001b[0;36m1\u001b[0m \u001b[0;32mif\u001b[0m \u001b[0;32mnot\u001b[0m \u001b[0mt\u001b[0m\u001b[0;34m.\u001b[0m\u001b[0mtotal\u001b[0m \u001b[0;32mor\u001b[0m \u001b[0mt\u001b[0m\u001b[0;34m.\u001b[0m\u001b[0mn\u001b[0m \u001b[0;34m<\u001b[0m \u001b[0mt\u001b[0m\u001b[0;34m.\u001b[0m\u001b[0mtotal\u001b[0m \u001b[0;32melse\u001b[0m \u001b[0;36m0\u001b[0m\u001b[0;34m)\u001b[0m\u001b[0;34m\u001b[0m\u001b[0;34m\u001b[0m\u001b[0m\n\u001b[0m\u001b[1;32m    749\u001b[0m                     \u001b[0;32mreturn\u001b[0m \u001b[0mfunc\u001b[0m\u001b[0;34m(\u001b[0m\u001b[0;34m*\u001b[0m\u001b[0margs\u001b[0m\u001b[0;34m,\u001b[0m \u001b[0;34m**\u001b[0m\u001b[0mkwargs\u001b[0m\u001b[0;34m)\u001b[0m\u001b[0;34m\u001b[0m\u001b[0;34m\u001b[0m\u001b[0m\n\u001b[1;32m    750\u001b[0m \u001b[0;34m\u001b[0m\u001b[0m\n",
            "\u001b[0;32m/usr/local/lib/python3.6/dist-packages/tqdm/notebook.py\u001b[0m in \u001b[0;36mupdate\u001b[0;34m(self, *args, **kwargs)\u001b[0m\n\u001b[1;32m    223\u001b[0m     \u001b[0;32mdef\u001b[0m \u001b[0mupdate\u001b[0m\u001b[0;34m(\u001b[0m\u001b[0mself\u001b[0m\u001b[0;34m,\u001b[0m \u001b[0;34m*\u001b[0m\u001b[0margs\u001b[0m\u001b[0;34m,\u001b[0m \u001b[0;34m**\u001b[0m\u001b[0mkwargs\u001b[0m\u001b[0;34m)\u001b[0m\u001b[0;34m:\u001b[0m\u001b[0;34m\u001b[0m\u001b[0;34m\u001b[0m\u001b[0m\n\u001b[1;32m    224\u001b[0m         \u001b[0;32mtry\u001b[0m\u001b[0;34m:\u001b[0m\u001b[0;34m\u001b[0m\u001b[0;34m\u001b[0m\u001b[0m\n\u001b[0;32m--> 225\u001b[0;31m             \u001b[0msuper\u001b[0m\u001b[0;34m(\u001b[0m\u001b[0mtqdm_notebook\u001b[0m\u001b[0;34m,\u001b[0m \u001b[0mself\u001b[0m\u001b[0;34m)\u001b[0m\u001b[0;34m.\u001b[0m\u001b[0mupdate\u001b[0m\u001b[0;34m(\u001b[0m\u001b[0;34m*\u001b[0m\u001b[0margs\u001b[0m\u001b[0;34m,\u001b[0m \u001b[0;34m**\u001b[0m\u001b[0mkwargs\u001b[0m\u001b[0;34m)\u001b[0m\u001b[0;34m\u001b[0m\u001b[0;34m\u001b[0m\u001b[0m\n\u001b[0m\u001b[1;32m    226\u001b[0m         \u001b[0;32mexcept\u001b[0m \u001b[0mException\u001b[0m \u001b[0;32mas\u001b[0m \u001b[0mexc\u001b[0m\u001b[0;34m:\u001b[0m\u001b[0;34m\u001b[0m\u001b[0;34m\u001b[0m\u001b[0m\n\u001b[1;32m    227\u001b[0m             \u001b[0;31m# cannot catch KeyboardInterrupt when using manual tqdm\u001b[0m\u001b[0;34m\u001b[0m\u001b[0;34m\u001b[0m\u001b[0;34m\u001b[0m\u001b[0m\n",
            "\u001b[0;32m/usr/local/lib/python3.6/dist-packages/tqdm/std.py\u001b[0m in \u001b[0;36mupdate\u001b[0;34m(self, n)\u001b[0m\n\u001b[1;32m   1205\u001b[0m                         fp_write=getattr(self.fp, 'write', sys.stderr.write))\n\u001b[1;32m   1206\u001b[0m \u001b[0;34m\u001b[0m\u001b[0m\n\u001b[0;32m-> 1207\u001b[0;31m                 \u001b[0mself\u001b[0m\u001b[0;34m.\u001b[0m\u001b[0mrefresh\u001b[0m\u001b[0;34m(\u001b[0m\u001b[0mlock_args\u001b[0m\u001b[0;34m=\u001b[0m\u001b[0mself\u001b[0m\u001b[0;34m.\u001b[0m\u001b[0mlock_args\u001b[0m\u001b[0;34m)\u001b[0m\u001b[0;34m\u001b[0m\u001b[0;34m\u001b[0m\u001b[0m\n\u001b[0m\u001b[1;32m   1208\u001b[0m \u001b[0;34m\u001b[0m\u001b[0m\n\u001b[1;32m   1209\u001b[0m                 \u001b[0;31m# If no `miniters` was specified, adjust automatically to the\u001b[0m\u001b[0;34m\u001b[0m\u001b[0;34m\u001b[0m\u001b[0;34m\u001b[0m\u001b[0m\n",
            "\u001b[0;32m/usr/local/lib/python3.6/dist-packages/tqdm/std.py\u001b[0m in \u001b[0;36mrefresh\u001b[0;34m(self, nolock, lock_args)\u001b[0m\n\u001b[1;32m   1309\u001b[0m             \u001b[0;32melse\u001b[0m\u001b[0;34m:\u001b[0m\u001b[0;34m\u001b[0m\u001b[0;34m\u001b[0m\u001b[0m\n\u001b[1;32m   1310\u001b[0m                 \u001b[0mself\u001b[0m\u001b[0;34m.\u001b[0m\u001b[0m_lock\u001b[0m\u001b[0;34m.\u001b[0m\u001b[0macquire\u001b[0m\u001b[0;34m(\u001b[0m\u001b[0;34m)\u001b[0m\u001b[0;34m\u001b[0m\u001b[0;34m\u001b[0m\u001b[0m\n\u001b[0;32m-> 1311\u001b[0;31m         \u001b[0mself\u001b[0m\u001b[0;34m.\u001b[0m\u001b[0mdisplay\u001b[0m\u001b[0;34m(\u001b[0m\u001b[0;34m)\u001b[0m\u001b[0;34m\u001b[0m\u001b[0;34m\u001b[0m\u001b[0m\n\u001b[0m\u001b[1;32m   1312\u001b[0m         \u001b[0;32mif\u001b[0m \u001b[0;32mnot\u001b[0m \u001b[0mnolock\u001b[0m\u001b[0;34m:\u001b[0m\u001b[0;34m\u001b[0m\u001b[0;34m\u001b[0m\u001b[0m\n\u001b[1;32m   1313\u001b[0m             \u001b[0mself\u001b[0m\u001b[0;34m.\u001b[0m\u001b[0m_lock\u001b[0m\u001b[0;34m.\u001b[0m\u001b[0mrelease\u001b[0m\u001b[0;34m(\u001b[0m\u001b[0;34m)\u001b[0m\u001b[0;34m\u001b[0m\u001b[0;34m\u001b[0m\u001b[0m\n",
            "\u001b[0;32m/usr/local/lib/python3.6/dist-packages/tqdm/notebook.py\u001b[0m in \u001b[0;36mdisplay\u001b[0;34m(self, msg, pos, close, bar_style)\u001b[0m\n\u001b[1;32m    167\u001b[0m             \u001b[0;31m# never clear the bar (signal: msg='')\u001b[0m\u001b[0;34m\u001b[0m\u001b[0;34m\u001b[0m\u001b[0;34m\u001b[0m\u001b[0m\n\u001b[1;32m    168\u001b[0m             \u001b[0;32mif\u001b[0m \u001b[0mright\u001b[0m\u001b[0;34m:\u001b[0m\u001b[0;34m\u001b[0m\u001b[0;34m\u001b[0m\u001b[0m\n\u001b[0;32m--> 169\u001b[0;31m                 \u001b[0mptext\u001b[0m\u001b[0;34m.\u001b[0m\u001b[0mvalue\u001b[0m \u001b[0;34m=\u001b[0m \u001b[0mright\u001b[0m\u001b[0;34m\u001b[0m\u001b[0;34m\u001b[0m\u001b[0m\n\u001b[0m\u001b[1;32m    170\u001b[0m \u001b[0;34m\u001b[0m\u001b[0m\n\u001b[1;32m    171\u001b[0m         \u001b[0;31m# Change bar style\u001b[0m\u001b[0;34m\u001b[0m\u001b[0;34m\u001b[0m\u001b[0;34m\u001b[0m\u001b[0m\n",
            "\u001b[0;32m/usr/local/lib/python3.6/dist-packages/traitlets/traitlets.py\u001b[0m in \u001b[0;36m__set__\u001b[0;34m(self, obj, value)\u001b[0m\n\u001b[1;32m    583\u001b[0m             \u001b[0;32mraise\u001b[0m \u001b[0mTraitError\u001b[0m\u001b[0;34m(\u001b[0m\u001b[0;34m'The \"%s\" trait is read-only.'\u001b[0m \u001b[0;34m%\u001b[0m \u001b[0mself\u001b[0m\u001b[0;34m.\u001b[0m\u001b[0mname\u001b[0m\u001b[0;34m)\u001b[0m\u001b[0;34m\u001b[0m\u001b[0;34m\u001b[0m\u001b[0m\n\u001b[1;32m    584\u001b[0m         \u001b[0;32melse\u001b[0m\u001b[0;34m:\u001b[0m\u001b[0;34m\u001b[0m\u001b[0;34m\u001b[0m\u001b[0m\n\u001b[0;32m--> 585\u001b[0;31m             \u001b[0mself\u001b[0m\u001b[0;34m.\u001b[0m\u001b[0mset\u001b[0m\u001b[0;34m(\u001b[0m\u001b[0mobj\u001b[0m\u001b[0;34m,\u001b[0m \u001b[0mvalue\u001b[0m\u001b[0;34m)\u001b[0m\u001b[0;34m\u001b[0m\u001b[0;34m\u001b[0m\u001b[0m\n\u001b[0m\u001b[1;32m    586\u001b[0m \u001b[0;34m\u001b[0m\u001b[0m\n\u001b[1;32m    587\u001b[0m     \u001b[0;32mdef\u001b[0m \u001b[0m_validate\u001b[0m\u001b[0;34m(\u001b[0m\u001b[0mself\u001b[0m\u001b[0;34m,\u001b[0m \u001b[0mobj\u001b[0m\u001b[0;34m,\u001b[0m \u001b[0mvalue\u001b[0m\u001b[0;34m)\u001b[0m\u001b[0;34m:\u001b[0m\u001b[0;34m\u001b[0m\u001b[0;34m\u001b[0m\u001b[0m\n",
            "\u001b[0;32m/usr/local/lib/python3.6/dist-packages/traitlets/traitlets.py\u001b[0m in \u001b[0;36mset\u001b[0;34m(self, obj, value)\u001b[0m\n\u001b[1;32m    572\u001b[0m             \u001b[0;31m# we explicitly compare silent to True just in case the equality\u001b[0m\u001b[0;34m\u001b[0m\u001b[0;34m\u001b[0m\u001b[0;34m\u001b[0m\u001b[0m\n\u001b[1;32m    573\u001b[0m             \u001b[0;31m# comparison above returns something other than True/False\u001b[0m\u001b[0;34m\u001b[0m\u001b[0;34m\u001b[0m\u001b[0;34m\u001b[0m\u001b[0m\n\u001b[0;32m--> 574\u001b[0;31m             \u001b[0mobj\u001b[0m\u001b[0;34m.\u001b[0m\u001b[0m_notify_trait\u001b[0m\u001b[0;34m(\u001b[0m\u001b[0mself\u001b[0m\u001b[0;34m.\u001b[0m\u001b[0mname\u001b[0m\u001b[0;34m,\u001b[0m \u001b[0mold_value\u001b[0m\u001b[0;34m,\u001b[0m \u001b[0mnew_value\u001b[0m\u001b[0;34m)\u001b[0m\u001b[0;34m\u001b[0m\u001b[0;34m\u001b[0m\u001b[0m\n\u001b[0m\u001b[1;32m    575\u001b[0m \u001b[0;34m\u001b[0m\u001b[0m\n\u001b[1;32m    576\u001b[0m     \u001b[0;32mdef\u001b[0m \u001b[0m__set__\u001b[0m\u001b[0;34m(\u001b[0m\u001b[0mself\u001b[0m\u001b[0;34m,\u001b[0m \u001b[0mobj\u001b[0m\u001b[0;34m,\u001b[0m \u001b[0mvalue\u001b[0m\u001b[0;34m)\u001b[0m\u001b[0;34m:\u001b[0m\u001b[0;34m\u001b[0m\u001b[0;34m\u001b[0m\u001b[0m\n",
            "\u001b[0;32m/usr/local/lib/python3.6/dist-packages/traitlets/traitlets.py\u001b[0m in \u001b[0;36m_notify_trait\u001b[0;34m(self, name, old_value, new_value)\u001b[0m\n\u001b[1;32m   1137\u001b[0m             \u001b[0mnew\u001b[0m\u001b[0;34m=\u001b[0m\u001b[0mnew_value\u001b[0m\u001b[0;34m,\u001b[0m\u001b[0;34m\u001b[0m\u001b[0;34m\u001b[0m\u001b[0m\n\u001b[1;32m   1138\u001b[0m             \u001b[0mowner\u001b[0m\u001b[0;34m=\u001b[0m\u001b[0mself\u001b[0m\u001b[0;34m,\u001b[0m\u001b[0;34m\u001b[0m\u001b[0;34m\u001b[0m\u001b[0m\n\u001b[0;32m-> 1139\u001b[0;31m             \u001b[0mtype\u001b[0m\u001b[0;34m=\u001b[0m\u001b[0;34m'change'\u001b[0m\u001b[0;34m,\u001b[0m\u001b[0;34m\u001b[0m\u001b[0;34m\u001b[0m\u001b[0m\n\u001b[0m\u001b[1;32m   1140\u001b[0m         ))\n\u001b[1;32m   1141\u001b[0m \u001b[0;34m\u001b[0m\u001b[0m\n",
            "\u001b[0;32m/usr/local/lib/python3.6/dist-packages/ipywidgets/widgets/widget.py\u001b[0m in \u001b[0;36mnotify_change\u001b[0;34m(self, change)\u001b[0m\n\u001b[1;32m    601\u001b[0m         \u001b[0;32mif\u001b[0m \u001b[0mself\u001b[0m\u001b[0;34m.\u001b[0m\u001b[0mcomm\u001b[0m \u001b[0;32mis\u001b[0m \u001b[0;32mnot\u001b[0m \u001b[0;32mNone\u001b[0m \u001b[0;32mand\u001b[0m \u001b[0mself\u001b[0m\u001b[0;34m.\u001b[0m\u001b[0mcomm\u001b[0m\u001b[0;34m.\u001b[0m\u001b[0mkernel\u001b[0m \u001b[0;32mis\u001b[0m \u001b[0;32mnot\u001b[0m \u001b[0;32mNone\u001b[0m\u001b[0;34m:\u001b[0m\u001b[0;34m\u001b[0m\u001b[0;34m\u001b[0m\u001b[0m\n\u001b[1;32m    602\u001b[0m             \u001b[0;31m# Make sure this isn't information that the front-end just sent us.\u001b[0m\u001b[0;34m\u001b[0m\u001b[0;34m\u001b[0m\u001b[0;34m\u001b[0m\u001b[0m\n\u001b[0;32m--> 603\u001b[0;31m             \u001b[0;32mif\u001b[0m \u001b[0mname\u001b[0m \u001b[0;32min\u001b[0m \u001b[0mself\u001b[0m\u001b[0;34m.\u001b[0m\u001b[0mkeys\u001b[0m \u001b[0;32mand\u001b[0m \u001b[0mself\u001b[0m\u001b[0;34m.\u001b[0m\u001b[0m_should_send_property\u001b[0m\u001b[0;34m(\u001b[0m\u001b[0mname\u001b[0m\u001b[0;34m,\u001b[0m \u001b[0mgetattr\u001b[0m\u001b[0;34m(\u001b[0m\u001b[0mself\u001b[0m\u001b[0;34m,\u001b[0m \u001b[0mname\u001b[0m\u001b[0;34m)\u001b[0m\u001b[0;34m)\u001b[0m\u001b[0;34m:\u001b[0m\u001b[0;34m\u001b[0m\u001b[0;34m\u001b[0m\u001b[0m\n\u001b[0m\u001b[1;32m    604\u001b[0m                 \u001b[0;31m# Send new state to front-end\u001b[0m\u001b[0;34m\u001b[0m\u001b[0;34m\u001b[0m\u001b[0;34m\u001b[0m\u001b[0m\n\u001b[1;32m    605\u001b[0m                 \u001b[0mself\u001b[0m\u001b[0;34m.\u001b[0m\u001b[0msend_state\u001b[0m\u001b[0;34m(\u001b[0m\u001b[0mkey\u001b[0m\u001b[0;34m=\u001b[0m\u001b[0mname\u001b[0m\u001b[0;34m)\u001b[0m\u001b[0;34m\u001b[0m\u001b[0;34m\u001b[0m\u001b[0m\n",
            "\u001b[0;32m/usr/local/lib/python3.6/dist-packages/ipywidgets/widgets/widget.py\u001b[0m in \u001b[0;36m_should_send_property\u001b[0;34m(self, key, value)\u001b[0m\n\u001b[1;32m    644\u001b[0m     \u001b[0;32mdef\u001b[0m \u001b[0m_should_send_property\u001b[0m\u001b[0;34m(\u001b[0m\u001b[0mself\u001b[0m\u001b[0;34m,\u001b[0m \u001b[0mkey\u001b[0m\u001b[0;34m,\u001b[0m \u001b[0mvalue\u001b[0m\u001b[0;34m)\u001b[0m\u001b[0;34m:\u001b[0m\u001b[0;34m\u001b[0m\u001b[0;34m\u001b[0m\u001b[0m\n\u001b[1;32m    645\u001b[0m         \u001b[0;34m\"\"\"Check the property lock (property_lock)\"\"\"\u001b[0m\u001b[0;34m\u001b[0m\u001b[0;34m\u001b[0m\u001b[0m\n\u001b[0;32m--> 646\u001b[0;31m         \u001b[0mto_json\u001b[0m \u001b[0;34m=\u001b[0m \u001b[0mself\u001b[0m\u001b[0;34m.\u001b[0m\u001b[0mtrait_metadata\u001b[0m\u001b[0;34m(\u001b[0m\u001b[0mkey\u001b[0m\u001b[0;34m,\u001b[0m \u001b[0;34m'to_json'\u001b[0m\u001b[0;34m,\u001b[0m \u001b[0mself\u001b[0m\u001b[0;34m.\u001b[0m\u001b[0m_trait_to_json\u001b[0m\u001b[0;34m)\u001b[0m\u001b[0;34m\u001b[0m\u001b[0;34m\u001b[0m\u001b[0m\n\u001b[0m\u001b[1;32m    647\u001b[0m         \u001b[0;32mif\u001b[0m \u001b[0mkey\u001b[0m \u001b[0;32min\u001b[0m \u001b[0mself\u001b[0m\u001b[0;34m.\u001b[0m\u001b[0m_property_lock\u001b[0m\u001b[0;34m:\u001b[0m\u001b[0;34m\u001b[0m\u001b[0;34m\u001b[0m\u001b[0m\n\u001b[1;32m    648\u001b[0m             \u001b[0;31m# model_state, buffer_paths, buffers\u001b[0m\u001b[0;34m\u001b[0m\u001b[0;34m\u001b[0m\u001b[0;34m\u001b[0m\u001b[0m\n",
            "\u001b[0;32m/usr/local/lib/python3.6/dist-packages/traitlets/traitlets.py\u001b[0m in \u001b[0;36mtrait_metadata\u001b[0;34m(self, traitname, key, default)\u001b[0m\n\u001b[1;32m   1440\u001b[0m         \u001b[0;34m\"\"\"Get metadata values for trait by key.\"\"\"\u001b[0m\u001b[0;34m\u001b[0m\u001b[0;34m\u001b[0m\u001b[0m\n\u001b[1;32m   1441\u001b[0m         \u001b[0;32mtry\u001b[0m\u001b[0;34m:\u001b[0m\u001b[0;34m\u001b[0m\u001b[0;34m\u001b[0m\u001b[0m\n\u001b[0;32m-> 1442\u001b[0;31m             \u001b[0mtrait\u001b[0m \u001b[0;34m=\u001b[0m \u001b[0mgetattr\u001b[0m\u001b[0;34m(\u001b[0m\u001b[0mself\u001b[0m\u001b[0;34m.\u001b[0m\u001b[0m__class__\u001b[0m\u001b[0;34m,\u001b[0m \u001b[0mtraitname\u001b[0m\u001b[0;34m)\u001b[0m\u001b[0;34m\u001b[0m\u001b[0;34m\u001b[0m\u001b[0m\n\u001b[0m\u001b[1;32m   1443\u001b[0m         \u001b[0;32mexcept\u001b[0m \u001b[0mAttributeError\u001b[0m\u001b[0;34m:\u001b[0m\u001b[0;34m\u001b[0m\u001b[0;34m\u001b[0m\u001b[0m\n\u001b[1;32m   1444\u001b[0m             raise TraitError(\"Class %s does not have a trait named %s\" %\n",
            "\u001b[0;31mKeyboardInterrupt\u001b[0m: "
          ]
        }
      ]
    },
    {
      "cell_type": "markdown",
      "metadata": {
        "id": "BBrLiFVzXFJF"
      },
      "source": [
        "#### part 2-2 how much do we improve?"
      ]
    },
    {
      "cell_type": "code",
      "metadata": {
        "id": "LVIMxjOZbw2H"
      },
      "source": [
        "def word_counts_update(word,orig_df,orig_dict):\n",
        "  if orig_dict.get(word) is not None:\n",
        "   orig_df['new_counts'].loc[word]=orig_df['counts'].loc[word]+1\n",
        "  else:\n",
        "    df=pd.DataFrame.from_dict({'counts':1, 'new_counts':1},orient='index')\n",
        "    df.columns=[word]\n",
        "    orig_df=orig_df.append(df.transpose())\n",
        "\n",
        "  return orig_df"
      ],
      "execution_count": null,
      "outputs": []
    },
    {
      "cell_type": "code",
      "metadata": {
        "id": "sS_z44Clh_az"
      },
      "source": [
        "appears_more_than_once['new_counts']=appears_more_than_once['counts']"
      ],
      "execution_count": null,
      "outputs": []
    },
    {
      "cell_type": "code",
      "metadata": {
        "id": "8mtcPRZHbZSW"
      },
      "source": [
        "for word in appears_once['corrected']:\n",
        "  appears_more_than_once=word_counts_update(word,appears_more_than_once,dict_appears_more_than_once)"
      ],
      "execution_count": null,
      "outputs": []
    },
    {
      "cell_type": "code",
      "metadata": {
        "id": "49MP5F8Ytdpi"
      },
      "source": [
        "appears_more_than_once"
      ],
      "execution_count": null,
      "outputs": []
    },
    {
      "cell_type": "markdown",
      "metadata": {
        "id": "MKF4tAuZjt64"
      },
      "source": [
        "###start to clean up the text(using the full reviews)"
      ]
    },
    {
      "cell_type": "code",
      "metadata": {
        "id": "WNEHGnPOmWQm"
      },
      "source": [
        "corrected_ls=list(appears_once.to_dict()['corrected'].values())\n",
        "orig_ls=list(appears_once.to_dict()['original'].values())"
      ],
      "execution_count": null,
      "outputs": []
    },
    {
      "cell_type": "code",
      "metadata": {
        "id": "OvV6BVDUn7ED"
      },
      "source": [
        "fix_box=dict(zip(orig_ls,corrected_ls))"
      ],
      "execution_count": null,
      "outputs": []
    },
    {
      "cell_type": "code",
      "metadata": {
        "id": "XdmqVMo4kguq"
      },
      "source": [
        "def review_cleanup(revised_dict,x):\n",
        "  review_ls=text_to_word_sequence(x[0],filters='­­\"…–â€˜‘’—!#$%&()*+,-./:;<=>?@[\\\\]^_`{|}~\\t\\n“”')\n",
        "  revised=[revised_dict.get(word,word) for word in review_ls]\n",
        "  return revised"
      ],
      "execution_count": null,
      "outputs": []
    },
    {
      "cell_type": "code",
      "metadata": {
        "id": "wL2gqvv9h7VA"
      },
      "source": [
        "raw_data['corrected_once']=raw_data.progress_apply(lambda x: review_cleanup(fix_box,x),axis=1)"
      ],
      "execution_count": null,
      "outputs": []
    },
    {
      "cell_type": "code",
      "metadata": {
        "id": "0Sdtnwc4obnC"
      },
      "source": [
        "def review_cleaned_saver_csv(data,name):\n",
        "   #save the word_counts if neccessary\n",
        "    path = '/content/drive/MyDrive/24787 Group Project  /Data/for_final_submission/'+name+'.csv'\n",
        "    data.to_csv(path)"
      ],
      "execution_count": null,
      "outputs": []
    },
    {
      "cell_type": "code",
      "metadata": {
        "id": "ADdkBxhRooh4"
      },
      "source": [
        "review_cleaned_saver_csv(raw_data[['corrected_once']],name)"
      ],
      "execution_count": null,
      "outputs": []
    },
    {
      "cell_type": "code",
      "metadata": {
        "id": "2ZbF3cfs0mKA"
      },
      "source": [
        "def sentence_cleanup(revised_dict,x):\n",
        "  sentence_ls=x[0].split('.')\n",
        "  sentences_revised=[]\n",
        "  for sentence in sentence_ls:\n",
        "    tokens=text_to_word_sequence(sentence,filters='­­\"…–â€˜‘’—!#$%&()*+,-./:;<=>?@[\\\\]^_`{|}~\\t\\n“”')\n",
        "    revised_tokens=[revised_dict.get(word,word) for word in tokens]\n",
        "    sentences_revised.append(revised_tokens)\n",
        "  sentences_revised=list(filter(None,sentences_revised)) \n",
        "  return sentences_revised"
      ],
      "execution_count": null,
      "outputs": []
    },
    {
      "cell_type": "code",
      "metadata": {
        "colab": {
          "base_uri": "https://localhost:8080/",
          "height": 66,
          "referenced_widgets": [
            "b5f992eb7f40442baa6cc966b75f9ba3",
            "6849299e3a57401ebec612a16b1e4a4b",
            "bb32d4e446a24ca794c086a2e477e586",
            "f6fe4b1e3bee4bcca0b891d7b45dbcf7",
            "7ac8ee41fe5749c6a5571e06deb479a6",
            "ae954934624845fd9b5712d8a017bde9",
            "8cd990745bba4ab783507bd3f0556533",
            "0dea16cce3b646128672fb3e0bea481b"
          ]
        },
        "id": "OHV_5noFzzoj",
        "outputId": "2a0eed43-d4e9-46f3-e457-fbb8e5456a66"
      },
      "source": [
        "raw_data['sentences_corrected']=raw_data.progress_apply(lambda x: sentence_cleanup(fix_box,x),axis=1)"
      ],
      "execution_count": null,
      "outputs": [
        {
          "output_type": "display_data",
          "data": {
            "application/vnd.jupyter.widget-view+json": {
              "model_id": "b5f992eb7f40442baa6cc966b75f9ba3",
              "version_minor": 0,
              "version_major": 2
            },
            "text/plain": [
              "HBox(children=(FloatProgress(value=0.0, max=129971.0), HTML(value='')))"
            ]
          },
          "metadata": {
            "tags": []
          }
        },
        {
          "output_type": "stream",
          "text": [
            "\n"
          ],
          "name": "stdout"
        }
      ]
    },
    {
      "cell_type": "markdown",
      "metadata": {
        "id": "HBxIbNo9pgUu"
      },
      "source": [
        "#### generate new text for training"
      ]
    },
    {
      "cell_type": "code",
      "metadata": {
        "id": "7D4bViiD7kW9"
      },
      "source": [
        "test=[]\n",
        "for review in raw_data['corrected_once']:\n",
        "  test.extend(review)\n",
        "test_counts=pd.Series(test).value_counts()"
      ],
      "execution_count": null,
      "outputs": []
    },
    {
      "cell_type": "code",
      "metadata": {
        "colab": {
          "base_uri": "https://localhost:8080/",
          "height": 842,
          "referenced_widgets": [
            "225ae21b87e24cd3a5ff48f5cf393aef",
            "4797e18d52c749218f44dff938f39755",
            "2e90afb3a2fe494fb7d5d042a2159227",
            "78abccdf296948d89ba6bbaf8d971070",
            "53e49695e15e44b3b6d426f62534e2c9",
            "46b07805734442a3a4c099dcd70b6c6f",
            "949228a5a0b14f9495b118486cb645c3",
            "95fb1ef8e0c14614b87eeca67694af7c"
          ]
        },
        "id": "-8F0-9bic0u5",
        "outputId": "18a24648-5f00-493a-bd62-434b6179cb7f"
      },
      "source": [
        "all_words_once, word_counts_once=text_clean_up(dataframe=raw_data[['corrected_once']],filter_to_use='­­\"…–â€˜‘’—!#$%&()*+,-./:;<=>?@[\\\\]^_`{|}~\\t\\n“”',plotter=True)"
      ],
      "execution_count": null,
      "outputs": [
        {
          "output_type": "display_data",
          "data": {
            "application/vnd.jupyter.widget-view+json": {
              "model_id": "225ae21b87e24cd3a5ff48f5cf393aef",
              "version_minor": 0,
              "version_major": 2
            },
            "text/plain": [
              "HBox(children=(FloatProgress(value=1.0, bar_style='info', max=1.0), HTML(value='')))"
            ]
          },
          "metadata": {
            "tags": []
          }
        },
        {
          "output_type": "stream",
          "text": [
            "\n",
            "20 most common tokens\n"
          ],
          "name": "stdout"
        },
        {
          "output_type": "display_data",
          "data": {
            "image/png": "[encoded data removed]",
            "text/plain": [
              "<Figure size 864x432 with 1 Axes>"
            ]
          },
          "metadata": {
            "tags": [],
            "needs_background": "light"
          }
        },
        {
          "output_type": "stream",
          "text": [
            "20 least common tokens\n"
          ],
          "name": "stdout"
        },
        {
          "output_type": "display_data",
          "data": {
            "image/png": "[encoded data removed]",
            "text/plain": [
              "<Figure size 864x432 with 1 Axes>"
            ]
          },
          "metadata": {
            "tags": [],
            "needs_background": "light"
          }
        }
      ]
    },
    {
      "cell_type": "code",
      "metadata": {
        "colab": {
          "base_uri": "https://localhost:8080/"
        },
        "id": "9fS_fPfQicdo",
        "outputId": "12ecc60b-c8ff-4f48-f484-afbee1ad2b72"
      },
      "source": [
        "print('The number of vocab only appears once in the descriptions: '+str(sum(word_counts_once==1)))\n",
        "print('The ratio of vocab only appears once in the description to the total vocab: '+str(sum(word_counts_once==1)/len(word_counts_once)))"
      ],
      "execution_count": null,
      "outputs": [
        {
          "output_type": "stream",
          "text": [
            "The number of vocab only appears once in the descriptions: 3052\n",
            "The ratio of vocab only appears once in the description to the total vocab: 0.12496928998444026\n"
          ],
          "name": "stdout"
        }
      ]
    },
    {
      "cell_type": "code",
      "metadata": {
        "colab": {
          "base_uri": "https://localhost:8080/"
        },
        "id": "RL_ob9iOqAJT",
        "outputId": "80336c3c-3073-4ad8-b54b-96832e83add4"
      },
      "source": [
        "print('The number of vocab only appears once in the descriptions: '+str(sum(word_counts_once==2)))\n",
        "print('The ratio of vocab only appears once in the description to the total vocab: '+str(sum(word_counts_once==2)/len(word_counts_once)))"
      ],
      "execution_count": null,
      "outputs": [
        {
          "output_type": "stream",
          "text": [
            "The number of vocab only appears once in the descriptions: 3385\n",
            "The ratio of vocab only appears once in the description to the total vocab: 0.13860453689296537\n"
          ],
          "name": "stdout"
        }
      ]
    },
    {
      "cell_type": "code",
      "metadata": {
        "colab": {
          "base_uri": "https://localhost:8080/",
          "height": 279
        },
        "id": "J3I05rosuRbr",
        "outputId": "9d3d3a81-3b72-4fbf-bcb6-dd323ab1c6a1"
      },
      "source": [
        "plt.hist(word_counts.to_numpy()[word_counts.to_numpy()<=100],bins=50,alpha=1,label='before clean-up')\n",
        "plt.hist(word_counts_once.to_numpy()[word_counts_once.to_numpy()<=100],bins=50,alpha=0.5,color='red',label='after clean-up')\n",
        "plt.xlabel('number of times appears in the review')\n",
        "plt.ylabel('counts')\n",
        "plt.legend()\n",
        "plt.show()"
      ],
      "execution_count": null,
      "outputs": [
        {
          "output_type": "display_data",
          "data": {
            "image/png": "[encoded data removed]",
            "text/plain": [
              "<Figure size 432x288 with 1 Axes>"
            ]
          },
          "metadata": {
            "tags": [],
            "needs_background": "light"
          }
        }
      ]
    },
    {
      "cell_type": "code",
      "metadata": {
        "id": "ynIcbbRfv9I4"
      },
      "source": [
        "word_counts_saver(data=word_counts_once,name='word_counts_cleaned_once')"
      ],
      "execution_count": null,
      "outputs": []
    },
    {
      "cell_type": "code",
      "metadata": {
        "colab": {
          "base_uri": "https://localhost:8080/"
        },
        "id": "tORykHVp2o4C",
        "outputId": "ba0e018b-e66f-4bf6-922e-181f63b3f31b"
      },
      "source": [
        "word2ind_once,ind2word_once=dict_generator(data=word_counts_once)\n",
        "print('word2ind_dict',take(10, word2ind_once.items()))\n",
        "print('ind2word_dict',take(10, ind2word_once.items()))\n",
        "IW2_df_once=pd.DataFrame.from_dict(ind2word_once, orient='index',columns=['Vocab'])\n",
        "IW2_df_once.to_csv('/content/drive/MyDrive/24787 Group Project  /Data/for_final_submission/Dictionary_cleaned.csv',index=False)"
      ],
      "execution_count": null,
      "outputs": [
        {
          "output_type": "stream",
          "text": [
            "word2ind_dict [('', 0), ('and', 1), ('the', 2), ('a', 3), ('of', 4), ('with', 5), ('this', 6), ('is', 7), ('wine', 8), ('flavors', 9)]\n",
            "ind2word_dict [(0, ''), (1, 'and'), (2, 'the'), (3, 'a'), (4, 'of'), (5, 'with'), (6, 'this'), (7, 'is'), (8, 'wine'), (9, 'flavors')]\n"
          ],
          "name": "stdout"
        }
      ]
    },
    {
      "cell_type": "code",
      "metadata": {
        "id": "pLMiomHm2uvv"
      },
      "source": [
        "sentences_num_once=[]\n",
        "for review in raw_data['sentences_corrected']:\n",
        "  for sentence in review:\n",
        "    temp_mem=[word2ind_once[word] for word in sentence]\n",
        "    sentences_num_once.append(temp_mem)"
      ],
      "execution_count": null,
      "outputs": []
    },
    {
      "cell_type": "code",
      "metadata": {
        "id": "NvUOzzeo3aGr"
      },
      "source": [
        "sentence_save(data=sentences_num_once,name='description_sentence_cleaned',ind2w=ind2word_once)"
      ],
      "execution_count": null,
      "outputs": []
    },
    {
      "cell_type": "code",
      "metadata": {
        "colab": {
          "base_uri": "https://localhost:8080/"
        },
        "id": "jnd4U8XI31J5",
        "outputId": "851934b4-abd5-47ff-fb30-db7f0ad999c2"
      },
      "source": [
        "sentence_printout(path= \"/content/drive/MyDrive/24787 Group Project  /Data/for_final_submission/description_sentence_cleaned.txt\")"
      ],
      "execution_count": null,
      "outputs": [
        {
          "output_type": "stream",
          "text": [
            "aromas\tinclude\ttropical\tfruit\tbroom\tbrimstone\tand\tdried\therb\t\n",
            "the\tpalate\tisn't\toverly\texpressive\toffering\tunripened\tapple\tcitrus\tand\tdried\tsage\talongside\tbrisk\tacidity\t\n",
            "this\tis\tripe\tand\tfruity\ta\twine\tthat\tis\tsmooth\twhile\tstill\tstructured\t\n",
            "firm\ttannins\tare\tfilled\tout\twith\tjuicy\tred\tberry\tfruits\tand\tfreshened\twith\tacidity\t\n",
            "it's\talready\tdrinkable\talthough\tit\twill\tcertainly\tbe\tbetter\tfrom\t2016\t\n",
            "tart\tand\tsnappy\tthe\tflavors\tof\tlime\tflesh\tand\trind\tdominate\t\n",
            "some\tgreen\tpineapple\tpokes\tthrough\twith\tcrisp\tacidity\tunderscoring\tthe\tflavors\t\n",
            "the\twine\twas\tall\tstainless\tsteel\tfermented\t\n",
            "pineapple\trind\tlemon\tpith\tand\torange\tblossom\tstart\toff\tthe\taromas\t\n",
            "the\tpalate\tis\ta\tbit\tmore\topulent\twith\tnotes\tof\thoney\tdrizzled\tguava\tand\tmango\tgiving\tway\tto\ta\tslightly\tastringent\tsemidry\tfinish\t\n"
          ],
          "name": "stdout"
        }
      ]
    },
    {
      "cell_type": "code",
      "metadata": {
        "id": "mgxRpeF-622s"
      },
      "source": [
        "review_num_once=[]\n",
        "for review in raw_data['corrected_once']:\n",
        "    temp_mem=[word2ind_once[word] for word in review]\n",
        "    review_num_once.append(temp_mem)"
      ],
      "execution_count": null,
      "outputs": []
    },
    {
      "cell_type": "code",
      "metadata": {
        "id": "UyOgRS1G8Stq"
      },
      "source": [
        "sentence_save(data=review_num_once,name='review_cleaned',ind2w=ind2word_once)"
      ],
      "execution_count": null,
      "outputs": []
    },
    {
      "cell_type": "code",
      "metadata": {
        "colab": {
          "base_uri": "https://localhost:8080/"
        },
        "id": "H6yxYiYB8j1m",
        "outputId": "53d8d7b7-3ec5-4ea7-919b-0a539295029b"
      },
      "source": [
        "sentence_printout(path= \"/content/drive/MyDrive/24787 Group Project  /Data/for_final_submission/review_cleaned.txt\")"
      ],
      "execution_count": null,
      "outputs": [
        {
          "output_type": "stream",
          "text": [
            "aromas\tinclude\ttropical\tfruit\tbroom\tbrimstone\tand\tdried\therb\tthe\tpalate\tisn't\toverly\texpressive\toffering\tunripened\tapple\tcitrus\tand\tdried\tsage\talongside\tbrisk\tacidity\t\n",
            "this\tis\tripe\tand\tfruity\ta\twine\tthat\tis\tsmooth\twhile\tstill\tstructured\tfirm\ttannins\tare\tfilled\tout\twith\tjuicy\tred\tberry\tfruits\tand\tfreshened\twith\tacidity\tit's\talready\tdrinkable\talthough\tit\twill\tcertainly\tbe\tbetter\tfrom\t2016\t\n",
            "tart\tand\tsnappy\tthe\tflavors\tof\tlime\tflesh\tand\trind\tdominate\tsome\tgreen\tpineapple\tpokes\tthrough\twith\tcrisp\tacidity\tunderscoring\tthe\tflavors\tthe\twine\twas\tall\tstainless\tsteel\tfermented\t\n",
            "pineapple\trind\tlemon\tpith\tand\torange\tblossom\tstart\toff\tthe\taromas\tthe\tpalate\tis\ta\tbit\tmore\topulent\twith\tnotes\tof\thoney\tdrizzled\tguava\tand\tmango\tgiving\tway\tto\ta\tslightly\tastringent\tsemidry\tfinish\t\n",
            "much\tlike\tthe\tregular\tbottling\tfrom\t2012\tthis\tcomes\tacross\tas\trather\trough\tand\ttannic\twith\trustic\tearthy\therbal\tcharacteristics\tnonetheless\tif\tyou\tthink\tof\tit\tas\ta\tpleasantly\tunfussy\tcountry\twine\tit's\ta\tgood\tcompanion\tto\ta\thearty\twinter\tstew\t\n",
            "blackberry\tand\traspberry\taromas\tshow\ta\ttypical\tnavarran\twhiff\tof\tgreen\therbs\tand\tin\tthis\tcase\thorseradish\tin\tthe\tmouth\tthis\tis\tfairly\tfull\tbodied\twith\ttomatoey\tacidity\tspicy\therbal\tflavors\tcomplement\tdark\tplum\tfruit\twhile\tthe\tfinish\tis\tfresh\tbut\tgrabby\t\n",
            "here's\ta\tbright\tinformal\tred\tthat\topens\twith\taromas\tof\tcandied\tberry\twhite\tpepper\tand\tsavory\therb\tthat\tcarry\tover\tto\tthe\tpalate\tit's\tbalanced\twith\tfresh\tacidity\tand\tsoft\ttannins\t\n",
            "this\tdry\tand\trestrained\twine\toffers\tspice\tin\tprofusion\tbalanced\twith\tacidity\tand\ta\tfirm\ttexture\tit's\tvery\tmuch\tfor\tfood\t\n",
            "savory\tdried\tthyme\tnotes\taccent\tsunnier\tflavors\tof\tpreserved\tpeach\tin\tthis\tbrisk\toff\tdry\twine\tit's\tfruity\tand\tfresh\twith\tan\telegant\tsprightly\tfootprint\t\n",
            "this\thas\tgreat\tdepth\tof\tflavor\twith\tits\tfresh\tapple\tand\tpear\tfruits\tand\ttouch\tof\tspice\tit's\toff\tdry\twhile\tbalanced\twith\tacidity\tand\ta\tcrisp\ttexture\tdrink\tnow\t\n"
          ],
          "name": "stdout"
        }
      ]
    },
    {
      "cell_type": "markdown",
      "metadata": {
        "id": "NQ-V20GSv545"
      },
      "source": [
        "### correct twice"
      ]
    },
    {
      "cell_type": "code",
      "metadata": {
        "colab": {
          "base_uri": "https://localhost:8080/"
        },
        "id": "R5-1flUiqEdi",
        "outputId": "39e73997-6c27-423a-ef1f-6bc59d1f99f7"
      },
      "source": [
        "tqdm.pandas()\n",
        "word_counts_once\n",
        "appears_once['corrected'] = appears_once['original'].progress_apply(lambda x: correction(x))"
      ],
      "execution_count": null,
      "outputs": [
        {
          "output_type": "execute_result",
          "data": {
            "text/plain": [
              "and               347897\n",
              "the               221369\n",
              "a                 179935\n",
              "of                173053\n",
              "with              120516\n",
              "                   ...  \n",
              "cabochon               1\n",
              "ehrenfelser            1\n",
              "settlement             1\n",
              "semiastringent         1\n",
              "metrowine              1\n",
              "Length: 24422, dtype: int64"
            ]
          },
          "metadata": {
            "tags": []
          },
          "execution_count": 239
        }
      ]
    },
    {
      "cell_type": "code",
      "metadata": {
        "id": "GwzjR44mqIi5"
      },
      "source": [
        "word_counts_once_df=pd.DataFrame(word_counts_once)\n",
        "word_counts_once_df.columns=['counts']\n",
        "appear_twice=word_counts_once_df[word_counts_once_df['counts']==2]"
      ],
      "execution_count": null,
      "outputs": []
    },
    {
      "cell_type": "code",
      "metadata": {
        "colab": {
          "base_uri": "https://localhost:8080/",
          "height": 419
        },
        "id": "wB5x__D6qP7T",
        "outputId": "49f69feb-9660-402f-bb66-5ae6c1d4ba15"
      },
      "source": [
        "appear_twice"
      ],
      "execution_count": null,
      "outputs": [
        {
          "output_type": "execute_result",
          "data": {
            "text/html": [
              "<div>\n",
              "<style scoped>\n",
              "    .dataframe tbody tr th:only-of-type {\n",
              "        vertical-align: middle;\n",
              "    }\n",
              "\n",
              "    .dataframe tbody tr th {\n",
              "        vertical-align: top;\n",
              "    }\n",
              "\n",
              "    .dataframe thead th {\n",
              "        text-align: right;\n",
              "    }\n",
              "</style>\n",
              "<table border=\"1\" class=\"dataframe\">\n",
              "  <thead>\n",
              "    <tr style=\"text-align: right;\">\n",
              "      <th></th>\n",
              "      <th>counts</th>\n",
              "    </tr>\n",
              "  </thead>\n",
              "  <tbody>\n",
              "    <tr>\n",
              "      <th>clumsily</th>\n",
              "      <td>2</td>\n",
              "    </tr>\n",
              "    <tr>\n",
              "      <th>plowbuster</th>\n",
              "      <td>2</td>\n",
              "    </tr>\n",
              "    <tr>\n",
              "      <th>albis</th>\n",
              "      <td>2</td>\n",
              "    </tr>\n",
              "    <tr>\n",
              "      <th>joints</th>\n",
              "      <td>2</td>\n",
              "    </tr>\n",
              "    <tr>\n",
              "      <th>lamborghini</th>\n",
              "      <td>2</td>\n",
              "    </tr>\n",
              "    <tr>\n",
              "      <th>...</th>\n",
              "      <td>...</td>\n",
              "    </tr>\n",
              "    <tr>\n",
              "      <th>dizy</th>\n",
              "      <td>2</td>\n",
              "    </tr>\n",
              "    <tr>\n",
              "      <th>dynasty</th>\n",
              "      <td>2</td>\n",
              "    </tr>\n",
              "    <tr>\n",
              "      <th>breggo's</th>\n",
              "      <td>2</td>\n",
              "    </tr>\n",
              "    <tr>\n",
              "      <th>headiest</th>\n",
              "      <td>2</td>\n",
              "    </tr>\n",
              "    <tr>\n",
              "      <th>comparisons</th>\n",
              "      <td>2</td>\n",
              "    </tr>\n",
              "  </tbody>\n",
              "</table>\n",
              "<p>3385 rows × 1 columns</p>\n",
              "</div>"
            ],
            "text/plain": [
              "             counts\n",
              "clumsily          2\n",
              "plowbuster        2\n",
              "albis             2\n",
              "joints            2\n",
              "lamborghini       2\n",
              "...             ...\n",
              "dizy              2\n",
              "dynasty           2\n",
              "breggo's          2\n",
              "headiest          2\n",
              "comparisons       2\n",
              "\n",
              "[3385 rows x 1 columns]"
            ]
          },
          "metadata": {
            "tags": []
          },
          "execution_count": 250
        }
      ]
    },
    {
      "cell_type": "code",
      "metadata": {
        "id": "0bs7-pGivqJ3"
      },
      "source": [
        ""
      ],
      "execution_count": null,
      "outputs": []
    }
  ]
}