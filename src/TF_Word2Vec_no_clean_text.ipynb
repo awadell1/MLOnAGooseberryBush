{
  "nbformat": 4,
  "nbformat_minor": 0,
  "metadata": {
    "colab": {
      "name": "TF_Word2Vec_no_clean_text.ipynb",
      "provenance": [],
      "collapsed_sections": [
        "azM2XHwelA1N",
        "AUbURRGgZAek",
        "5sVmB3P80NUz",
        "VCipOroM1g-2"
      ],
      "machine_shape": "hm",
      "authorship_tag": "ABX9TyNbRsLCmTcayoF67b3/KNqs",
      "include_colab_link": true
    },
    "kernelspec": {
      "name": "python3",
      "display_name": "Python 3"
    },
    "accelerator": "GPU",
    "widgets": {
      "application/vnd.jupyter.widget-state+json": {
        "32d1189bc586443a9927ea3ed257f692": {
          "model_module": "@jupyter-widgets/controls",
          "model_name": "HBoxModel",
          "state": {
            "_view_name": "HBoxView",
            "_dom_classes": [],
            "_model_name": "HBoxModel",
            "_view_module": "@jupyter-widgets/controls",
            "_model_module_version": "1.5.0",
            "_view_count": null,
            "_view_module_version": "1.5.0",
            "box_style": "",
            "layout": "IPY_MODEL_b2687f1f5a2649129657a15765440b0f",
            "_model_module": "@jupyter-widgets/controls",
            "children": [
              "IPY_MODEL_2b646d6a086c4ab6bdc5be2d396e2ee7",
              "IPY_MODEL_b70e893395e84630a35ab3311b683764"
            ]
          }
        },
        "b2687f1f5a2649129657a15765440b0f": {
          "model_module": "@jupyter-widgets/base",
          "model_name": "LayoutModel",
          "state": {
            "_view_name": "LayoutView",
            "grid_template_rows": null,
            "right": null,
            "justify_content": null,
            "_view_module": "@jupyter-widgets/base",
            "overflow": null,
            "_model_module_version": "1.2.0",
            "_view_count": null,
            "flex_flow": null,
            "width": null,
            "min_width": null,
            "border": null,
            "align_items": null,
            "bottom": null,
            "_model_module": "@jupyter-widgets/base",
            "top": null,
            "grid_column": null,
            "overflow_y": null,
            "overflow_x": null,
            "grid_auto_flow": null,
            "grid_area": null,
            "grid_template_columns": null,
            "flex": null,
            "_model_name": "LayoutModel",
            "justify_items": null,
            "grid_row": null,
            "max_height": null,
            "align_content": null,
            "visibility": null,
            "align_self": null,
            "height": null,
            "min_height": null,
            "padding": null,
            "grid_auto_rows": null,
            "grid_gap": null,
            "max_width": null,
            "order": null,
            "_view_module_version": "1.2.0",
            "grid_template_areas": null,
            "object_position": null,
            "object_fit": null,
            "grid_auto_columns": null,
            "margin": null,
            "display": null,
            "left": null
          }
        },
        "2b646d6a086c4ab6bdc5be2d396e2ee7": {
          "model_module": "@jupyter-widgets/controls",
          "model_name": "FloatProgressModel",
          "state": {
            "_view_name": "ProgressView",
            "style": "IPY_MODEL_ac5ec2a91bc84614a716f71f33eaba42",
            "_dom_classes": [],
            "description": "100%",
            "_model_name": "FloatProgressModel",
            "bar_style": "success",
            "max": 356463,
            "_view_module": "@jupyter-widgets/controls",
            "_model_module_version": "1.5.0",
            "value": 356463,
            "_view_count": null,
            "_view_module_version": "1.5.0",
            "orientation": "horizontal",
            "min": 0,
            "description_tooltip": null,
            "_model_module": "@jupyter-widgets/controls",
            "layout": "IPY_MODEL_683be0c11e054cdf8088f48e968921f7"
          }
        },
        "b70e893395e84630a35ab3311b683764": {
          "model_module": "@jupyter-widgets/controls",
          "model_name": "HTMLModel",
          "state": {
            "_view_name": "HTMLView",
            "style": "IPY_MODEL_49a7de3a90684b28a3e5591691882106",
            "_dom_classes": [],
            "description": "",
            "_model_name": "HTMLModel",
            "placeholder": "​",
            "_view_module": "@jupyter-widgets/controls",
            "_model_module_version": "1.5.0",
            "value": " 356463/356463 [01:34&lt;00:00, 3766.04it/s]",
            "_view_count": null,
            "_view_module_version": "1.5.0",
            "description_tooltip": null,
            "_model_module": "@jupyter-widgets/controls",
            "layout": "IPY_MODEL_daa3f02abfec4cd6abaecf193aab86e9"
          }
        },
        "ac5ec2a91bc84614a716f71f33eaba42": {
          "model_module": "@jupyter-widgets/controls",
          "model_name": "ProgressStyleModel",
          "state": {
            "_view_name": "StyleView",
            "_model_name": "ProgressStyleModel",
            "description_width": "initial",
            "_view_module": "@jupyter-widgets/base",
            "_model_module_version": "1.5.0",
            "_view_count": null,
            "_view_module_version": "1.2.0",
            "bar_color": null,
            "_model_module": "@jupyter-widgets/controls"
          }
        },
        "683be0c11e054cdf8088f48e968921f7": {
          "model_module": "@jupyter-widgets/base",
          "model_name": "LayoutModel",
          "state": {
            "_view_name": "LayoutView",
            "grid_template_rows": null,
            "right": null,
            "justify_content": null,
            "_view_module": "@jupyter-widgets/base",
            "overflow": null,
            "_model_module_version": "1.2.0",
            "_view_count": null,
            "flex_flow": null,
            "width": null,
            "min_width": null,
            "border": null,
            "align_items": null,
            "bottom": null,
            "_model_module": "@jupyter-widgets/base",
            "top": null,
            "grid_column": null,
            "overflow_y": null,
            "overflow_x": null,
            "grid_auto_flow": null,
            "grid_area": null,
            "grid_template_columns": null,
            "flex": null,
            "_model_name": "LayoutModel",
            "justify_items": null,
            "grid_row": null,
            "max_height": null,
            "align_content": null,
            "visibility": null,
            "align_self": null,
            "height": null,
            "min_height": null,
            "padding": null,
            "grid_auto_rows": null,
            "grid_gap": null,
            "max_width": null,
            "order": null,
            "_view_module_version": "1.2.0",
            "grid_template_areas": null,
            "object_position": null,
            "object_fit": null,
            "grid_auto_columns": null,
            "margin": null,
            "display": null,
            "left": null
          }
        },
        "49a7de3a90684b28a3e5591691882106": {
          "model_module": "@jupyter-widgets/controls",
          "model_name": "DescriptionStyleModel",
          "state": {
            "_view_name": "StyleView",
            "_model_name": "DescriptionStyleModel",
            "description_width": "",
            "_view_module": "@jupyter-widgets/base",
            "_model_module_version": "1.5.0",
            "_view_count": null,
            "_view_module_version": "1.2.0",
            "_model_module": "@jupyter-widgets/controls"
          }
        },
        "daa3f02abfec4cd6abaecf193aab86e9": {
          "model_module": "@jupyter-widgets/base",
          "model_name": "LayoutModel",
          "state": {
            "_view_name": "LayoutView",
            "grid_template_rows": null,
            "right": null,
            "justify_content": null,
            "_view_module": "@jupyter-widgets/base",
            "overflow": null,
            "_model_module_version": "1.2.0",
            "_view_count": null,
            "flex_flow": null,
            "width": null,
            "min_width": null,
            "border": null,
            "align_items": null,
            "bottom": null,
            "_model_module": "@jupyter-widgets/base",
            "top": null,
            "grid_column": null,
            "overflow_y": null,
            "overflow_x": null,
            "grid_auto_flow": null,
            "grid_area": null,
            "grid_template_columns": null,
            "flex": null,
            "_model_name": "LayoutModel",
            "justify_items": null,
            "grid_row": null,
            "max_height": null,
            "align_content": null,
            "visibility": null,
            "align_self": null,
            "height": null,
            "min_height": null,
            "padding": null,
            "grid_auto_rows": null,
            "grid_gap": null,
            "max_width": null,
            "order": null,
            "_view_module_version": "1.2.0",
            "grid_template_areas": null,
            "object_position": null,
            "object_fit": null,
            "grid_auto_columns": null,
            "margin": null,
            "display": null,
            "left": null
          }
        },
        "2945a374b08742feb1bedaabe7580838": {
          "model_module": "@jupyter-widgets/controls",
          "model_name": "HBoxModel",
          "state": {
            "_view_name": "HBoxView",
            "_dom_classes": [],
            "_model_name": "HBoxModel",
            "_view_module": "@jupyter-widgets/controls",
            "_model_module_version": "1.5.0",
            "_view_count": null,
            "_view_module_version": "1.5.0",
            "box_style": "",
            "layout": "IPY_MODEL_6eb31f6307414901909601137d3e2842",
            "_model_module": "@jupyter-widgets/controls",
            "children": [
              "IPY_MODEL_dab572715b7c4758856960289d4393e2",
              "IPY_MODEL_ad0136035cfd4ceaaf9da834205b7275"
            ]
          }
        },
        "6eb31f6307414901909601137d3e2842": {
          "model_module": "@jupyter-widgets/base",
          "model_name": "LayoutModel",
          "state": {
            "_view_name": "LayoutView",
            "grid_template_rows": null,
            "right": null,
            "justify_content": null,
            "_view_module": "@jupyter-widgets/base",
            "overflow": null,
            "_model_module_version": "1.2.0",
            "_view_count": null,
            "flex_flow": null,
            "width": null,
            "min_width": null,
            "border": null,
            "align_items": null,
            "bottom": null,
            "_model_module": "@jupyter-widgets/base",
            "top": null,
            "grid_column": null,
            "overflow_y": null,
            "overflow_x": null,
            "grid_auto_flow": null,
            "grid_area": null,
            "grid_template_columns": null,
            "flex": null,
            "_model_name": "LayoutModel",
            "justify_items": null,
            "grid_row": null,
            "max_height": null,
            "align_content": null,
            "visibility": null,
            "align_self": null,
            "height": null,
            "min_height": null,
            "padding": null,
            "grid_auto_rows": null,
            "grid_gap": null,
            "max_width": null,
            "order": null,
            "_view_module_version": "1.2.0",
            "grid_template_areas": null,
            "object_position": null,
            "object_fit": null,
            "grid_auto_columns": null,
            "margin": null,
            "display": null,
            "left": null
          }
        },
        "dab572715b7c4758856960289d4393e2": {
          "model_module": "@jupyter-widgets/controls",
          "model_name": "FloatProgressModel",
          "state": {
            "_view_name": "ProgressView",
            "style": "IPY_MODEL_cc509c33b9d04db2a3043b0022d087dd",
            "_dom_classes": [],
            "description": "100%",
            "_model_name": "FloatProgressModel",
            "bar_style": "success",
            "max": 356463,
            "_view_module": "@jupyter-widgets/controls",
            "_model_module_version": "1.5.0",
            "value": 356463,
            "_view_count": null,
            "_view_module_version": "1.5.0",
            "orientation": "horizontal",
            "min": 0,
            "description_tooltip": null,
            "_model_module": "@jupyter-widgets/controls",
            "layout": "IPY_MODEL_7d69932070e94915b7c9c19e9aa5557a"
          }
        },
        "ad0136035cfd4ceaaf9da834205b7275": {
          "model_module": "@jupyter-widgets/controls",
          "model_name": "HTMLModel",
          "state": {
            "_view_name": "HTMLView",
            "style": "IPY_MODEL_1ec6a539fd3647f5b887810c6cb5a22f",
            "_dom_classes": [],
            "description": "",
            "_model_name": "HTMLModel",
            "placeholder": "​",
            "_view_module": "@jupyter-widgets/controls",
            "_model_module_version": "1.5.0",
            "value": " 356463/356463 [31:01&lt;00:00, 191.45it/s]",
            "_view_count": null,
            "_view_module_version": "1.5.0",
            "description_tooltip": null,
            "_model_module": "@jupyter-widgets/controls",
            "layout": "IPY_MODEL_b8e3a858947f4bab9a9687bac84b7d52"
          }
        },
        "cc509c33b9d04db2a3043b0022d087dd": {
          "model_module": "@jupyter-widgets/controls",
          "model_name": "ProgressStyleModel",
          "state": {
            "_view_name": "StyleView",
            "_model_name": "ProgressStyleModel",
            "description_width": "initial",
            "_view_module": "@jupyter-widgets/base",
            "_model_module_version": "1.5.0",
            "_view_count": null,
            "_view_module_version": "1.2.0",
            "bar_color": null,
            "_model_module": "@jupyter-widgets/controls"
          }
        },
        "7d69932070e94915b7c9c19e9aa5557a": {
          "model_module": "@jupyter-widgets/base",
          "model_name": "LayoutModel",
          "state": {
            "_view_name": "LayoutView",
            "grid_template_rows": null,
            "right": null,
            "justify_content": null,
            "_view_module": "@jupyter-widgets/base",
            "overflow": null,
            "_model_module_version": "1.2.0",
            "_view_count": null,
            "flex_flow": null,
            "width": null,
            "min_width": null,
            "border": null,
            "align_items": null,
            "bottom": null,
            "_model_module": "@jupyter-widgets/base",
            "top": null,
            "grid_column": null,
            "overflow_y": null,
            "overflow_x": null,
            "grid_auto_flow": null,
            "grid_area": null,
            "grid_template_columns": null,
            "flex": null,
            "_model_name": "LayoutModel",
            "justify_items": null,
            "grid_row": null,
            "max_height": null,
            "align_content": null,
            "visibility": null,
            "align_self": null,
            "height": null,
            "min_height": null,
            "padding": null,
            "grid_auto_rows": null,
            "grid_gap": null,
            "max_width": null,
            "order": null,
            "_view_module_version": "1.2.0",
            "grid_template_areas": null,
            "object_position": null,
            "object_fit": null,
            "grid_auto_columns": null,
            "margin": null,
            "display": null,
            "left": null
          }
        },
        "1ec6a539fd3647f5b887810c6cb5a22f": {
          "model_module": "@jupyter-widgets/controls",
          "model_name": "DescriptionStyleModel",
          "state": {
            "_view_name": "StyleView",
            "_model_name": "DescriptionStyleModel",
            "description_width": "",
            "_view_module": "@jupyter-widgets/base",
            "_model_module_version": "1.5.0",
            "_view_count": null,
            "_view_module_version": "1.2.0",
            "_model_module": "@jupyter-widgets/controls"
          }
        },
        "b8e3a858947f4bab9a9687bac84b7d52": {
          "model_module": "@jupyter-widgets/base",
          "model_name": "LayoutModel",
          "state": {
            "_view_name": "LayoutView",
            "grid_template_rows": null,
            "right": null,
            "justify_content": null,
            "_view_module": "@jupyter-widgets/base",
            "overflow": null,
            "_model_module_version": "1.2.0",
            "_view_count": null,
            "flex_flow": null,
            "width": null,
            "min_width": null,
            "border": null,
            "align_items": null,
            "bottom": null,
            "_model_module": "@jupyter-widgets/base",
            "top": null,
            "grid_column": null,
            "overflow_y": null,
            "overflow_x": null,
            "grid_auto_flow": null,
            "grid_area": null,
            "grid_template_columns": null,
            "flex": null,
            "_model_name": "LayoutModel",
            "justify_items": null,
            "grid_row": null,
            "max_height": null,
            "align_content": null,
            "visibility": null,
            "align_self": null,
            "height": null,
            "min_height": null,
            "padding": null,
            "grid_auto_rows": null,
            "grid_gap": null,
            "max_width": null,
            "order": null,
            "_view_module_version": "1.2.0",
            "grid_template_areas": null,
            "object_position": null,
            "object_fit": null,
            "grid_auto_columns": null,
            "margin": null,
            "display": null,
            "left": null
          }
        }
      }
    }
  },
  "cells": [
    {
      "cell_type": "markdown",
      "metadata": {
        "id": "view-in-github",
        "colab_type": "text"
      },
      "source": [
        "<a href=\"https://colab.research.google.com/github/awadell1/MLOnAGooseberryBush/blob/master/src/TF_Word2Vec_no_clean_text.ipynb\" target=\"_parent\"><img src=\"https://colab.research.google.com/assets/colab-badge.svg\" alt=\"Open In Colab\"/></a>"
      ]
    },
    {
      "cell_type": "markdown",
      "metadata": {
        "id": "RMpXC2csG0BC"
      },
      "source": [
        "#Warning: if you have a 8G RAM laptop, don't run it locally. This code will take up approximately 10G of RAM.\n",
        "#Highly recommend run it on google colab in GPU mode\n"
      ]
    },
    {
      "cell_type": "code",
      "metadata": {
        "id": "8-PUNVbnDjjO"
      },
      "source": [
        "import io\n",
        "import itertools\n",
        "import numpy as np\n",
        "import os\n",
        "import re\n",
        "import string\n",
        "\n",
        "import tensorflow as tf\n",
        "\n",
        "from tensorflow.keras import Model, Sequential\n",
        "from tensorflow.keras.layers import Activation, Dense, Dot, Embedding, Flatten, GlobalAveragePooling1D, Reshape\n",
        "from tensorflow.keras.preprocessing.sequence import pad_sequences\n",
        "from keras.callbacks import EarlyStopping, ReduceLROnPlateau"
      ],
      "execution_count": null,
      "outputs": []
    },
    {
      "cell_type": "code",
      "metadata": {
        "id": "WkyvS2hPK0u7"
      },
      "source": [
        "SEED = 42 #setting the seed for reproducebility\n",
        "AUTOTUNE = tf.data.experimental.AUTOTUNE #currently not entirely sure what this can do"
      ],
      "execution_count": null,
      "outputs": []
    },
    {
      "cell_type": "code",
      "metadata": {
        "id": "yLnuKtp1DvnR",
        "colab": {
          "base_uri": "https://localhost:8080/"
        },
        "outputId": "176afff1-f2b8-4efa-e75a-68bf560d6648"
      },
      "source": [
        "import pandas as pd\n",
        "import numpy as np\n",
        "from sklearn.metrics import accuracy_score, f1_score\n",
        "from sklearn.model_selection import train_test_split\n",
        "from google.colab import drive\n",
        "from tqdm.notebook import tqdm #create a progress bar\n",
        "from keras.preprocessing.text import text_to_word_sequence\n",
        "import tensorflow as tf\n",
        "from tensorflow.keras.preprocessing.sequence import skipgrams\n",
        "drive.mount('/content/drive')"
      ],
      "execution_count": null,
      "outputs": [
        {
          "output_type": "stream",
          "text": [
            "Mounted at /content/drive\n"
          ],
          "name": "stdout"
        }
      ]
    },
    {
      "cell_type": "markdown",
      "metadata": {
        "id": "c8WB2NWhPYqt"
      },
      "source": [
        "Part 1 Using Non-spell check version"
      ]
    },
    {
      "cell_type": "code",
      "metadata": {
        "id": "rk14vEKCD6s6"
      },
      "source": [
        "def sentence_printout(path):\n",
        "    #just to demonstrate the txt file (the first ten sentence)\n",
        "    sentence=[]\n",
        "    with open(path) as f: \n",
        "        lines = f.read().splitlines()\n",
        "    sentence = []\n",
        "    for line in lines:\n",
        "        filter(None, line.split('\\t'))\n",
        "        sentence.append(list(filter(None, line.split('\\t'))))\n",
        "    f.close()\n",
        "    return sentence"
      ],
      "execution_count": null,
      "outputs": []
    },
    {
      "cell_type": "code",
      "metadata": {
        "id": "eRA7T-pTsU0r"
      },
      "source": [
        "sentence=sentence_printout(path='/content/drive/MyDrive/24787 Group Project  /Data/for_final_submission/description_sentence_newest.txt')"
      ],
      "execution_count": null,
      "outputs": []
    },
    {
      "cell_type": "code",
      "metadata": {
        "id": "V4_rA42WsLGF"
      },
      "source": [
        "I2W_df=pd.read_csv('/content/drive/My Drive/24787 Group Project  /Data/for_final_submission/Dictionary_new.csv')\n",
        "I2W=I2W_df.to_dict(orient='dict')['Vocab']\n",
        "I2W[0] = ''\n",
        "W2I = {v: k for k, v in I2W.items()}"
      ],
      "execution_count": null,
      "outputs": []
    },
    {
      "cell_type": "code",
      "metadata": {
        "id": "qSugKmJGuWTB"
      },
      "source": [
        "def sentence_to_indices(data,w2ind):\n",
        "    sentences_num=[]\n",
        "    for row in tqdm(data):\n",
        "        temp_mem=[w2ind[word] for word in row]\n",
        "        sentences_num.append(temp_mem)\n",
        "    return sentences_num"
      ],
      "execution_count": null,
      "outputs": []
    },
    {
      "cell_type": "code",
      "metadata": {
        "colab": {
          "base_uri": "https://localhost:8080/",
          "height": 66,
          "referenced_widgets": [
            "32d1189bc586443a9927ea3ed257f692",
            "b2687f1f5a2649129657a15765440b0f",
            "2b646d6a086c4ab6bdc5be2d396e2ee7",
            "b70e893395e84630a35ab3311b683764",
            "ac5ec2a91bc84614a716f71f33eaba42",
            "683be0c11e054cdf8088f48e968921f7",
            "49a7de3a90684b28a3e5591691882106",
            "daa3f02abfec4cd6abaecf193aab86e9"
          ]
        },
        "id": "24nv6miLvqiV",
        "outputId": "aef873cc-8317-47b5-b286-307ab37920eb"
      },
      "source": [
        "sentences_num = sentence_to_indices(data=sentence,w2ind=W2I)"
      ],
      "execution_count": null,
      "outputs": [
        {
          "output_type": "display_data",
          "data": {
            "application/vnd.jupyter.widget-view+json": {
              "model_id": "32d1189bc586443a9927ea3ed257f692",
              "version_minor": 0,
              "version_major": 2
            },
            "text/plain": [
              "HBox(children=(FloatProgress(value=0.0, max=356463.0), HTML(value='')))"
            ]
          },
          "metadata": {
            "tags": []
          }
        },
        {
          "output_type": "stream",
          "text": [
            "\n"
          ],
          "name": "stdout"
        }
      ]
    },
    {
      "cell_type": "code",
      "metadata": {
        "id": "7pckXKHIwT4y"
      },
      "source": [
        "max_sentence_length= max([len(seq) for seq in sentences_num])"
      ],
      "execution_count": null,
      "outputs": []
    },
    {
      "cell_type": "code",
      "metadata": {
        "colab": {
          "base_uri": "https://localhost:8080/"
        },
        "id": "4D66nQm2wTdq",
        "outputId": "55e2b42e-33e5-4b80-e26e-fd4fce178784"
      },
      "source": [
        "for seq in sentences_num[:2]:\n",
        "  print(f\"{seq} \\n => \\n {[I2W[i] for i in seq]}\")"
      ],
      "execution_count": null,
      "outputs": [
        {
          "output_type": "stream",
          "text": [
            "[15, 873, 202, 13, 1978, 3581, 1, 88, 105] \n",
            " => \n",
            " ['aromas', 'include', 'tropical', 'fruit', 'broom', 'brimstone', 'and', 'dried', 'herb']\n",
            "[2, 16, 908, 1030, 928, 308, 14444, 48, 60, 1, 88, 421, 142, 360, 18] \n",
            " => \n",
            " ['the', 'palate', \"isn't\", 'overly', 'expressive', 'offering', 'unripened', 'apple', 'citrus', 'and', 'dried', 'sage', 'alongside', 'brisk', 'acidity']\n"
          ],
          "name": "stdout"
        }
      ]
    },
    {
      "cell_type": "code",
      "metadata": {
        "id": "b80swTZWEQOw"
      },
      "source": [
        "#this function could be a bit confusing. The core idea of this function is to generate train data. \n",
        "#you can think of this as: \n",
        "#now, we have the description encoded as the above vector\n",
        "#we want to generate the target word (the word we select) and context word (the word we want to predict)\n",
        "#this function not only use positive skip gram but also use negative sampling\n",
        "#positive skip gram: target word + correct context word \n",
        "#negative sampling: target word + some random word selected from the dictonary (garanteed not in the context)\n",
        "\n",
        "#the label will be [1,0,0,0,0]\n",
        "#the first label is the saying the context word is the correct prediction\n",
        "#the number of 0 dependes on how many negative samples you want to generate\n",
        "\n",
        "\n",
        "# Generates skip-gram pairs with negative sampling for a list of sequences\n",
        "# (int-encoded sentences) based on window size, number of negative samples\n",
        "# and vocabulary size.\n",
        "\n",
        "def generate_training_data(sequences, window_size, num_ns, vocab_size, seed):\n",
        "  # Elements of each training example are appended to these lists.\n",
        "  targets, contexts, labels = [], [], []\n",
        "\n",
        "  # Build the sampling table for vocab_size tokens.\n",
        "  sampling_table = tf.keras.preprocessing.sequence.make_sampling_table(vocab_size)\n",
        "\n",
        "  # Iterate over all sequences (sentences) in dataset.\n",
        "  for sequence in tqdm(sequences):\n",
        "\n",
        "    # Generate positive skip-gram pairs for a sequence (sentence).\n",
        "    positive_skip_grams, _ = tf.keras.preprocessing.sequence.skipgrams(\n",
        "          sequence, \n",
        "          vocabulary_size=vocab_size,\n",
        "          sampling_table=sampling_table,\n",
        "          window_size=window_size,\n",
        "          negative_samples=0)\n",
        "\n",
        "    # Iterate over each positive skip-gram pair to produce training examples \n",
        "    # with positive context word and negative samples.\n",
        "    for target_word, context_word in positive_skip_grams:\n",
        "      target_word = tf.cast(target_word,dtype='int64')\n",
        "      context_class = tf.expand_dims(\n",
        "          tf.constant([context_word], dtype=\"int64\"), 1)\n",
        "      negative_sampling_candidates, _, _ = tf.random.log_uniform_candidate_sampler(\n",
        "          true_classes=context_class,\n",
        "          num_true=1, \n",
        "          num_sampled=num_ns, \n",
        "          unique=True, \n",
        "          range_max=vocab_size, \n",
        "          seed=SEED, \n",
        "          name=\"negative_sampling\")\n",
        "\n",
        "      # Build context and label vectors (for one target word)\n",
        "      negative_sampling_candidates = tf.expand_dims(\n",
        "          negative_sampling_candidates, 1)\n",
        "\n",
        "      context = tf.concat([context_class, negative_sampling_candidates], 0)\n",
        "      label = tf.constant([1] + [0]*num_ns, dtype=\"int64\")\n",
        "\n",
        "      # Append each element from the training example to global lists.\n",
        "      targets.append(target_word)\n",
        "      contexts.append(context)\n",
        "      labels.append(label)\n",
        "\n",
        "  return targets, contexts, labels"
      ],
      "execution_count": null,
      "outputs": []
    },
    {
      "cell_type": "code",
      "metadata": {
        "id": "wPgI2FNNLl9e",
        "colab": {
          "base_uri": "https://localhost:8080/",
          "height": 66,
          "referenced_widgets": [
            "2945a374b08742feb1bedaabe7580838",
            "6eb31f6307414901909601137d3e2842",
            "dab572715b7c4758856960289d4393e2",
            "ad0136035cfd4ceaaf9da834205b7275",
            "cc509c33b9d04db2a3043b0022d087dd",
            "7d69932070e94915b7c9c19e9aa5557a",
            "1ec6a539fd3647f5b887810c6cb5a22f",
            "b8e3a858947f4bab9a9687bac84b7d52"
          ]
        },
        "outputId": "0e7e1adb-7c37-42ce-fdee-768908cac895"
      },
      "source": [
        "#calling this function\n",
        "num_ns=3 #number of negative samples for each target word\n",
        "window_size=2 #how long is your window_size, a good visualization: https://www.tensorflow.org/tutorials/text/images/word2vec_negative_sampling.png\n",
        "vocab_size = len(W2I)\n",
        "targets, contexts, labels = generate_training_data(\n",
        "    sequences=sentences_num, \n",
        "    window_size=window_size, \n",
        "    num_ns=num_ns, \n",
        "    vocab_size=vocab_size, \n",
        "    seed=SEED)"
      ],
      "execution_count": null,
      "outputs": [
        {
          "output_type": "display_data",
          "data": {
            "application/vnd.jupyter.widget-view+json": {
              "model_id": "2945a374b08742feb1bedaabe7580838",
              "version_minor": 0,
              "version_major": 2
            },
            "text/plain": [
              "HBox(children=(FloatProgress(value=0.0, max=356463.0), HTML(value='')))"
            ]
          },
          "metadata": {
            "tags": []
          }
        },
        {
          "output_type": "stream",
          "text": [
            "\n"
          ],
          "name": "stdout"
        }
      ]
    },
    {
      "cell_type": "code",
      "metadata": {
        "id": "pi_ru-krqJyl",
        "colab": {
          "base_uri": "https://localhost:8080/"
        },
        "outputId": "6adcd8aa-e8a2-4f8a-82f8-fb3105547b86"
      },
      "source": [
        "print(len(targets),len(contexts),len(labels))"
      ],
      "execution_count": null,
      "outputs": [
        {
          "output_type": "stream",
          "text": [
            "2395059 2395059 2395059\n"
          ],
          "name": "stdout"
        }
      ]
    },
    {
      "cell_type": "code",
      "metadata": {
        "id": "fARoEvH_IAx-",
        "colab": {
          "base_uri": "https://localhost:8080/"
        },
        "outputId": "87e7982b-797e-4250-f0a6-7fa02e79b0b9"
      },
      "source": [
        "BATCH_SIZE = 1024\n",
        "BUFFER_SIZE = 10000\n",
        "#this is some tensorflow data cleaning function\n",
        "dataset = tf.data.Dataset.from_tensor_slices(((targets, contexts), labels))\n",
        "dataset = dataset.shuffle(BUFFER_SIZE).batch(BATCH_SIZE, drop_remainder=True)\n",
        "\n",
        "print(dataset)"
      ],
      "execution_count": null,
      "outputs": [
        {
          "output_type": "stream",
          "text": [
            "<BatchDataset shapes: (((1024,), (1024, 4, 1)), (1024, 4)), types: ((tf.int64, tf.int64), tf.int64)>\n"
          ],
          "name": "stdout"
        }
      ]
    },
    {
      "cell_type": "code",
      "metadata": {
        "id": "THSJqhsEcNzO",
        "colab": {
          "base_uri": "https://localhost:8080/"
        },
        "outputId": "d034e6e5-fd26-4747-d0ae-24572d93258a"
      },
      "source": [
        "dataset = dataset.cache().prefetch(buffer_size=AUTOTUNE)\n",
        "print(dataset)"
      ],
      "execution_count": null,
      "outputs": [
        {
          "output_type": "stream",
          "text": [
            "<PrefetchDataset shapes: (((1024,), (1024, 4, 1)), (1024, 4)), types: ((tf.int64, tf.int64), tf.int64)>\n"
          ],
          "name": "stdout"
        }
      ]
    },
    {
      "cell_type": "code",
      "metadata": {
        "id": "A9T6_v4aUzWb"
      },
      "source": [
        "#this is the Word2Vec architecture \n",
        "#a detailed description can be found here: https://www.tensorflow.org/tutorials/text/word2vec\n",
        "class Word2Vec(Model):\n",
        "  def __init__(self, vocab_size, embedding_dim):\n",
        "    super(Word2Vec, self).__init__()\n",
        "    self.target_embedding = Embedding(vocab_size, \n",
        "                                      embedding_dim,\n",
        "                                      input_length=1,\n",
        "                                      name=\"w2v_embedding\", )\n",
        "    self.context_embedding = Embedding(vocab_size, \n",
        "                                       embedding_dim, \n",
        "                                       input_length=num_ns+1)\n",
        "    self.dots = Dot(axes=(3,2))\n",
        "    self.flatten = Flatten()\n",
        "\n",
        "  def call(self, pair):\n",
        "    target, context = pair\n",
        "    we = self.target_embedding(target)\n",
        "    ce = self.context_embedding(context)\n",
        "    dots = self.dots([ce, we])\n",
        "    return self.flatten(dots)"
      ],
      "execution_count": null,
      "outputs": []
    },
    {
      "cell_type": "markdown",
      "metadata": {
        "id": "-z-pkJRYYZoA"
      },
      "source": [
        "part 1-1 100D"
      ]
    },
    {
      "cell_type": "code",
      "metadata": {
        "id": "IsQq99JBVN6b"
      },
      "source": [
        "#compling the model\n",
        "embedding_dim = 100\n",
        "word2vec = Word2Vec(vocab_size, embedding_dim)\n",
        "word2vec.compile(optimizer='adam',\n",
        "              loss=tf.keras.losses.CategoricalCrossentropy(from_logits=True),\n",
        "              metrics=['accuracy'])"
      ],
      "execution_count": null,
      "outputs": []
    },
    {
      "cell_type": "code",
      "metadata": {
        "id": "dV-aKL00Vlpk",
        "colab": {
          "base_uri": "https://localhost:8080/"
        },
        "outputId": "7b45761b-ab9c-48d3-d1e0-12e9c0dd9525"
      },
      "source": [
        "#trained 50 epochs before the 10 epochs\n",
        "word2vec.fit(dataset,epochs=10,verbose=1)"
      ],
      "execution_count": null,
      "outputs": [
        {
          "output_type": "stream",
          "text": [
            "Epoch 1/10\n",
            "2338/2338 [==============================] - 93s 40ms/step - loss: 0.3181 - accuracy: 0.8736\n",
            "Epoch 2/10\n",
            "2338/2338 [==============================] - 93s 40ms/step - loss: 0.3173 - accuracy: 0.8738\n",
            "Epoch 3/10\n",
            "2338/2338 [==============================] - 93s 40ms/step - loss: 0.3166 - accuracy: 0.8741\n",
            "Epoch 4/10\n",
            "2338/2338 [==============================] - 93s 40ms/step - loss: 0.3159 - accuracy: 0.8743\n",
            "Epoch 5/10\n",
            "2338/2338 [==============================] - 92s 40ms/step - loss: 0.3152 - accuracy: 0.8745\n",
            "Epoch 6/10\n",
            "2338/2338 [==============================] - 93s 40ms/step - loss: 0.3146 - accuracy: 0.8747\n",
            "Epoch 7/10\n",
            "2338/2338 [==============================] - 93s 40ms/step - loss: 0.3139 - accuracy: 0.8749\n",
            "Epoch 8/10\n",
            "2338/2338 [==============================] - 92s 40ms/step - loss: 0.3133 - accuracy: 0.8751\n",
            "Epoch 9/10\n",
            "2338/2338 [==============================] - 92s 40ms/step - loss: 0.3127 - accuracy: 0.8752\n",
            "Epoch 10/10\n",
            "2338/2338 [==============================] - 92s 39ms/step - loss: 0.3122 - accuracy: 0.8754\n"
          ],
          "name": "stdout"
        },
        {
          "output_type": "execute_result",
          "data": {
            "text/plain": [
              "<tensorflow.python.keras.callbacks.History at 0x7f2889dec518>"
            ]
          },
          "metadata": {
            "tags": []
          },
          "execution_count": 27
        }
      ]
    },
    {
      "cell_type": "code",
      "metadata": {
        "id": "CDQ5MI2-Xi6j"
      },
      "source": [
        "weights = word2vec.get_layer('w2v_embedding').get_weights()[0]"
      ],
      "execution_count": null,
      "outputs": []
    },
    {
      "cell_type": "code",
      "metadata": {
        "id": "uZlqA8QgXtpK"
      },
      "source": [
        "out_v = io.open('/content/drive/MyDrive/24787 Group Project  /Data/for_final_submission/vectors100.tsv', 'w', encoding='utf-8')\n",
        "out_m = io.open('/content/drive/MyDrive/24787 Group Project  /Data/for_final_submission/metadata100.tsv', 'w', encoding='utf-8')\n",
        "\n",
        "for index, word in I2W.items():\n",
        "  if  index == 0: continue # skip 0, it's padding.\n",
        "  vec = weights[index] \n",
        "  out_v.write('\\t'.join([str(x) for x in vec]) + \"\\n\")\n",
        "  out_m.write(word + \"\\n\")\n",
        "out_v.close()\n",
        "out_m.close()"
      ],
      "execution_count": null,
      "outputs": []
    },
    {
      "cell_type": "markdown",
      "metadata": {
        "id": "rY9kAchjy_Fz"
      },
      "source": [
        "part 1-2 300D"
      ]
    },
    {
      "cell_type": "code",
      "metadata": {
        "id": "ZW4uvnk2t6Ay"
      },
      "source": [
        "#compling the model\n",
        "embedding_dim = 300\n",
        "word2vec = Word2Vec(vocab_size, embedding_dim)\n",
        "word2vec.compile(optimizer='adam',\n",
        "              loss=tf.keras.losses.CategoricalCrossentropy(from_logits=True),\n",
        "              metrics=['accuracy'])"
      ],
      "execution_count": null,
      "outputs": []
    },
    {
      "cell_type": "code",
      "metadata": {
        "colab": {
          "base_uri": "https://localhost:8080/"
        },
        "id": "Wh30hqDZzFBh",
        "outputId": "56ec4a80-fb6d-4835-e771-584d7385e021"
      },
      "source": [
        "#trained 30 steps\n",
        "word2vec.fit(dataset,epochs=1,verbose=1)"
      ],
      "execution_count": null,
      "outputs": [
        {
          "output_type": "stream",
          "text": [
            "2338/2338 [==============================] - 252s 108ms/step - loss: 0.2617 - accuracy: 0.8888\n"
          ],
          "name": "stdout"
        },
        {
          "output_type": "execute_result",
          "data": {
            "text/plain": [
              "<tensorflow.python.keras.callbacks.History at 0x7f289b2b2978>"
            ]
          },
          "metadata": {
            "tags": []
          },
          "execution_count": 36
        }
      ]
    },
    {
      "cell_type": "code",
      "metadata": {
        "id": "is1VY7c7zJU1"
      },
      "source": [
        "weights = word2vec.get_layer('w2v_embedding').get_weights()[0]"
      ],
      "execution_count": null,
      "outputs": []
    },
    {
      "cell_type": "code",
      "metadata": {
        "id": "pdIEeyhNzKsw"
      },
      "source": [
        "out_v = io.open('/content/drive/MyDrive/24787 Group Project  /Data/for_final_submission/vectors300.tsv', 'w', encoding='utf-8')\n",
        "out_m = io.open('/content/drive/MyDrive/24787 Group Project  /Data/for_final_submission/metadata300.tsv', 'w', encoding='utf-8')\n",
        "\n",
        "for index, word in I2W.items():\n",
        "  if  index == 0: continue # skip 0, it's padding.\n",
        "  vec = weights[index] \n",
        "  out_v.write('\\t'.join([str(x) for x in vec]) + \"\\n\")\n",
        "  out_m.write(word + \"\\n\")\n",
        "out_v.close()\n",
        "out_m.close()"
      ],
      "execution_count": null,
      "outputs": []
    },
    {
      "cell_type": "code",
      "metadata": {
        "id": "H5qJePQJzN1N"
      },
      "source": [
        ""
      ],
      "execution_count": null,
      "outputs": []
    }
  ]
}