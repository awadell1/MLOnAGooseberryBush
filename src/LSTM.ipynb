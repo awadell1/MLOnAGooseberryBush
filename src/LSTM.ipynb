{
  "nbformat": 4,
  "nbformat_minor": 0,
  "metadata": {
    "colab": {
      "name": "LSTM.ipynb",
      "provenance": [],
      "machine_shape": "hm",
      "authorship_tag": "ABX9TyNb/iKffHJnR1Ql0mygXBKs",
      "include_colab_link": true
    },
    "kernelspec": {
      "name": "python3",
      "display_name": "Python 3"
    },
    "accelerator": "GPU",
    "widgets": {
      "application/vnd.jupyter.widget-state+json": {
        "a0f60e3f2a3a4aff9e2d127bc16c931a": {
          "model_module": "@jupyter-widgets/controls",
          "model_name": "HBoxModel",
          "state": {
            "_view_name": "HBoxView",
            "_dom_classes": [],
            "_model_name": "HBoxModel",
            "_view_module": "@jupyter-widgets/controls",
            "_model_module_version": "1.5.0",
            "_view_count": null,
            "_view_module_version": "1.5.0",
            "box_style": "",
            "layout": "IPY_MODEL_bb73b59996ef4e3fb934eedb1e38daf2",
            "_model_module": "@jupyter-widgets/controls",
            "children": [
              "IPY_MODEL_d03fb2ab16e044fb9e7f7c6fb026daa3",
              "IPY_MODEL_78037ca636294edcbb657ebabd5ee7a3"
            ]
          }
        },
        "bb73b59996ef4e3fb934eedb1e38daf2": {
          "model_module": "@jupyter-widgets/base",
          "model_name": "LayoutModel",
          "state": {
            "_view_name": "LayoutView",
            "grid_template_rows": null,
            "right": null,
            "justify_content": null,
            "_view_module": "@jupyter-widgets/base",
            "overflow": null,
            "_model_module_version": "1.2.0",
            "_view_count": null,
            "flex_flow": null,
            "width": null,
            "min_width": null,
            "border": null,
            "align_items": null,
            "bottom": null,
            "_model_module": "@jupyter-widgets/base",
            "top": null,
            "grid_column": null,
            "overflow_y": null,
            "overflow_x": null,
            "grid_auto_flow": null,
            "grid_area": null,
            "grid_template_columns": null,
            "flex": null,
            "_model_name": "LayoutModel",
            "justify_items": null,
            "grid_row": null,
            "max_height": null,
            "align_content": null,
            "visibility": null,
            "align_self": null,
            "height": null,
            "min_height": null,
            "padding": null,
            "grid_auto_rows": null,
            "grid_gap": null,
            "max_width": null,
            "order": null,
            "_view_module_version": "1.2.0",
            "grid_template_areas": null,
            "object_position": null,
            "object_fit": null,
            "grid_auto_columns": null,
            "margin": null,
            "display": null,
            "left": null
          }
        },
        "d03fb2ab16e044fb9e7f7c6fb026daa3": {
          "model_module": "@jupyter-widgets/controls",
          "model_name": "FloatProgressModel",
          "state": {
            "_view_name": "ProgressView",
            "style": "IPY_MODEL_f1a3f957923b43d9b081c7806660fafd",
            "_dom_classes": [],
            "description": "",
            "_model_name": "FloatProgressModel",
            "bar_style": "success",
            "max": 1,
            "_view_module": "@jupyter-widgets/controls",
            "_model_module_version": "1.5.0",
            "value": 1,
            "_view_count": null,
            "_view_module_version": "1.5.0",
            "orientation": "horizontal",
            "min": 0,
            "description_tooltip": null,
            "_model_module": "@jupyter-widgets/controls",
            "layout": "IPY_MODEL_48d5c0b86208493fac46cfc098bda806"
          }
        },
        "78037ca636294edcbb657ebabd5ee7a3": {
          "model_module": "@jupyter-widgets/controls",
          "model_name": "HTMLModel",
          "state": {
            "_view_name": "HTMLView",
            "style": "IPY_MODEL_87aec4c7725c4d5293dca6b16a296dc6",
            "_dom_classes": [],
            "description": "",
            "_model_name": "HTMLModel",
            "placeholder": "​",
            "_view_module": "@jupyter-widgets/controls",
            "_model_module_version": "1.5.0",
            "value": " 129971/? [02:09&lt;00:00, 1007.20it/s]",
            "_view_count": null,
            "_view_module_version": "1.5.0",
            "description_tooltip": null,
            "_model_module": "@jupyter-widgets/controls",
            "layout": "IPY_MODEL_fe3b28cd9e464dee8f123b23e198802f"
          }
        },
        "f1a3f957923b43d9b081c7806660fafd": {
          "model_module": "@jupyter-widgets/controls",
          "model_name": "ProgressStyleModel",
          "state": {
            "_view_name": "StyleView",
            "_model_name": "ProgressStyleModel",
            "description_width": "initial",
            "_view_module": "@jupyter-widgets/base",
            "_model_module_version": "1.5.0",
            "_view_count": null,
            "_view_module_version": "1.2.0",
            "bar_color": null,
            "_model_module": "@jupyter-widgets/controls"
          }
        },
        "48d5c0b86208493fac46cfc098bda806": {
          "model_module": "@jupyter-widgets/base",
          "model_name": "LayoutModel",
          "state": {
            "_view_name": "LayoutView",
            "grid_template_rows": null,
            "right": null,
            "justify_content": null,
            "_view_module": "@jupyter-widgets/base",
            "overflow": null,
            "_model_module_version": "1.2.0",
            "_view_count": null,
            "flex_flow": null,
            "width": null,
            "min_width": null,
            "border": null,
            "align_items": null,
            "bottom": null,
            "_model_module": "@jupyter-widgets/base",
            "top": null,
            "grid_column": null,
            "overflow_y": null,
            "overflow_x": null,
            "grid_auto_flow": null,
            "grid_area": null,
            "grid_template_columns": null,
            "flex": null,
            "_model_name": "LayoutModel",
            "justify_items": null,
            "grid_row": null,
            "max_height": null,
            "align_content": null,
            "visibility": null,
            "align_self": null,
            "height": null,
            "min_height": null,
            "padding": null,
            "grid_auto_rows": null,
            "grid_gap": null,
            "max_width": null,
            "order": null,
            "_view_module_version": "1.2.0",
            "grid_template_areas": null,
            "object_position": null,
            "object_fit": null,
            "grid_auto_columns": null,
            "margin": null,
            "display": null,
            "left": null
          }
        },
        "87aec4c7725c4d5293dca6b16a296dc6": {
          "model_module": "@jupyter-widgets/controls",
          "model_name": "DescriptionStyleModel",
          "state": {
            "_view_name": "StyleView",
            "_model_name": "DescriptionStyleModel",
            "description_width": "",
            "_view_module": "@jupyter-widgets/base",
            "_model_module_version": "1.5.0",
            "_view_count": null,
            "_view_module_version": "1.2.0",
            "_model_module": "@jupyter-widgets/controls"
          }
        },
        "fe3b28cd9e464dee8f123b23e198802f": {
          "model_module": "@jupyter-widgets/base",
          "model_name": "LayoutModel",
          "state": {
            "_view_name": "LayoutView",
            "grid_template_rows": null,
            "right": null,
            "justify_content": null,
            "_view_module": "@jupyter-widgets/base",
            "overflow": null,
            "_model_module_version": "1.2.0",
            "_view_count": null,
            "flex_flow": null,
            "width": null,
            "min_width": null,
            "border": null,
            "align_items": null,
            "bottom": null,
            "_model_module": "@jupyter-widgets/base",
            "top": null,
            "grid_column": null,
            "overflow_y": null,
            "overflow_x": null,
            "grid_auto_flow": null,
            "grid_area": null,
            "grid_template_columns": null,
            "flex": null,
            "_model_name": "LayoutModel",
            "justify_items": null,
            "grid_row": null,
            "max_height": null,
            "align_content": null,
            "visibility": null,
            "align_self": null,
            "height": null,
            "min_height": null,
            "padding": null,
            "grid_auto_rows": null,
            "grid_gap": null,
            "max_width": null,
            "order": null,
            "_view_module_version": "1.2.0",
            "grid_template_areas": null,
            "object_position": null,
            "object_fit": null,
            "grid_auto_columns": null,
            "margin": null,
            "display": null,
            "left": null
          }
        },
        "5c52564bbbd54b5eb8d2f12a50f36c8e": {
          "model_module": "@jupyter-widgets/controls",
          "model_name": "HBoxModel",
          "state": {
            "_view_name": "HBoxView",
            "_dom_classes": [],
            "_model_name": "HBoxModel",
            "_view_module": "@jupyter-widgets/controls",
            "_model_module_version": "1.5.0",
            "_view_count": null,
            "_view_module_version": "1.5.0",
            "box_style": "",
            "layout": "IPY_MODEL_e16a4ded14f345768cac3ec5b4e4f53f",
            "_model_module": "@jupyter-widgets/controls",
            "children": [
              "IPY_MODEL_acd42d911d05463b90c4250520eb7abd",
              "IPY_MODEL_31db9617ee7d4735b1b34642b9ea84c9"
            ]
          }
        },
        "e16a4ded14f345768cac3ec5b4e4f53f": {
          "model_module": "@jupyter-widgets/base",
          "model_name": "LayoutModel",
          "state": {
            "_view_name": "LayoutView",
            "grid_template_rows": null,
            "right": null,
            "justify_content": null,
            "_view_module": "@jupyter-widgets/base",
            "overflow": null,
            "_model_module_version": "1.2.0",
            "_view_count": null,
            "flex_flow": null,
            "width": null,
            "min_width": null,
            "border": null,
            "align_items": null,
            "bottom": null,
            "_model_module": "@jupyter-widgets/base",
            "top": null,
            "grid_column": null,
            "overflow_y": null,
            "overflow_x": null,
            "grid_auto_flow": null,
            "grid_area": null,
            "grid_template_columns": null,
            "flex": null,
            "_model_name": "LayoutModel",
            "justify_items": null,
            "grid_row": null,
            "max_height": null,
            "align_content": null,
            "visibility": null,
            "align_self": null,
            "height": null,
            "min_height": null,
            "padding": null,
            "grid_auto_rows": null,
            "grid_gap": null,
            "max_width": null,
            "order": null,
            "_view_module_version": "1.2.0",
            "grid_template_areas": null,
            "object_position": null,
            "object_fit": null,
            "grid_auto_columns": null,
            "margin": null,
            "display": null,
            "left": null
          }
        },
        "acd42d911d05463b90c4250520eb7abd": {
          "model_module": "@jupyter-widgets/controls",
          "model_name": "FloatProgressModel",
          "state": {
            "_view_name": "ProgressView",
            "style": "IPY_MODEL_6d8ac0c7617447f790b7ccfe34482cc3",
            "_dom_classes": [],
            "description": "100%",
            "_model_name": "FloatProgressModel",
            "bar_style": "success",
            "max": 33661,
            "_view_module": "@jupyter-widgets/controls",
            "_model_module_version": "1.5.0",
            "value": 33661,
            "_view_count": null,
            "_view_module_version": "1.5.0",
            "orientation": "horizontal",
            "min": 0,
            "description_tooltip": null,
            "_model_module": "@jupyter-widgets/controls",
            "layout": "IPY_MODEL_478b23d319d24d5b987cebc3c52e28c6"
          }
        },
        "31db9617ee7d4735b1b34642b9ea84c9": {
          "model_module": "@jupyter-widgets/controls",
          "model_name": "HTMLModel",
          "state": {
            "_view_name": "HTMLView",
            "style": "IPY_MODEL_e6764bb0c9354d9998d5a34173fcd4f2",
            "_dom_classes": [],
            "description": "",
            "_model_name": "HTMLModel",
            "placeholder": "​",
            "_view_module": "@jupyter-widgets/controls",
            "_model_module_version": "1.5.0",
            "value": " 33661/33661 [00:07&lt;00:00, 4629.23it/s]",
            "_view_count": null,
            "_view_module_version": "1.5.0",
            "description_tooltip": null,
            "_model_module": "@jupyter-widgets/controls",
            "layout": "IPY_MODEL_4dc4c8345ea6482a809aca7b8ee51253"
          }
        },
        "6d8ac0c7617447f790b7ccfe34482cc3": {
          "model_module": "@jupyter-widgets/controls",
          "model_name": "ProgressStyleModel",
          "state": {
            "_view_name": "StyleView",
            "_model_name": "ProgressStyleModel",
            "description_width": "initial",
            "_view_module": "@jupyter-widgets/base",
            "_model_module_version": "1.5.0",
            "_view_count": null,
            "_view_module_version": "1.2.0",
            "bar_color": null,
            "_model_module": "@jupyter-widgets/controls"
          }
        },
        "478b23d319d24d5b987cebc3c52e28c6": {
          "model_module": "@jupyter-widgets/base",
          "model_name": "LayoutModel",
          "state": {
            "_view_name": "LayoutView",
            "grid_template_rows": null,
            "right": null,
            "justify_content": null,
            "_view_module": "@jupyter-widgets/base",
            "overflow": null,
            "_model_module_version": "1.2.0",
            "_view_count": null,
            "flex_flow": null,
            "width": null,
            "min_width": null,
            "border": null,
            "align_items": null,
            "bottom": null,
            "_model_module": "@jupyter-widgets/base",
            "top": null,
            "grid_column": null,
            "overflow_y": null,
            "overflow_x": null,
            "grid_auto_flow": null,
            "grid_area": null,
            "grid_template_columns": null,
            "flex": null,
            "_model_name": "LayoutModel",
            "justify_items": null,
            "grid_row": null,
            "max_height": null,
            "align_content": null,
            "visibility": null,
            "align_self": null,
            "height": null,
            "min_height": null,
            "padding": null,
            "grid_auto_rows": null,
            "grid_gap": null,
            "max_width": null,
            "order": null,
            "_view_module_version": "1.2.0",
            "grid_template_areas": null,
            "object_position": null,
            "object_fit": null,
            "grid_auto_columns": null,
            "margin": null,
            "display": null,
            "left": null
          }
        },
        "e6764bb0c9354d9998d5a34173fcd4f2": {
          "model_module": "@jupyter-widgets/controls",
          "model_name": "DescriptionStyleModel",
          "state": {
            "_view_name": "StyleView",
            "_model_name": "DescriptionStyleModel",
            "description_width": "",
            "_view_module": "@jupyter-widgets/base",
            "_model_module_version": "1.5.0",
            "_view_count": null,
            "_view_module_version": "1.2.0",
            "_model_module": "@jupyter-widgets/controls"
          }
        },
        "4dc4c8345ea6482a809aca7b8ee51253": {
          "model_module": "@jupyter-widgets/base",
          "model_name": "LayoutModel",
          "state": {
            "_view_name": "LayoutView",
            "grid_template_rows": null,
            "right": null,
            "justify_content": null,
            "_view_module": "@jupyter-widgets/base",
            "overflow": null,
            "_model_module_version": "1.2.0",
            "_view_count": null,
            "flex_flow": null,
            "width": null,
            "min_width": null,
            "border": null,
            "align_items": null,
            "bottom": null,
            "_model_module": "@jupyter-widgets/base",
            "top": null,
            "grid_column": null,
            "overflow_y": null,
            "overflow_x": null,
            "grid_auto_flow": null,
            "grid_area": null,
            "grid_template_columns": null,
            "flex": null,
            "_model_name": "LayoutModel",
            "justify_items": null,
            "grid_row": null,
            "max_height": null,
            "align_content": null,
            "visibility": null,
            "align_self": null,
            "height": null,
            "min_height": null,
            "padding": null,
            "grid_auto_rows": null,
            "grid_gap": null,
            "max_width": null,
            "order": null,
            "_view_module_version": "1.2.0",
            "grid_template_areas": null,
            "object_position": null,
            "object_fit": null,
            "grid_auto_columns": null,
            "margin": null,
            "display": null,
            "left": null
          }
        },
        "d5c338ed857140559e403f58270f49e3": {
          "model_module": "@jupyter-widgets/controls",
          "model_name": "HBoxModel",
          "state": {
            "_view_name": "HBoxView",
            "_dom_classes": [],
            "_model_name": "HBoxModel",
            "_view_module": "@jupyter-widgets/controls",
            "_model_module_version": "1.5.0",
            "_view_count": null,
            "_view_module_version": "1.5.0",
            "box_style": "",
            "layout": "IPY_MODEL_37c9d6bfb26a4b32a89bcd78a8dc0994",
            "_model_module": "@jupyter-widgets/controls",
            "children": [
              "IPY_MODEL_87a44b830147486aa9659d77dcc731fe",
              "IPY_MODEL_7ffb6f5fda7141ff98263d1a2615489b"
            ]
          }
        },
        "37c9d6bfb26a4b32a89bcd78a8dc0994": {
          "model_module": "@jupyter-widgets/base",
          "model_name": "LayoutModel",
          "state": {
            "_view_name": "LayoutView",
            "grid_template_rows": null,
            "right": null,
            "justify_content": null,
            "_view_module": "@jupyter-widgets/base",
            "overflow": null,
            "_model_module_version": "1.2.0",
            "_view_count": null,
            "flex_flow": null,
            "width": null,
            "min_width": null,
            "border": null,
            "align_items": null,
            "bottom": null,
            "_model_module": "@jupyter-widgets/base",
            "top": null,
            "grid_column": null,
            "overflow_y": null,
            "overflow_x": null,
            "grid_auto_flow": null,
            "grid_area": null,
            "grid_template_columns": null,
            "flex": null,
            "_model_name": "LayoutModel",
            "justify_items": null,
            "grid_row": null,
            "max_height": null,
            "align_content": null,
            "visibility": null,
            "align_self": null,
            "height": null,
            "min_height": null,
            "padding": null,
            "grid_auto_rows": null,
            "grid_gap": null,
            "max_width": null,
            "order": null,
            "_view_module_version": "1.2.0",
            "grid_template_areas": null,
            "object_position": null,
            "object_fit": null,
            "grid_auto_columns": null,
            "margin": null,
            "display": null,
            "left": null
          }
        },
        "87a44b830147486aa9659d77dcc731fe": {
          "model_module": "@jupyter-widgets/controls",
          "model_name": "FloatProgressModel",
          "state": {
            "_view_name": "ProgressView",
            "style": "IPY_MODEL_47f45d0123484a0cbe025e96b5f034b0",
            "_dom_classes": [],
            "description": "100%",
            "_model_name": "FloatProgressModel",
            "bar_style": "success",
            "max": 33661,
            "_view_module": "@jupyter-widgets/controls",
            "_model_module_version": "1.5.0",
            "value": 33661,
            "_view_count": null,
            "_view_module_version": "1.5.0",
            "orientation": "horizontal",
            "min": 0,
            "description_tooltip": null,
            "_model_module": "@jupyter-widgets/controls",
            "layout": "IPY_MODEL_7e3fa4c7309f47979d6cc644f5f6a95e"
          }
        },
        "7ffb6f5fda7141ff98263d1a2615489b": {
          "model_module": "@jupyter-widgets/controls",
          "model_name": "HTMLModel",
          "state": {
            "_view_name": "HTMLView",
            "style": "IPY_MODEL_d105663d74d7440083d4d4f52a18860e",
            "_dom_classes": [],
            "description": "",
            "_model_name": "HTMLModel",
            "placeholder": "​",
            "_view_module": "@jupyter-widgets/controls",
            "_model_module_version": "1.5.0",
            "value": " 33661/33661 [00:04&lt;00:00, 8092.16it/s]",
            "_view_count": null,
            "_view_module_version": "1.5.0",
            "description_tooltip": null,
            "_model_module": "@jupyter-widgets/controls",
            "layout": "IPY_MODEL_e407d0e1a6f04a74bc6bbd06f867f830"
          }
        },
        "47f45d0123484a0cbe025e96b5f034b0": {
          "model_module": "@jupyter-widgets/controls",
          "model_name": "ProgressStyleModel",
          "state": {
            "_view_name": "StyleView",
            "_model_name": "ProgressStyleModel",
            "description_width": "initial",
            "_view_module": "@jupyter-widgets/base",
            "_model_module_version": "1.5.0",
            "_view_count": null,
            "_view_module_version": "1.2.0",
            "bar_color": null,
            "_model_module": "@jupyter-widgets/controls"
          }
        },
        "7e3fa4c7309f47979d6cc644f5f6a95e": {
          "model_module": "@jupyter-widgets/base",
          "model_name": "LayoutModel",
          "state": {
            "_view_name": "LayoutView",
            "grid_template_rows": null,
            "right": null,
            "justify_content": null,
            "_view_module": "@jupyter-widgets/base",
            "overflow": null,
            "_model_module_version": "1.2.0",
            "_view_count": null,
            "flex_flow": null,
            "width": null,
            "min_width": null,
            "border": null,
            "align_items": null,
            "bottom": null,
            "_model_module": "@jupyter-widgets/base",
            "top": null,
            "grid_column": null,
            "overflow_y": null,
            "overflow_x": null,
            "grid_auto_flow": null,
            "grid_area": null,
            "grid_template_columns": null,
            "flex": null,
            "_model_name": "LayoutModel",
            "justify_items": null,
            "grid_row": null,
            "max_height": null,
            "align_content": null,
            "visibility": null,
            "align_self": null,
            "height": null,
            "min_height": null,
            "padding": null,
            "grid_auto_rows": null,
            "grid_gap": null,
            "max_width": null,
            "order": null,
            "_view_module_version": "1.2.0",
            "grid_template_areas": null,
            "object_position": null,
            "object_fit": null,
            "grid_auto_columns": null,
            "margin": null,
            "display": null,
            "left": null
          }
        },
        "d105663d74d7440083d4d4f52a18860e": {
          "model_module": "@jupyter-widgets/controls",
          "model_name": "DescriptionStyleModel",
          "state": {
            "_view_name": "StyleView",
            "_model_name": "DescriptionStyleModel",
            "description_width": "",
            "_view_module": "@jupyter-widgets/base",
            "_model_module_version": "1.5.0",
            "_view_count": null,
            "_view_module_version": "1.2.0",
            "_model_module": "@jupyter-widgets/controls"
          }
        },
        "e407d0e1a6f04a74bc6bbd06f867f830": {
          "model_module": "@jupyter-widgets/base",
          "model_name": "LayoutModel",
          "state": {
            "_view_name": "LayoutView",
            "grid_template_rows": null,
            "right": null,
            "justify_content": null,
            "_view_module": "@jupyter-widgets/base",
            "overflow": null,
            "_model_module_version": "1.2.0",
            "_view_count": null,
            "flex_flow": null,
            "width": null,
            "min_width": null,
            "border": null,
            "align_items": null,
            "bottom": null,
            "_model_module": "@jupyter-widgets/base",
            "top": null,
            "grid_column": null,
            "overflow_y": null,
            "overflow_x": null,
            "grid_auto_flow": null,
            "grid_area": null,
            "grid_template_columns": null,
            "flex": null,
            "_model_name": "LayoutModel",
            "justify_items": null,
            "grid_row": null,
            "max_height": null,
            "align_content": null,
            "visibility": null,
            "align_self": null,
            "height": null,
            "min_height": null,
            "padding": null,
            "grid_auto_rows": null,
            "grid_gap": null,
            "max_width": null,
            "order": null,
            "_view_module_version": "1.2.0",
            "grid_template_areas": null,
            "object_position": null,
            "object_fit": null,
            "grid_auto_columns": null,
            "margin": null,
            "display": null,
            "left": null
          }
        },
        "610bd023422d468c9b65269076f4a449": {
          "model_module": "@jupyter-widgets/controls",
          "model_name": "HBoxModel",
          "state": {
            "_view_name": "HBoxView",
            "_dom_classes": [],
            "_model_name": "HBoxModel",
            "_view_module": "@jupyter-widgets/controls",
            "_model_module_version": "1.5.0",
            "_view_count": null,
            "_view_module_version": "1.5.0",
            "box_style": "",
            "layout": "IPY_MODEL_4bf94e1b6c834c35a4eed824966ad5a2",
            "_model_module": "@jupyter-widgets/controls",
            "children": [
              "IPY_MODEL_fa150c0d44204891a2c943b7b6540df7",
              "IPY_MODEL_07d8aa575af844789e72dc5ebc0bfc7e"
            ]
          }
        },
        "4bf94e1b6c834c35a4eed824966ad5a2": {
          "model_module": "@jupyter-widgets/base",
          "model_name": "LayoutModel",
          "state": {
            "_view_name": "LayoutView",
            "grid_template_rows": null,
            "right": null,
            "justify_content": null,
            "_view_module": "@jupyter-widgets/base",
            "overflow": null,
            "_model_module_version": "1.2.0",
            "_view_count": null,
            "flex_flow": null,
            "width": null,
            "min_width": null,
            "border": null,
            "align_items": null,
            "bottom": null,
            "_model_module": "@jupyter-widgets/base",
            "top": null,
            "grid_column": null,
            "overflow_y": null,
            "overflow_x": null,
            "grid_auto_flow": null,
            "grid_area": null,
            "grid_template_columns": null,
            "flex": null,
            "_model_name": "LayoutModel",
            "justify_items": null,
            "grid_row": null,
            "max_height": null,
            "align_content": null,
            "visibility": null,
            "align_self": null,
            "height": null,
            "min_height": null,
            "padding": null,
            "grid_auto_rows": null,
            "grid_gap": null,
            "max_width": null,
            "order": null,
            "_view_module_version": "1.2.0",
            "grid_template_areas": null,
            "object_position": null,
            "object_fit": null,
            "grid_auto_columns": null,
            "margin": null,
            "display": null,
            "left": null
          }
        },
        "fa150c0d44204891a2c943b7b6540df7": {
          "model_module": "@jupyter-widgets/controls",
          "model_name": "FloatProgressModel",
          "state": {
            "_view_name": "ProgressView",
            "style": "IPY_MODEL_bf78632d405f4df29a7567db70102bb8",
            "_dom_classes": [],
            "description": "100%",
            "_model_name": "FloatProgressModel",
            "bar_style": "success",
            "max": 103976,
            "_view_module": "@jupyter-widgets/controls",
            "_model_module_version": "1.5.0",
            "value": 103976,
            "_view_count": null,
            "_view_module_version": "1.5.0",
            "orientation": "horizontal",
            "min": 0,
            "description_tooltip": null,
            "_model_module": "@jupyter-widgets/controls",
            "layout": "IPY_MODEL_b17dc9e853fe42be937cc94d2999732c"
          }
        },
        "07d8aa575af844789e72dc5ebc0bfc7e": {
          "model_module": "@jupyter-widgets/controls",
          "model_name": "HTMLModel",
          "state": {
            "_view_name": "HTMLView",
            "style": "IPY_MODEL_b241fd6ec4e44f969c74928b1d70584a",
            "_dom_classes": [],
            "description": "",
            "_model_name": "HTMLModel",
            "placeholder": "​",
            "_view_module": "@jupyter-widgets/controls",
            "_model_module_version": "1.5.0",
            "value": " 103976/103976 [00:14&lt;00:00, 7164.29it/s]",
            "_view_count": null,
            "_view_module_version": "1.5.0",
            "description_tooltip": null,
            "_model_module": "@jupyter-widgets/controls",
            "layout": "IPY_MODEL_ee8a08f003e44379a6e68ad63dfe6250"
          }
        },
        "bf78632d405f4df29a7567db70102bb8": {
          "model_module": "@jupyter-widgets/controls",
          "model_name": "ProgressStyleModel",
          "state": {
            "_view_name": "StyleView",
            "_model_name": "ProgressStyleModel",
            "description_width": "initial",
            "_view_module": "@jupyter-widgets/base",
            "_model_module_version": "1.5.0",
            "_view_count": null,
            "_view_module_version": "1.2.0",
            "bar_color": null,
            "_model_module": "@jupyter-widgets/controls"
          }
        },
        "b17dc9e853fe42be937cc94d2999732c": {
          "model_module": "@jupyter-widgets/base",
          "model_name": "LayoutModel",
          "state": {
            "_view_name": "LayoutView",
            "grid_template_rows": null,
            "right": null,
            "justify_content": null,
            "_view_module": "@jupyter-widgets/base",
            "overflow": null,
            "_model_module_version": "1.2.0",
            "_view_count": null,
            "flex_flow": null,
            "width": null,
            "min_width": null,
            "border": null,
            "align_items": null,
            "bottom": null,
            "_model_module": "@jupyter-widgets/base",
            "top": null,
            "grid_column": null,
            "overflow_y": null,
            "overflow_x": null,
            "grid_auto_flow": null,
            "grid_area": null,
            "grid_template_columns": null,
            "flex": null,
            "_model_name": "LayoutModel",
            "justify_items": null,
            "grid_row": null,
            "max_height": null,
            "align_content": null,
            "visibility": null,
            "align_self": null,
            "height": null,
            "min_height": null,
            "padding": null,
            "grid_auto_rows": null,
            "grid_gap": null,
            "max_width": null,
            "order": null,
            "_view_module_version": "1.2.0",
            "grid_template_areas": null,
            "object_position": null,
            "object_fit": null,
            "grid_auto_columns": null,
            "margin": null,
            "display": null,
            "left": null
          }
        },
        "b241fd6ec4e44f969c74928b1d70584a": {
          "model_module": "@jupyter-widgets/controls",
          "model_name": "DescriptionStyleModel",
          "state": {
            "_view_name": "StyleView",
            "_model_name": "DescriptionStyleModel",
            "description_width": "",
            "_view_module": "@jupyter-widgets/base",
            "_model_module_version": "1.5.0",
            "_view_count": null,
            "_view_module_version": "1.2.0",
            "_model_module": "@jupyter-widgets/controls"
          }
        },
        "ee8a08f003e44379a6e68ad63dfe6250": {
          "model_module": "@jupyter-widgets/base",
          "model_name": "LayoutModel",
          "state": {
            "_view_name": "LayoutView",
            "grid_template_rows": null,
            "right": null,
            "justify_content": null,
            "_view_module": "@jupyter-widgets/base",
            "overflow": null,
            "_model_module_version": "1.2.0",
            "_view_count": null,
            "flex_flow": null,
            "width": null,
            "min_width": null,
            "border": null,
            "align_items": null,
            "bottom": null,
            "_model_module": "@jupyter-widgets/base",
            "top": null,
            "grid_column": null,
            "overflow_y": null,
            "overflow_x": null,
            "grid_auto_flow": null,
            "grid_area": null,
            "grid_template_columns": null,
            "flex": null,
            "_model_name": "LayoutModel",
            "justify_items": null,
            "grid_row": null,
            "max_height": null,
            "align_content": null,
            "visibility": null,
            "align_self": null,
            "height": null,
            "min_height": null,
            "padding": null,
            "grid_auto_rows": null,
            "grid_gap": null,
            "max_width": null,
            "order": null,
            "_view_module_version": "1.2.0",
            "grid_template_areas": null,
            "object_position": null,
            "object_fit": null,
            "grid_auto_columns": null,
            "margin": null,
            "display": null,
            "left": null
          }
        },
        "e20dbadc164144babcdc0e32103b4d54": {
          "model_module": "@jupyter-widgets/controls",
          "model_name": "HBoxModel",
          "state": {
            "_view_name": "HBoxView",
            "_dom_classes": [],
            "_model_name": "HBoxModel",
            "_view_module": "@jupyter-widgets/controls",
            "_model_module_version": "1.5.0",
            "_view_count": null,
            "_view_module_version": "1.5.0",
            "box_style": "",
            "layout": "IPY_MODEL_99c2dc603a984a429627cbe4f15972c3",
            "_model_module": "@jupyter-widgets/controls",
            "children": [
              "IPY_MODEL_b64133f2718f41f2b68b905fd3af9c3a",
              "IPY_MODEL_805852c1269648a7abfcd4416982121d"
            ]
          }
        },
        "99c2dc603a984a429627cbe4f15972c3": {
          "model_module": "@jupyter-widgets/base",
          "model_name": "LayoutModel",
          "state": {
            "_view_name": "LayoutView",
            "grid_template_rows": null,
            "right": null,
            "justify_content": null,
            "_view_module": "@jupyter-widgets/base",
            "overflow": null,
            "_model_module_version": "1.2.0",
            "_view_count": null,
            "flex_flow": null,
            "width": null,
            "min_width": null,
            "border": null,
            "align_items": null,
            "bottom": null,
            "_model_module": "@jupyter-widgets/base",
            "top": null,
            "grid_column": null,
            "overflow_y": null,
            "overflow_x": null,
            "grid_auto_flow": null,
            "grid_area": null,
            "grid_template_columns": null,
            "flex": null,
            "_model_name": "LayoutModel",
            "justify_items": null,
            "grid_row": null,
            "max_height": null,
            "align_content": null,
            "visibility": null,
            "align_self": null,
            "height": null,
            "min_height": null,
            "padding": null,
            "grid_auto_rows": null,
            "grid_gap": null,
            "max_width": null,
            "order": null,
            "_view_module_version": "1.2.0",
            "grid_template_areas": null,
            "object_position": null,
            "object_fit": null,
            "grid_auto_columns": null,
            "margin": null,
            "display": null,
            "left": null
          }
        },
        "b64133f2718f41f2b68b905fd3af9c3a": {
          "model_module": "@jupyter-widgets/controls",
          "model_name": "FloatProgressModel",
          "state": {
            "_view_name": "ProgressView",
            "style": "IPY_MODEL_51c68da2549b4acdaa4a5ed10b09f0b1",
            "_dom_classes": [],
            "description": "100%",
            "_model_name": "FloatProgressModel",
            "bar_style": "success",
            "max": 25995,
            "_view_module": "@jupyter-widgets/controls",
            "_model_module_version": "1.5.0",
            "value": 25995,
            "_view_count": null,
            "_view_module_version": "1.5.0",
            "orientation": "horizontal",
            "min": 0,
            "description_tooltip": null,
            "_model_module": "@jupyter-widgets/controls",
            "layout": "IPY_MODEL_25b40551ff4645d5b7ea6829690119b5"
          }
        },
        "805852c1269648a7abfcd4416982121d": {
          "model_module": "@jupyter-widgets/controls",
          "model_name": "HTMLModel",
          "state": {
            "_view_name": "HTMLView",
            "style": "IPY_MODEL_03cd540784bc42339a7da991c6757e34",
            "_dom_classes": [],
            "description": "",
            "_model_name": "HTMLModel",
            "placeholder": "​",
            "_view_module": "@jupyter-widgets/controls",
            "_model_module_version": "1.5.0",
            "value": " 25995/25995 [00:03&lt;00:00, 7081.08it/s]",
            "_view_count": null,
            "_view_module_version": "1.5.0",
            "description_tooltip": null,
            "_model_module": "@jupyter-widgets/controls",
            "layout": "IPY_MODEL_75a4c89d5eaa4e92821b9cee1b1f1b74"
          }
        },
        "51c68da2549b4acdaa4a5ed10b09f0b1": {
          "model_module": "@jupyter-widgets/controls",
          "model_name": "ProgressStyleModel",
          "state": {
            "_view_name": "StyleView",
            "_model_name": "ProgressStyleModel",
            "description_width": "initial",
            "_view_module": "@jupyter-widgets/base",
            "_model_module_version": "1.5.0",
            "_view_count": null,
            "_view_module_version": "1.2.0",
            "bar_color": null,
            "_model_module": "@jupyter-widgets/controls"
          }
        },
        "25b40551ff4645d5b7ea6829690119b5": {
          "model_module": "@jupyter-widgets/base",
          "model_name": "LayoutModel",
          "state": {
            "_view_name": "LayoutView",
            "grid_template_rows": null,
            "right": null,
            "justify_content": null,
            "_view_module": "@jupyter-widgets/base",
            "overflow": null,
            "_model_module_version": "1.2.0",
            "_view_count": null,
            "flex_flow": null,
            "width": null,
            "min_width": null,
            "border": null,
            "align_items": null,
            "bottom": null,
            "_model_module": "@jupyter-widgets/base",
            "top": null,
            "grid_column": null,
            "overflow_y": null,
            "overflow_x": null,
            "grid_auto_flow": null,
            "grid_area": null,
            "grid_template_columns": null,
            "flex": null,
            "_model_name": "LayoutModel",
            "justify_items": null,
            "grid_row": null,
            "max_height": null,
            "align_content": null,
            "visibility": null,
            "align_self": null,
            "height": null,
            "min_height": null,
            "padding": null,
            "grid_auto_rows": null,
            "grid_gap": null,
            "max_width": null,
            "order": null,
            "_view_module_version": "1.2.0",
            "grid_template_areas": null,
            "object_position": null,
            "object_fit": null,
            "grid_auto_columns": null,
            "margin": null,
            "display": null,
            "left": null
          }
        },
        "03cd540784bc42339a7da991c6757e34": {
          "model_module": "@jupyter-widgets/controls",
          "model_name": "DescriptionStyleModel",
          "state": {
            "_view_name": "StyleView",
            "_model_name": "DescriptionStyleModel",
            "description_width": "",
            "_view_module": "@jupyter-widgets/base",
            "_model_module_version": "1.5.0",
            "_view_count": null,
            "_view_module_version": "1.2.0",
            "_model_module": "@jupyter-widgets/controls"
          }
        },
        "75a4c89d5eaa4e92821b9cee1b1f1b74": {
          "model_module": "@jupyter-widgets/base",
          "model_name": "LayoutModel",
          "state": {
            "_view_name": "LayoutView",
            "grid_template_rows": null,
            "right": null,
            "justify_content": null,
            "_view_module": "@jupyter-widgets/base",
            "overflow": null,
            "_model_module_version": "1.2.0",
            "_view_count": null,
            "flex_flow": null,
            "width": null,
            "min_width": null,
            "border": null,
            "align_items": null,
            "bottom": null,
            "_model_module": "@jupyter-widgets/base",
            "top": null,
            "grid_column": null,
            "overflow_y": null,
            "overflow_x": null,
            "grid_auto_flow": null,
            "grid_area": null,
            "grid_template_columns": null,
            "flex": null,
            "_model_name": "LayoutModel",
            "justify_items": null,
            "grid_row": null,
            "max_height": null,
            "align_content": null,
            "visibility": null,
            "align_self": null,
            "height": null,
            "min_height": null,
            "padding": null,
            "grid_auto_rows": null,
            "grid_gap": null,
            "max_width": null,
            "order": null,
            "_view_module_version": "1.2.0",
            "grid_template_areas": null,
            "object_position": null,
            "object_fit": null,
            "grid_auto_columns": null,
            "margin": null,
            "display": null,
            "left": null
          }
        }
      }
    }
  },
  "cells": [
    {
      "cell_type": "markdown",
      "metadata": {
        "id": "view-in-github",
        "colab_type": "text"
      },
      "source": [
        "<a href=\"https://colab.research.google.com/github/awadell1/MLOnAGooseberryBush/blob/master/src/LSTM.ipynb\" target=\"_parent\"><img src=\"https://colab.research.google.com/assets/colab-badge.svg\" alt=\"Open In Colab\"/></a>"
      ]
    },
    {
      "cell_type": "code",
      "metadata": {
        "id": "zbcNIsTIifxh"
      },
      "source": [
        "import numpy as np\n",
        "import tensorflow as tf\n",
        "from tensorflow import keras\n",
        "from keras.models import Model\n",
        "from keras.layers import Dense, Input, Dropout, LSTM, Activation, Bidirectional\n",
        "from keras.layers.embeddings import Embedding\n",
        "from keras.preprocessing.text import text_to_word_sequence\n",
        "from tqdm.notebook import tqdm\n",
        "from tensorflow.keras.preprocessing.sequence import pad_sequences\n",
        "SEED = 42 #setting the seed for reproducebility\n",
        "AUTOTUNE = tf.data.experimental.AUTOTUNE #currently not entirely sure what this can do"
      ],
      "execution_count": null,
      "outputs": []
    },
    {
      "cell_type": "code",
      "metadata": {
        "id": "jomeHjIXK1LQ"
      },
      "source": [
        "word_to_index, index_to_word, word_to_vec_map = read_glove_vecs('glove.6B.50d.txt')"
      ],
      "execution_count": null,
      "outputs": []
    },
    {
      "cell_type": "code",
      "metadata": {
        "colab": {
          "base_uri": "https://localhost:8080/"
        },
        "id": "QWaRJgGHuwXA",
        "outputId": "c83de802-9090-407c-8723-101123ea61a1"
      },
      "source": [
        "from google.colab import drive\n",
        "drive.mount('/content/drive')"
      ],
      "execution_count": null,
      "outputs": [
        {
          "output_type": "stream",
          "text": [
            "Drive already mounted at /content/drive; to attempt to forcibly remount, call drive.mount(\"/content/drive\", force_remount=True).\n"
          ],
          "name": "stdout"
        }
      ]
    },
    {
      "cell_type": "code",
      "metadata": {
        "colab": {
          "base_uri": "https://localhost:8080/",
          "height": 172
        },
        "id": "24aH5AvDuZ-V",
        "outputId": "ac1f5cb5-71d1-457a-a48c-b77bc5816722"
      },
      "source": [
        "import pandas as pd\n",
        "save_path='/content/drive/MyDrive/24787 Group Project  /word2vec model/vectors256.tsv'\n",
        "word2vec_map = pd.read_csv(save_path,sep='\\t',header=None)\n",
        "print(word2vec_map.shape)\n",
        "word2vec_map.head(2)"
      ],
      "execution_count": null,
      "outputs": [
        {
          "output_type": "stream",
          "text": [
            "(33662, 256)\n"
          ],
          "name": "stdout"
        },
        {
          "output_type": "execute_result",
          "data": {
            "text/html": [
              "<div>\n",
              "<style scoped>\n",
              "    .dataframe tbody tr th:only-of-type {\n",
              "        vertical-align: middle;\n",
              "    }\n",
              "\n",
              "    .dataframe tbody tr th {\n",
              "        vertical-align: top;\n",
              "    }\n",
              "\n",
              "    .dataframe thead th {\n",
              "        text-align: right;\n",
              "    }\n",
              "</style>\n",
              "<table border=\"1\" class=\"dataframe\">\n",
              "  <thead>\n",
              "    <tr style=\"text-align: right;\">\n",
              "      <th></th>\n",
              "      <th>0</th>\n",
              "      <th>1</th>\n",
              "      <th>2</th>\n",
              "      <th>3</th>\n",
              "      <th>4</th>\n",
              "      <th>5</th>\n",
              "      <th>6</th>\n",
              "      <th>7</th>\n",
              "      <th>8</th>\n",
              "      <th>9</th>\n",
              "      <th>10</th>\n",
              "      <th>11</th>\n",
              "      <th>12</th>\n",
              "      <th>13</th>\n",
              "      <th>14</th>\n",
              "      <th>15</th>\n",
              "      <th>16</th>\n",
              "      <th>17</th>\n",
              "      <th>18</th>\n",
              "      <th>19</th>\n",
              "      <th>20</th>\n",
              "      <th>21</th>\n",
              "      <th>22</th>\n",
              "      <th>23</th>\n",
              "      <th>24</th>\n",
              "      <th>25</th>\n",
              "      <th>26</th>\n",
              "      <th>27</th>\n",
              "      <th>28</th>\n",
              "      <th>29</th>\n",
              "      <th>30</th>\n",
              "      <th>31</th>\n",
              "      <th>32</th>\n",
              "      <th>33</th>\n",
              "      <th>34</th>\n",
              "      <th>35</th>\n",
              "      <th>36</th>\n",
              "      <th>37</th>\n",
              "      <th>38</th>\n",
              "      <th>39</th>\n",
              "      <th>...</th>\n",
              "      <th>216</th>\n",
              "      <th>217</th>\n",
              "      <th>218</th>\n",
              "      <th>219</th>\n",
              "      <th>220</th>\n",
              "      <th>221</th>\n",
              "      <th>222</th>\n",
              "      <th>223</th>\n",
              "      <th>224</th>\n",
              "      <th>225</th>\n",
              "      <th>226</th>\n",
              "      <th>227</th>\n",
              "      <th>228</th>\n",
              "      <th>229</th>\n",
              "      <th>230</th>\n",
              "      <th>231</th>\n",
              "      <th>232</th>\n",
              "      <th>233</th>\n",
              "      <th>234</th>\n",
              "      <th>235</th>\n",
              "      <th>236</th>\n",
              "      <th>237</th>\n",
              "      <th>238</th>\n",
              "      <th>239</th>\n",
              "      <th>240</th>\n",
              "      <th>241</th>\n",
              "      <th>242</th>\n",
              "      <th>243</th>\n",
              "      <th>244</th>\n",
              "      <th>245</th>\n",
              "      <th>246</th>\n",
              "      <th>247</th>\n",
              "      <th>248</th>\n",
              "      <th>249</th>\n",
              "      <th>250</th>\n",
              "      <th>251</th>\n",
              "      <th>252</th>\n",
              "      <th>253</th>\n",
              "      <th>254</th>\n",
              "      <th>255</th>\n",
              "    </tr>\n",
              "  </thead>\n",
              "  <tbody>\n",
              "    <tr>\n",
              "      <th>0</th>\n",
              "      <td>-0.130494</td>\n",
              "      <td>0.073643</td>\n",
              "      <td>-0.354955</td>\n",
              "      <td>-0.075573</td>\n",
              "      <td>-0.061752</td>\n",
              "      <td>-0.399214</td>\n",
              "      <td>-0.140066</td>\n",
              "      <td>0.143229</td>\n",
              "      <td>-0.183003</td>\n",
              "      <td>-0.033217</td>\n",
              "      <td>0.048220</td>\n",
              "      <td>0.030298</td>\n",
              "      <td>-0.052610</td>\n",
              "      <td>0.126930</td>\n",
              "      <td>-0.330439</td>\n",
              "      <td>0.271223</td>\n",
              "      <td>-0.010008</td>\n",
              "      <td>-0.366288</td>\n",
              "      <td>-0.033729</td>\n",
              "      <td>-0.437847</td>\n",
              "      <td>0.010464</td>\n",
              "      <td>0.155762</td>\n",
              "      <td>-0.185933</td>\n",
              "      <td>-0.436063</td>\n",
              "      <td>-0.210882</td>\n",
              "      <td>0.162651</td>\n",
              "      <td>0.277120</td>\n",
              "      <td>0.027856</td>\n",
              "      <td>0.125649</td>\n",
              "      <td>-0.326646</td>\n",
              "      <td>-0.098107</td>\n",
              "      <td>0.058052</td>\n",
              "      <td>0.146102</td>\n",
              "      <td>-0.367666</td>\n",
              "      <td>-0.325120</td>\n",
              "      <td>0.211603</td>\n",
              "      <td>0.088326</td>\n",
              "      <td>0.087743</td>\n",
              "      <td>-0.056309</td>\n",
              "      <td>-0.169389</td>\n",
              "      <td>...</td>\n",
              "      <td>0.082857</td>\n",
              "      <td>-0.184996</td>\n",
              "      <td>0.249066</td>\n",
              "      <td>0.083633</td>\n",
              "      <td>-0.096283</td>\n",
              "      <td>-0.051716</td>\n",
              "      <td>0.122224</td>\n",
              "      <td>0.084957</td>\n",
              "      <td>-0.075601</td>\n",
              "      <td>0.041088</td>\n",
              "      <td>0.118679</td>\n",
              "      <td>-0.217012</td>\n",
              "      <td>0.282111</td>\n",
              "      <td>0.495631</td>\n",
              "      <td>0.498411</td>\n",
              "      <td>-0.239457</td>\n",
              "      <td>0.009129</td>\n",
              "      <td>-0.400434</td>\n",
              "      <td>-0.257665</td>\n",
              "      <td>0.260823</td>\n",
              "      <td>-0.326247</td>\n",
              "      <td>-0.141764</td>\n",
              "      <td>0.099803</td>\n",
              "      <td>0.018076</td>\n",
              "      <td>0.092956</td>\n",
              "      <td>0.235196</td>\n",
              "      <td>0.227048</td>\n",
              "      <td>0.027845</td>\n",
              "      <td>0.029719</td>\n",
              "      <td>-0.069874</td>\n",
              "      <td>-0.280754</td>\n",
              "      <td>0.227582</td>\n",
              "      <td>-0.108462</td>\n",
              "      <td>-0.031027</td>\n",
              "      <td>-0.303575</td>\n",
              "      <td>-0.054791</td>\n",
              "      <td>0.249680</td>\n",
              "      <td>-0.060876</td>\n",
              "      <td>0.314991</td>\n",
              "      <td>-0.192157</td>\n",
              "    </tr>\n",
              "    <tr>\n",
              "      <th>1</th>\n",
              "      <td>-0.234385</td>\n",
              "      <td>0.227516</td>\n",
              "      <td>-0.106715</td>\n",
              "      <td>-0.200246</td>\n",
              "      <td>-0.203092</td>\n",
              "      <td>0.007012</td>\n",
              "      <td>0.220154</td>\n",
              "      <td>0.239702</td>\n",
              "      <td>-0.044499</td>\n",
              "      <td>0.262064</td>\n",
              "      <td>0.075031</td>\n",
              "      <td>0.431765</td>\n",
              "      <td>-0.123586</td>\n",
              "      <td>-0.097911</td>\n",
              "      <td>-0.017337</td>\n",
              "      <td>0.041602</td>\n",
              "      <td>0.314082</td>\n",
              "      <td>-0.070995</td>\n",
              "      <td>-0.343952</td>\n",
              "      <td>0.141355</td>\n",
              "      <td>-0.397809</td>\n",
              "      <td>0.046767</td>\n",
              "      <td>0.068449</td>\n",
              "      <td>-0.140294</td>\n",
              "      <td>-0.404553</td>\n",
              "      <td>0.028795</td>\n",
              "      <td>0.252434</td>\n",
              "      <td>-0.152068</td>\n",
              "      <td>0.361540</td>\n",
              "      <td>-0.404193</td>\n",
              "      <td>0.369497</td>\n",
              "      <td>-0.076468</td>\n",
              "      <td>-0.176338</td>\n",
              "      <td>0.044829</td>\n",
              "      <td>-0.052121</td>\n",
              "      <td>0.256241</td>\n",
              "      <td>0.196653</td>\n",
              "      <td>-0.091581</td>\n",
              "      <td>-0.716998</td>\n",
              "      <td>-0.407812</td>\n",
              "      <td>...</td>\n",
              "      <td>0.163593</td>\n",
              "      <td>-0.270718</td>\n",
              "      <td>0.467247</td>\n",
              "      <td>-0.386281</td>\n",
              "      <td>0.200450</td>\n",
              "      <td>-0.191414</td>\n",
              "      <td>0.278099</td>\n",
              "      <td>-0.292865</td>\n",
              "      <td>0.023086</td>\n",
              "      <td>-0.033929</td>\n",
              "      <td>-0.441728</td>\n",
              "      <td>0.140238</td>\n",
              "      <td>0.067459</td>\n",
              "      <td>0.464505</td>\n",
              "      <td>0.062631</td>\n",
              "      <td>-0.159951</td>\n",
              "      <td>0.062956</td>\n",
              "      <td>0.330492</td>\n",
              "      <td>-0.551830</td>\n",
              "      <td>-0.076356</td>\n",
              "      <td>0.182487</td>\n",
              "      <td>0.150197</td>\n",
              "      <td>-0.013580</td>\n",
              "      <td>-0.040434</td>\n",
              "      <td>0.026686</td>\n",
              "      <td>-0.295480</td>\n",
              "      <td>-0.111801</td>\n",
              "      <td>0.097040</td>\n",
              "      <td>-0.113225</td>\n",
              "      <td>-0.175610</td>\n",
              "      <td>0.188318</td>\n",
              "      <td>0.031296</td>\n",
              "      <td>0.205229</td>\n",
              "      <td>-0.091539</td>\n",
              "      <td>-0.103013</td>\n",
              "      <td>-0.212915</td>\n",
              "      <td>0.053797</td>\n",
              "      <td>-0.219028</td>\n",
              "      <td>0.075542</td>\n",
              "      <td>-0.008862</td>\n",
              "    </tr>\n",
              "  </tbody>\n",
              "</table>\n",
              "<p>2 rows × 256 columns</p>\n",
              "</div>"
            ],
            "text/plain": [
              "        0         1         2    ...       253       254       255\n",
              "0 -0.130494  0.073643 -0.354955  ... -0.060876  0.314991 -0.192157\n",
              "1 -0.234385  0.227516 -0.106715  ... -0.219028  0.075542 -0.008862\n",
              "\n",
              "[2 rows x 256 columns]"
            ]
          },
          "metadata": {
            "tags": []
          },
          "execution_count": 86
        }
      ]
    },
    {
      "cell_type": "code",
      "metadata": {
        "id": "cR7srLkVRtQb"
      },
      "source": [
        "I2W_df=pd.read_csv('/content/drive/My Drive/24787 Group Project  /Data/Dictionary_new.csv')"
      ],
      "execution_count": null,
      "outputs": []
    },
    {
      "cell_type": "code",
      "metadata": {
        "id": "vQOEzcsyWbmU"
      },
      "source": [
        "I2W=I2W_df.to_dict(orient='dict')['Vocab']\n",
        "I2W[0] = ''\n",
        "W2I = {v: k for k, v in I2W.items()}"
      ],
      "execution_count": null,
      "outputs": []
    },
    {
      "cell_type": "code",
      "metadata": {
        "colab": {
          "base_uri": "https://localhost:8080/",
          "height": 66,
          "referenced_widgets": [
            "a0f60e3f2a3a4aff9e2d127bc16c931a",
            "bb73b59996ef4e3fb934eedb1e38daf2",
            "d03fb2ab16e044fb9e7f7c6fb026daa3",
            "78037ca636294edcbb657ebabd5ee7a3",
            "f1a3f957923b43d9b081c7806660fafd",
            "48d5c0b86208493fac46cfc098bda806",
            "87aec4c7725c4d5293dca6b16a296dc6",
            "fe3b28cd9e464dee8f123b23e198802f"
          ]
        },
        "id": "P61jQzyDSSLT",
        "outputId": "b094a7d8-28dc-4f46-e374-b6eb64a97bff"
      },
      "source": [
        "#load the data\n",
        "raw_df=pd.read_csv('/content/drive/My Drive/24787 Group Project  /Data/winemag-data-130k-v2.csv',index_col=0)\n",
        "raw_data=raw_df[['description']]\n",
        "raw_label=raw_df[['points']]\n",
        "sentences_num=[]\n",
        "for i, row in tqdm(raw_data.iterrows()):\n",
        "    tokens = text_to_word_sequence(row[0],filters=\"—!#$%&()*+,-./:;<=>?@[\\\\]^_`{|}~\\t\\n\\r“”\"\"\")\n",
        "    temp_mem=[W2I[word] for word in tokens]\n",
        "    sentences_num.append(temp_mem)"
      ],
      "execution_count": null,
      "outputs": [
        {
          "output_type": "display_data",
          "data": {
            "application/vnd.jupyter.widget-view+json": {
              "model_id": "a0f60e3f2a3a4aff9e2d127bc16c931a",
              "version_minor": 0,
              "version_major": 2
            },
            "text/plain": [
              "HBox(children=(FloatProgress(value=1.0, bar_style='info', max=1.0), HTML(value='')))"
            ]
          },
          "metadata": {
            "tags": []
          }
        },
        {
          "output_type": "stream",
          "text": [
            "\n"
          ],
          "name": "stdout"
        }
      ]
    },
    {
      "cell_type": "code",
      "metadata": {
        "id": "dXDD2wmXb3-b"
      },
      "source": [
        "max_sentence_length = max([len(seq) for seq in sentences_num])\n",
        "input_sequences = np.array(pad_sequences(sentences_num, maxlen=max_sentence_length, padding='pre'))"
      ],
      "execution_count": null,
      "outputs": []
    },
    {
      "cell_type": "code",
      "metadata": {
        "colab": {
          "base_uri": "https://localhost:8080/"
        },
        "id": "lNILKkSFYaIk",
        "outputId": "d32cb6f3-951e-4f9d-f509-63d7a6416925"
      },
      "source": [
        "for seq in input_sequences[:3]:\n",
        "  print(f\"{seq} \\n => \\n {[I2W[i] for i in seq]}\")"
      ],
      "execution_count": null,
      "outputs": [
        {
          "output_type": "stream",
          "text": [
            "[    0     0     0     0     0     0     0     0     0     0     0     0\n",
            "     0     0     0     0     0     0     0     0     0     0     0     0\n",
            "     0     0     0     0     0     0     0     0     0     0     0     0\n",
            "     0     0     0     0     0     0     0     0     0     0     0     0\n",
            "     0     0     0     0     0     0     0     0     0     0     0     0\n",
            "     0     0     0     0     0     0     0     0     0     0     0     0\n",
            "     0     0     0     0     0     0     0     0     0     0     0     0\n",
            "     0     0     0     0     0     0     0     0     0     0     0     0\n",
            "     0     0     0     0     0     0     0     0     0     0     0     0\n",
            "     0     0     0     0    15   868   201    13  1975  3601     1    88\n",
            "   105     2    16   899  1019   919   306 14837    48    60     1    88\n",
            "   417   142   359    18] \n",
            " => \n",
            " ['', '', '', '', '', '', '', '', '', '', '', '', '', '', '', '', '', '', '', '', '', '', '', '', '', '', '', '', '', '', '', '', '', '', '', '', '', '', '', '', '', '', '', '', '', '', '', '', '', '', '', '', '', '', '', '', '', '', '', '', '', '', '', '', '', '', '', '', '', '', '', '', '', '', '', '', '', '', '', '', '', '', '', '', '', '', '', '', '', '', '', '', '', '', '', '', '', '', '', '', '', '', '', '', '', '', '', '', '', '', '', '', 'aromas', 'include', 'tropical', 'fruit', 'broom', 'brimstone', 'and', 'dried', 'herb', 'the', 'palate', \"isn't\", 'overly', 'expressive', 'offering', 'unripened', 'apple', 'citrus', 'and', 'dried', 'sage', 'alongside', 'brisk', 'acidity']\n",
            "[   0    0    0    0    0    0    0    0    0    0    0    0    0    0\n",
            "    0    0    0    0    0    0    0    0    0    0    0    0    0    0\n",
            "    0    0    0    0    0    0    0    0    0    0    0    0    0    0\n",
            "    0    0    0    0    0    0    0    0    0    0    0    0    0    0\n",
            "    0    0    0    0    0    0    0    0    0    0    0    0    0    0\n",
            "    0    0    0    0    0    0    0    0    0    0    0    0    0    0\n",
            "    0    0    0    0    0    0    0    0    0    0    0    0    0    0\n",
            "    6    7   27    1   75    3    8   17    7   99   61  123  144   78\n",
            "   22   28 1053   90    5   72   30   42   49    1 3774    5   18   24\n",
            "  376  698  289   12   87  680   96  438   20  420] \n",
            " => \n",
            " ['', '', '', '', '', '', '', '', '', '', '', '', '', '', '', '', '', '', '', '', '', '', '', '', '', '', '', '', '', '', '', '', '', '', '', '', '', '', '', '', '', '', '', '', '', '', '', '', '', '', '', '', '', '', '', '', '', '', '', '', '', '', '', '', '', '', '', '', '', '', '', '', '', '', '', '', '', '', '', '', '', '', '', '', '', '', '', '', '', '', '', '', '', '', '', '', '', '', 'this', 'is', 'ripe', 'and', 'fruity', 'a', 'wine', 'that', 'is', 'smooth', 'while', 'still', 'structured', 'firm', 'tannins', 'are', 'filled', 'out', 'with', 'juicy', 'red', 'berry', 'fruits', 'and', 'freshened', 'with', 'acidity', \"it's\", 'already', 'drinkable', 'although', 'it', 'will', 'certainly', 'be', 'better', 'from', '2016']\n",
            "[   0    0    0    0    0    0    0    0    0    0    0    0    0    0\n",
            "    0    0    0    0    0    0    0    0    0    0    0    0    0    0\n",
            "    0    0    0    0    0    0    0    0    0    0    0    0    0    0\n",
            "    0    0    0    0    0    0    0    0    0    0    0    0    0    0\n",
            "    0    0    0    0    0    0    0    0    0    0    0    0    0    0\n",
            "    0    0    0    0    0    0    0    0    0    0    0    0    0    0\n",
            "    0    0    0    0    0    0    0    0    0    0    0    0    0    0\n",
            "    0    0    0    0    0    0    0    0    0  114    1  926    2    9\n",
            "    4  126  940    1  609  555   79   73  196 6212   64    5   54   18\n",
            " 5637    2    9    2    8  388  100  809  729  480] \n",
            " => \n",
            " ['', '', '', '', '', '', '', '', '', '', '', '', '', '', '', '', '', '', '', '', '', '', '', '', '', '', '', '', '', '', '', '', '', '', '', '', '', '', '', '', '', '', '', '', '', '', '', '', '', '', '', '', '', '', '', '', '', '', '', '', '', '', '', '', '', '', '', '', '', '', '', '', '', '', '', '', '', '', '', '', '', '', '', '', '', '', '', '', '', '', '', '', '', '', '', '', '', '', '', '', '', '', '', '', '', '', '', 'tart', 'and', 'snappy', 'the', 'flavors', 'of', 'lime', 'flesh', 'and', 'rind', 'dominate', 'some', 'green', 'pineapple', 'pokes', 'through', 'with', 'crisp', 'acidity', 'underscoring', 'the', 'flavors', 'the', 'wine', 'was', 'all', 'stainless', 'steel', 'fermented']\n"
          ],
          "name": "stdout"
        }
      ]
    },
    {
      "cell_type": "code",
      "metadata": {
        "id": "tE4RVjoiZm3u"
      },
      "source": [
        "I2W_for_embedding = I2W.copy()\n",
        "I2W_for_embedding.pop(0)\n",
        "W2I_for_embedding = {v: k for k, v in I2W_for_embedding.items()}"
      ],
      "execution_count": null,
      "outputs": []
    },
    {
      "cell_type": "code",
      "metadata": {
        "id": "ORHxzs3ku7zf"
      },
      "source": [
        "def pretrained_embedding_layer(word_to_vec_map, word_to_index):\n",
        "    \"\"\"\n",
        "    Creates a Keras Embedding() layer\n",
        "    \n",
        "    Arguments:\n",
        "    word_to_vec_map -- dictionary mapping words to their GloVe vector representation.\n",
        "    word_to_index -- dictionary mapping from words to their indices in the vocabulary (400,001 words)\n",
        "\n",
        "    Returns:\n",
        "    embedding_layer -- pretrained layer Keras instance\n",
        "    \"\"\"\n",
        "    \n",
        "    vocab_len = len(word_to_index)+1                  # adding 1 to fit Keras embedding (requirement)\n",
        "    emb_dim = word_to_vec_map.shape[1]      # define dimensionality of your word vectors (= 256)\n",
        "    \n",
        "    ### START CODE HERE ###\n",
        "    # Initialize the embedding matrix as a numpy array of zeros of shape (vocab_len, dimensions of word vectors = emb_dim)\n",
        "    emb_matrix = np.zeros((vocab_len,emb_dim))\n",
        "    \n",
        "    # Set each row \"index\" of the embedding matrix to be the word vector representation of the \"index\"th word of the vocabulary\n",
        "    for word, index in tqdm(word_to_index.items()): #skip the first item \"<padding>\"\n",
        "        emb_matrix[index, :] = word_to_vec_map.iloc[index-1] ###TO-DO:update the word2vec\n",
        "\n",
        "    # Define Keras embedding layer with the correct output/input sizes, make it trainable. Use Embedding(...). Make sure to set trainable=False. \n",
        "    embedding_layer = Embedding(vocab_len, emb_dim,trainable=True) \n",
        "    ##TODO:is this maskz_zero correct here?\n",
        "    ### END CODE HERE ###\n",
        "\n",
        "    # Build the embedding layer, it is required before setting the weights of the embedding layer. Do not modify the \"None\".\n",
        "    embedding_layer.build((None,))\n",
        "    \n",
        "    # Set the weights of the embedding layer to the embedding matrix. Your layer is now pretrained.\n",
        "    embedding_layer.set_weights([emb_matrix])\n",
        "    \n",
        "    return embedding_layer"
      ],
      "execution_count": null,
      "outputs": []
    },
    {
      "cell_type": "code",
      "metadata": {
        "colab": {
          "base_uri": "https://localhost:8080/",
          "height": 82,
          "referenced_widgets": [
            "5c52564bbbd54b5eb8d2f12a50f36c8e",
            "e16a4ded14f345768cac3ec5b4e4f53f",
            "acd42d911d05463b90c4250520eb7abd",
            "31db9617ee7d4735b1b34642b9ea84c9",
            "6d8ac0c7617447f790b7ccfe34482cc3",
            "478b23d319d24d5b987cebc3c52e28c6",
            "e6764bb0c9354d9998d5a34173fcd4f2",
            "4dc4c8345ea6482a809aca7b8ee51253"
          ]
        },
        "id": "4G1EiOmENWEL",
        "outputId": "db935c39-ab7f-44b9-db48-2d578fc00eaa"
      },
      "source": [
        "embedding_layer = pretrained_embedding_layer(word2vec_map, W2I_for_embedding)\n",
        "print(\"weights[0][1][3] =\", embedding_layer.get_weights()[0][1][3])"
      ],
      "execution_count": null,
      "outputs": [
        {
          "output_type": "display_data",
          "data": {
            "application/vnd.jupyter.widget-view+json": {
              "model_id": "5c52564bbbd54b5eb8d2f12a50f36c8e",
              "version_minor": 0,
              "version_major": 2
            },
            "text/plain": [
              "HBox(children=(FloatProgress(value=0.0, max=33661.0), HTML(value='')))"
            ]
          },
          "metadata": {
            "tags": []
          }
        },
        {
          "output_type": "stream",
          "text": [
            "\n",
            "weights[0][1][3] = -0.07557311\n"
          ],
          "name": "stdout"
        }
      ]
    },
    {
      "cell_type": "code",
      "metadata": {
        "id": "d-Wc2EmAN1pa"
      },
      "source": [
        "def WineReviewMachine_V2(input_shape, word_to_vec_map, word_to_index,num_class):\n",
        "    \"\"\"\n",
        "    Function creating the Emojify-v2 model's graph.\n",
        "    \n",
        "    Arguments:\n",
        "    input_shape -- shape of the input, usually (max_len,)\n",
        "    word_to_vec_map -- dictionary mapping every word in a vocabulary into its 50-dimensional vector representation\n",
        "    word_to_index -- dictionary mapping from words to their indices in the vocabulary (400,001 words)\n",
        "\n",
        "    Returns:\n",
        "    model -- a model instance in Keras\n",
        "    \"\"\"\n",
        "    \n",
        "    ### START CODE HERE ###\n",
        "    # Define sentence_indices as the input of the graph, it should be of shape input_shape and dtype 'int32' (as it contains indices).\n",
        "    sentence_indices = Input(shape = input_shape, dtype = 'int32') #the max length \n",
        "    \n",
        "    # Create the embedding layer pretrained with GloVe Vectors (≈1 line)\n",
        "    embedding_layer = pretrained_embedding_layer(word_to_vec_map, word_to_index)\n",
        "    \n",
        "    # Propagate sentence_indices through your embedding layer, you get back the embeddings\n",
        "    embeddings = embedding_layer(sentence_indices)   \n",
        "    \n",
        "    # Propagate the embeddings through an LSTM layer with 128-dimensional hidden state\n",
        "    # Be careful, the returned output should be a batch of sequences.\n",
        "    X = Bidirectional(LSTM(256, return_sequences=True))(embeddings)\n",
        "    # Add dropout with a probability of 0.5\n",
        "    X = Dropout(0.5)(X)\n",
        "    # Propagate X trough another LSTM layer with 128-dimensional hidden state\n",
        "    # Be careful, the returned output should be a single hidden state, not a batch of sequences.\n",
        "    X = Bidirectional(LSTM(256, return_sequences=False))(X)\n",
        "    # Add dropout with a probability of 0.5\n",
        "    X = Dropout(0.5)(X)\n",
        "    # Propagate X through a Dense layer with softmax activation to get back a batch of 5-dimensional vectors.\n",
        "    X = Dense(num_class)(X)\n",
        "    # Add a softmax activation\n",
        "    X = Activation(\"softmax\")(X)\n",
        "    \n",
        "    # Create Model instance which converts sentence_indices into X.\n",
        "    model = Model(inputs=sentence_indices, outputs=X)\n",
        "    \n",
        "    ### END CODE HERE ###\n",
        "    \n",
        "    return model"
      ],
      "execution_count": null,
      "outputs": []
    },
    {
      "cell_type": "code",
      "metadata": {
        "colab": {
          "base_uri": "https://localhost:8080/",
          "height": 469,
          "referenced_widgets": [
            "d5c338ed857140559e403f58270f49e3",
            "37c9d6bfb26a4b32a89bcd78a8dc0994",
            "87a44b830147486aa9659d77dcc731fe",
            "7ffb6f5fda7141ff98263d1a2615489b",
            "47f45d0123484a0cbe025e96b5f034b0",
            "7e3fa4c7309f47979d6cc644f5f6a95e",
            "d105663d74d7440083d4d4f52a18860e",
            "e407d0e1a6f04a74bc6bbd06f867f830"
          ]
        },
        "id": "MiZlW8ePOKxP",
        "outputId": "53dfb32b-b015-4593-efc0-ed4a3b96597a"
      },
      "source": [
        "num_class=5\n",
        "model = WineReviewMachine_V2((max_sentence_length,), word2vec_map, W2I_for_embedding, num_class)\n",
        "model.summary()"
      ],
      "execution_count": null,
      "outputs": [
        {
          "output_type": "display_data",
          "data": {
            "application/vnd.jupyter.widget-view+json": {
              "model_id": "d5c338ed857140559e403f58270f49e3",
              "version_minor": 0,
              "version_major": 2
            },
            "text/plain": [
              "HBox(children=(FloatProgress(value=0.0, max=33661.0), HTML(value='')))"
            ]
          },
          "metadata": {
            "tags": []
          }
        },
        {
          "output_type": "stream",
          "text": [
            "\n",
            "Model: \"functional_15\"\n",
            "_________________________________________________________________\n",
            "Layer (type)                 Output Shape              Param #   \n",
            "=================================================================\n",
            "input_8 (InputLayer)         [(None, 136)]             0         \n",
            "_________________________________________________________________\n",
            "embedding_14 (Embedding)     (None, 136, 256)          8617472   \n",
            "_________________________________________________________________\n",
            "bidirectional_8 (Bidirection (None, 136, 512)          1050624   \n",
            "_________________________________________________________________\n",
            "dropout_14 (Dropout)         (None, 136, 512)          0         \n",
            "_________________________________________________________________\n",
            "bidirectional_9 (Bidirection (None, 512)               1574912   \n",
            "_________________________________________________________________\n",
            "dropout_15 (Dropout)         (None, 512)               0         \n",
            "_________________________________________________________________\n",
            "dense_7 (Dense)              (None, 5)                 2565      \n",
            "_________________________________________________________________\n",
            "activation_7 (Activation)    (None, 5)                 0         \n",
            "=================================================================\n",
            "Total params: 11,245,573\n",
            "Trainable params: 11,245,573\n",
            "Non-trainable params: 0\n",
            "_________________________________________________________________\n"
          ],
          "name": "stdout"
        }
      ]
    },
    {
      "cell_type": "code",
      "metadata": {
        "id": "cwLnyNjCO-e-"
      },
      "source": [
        "model.compile(loss='categorical_crossentropy', optimizer='adam', metrics=['accuracy'])"
      ],
      "execution_count": null,
      "outputs": []
    },
    {
      "cell_type": "code",
      "metadata": {
        "id": "A31RZFelPwux"
      },
      "source": [
        "y_label=raw_label.values\n",
        "y_label=y_label-y_label.min()\n",
        "y_label_5levels = []\n",
        "for i,y0 in enumerate(y_label):\n",
        "  temp = 0\n",
        "  if y0 <4:\n",
        "    temp = int(0)\n",
        "  elif y0>=4 and y0<8:\n",
        "     temp = int(1.0)\n",
        "  elif y0>=8 and y0<12:\n",
        "     temp = int(2.0)\n",
        "  elif y0>=12 and y0<16:\n",
        "     temp = int(3.0)\n",
        "  else: temp = int(4.0)\n",
        "  y_label_5levels.append(temp)"
      ],
      "execution_count": null,
      "outputs": []
    },
    {
      "cell_type": "code",
      "metadata": {
        "id": "pY7yG2c9PA7S"
      },
      "source": [
        "indices = y_label_5levels\n",
        "depth = max(indices)+1\n",
        "y_label_one_hot=tf.one_hot(indices, depth)"
      ],
      "execution_count": null,
      "outputs": []
    },
    {
      "cell_type": "code",
      "metadata": {
        "colab": {
          "base_uri": "https://localhost:8080/",
          "height": 114,
          "referenced_widgets": [
            "610bd023422d468c9b65269076f4a449",
            "4bf94e1b6c834c35a4eed824966ad5a2",
            "fa150c0d44204891a2c943b7b6540df7",
            "07d8aa575af844789e72dc5ebc0bfc7e",
            "bf78632d405f4df29a7567db70102bb8",
            "b17dc9e853fe42be937cc94d2999732c",
            "b241fd6ec4e44f969c74928b1d70584a",
            "ee8a08f003e44379a6e68ad63dfe6250",
            "e20dbadc164144babcdc0e32103b4d54",
            "99c2dc603a984a429627cbe4f15972c3",
            "b64133f2718f41f2b68b905fd3af9c3a",
            "805852c1269648a7abfcd4416982121d",
            "51c68da2549b4acdaa4a5ed10b09f0b1",
            "25b40551ff4645d5b7ea6829690119b5",
            "03cd540784bc42339a7da991c6757e34",
            "75a4c89d5eaa4e92821b9cee1b1f1b74"
          ]
        },
        "id": "z_Cgniokr_Gv",
        "outputId": "dc690c19-7f01-4ec7-f1cd-2f96ea10f7ac"
      },
      "source": [
        "#because we have 2 inputs, targets and contexts, I dont know how to use train_test_split on this \n",
        "#I created a home grown train_test_spliter\n",
        "\n",
        "#first, shuffle the indices\n",
        "targ_ind = np.arange(input_sequences.shape[0])\n",
        "np.random.shuffle(targ_ind)\n",
        "#second, assign around 80% of the indices to train\n",
        "\n",
        "train_ind = targ_ind[:103976]\n",
        "test_ind = targ_ind[103976:]\n",
        "#third, assign the general data to train and test datatset \n",
        "x_train_vec=[]\n",
        "y_train_label=[]\n",
        "for i in tqdm(train_ind):\n",
        "   x_train_vec_temp = input_sequences[i]\n",
        "   y_train_label_temp = y_label_one_hot[i]\n",
        "   x_train_vec.append(x_train_vec_temp)\n",
        "   y_train_label.append(y_train_label_temp)\n",
        "x_test_vec=[]\n",
        "y_test_label=[]\n",
        "for i in tqdm(test_ind):\n",
        "   x_test_vec_temp = input_sequences[i]\n",
        "   y_test_label_temp = y_label_one_hot[i]\n",
        "   x_test_vec.append(x_test_vec_temp)\n",
        "   y_test_label.append(y_test_label_temp)"
      ],
      "execution_count": null,
      "outputs": [
        {
          "output_type": "display_data",
          "data": {
            "application/vnd.jupyter.widget-view+json": {
              "model_id": "610bd023422d468c9b65269076f4a449",
              "version_minor": 0,
              "version_major": 2
            },
            "text/plain": [
              "HBox(children=(FloatProgress(value=0.0, max=103976.0), HTML(value='')))"
            ]
          },
          "metadata": {
            "tags": []
          }
        },
        {
          "output_type": "stream",
          "text": [
            "\n"
          ],
          "name": "stdout"
        },
        {
          "output_type": "display_data",
          "data": {
            "application/vnd.jupyter.widget-view+json": {
              "model_id": "e20dbadc164144babcdc0e32103b4d54",
              "version_minor": 0,
              "version_major": 2
            },
            "text/plain": [
              "HBox(children=(FloatProgress(value=0.0, max=25995.0), HTML(value='')))"
            ]
          },
          "metadata": {
            "tags": []
          }
        },
        {
          "output_type": "stream",
          "text": [
            "\n"
          ],
          "name": "stdout"
        }
      ]
    },
    {
      "cell_type": "code",
      "metadata": {
        "colab": {
          "base_uri": "https://localhost:8080/"
        },
        "id": "nD1IQHVosEbY",
        "outputId": "6faa89c1-6df8-4f8f-da4c-4724618bc635"
      },
      "source": [
        "BATCH_SIZE = 1024\n",
        "BUFFER_SIZE = 10000\n",
        "#this is some tensorflow data cleaning function\n",
        "dataset_train = tf.data.Dataset.from_tensor_slices((x_train_vec, y_train_label))\n",
        "dataset_train = dataset_train.shuffle(BUFFER_SIZE).batch(BATCH_SIZE, drop_remainder=True)\n",
        "BATCH_SIZE = 1024\n",
        "BUFFER_SIZE = 10000\n",
        "dataset_test = tf.data.Dataset.from_tensor_slices((x_test_vec, y_test_label))\n",
        "dataset_test = dataset_test.shuffle(BUFFER_SIZE).batch(BATCH_SIZE, drop_remainder=True)\n",
        "print(dataset_train)\n",
        "print(dataset_test)"
      ],
      "execution_count": null,
      "outputs": [
        {
          "output_type": "stream",
          "text": [
            "<BatchDataset shapes: ((1024, 136), (1024, 5)), types: (tf.int32, tf.float32)>\n",
            "<BatchDataset shapes: ((1024, 136), (1024, 5)), types: (tf.int32, tf.float32)>\n"
          ],
          "name": "stdout"
        }
      ]
    },
    {
      "cell_type": "code",
      "metadata": {
        "colab": {
          "base_uri": "https://localhost:8080/"
        },
        "id": "1YDd77YQsX_v",
        "outputId": "9473223f-4ad3-4bea-bd2a-232ef5344de5"
      },
      "source": [
        "dataset_train = dataset_train.cache().prefetch(buffer_size=AUTOTUNE)\n",
        "dataset_test = dataset_test.cache().prefetch(buffer_size=AUTOTUNE)\n",
        "print(dataset_train)\n",
        "print(dataset_test)"
      ],
      "execution_count": null,
      "outputs": [
        {
          "output_type": "stream",
          "text": [
            "<PrefetchDataset shapes: ((1024, 136), (1024, 5)), types: (tf.int32, tf.float32)>\n",
            "<PrefetchDataset shapes: ((1024, 136), (1024, 5)), types: (tf.int32, tf.float32)>\n"
          ],
          "name": "stdout"
        }
      ]
    },
    {
      "cell_type": "code",
      "metadata": {
        "id": "ZHwBV1S0tEEH"
      },
      "source": [
        "#some model visualization function, copied from Word2Vec tutorial\n",
        "tensorboard = tf.keras.callbacks.TensorBoard(log_dir=\"logs5\") \n",
        "\n",
        "#change the learning rate when plateau\n",
        "#lr = ReduceLROnPlateau(patience=3, verbose=True) \n",
        "\n",
        "#early stop the model to prevent overfit (stop when the validation accuracy is not improving much)\n",
        "#es = EarlyStopping(patience=5, verbose=True, restore_best_weights=True) "
      ],
      "execution_count": null,
      "outputs": []
    },
    {
      "cell_type": "code",
      "metadata": {
        "colab": {
          "base_uri": "https://localhost:8080/"
        },
        "id": "ZYA7cy81P2s_",
        "outputId": "9a5018b1-e7c9-44f1-b396-98a84918120a"
      },
      "source": [
        "model.fit(dataset_train,callbacks=tensorboard,epochs=42,verbose=1,validation_data=dataset_test)"
      ],
      "execution_count": null,
      "outputs": [
        {
          "output_type": "stream",
          "text": [
            "Epoch 1/42\n",
            "101/101 [==============================] - ETA: 0s - loss: 0.8894 - accuracy: 0.6019WARNING:tensorflow:Callbacks method `on_test_batch_end` is slow compared to the batch time (batch time: 0.0348s vs `on_test_batch_end` time: 0.1347s). Check your callbacks.\n",
            "101/101 [==============================] - 56s 554ms/step - loss: 0.8894 - accuracy: 0.6019 - val_loss: 0.7248 - val_accuracy: 0.6758\n",
            "Epoch 2/42\n",
            "101/101 [==============================] - 55s 542ms/step - loss: 0.7015 - accuracy: 0.6933 - val_loss: 0.6881 - val_accuracy: 0.6928\n",
            "Epoch 3/42\n",
            "101/101 [==============================] - 55s 541ms/step - loss: 0.6486 - accuracy: 0.7187 - val_loss: 0.6762 - val_accuracy: 0.6987\n",
            "Epoch 4/42\n",
            "101/101 [==============================] - 55s 541ms/step - loss: 0.6076 - accuracy: 0.7401 - val_loss: 0.6879 - val_accuracy: 0.6983\n",
            "Epoch 5/42\n",
            "101/101 [==============================] - 55s 541ms/step - loss: 0.5706 - accuracy: 0.7600 - val_loss: 0.7256 - val_accuracy: 0.6932\n",
            "Epoch 6/42\n",
            "101/101 [==============================] - 55s 541ms/step - loss: 0.5469 - accuracy: 0.7718 - val_loss: 0.7150 - val_accuracy: 0.6957\n",
            "Epoch 7/42\n",
            "101/101 [==============================] - 55s 541ms/step - loss: 0.5218 - accuracy: 0.7839 - val_loss: 0.7438 - val_accuracy: 0.6936\n",
            "Epoch 8/42\n",
            "101/101 [==============================] - 55s 541ms/step - loss: 0.4959 - accuracy: 0.7965 - val_loss: 0.7460 - val_accuracy: 0.6940\n",
            "Epoch 9/42\n",
            "101/101 [==============================] - 55s 541ms/step - loss: 0.4758 - accuracy: 0.8073 - val_loss: 0.7514 - val_accuracy: 0.6936\n",
            "Epoch 10/42\n",
            "101/101 [==============================] - 55s 540ms/step - loss: 0.4359 - accuracy: 0.8260 - val_loss: 0.8867 - val_accuracy: 0.6646\n",
            "Epoch 11/42\n",
            "101/101 [==============================] - 55s 540ms/step - loss: 0.4084 - accuracy: 0.8383 - val_loss: 0.8836 - val_accuracy: 0.6672\n",
            "Epoch 12/42\n",
            "101/101 [==============================] - 55s 540ms/step - loss: 0.3968 - accuracy: 0.8422 - val_loss: 0.8426 - val_accuracy: 0.6799\n",
            "Epoch 13/42\n",
            "101/101 [==============================] - 55s 541ms/step - loss: 0.3682 - accuracy: 0.8543 - val_loss: 0.9587 - val_accuracy: 0.6767\n",
            "Epoch 14/42\n",
            "101/101 [==============================] - 55s 542ms/step - loss: 0.3454 - accuracy: 0.8645 - val_loss: 0.9400 - val_accuracy: 0.6821\n",
            "Epoch 15/42\n",
            "101/101 [==============================] - 55s 541ms/step - loss: 0.3193 - accuracy: 0.8761 - val_loss: 0.9913 - val_accuracy: 0.6780\n",
            "Epoch 16/42\n",
            "101/101 [==============================] - 55s 541ms/step - loss: 0.2831 - accuracy: 0.8922 - val_loss: 1.0010 - val_accuracy: 0.6848\n",
            "Epoch 17/42\n",
            "101/101 [==============================] - 55s 540ms/step - loss: 0.2559 - accuracy: 0.9036 - val_loss: 1.1942 - val_accuracy: 0.6598\n",
            "Epoch 18/42\n",
            "101/101 [==============================] - 55s 541ms/step - loss: 0.2378 - accuracy: 0.9106 - val_loss: 1.2263 - val_accuracy: 0.6610\n",
            "Epoch 19/42\n",
            "101/101 [==============================] - 55s 541ms/step - loss: 0.2235 - accuracy: 0.9167 - val_loss: 1.1903 - val_accuracy: 0.6856\n",
            "Epoch 20/42\n",
            "101/101 [==============================] - 55s 542ms/step - loss: 0.1953 - accuracy: 0.9268 - val_loss: 1.3142 - val_accuracy: 0.6817\n",
            "Epoch 21/42\n",
            "101/101 [==============================] - 55s 541ms/step - loss: 0.1782 - accuracy: 0.9337 - val_loss: 1.3223 - val_accuracy: 0.6741\n",
            "Epoch 22/42\n",
            "101/101 [==============================] - 55s 542ms/step - loss: 0.1718 - accuracy: 0.9360 - val_loss: 1.2917 - val_accuracy: 0.6805\n",
            "Epoch 23/42\n",
            "101/101 [==============================] - 55s 540ms/step - loss: 0.1659 - accuracy: 0.9391 - val_loss: 1.3665 - val_accuracy: 0.6744\n",
            "Epoch 24/42\n",
            "101/101 [==============================] - 55s 541ms/step - loss: 0.1683 - accuracy: 0.9371 - val_loss: 1.3361 - val_accuracy: 0.6695\n",
            "Epoch 25/42\n",
            "101/101 [==============================] - 55s 541ms/step - loss: 0.1464 - accuracy: 0.9464 - val_loss: 1.2978 - val_accuracy: 0.6866\n",
            "Epoch 26/42\n",
            "101/101 [==============================] - 55s 541ms/step - loss: 0.1001 - accuracy: 0.9647 - val_loss: 1.6368 - val_accuracy: 0.6849\n",
            "Epoch 27/42\n",
            "101/101 [==============================] - 55s 542ms/step - loss: 0.0815 - accuracy: 0.9716 - val_loss: 1.7686 - val_accuracy: 0.6854\n",
            "Epoch 28/42\n",
            "101/101 [==============================] - 55s 541ms/step - loss: 0.0716 - accuracy: 0.9755 - val_loss: 1.9281 - val_accuracy: 0.6850\n",
            "Epoch 29/42\n",
            "101/101 [==============================] - 55s 541ms/step - loss: 0.0661 - accuracy: 0.9778 - val_loss: 1.9011 - val_accuracy: 0.6857\n",
            "Epoch 30/42\n",
            "101/101 [==============================] - 55s 541ms/step - loss: 0.0655 - accuracy: 0.9781 - val_loss: 1.8445 - val_accuracy: 0.6855\n",
            "Epoch 31/42\n",
            "101/101 [==============================] - 55s 542ms/step - loss: 0.0621 - accuracy: 0.9785 - val_loss: 1.8135 - val_accuracy: 0.6866\n",
            "Epoch 32/42\n",
            "101/101 [==============================] - 55s 541ms/step - loss: 0.0670 - accuracy: 0.9772 - val_loss: 1.7108 - val_accuracy: 0.6717\n",
            "Epoch 33/42\n",
            "101/101 [==============================] - 55s 541ms/step - loss: 0.0659 - accuracy: 0.9777 - val_loss: 1.7127 - val_accuracy: 0.6720\n",
            "Epoch 34/42\n",
            "101/101 [==============================] - 55s 540ms/step - loss: 0.0602 - accuracy: 0.9794 - val_loss: 1.7544 - val_accuracy: 0.6819\n",
            "Epoch 35/42\n",
            "101/101 [==============================] - 55s 540ms/step - loss: 0.0527 - accuracy: 0.9822 - val_loss: 1.8681 - val_accuracy: 0.6807\n",
            "Epoch 36/42\n",
            "101/101 [==============================] - 55s 540ms/step - loss: 0.0370 - accuracy: 0.9877 - val_loss: 2.0256 - val_accuracy: 0.6916\n",
            "Epoch 37/42\n",
            "101/101 [==============================] - 55s 541ms/step - loss: 0.0208 - accuracy: 0.9937 - val_loss: 2.2528 - val_accuracy: 0.6851\n",
            "Epoch 38/42\n",
            "101/101 [==============================] - 55s 541ms/step - loss: 0.0131 - accuracy: 0.9961 - val_loss: 2.4749 - val_accuracy: 0.6889\n",
            "Epoch 39/42\n",
            "101/101 [==============================] - 55s 541ms/step - loss: 0.0099 - accuracy: 0.9970 - val_loss: 2.5544 - val_accuracy: 0.6892\n",
            "Epoch 40/42\n",
            "101/101 [==============================] - 55s 541ms/step - loss: 0.0099 - accuracy: 0.9971 - val_loss: 2.6792 - val_accuracy: 0.6888\n",
            "Epoch 41/42\n",
            "101/101 [==============================] - 55s 542ms/step - loss: 0.0104 - accuracy: 0.9969 - val_loss: 2.6270 - val_accuracy: 0.6884\n",
            "Epoch 42/42\n",
            "101/101 [==============================] - 55s 541ms/step - loss: 0.0121 - accuracy: 0.9963 - val_loss: 2.5655 - val_accuracy: 0.6893\n"
          ],
          "name": "stdout"
        },
        {
          "output_type": "execute_result",
          "data": {
            "text/plain": [
              "<tensorflow.python.keras.callbacks.History at 0x7f6c73e86828>"
            ]
          },
          "metadata": {
            "tags": []
          },
          "execution_count": 114
        }
      ]
    },
    {
      "cell_type": "code",
      "metadata": {
        "colab": {
          "base_uri": "https://localhost:8080/",
          "height": 743
        },
        "id": "1jfXDu7ntGqA",
        "outputId": "f2f84d00-e7f0-4c58-9c12-bcbc70a4803a"
      },
      "source": [
        "model.fit(dataset_train,callbacks=tensorboard,epochs=300,verbose=1,validation_data=dataset_test)"
      ],
      "execution_count": null,
      "outputs": [
        {
          "output_type": "stream",
          "text": [
            "Epoch 1/300\n",
            "  2/101 [..............................] - ETA: 4:01 - loss: 1.4931 - accuracy: 0.2983WARNING:tensorflow:Callbacks method `on_train_batch_end` is slow compared to the batch time (batch time: 0.8131s vs `on_train_batch_end` time: 4.0716s). Check your callbacks.\n",
            "101/101 [==============================] - 88s 870ms/step - loss: 1.0989 - accuracy: 0.4906 - val_loss: 0.9592 - val_accuracy: 0.5647\n",
            "Epoch 2/300\n",
            "101/101 [==============================] - 81s 801ms/step - loss: 0.9473 - accuracy: 0.5680 - val_loss: 0.9251 - val_accuracy: 0.5782\n",
            "Epoch 3/300\n",
            "101/101 [==============================] - 81s 801ms/step - loss: 0.8980 - accuracy: 0.5912 - val_loss: 0.9084 - val_accuracy: 0.5843\n",
            "Epoch 4/300\n",
            "101/101 [==============================] - 81s 801ms/step - loss: 0.8536 - accuracy: 0.6147 - val_loss: 0.8901 - val_accuracy: 0.5910\n",
            "Epoch 5/300\n",
            "101/101 [==============================] - 81s 801ms/step - loss: 0.8239 - accuracy: 0.6296 - val_loss: 0.8520 - val_accuracy: 0.6104\n",
            "Epoch 6/300\n",
            "101/101 [==============================] - 81s 802ms/step - loss: 0.7942 - accuracy: 0.6445 - val_loss: 0.7987 - val_accuracy: 0.6436\n",
            "Epoch 7/300\n",
            "101/101 [==============================] - 81s 801ms/step - loss: 0.7748 - accuracy: 0.6531 - val_loss: 0.7925 - val_accuracy: 0.6441\n",
            "Epoch 8/300\n",
            "101/101 [==============================] - 81s 801ms/step - loss: 0.7536 - accuracy: 0.6639 - val_loss: 0.7672 - val_accuracy: 0.6586\n",
            "Epoch 9/300\n",
            "101/101 [==============================] - 81s 801ms/step - loss: 0.7393 - accuracy: 0.6706 - val_loss: 0.8312 - val_accuracy: 0.6209\n",
            "Epoch 10/300\n",
            "101/101 [==============================] - 81s 801ms/step - loss: 0.7196 - accuracy: 0.6824 - val_loss: 0.7947 - val_accuracy: 0.6448\n",
            "Epoch 11/300\n",
            "101/101 [==============================] - 81s 801ms/step - loss: 0.7067 - accuracy: 0.6882 - val_loss: 0.7928 - val_accuracy: 0.6456\n",
            "Epoch 12/300\n",
            " 25/101 [======>.......................] - ETA: 53s - loss: 0.7098 - accuracy: 0.6863"
          ],
          "name": "stdout"
        },
        {
          "output_type": "error",
          "ename": "KeyboardInterrupt",
          "evalue": "ignored",
          "traceback": [
            "\u001b[0;31m---------------------------------------------------------------------------\u001b[0m",
            "\u001b[0;31mKeyboardInterrupt\u001b[0m                         Traceback (most recent call last)",
            "\u001b[0;32m<ipython-input-64-56471a5dc7d1>\u001b[0m in \u001b[0;36m<module>\u001b[0;34m()\u001b[0m\n\u001b[0;32m----> 1\u001b[0;31m \u001b[0mmodel\u001b[0m\u001b[0;34m.\u001b[0m\u001b[0mfit\u001b[0m\u001b[0;34m(\u001b[0m\u001b[0mdataset_train\u001b[0m\u001b[0;34m,\u001b[0m\u001b[0mcallbacks\u001b[0m\u001b[0;34m=\u001b[0m\u001b[0mtensorboard\u001b[0m\u001b[0;34m,\u001b[0m\u001b[0mepochs\u001b[0m\u001b[0;34m=\u001b[0m\u001b[0;36m300\u001b[0m\u001b[0;34m,\u001b[0m\u001b[0mverbose\u001b[0m\u001b[0;34m=\u001b[0m\u001b[0;36m1\u001b[0m\u001b[0;34m,\u001b[0m\u001b[0mvalidation_data\u001b[0m\u001b[0;34m=\u001b[0m\u001b[0mdataset_test\u001b[0m\u001b[0;34m)\u001b[0m\u001b[0;34m\u001b[0m\u001b[0;34m\u001b[0m\u001b[0m\n\u001b[0m",
            "\u001b[0;32m/usr/local/lib/python3.6/dist-packages/tensorflow/python/keras/engine/training.py\u001b[0m in \u001b[0;36m_method_wrapper\u001b[0;34m(self, *args, **kwargs)\u001b[0m\n\u001b[1;32m    106\u001b[0m   \u001b[0;32mdef\u001b[0m \u001b[0m_method_wrapper\u001b[0m\u001b[0;34m(\u001b[0m\u001b[0mself\u001b[0m\u001b[0;34m,\u001b[0m \u001b[0;34m*\u001b[0m\u001b[0margs\u001b[0m\u001b[0;34m,\u001b[0m \u001b[0;34m**\u001b[0m\u001b[0mkwargs\u001b[0m\u001b[0;34m)\u001b[0m\u001b[0;34m:\u001b[0m\u001b[0;34m\u001b[0m\u001b[0;34m\u001b[0m\u001b[0m\n\u001b[1;32m    107\u001b[0m     \u001b[0;32mif\u001b[0m \u001b[0;32mnot\u001b[0m \u001b[0mself\u001b[0m\u001b[0;34m.\u001b[0m\u001b[0m_in_multi_worker_mode\u001b[0m\u001b[0;34m(\u001b[0m\u001b[0;34m)\u001b[0m\u001b[0;34m:\u001b[0m  \u001b[0;31m# pylint: disable=protected-access\u001b[0m\u001b[0;34m\u001b[0m\u001b[0;34m\u001b[0m\u001b[0m\n\u001b[0;32m--> 108\u001b[0;31m       \u001b[0;32mreturn\u001b[0m \u001b[0mmethod\u001b[0m\u001b[0;34m(\u001b[0m\u001b[0mself\u001b[0m\u001b[0;34m,\u001b[0m \u001b[0;34m*\u001b[0m\u001b[0margs\u001b[0m\u001b[0;34m,\u001b[0m \u001b[0;34m**\u001b[0m\u001b[0mkwargs\u001b[0m\u001b[0;34m)\u001b[0m\u001b[0;34m\u001b[0m\u001b[0;34m\u001b[0m\u001b[0m\n\u001b[0m\u001b[1;32m    109\u001b[0m \u001b[0;34m\u001b[0m\u001b[0m\n\u001b[1;32m    110\u001b[0m     \u001b[0;31m# Running inside `run_distribute_coordinator` already.\u001b[0m\u001b[0;34m\u001b[0m\u001b[0;34m\u001b[0m\u001b[0;34m\u001b[0m\u001b[0m\n",
            "\u001b[0;32m/usr/local/lib/python3.6/dist-packages/tensorflow/python/keras/engine/training.py\u001b[0m in \u001b[0;36mfit\u001b[0;34m(self, x, y, batch_size, epochs, verbose, callbacks, validation_split, validation_data, shuffle, class_weight, sample_weight, initial_epoch, steps_per_epoch, validation_steps, validation_batch_size, validation_freq, max_queue_size, workers, use_multiprocessing)\u001b[0m\n\u001b[1;32m   1096\u001b[0m                 batch_size=batch_size):\n\u001b[1;32m   1097\u001b[0m               \u001b[0mcallbacks\u001b[0m\u001b[0;34m.\u001b[0m\u001b[0mon_train_batch_begin\u001b[0m\u001b[0;34m(\u001b[0m\u001b[0mstep\u001b[0m\u001b[0;34m)\u001b[0m\u001b[0;34m\u001b[0m\u001b[0;34m\u001b[0m\u001b[0m\n\u001b[0;32m-> 1098\u001b[0;31m               \u001b[0mtmp_logs\u001b[0m \u001b[0;34m=\u001b[0m \u001b[0mtrain_function\u001b[0m\u001b[0;34m(\u001b[0m\u001b[0miterator\u001b[0m\u001b[0;34m)\u001b[0m\u001b[0;34m\u001b[0m\u001b[0;34m\u001b[0m\u001b[0m\n\u001b[0m\u001b[1;32m   1099\u001b[0m               \u001b[0;32mif\u001b[0m \u001b[0mdata_handler\u001b[0m\u001b[0;34m.\u001b[0m\u001b[0mshould_sync\u001b[0m\u001b[0;34m:\u001b[0m\u001b[0;34m\u001b[0m\u001b[0;34m\u001b[0m\u001b[0m\n\u001b[1;32m   1100\u001b[0m                 \u001b[0mcontext\u001b[0m\u001b[0;34m.\u001b[0m\u001b[0masync_wait\u001b[0m\u001b[0;34m(\u001b[0m\u001b[0;34m)\u001b[0m\u001b[0;34m\u001b[0m\u001b[0;34m\u001b[0m\u001b[0m\n",
            "\u001b[0;32m/usr/local/lib/python3.6/dist-packages/tensorflow/python/eager/def_function.py\u001b[0m in \u001b[0;36m__call__\u001b[0;34m(self, *args, **kwds)\u001b[0m\n\u001b[1;32m    778\u001b[0m       \u001b[0;32melse\u001b[0m\u001b[0;34m:\u001b[0m\u001b[0;34m\u001b[0m\u001b[0;34m\u001b[0m\u001b[0m\n\u001b[1;32m    779\u001b[0m         \u001b[0mcompiler\u001b[0m \u001b[0;34m=\u001b[0m \u001b[0;34m\"nonXla\"\u001b[0m\u001b[0;34m\u001b[0m\u001b[0;34m\u001b[0m\u001b[0m\n\u001b[0;32m--> 780\u001b[0;31m         \u001b[0mresult\u001b[0m \u001b[0;34m=\u001b[0m \u001b[0mself\u001b[0m\u001b[0;34m.\u001b[0m\u001b[0m_call\u001b[0m\u001b[0;34m(\u001b[0m\u001b[0;34m*\u001b[0m\u001b[0margs\u001b[0m\u001b[0;34m,\u001b[0m \u001b[0;34m**\u001b[0m\u001b[0mkwds\u001b[0m\u001b[0;34m)\u001b[0m\u001b[0;34m\u001b[0m\u001b[0;34m\u001b[0m\u001b[0m\n\u001b[0m\u001b[1;32m    781\u001b[0m \u001b[0;34m\u001b[0m\u001b[0m\n\u001b[1;32m    782\u001b[0m       \u001b[0mnew_tracing_count\u001b[0m \u001b[0;34m=\u001b[0m \u001b[0mself\u001b[0m\u001b[0;34m.\u001b[0m\u001b[0m_get_tracing_count\u001b[0m\u001b[0;34m(\u001b[0m\u001b[0;34m)\u001b[0m\u001b[0;34m\u001b[0m\u001b[0;34m\u001b[0m\u001b[0m\n",
            "\u001b[0;32m/usr/local/lib/python3.6/dist-packages/tensorflow/python/eager/def_function.py\u001b[0m in \u001b[0;36m_call\u001b[0;34m(self, *args, **kwds)\u001b[0m\n\u001b[1;32m    805\u001b[0m       \u001b[0;31m# In this case we have created variables on the first call, so we run the\u001b[0m\u001b[0;34m\u001b[0m\u001b[0;34m\u001b[0m\u001b[0;34m\u001b[0m\u001b[0m\n\u001b[1;32m    806\u001b[0m       \u001b[0;31m# defunned version which is guaranteed to never create variables.\u001b[0m\u001b[0;34m\u001b[0m\u001b[0;34m\u001b[0m\u001b[0;34m\u001b[0m\u001b[0m\n\u001b[0;32m--> 807\u001b[0;31m       \u001b[0;32mreturn\u001b[0m \u001b[0mself\u001b[0m\u001b[0;34m.\u001b[0m\u001b[0m_stateless_fn\u001b[0m\u001b[0;34m(\u001b[0m\u001b[0;34m*\u001b[0m\u001b[0margs\u001b[0m\u001b[0;34m,\u001b[0m \u001b[0;34m**\u001b[0m\u001b[0mkwds\u001b[0m\u001b[0;34m)\u001b[0m  \u001b[0;31m# pylint: disable=not-callable\u001b[0m\u001b[0;34m\u001b[0m\u001b[0;34m\u001b[0m\u001b[0m\n\u001b[0m\u001b[1;32m    808\u001b[0m     \u001b[0;32melif\u001b[0m \u001b[0mself\u001b[0m\u001b[0;34m.\u001b[0m\u001b[0m_stateful_fn\u001b[0m \u001b[0;32mis\u001b[0m \u001b[0;32mnot\u001b[0m \u001b[0;32mNone\u001b[0m\u001b[0;34m:\u001b[0m\u001b[0;34m\u001b[0m\u001b[0;34m\u001b[0m\u001b[0m\n\u001b[1;32m    809\u001b[0m       \u001b[0;31m# Release the lock early so that multiple threads can perform the call\u001b[0m\u001b[0;34m\u001b[0m\u001b[0;34m\u001b[0m\u001b[0;34m\u001b[0m\u001b[0m\n",
            "\u001b[0;32m/usr/local/lib/python3.6/dist-packages/tensorflow/python/eager/function.py\u001b[0m in \u001b[0;36m__call__\u001b[0;34m(self, *args, **kwargs)\u001b[0m\n\u001b[1;32m   2827\u001b[0m     \u001b[0;32mwith\u001b[0m \u001b[0mself\u001b[0m\u001b[0;34m.\u001b[0m\u001b[0m_lock\u001b[0m\u001b[0;34m:\u001b[0m\u001b[0;34m\u001b[0m\u001b[0;34m\u001b[0m\u001b[0m\n\u001b[1;32m   2828\u001b[0m       \u001b[0mgraph_function\u001b[0m\u001b[0;34m,\u001b[0m \u001b[0margs\u001b[0m\u001b[0;34m,\u001b[0m \u001b[0mkwargs\u001b[0m \u001b[0;34m=\u001b[0m \u001b[0mself\u001b[0m\u001b[0;34m.\u001b[0m\u001b[0m_maybe_define_function\u001b[0m\u001b[0;34m(\u001b[0m\u001b[0margs\u001b[0m\u001b[0;34m,\u001b[0m \u001b[0mkwargs\u001b[0m\u001b[0;34m)\u001b[0m\u001b[0;34m\u001b[0m\u001b[0;34m\u001b[0m\u001b[0m\n\u001b[0;32m-> 2829\u001b[0;31m     \u001b[0;32mreturn\u001b[0m \u001b[0mgraph_function\u001b[0m\u001b[0;34m.\u001b[0m\u001b[0m_filtered_call\u001b[0m\u001b[0;34m(\u001b[0m\u001b[0margs\u001b[0m\u001b[0;34m,\u001b[0m \u001b[0mkwargs\u001b[0m\u001b[0;34m)\u001b[0m  \u001b[0;31m# pylint: disable=protected-access\u001b[0m\u001b[0;34m\u001b[0m\u001b[0;34m\u001b[0m\u001b[0m\n\u001b[0m\u001b[1;32m   2830\u001b[0m \u001b[0;34m\u001b[0m\u001b[0m\n\u001b[1;32m   2831\u001b[0m   \u001b[0;34m@\u001b[0m\u001b[0mproperty\u001b[0m\u001b[0;34m\u001b[0m\u001b[0;34m\u001b[0m\u001b[0m\n",
            "\u001b[0;32m/usr/local/lib/python3.6/dist-packages/tensorflow/python/eager/function.py\u001b[0m in \u001b[0;36m_filtered_call\u001b[0;34m(self, args, kwargs, cancellation_manager)\u001b[0m\n\u001b[1;32m   1846\u001b[0m                            resource_variable_ops.BaseResourceVariable))],\n\u001b[1;32m   1847\u001b[0m         \u001b[0mcaptured_inputs\u001b[0m\u001b[0;34m=\u001b[0m\u001b[0mself\u001b[0m\u001b[0;34m.\u001b[0m\u001b[0mcaptured_inputs\u001b[0m\u001b[0;34m,\u001b[0m\u001b[0;34m\u001b[0m\u001b[0;34m\u001b[0m\u001b[0m\n\u001b[0;32m-> 1848\u001b[0;31m         cancellation_manager=cancellation_manager)\n\u001b[0m\u001b[1;32m   1849\u001b[0m \u001b[0;34m\u001b[0m\u001b[0m\n\u001b[1;32m   1850\u001b[0m   \u001b[0;32mdef\u001b[0m \u001b[0m_call_flat\u001b[0m\u001b[0;34m(\u001b[0m\u001b[0mself\u001b[0m\u001b[0;34m,\u001b[0m \u001b[0margs\u001b[0m\u001b[0;34m,\u001b[0m \u001b[0mcaptured_inputs\u001b[0m\u001b[0;34m,\u001b[0m \u001b[0mcancellation_manager\u001b[0m\u001b[0;34m=\u001b[0m\u001b[0;32mNone\u001b[0m\u001b[0;34m)\u001b[0m\u001b[0;34m:\u001b[0m\u001b[0;34m\u001b[0m\u001b[0;34m\u001b[0m\u001b[0m\n",
            "\u001b[0;32m/usr/local/lib/python3.6/dist-packages/tensorflow/python/eager/function.py\u001b[0m in \u001b[0;36m_call_flat\u001b[0;34m(self, args, captured_inputs, cancellation_manager)\u001b[0m\n\u001b[1;32m   1922\u001b[0m       \u001b[0;31m# No tape is watching; skip to running the function.\u001b[0m\u001b[0;34m\u001b[0m\u001b[0;34m\u001b[0m\u001b[0;34m\u001b[0m\u001b[0m\n\u001b[1;32m   1923\u001b[0m       return self._build_call_outputs(self._inference_function.call(\n\u001b[0;32m-> 1924\u001b[0;31m           ctx, args, cancellation_manager=cancellation_manager))\n\u001b[0m\u001b[1;32m   1925\u001b[0m     forward_backward = self._select_forward_and_backward_functions(\n\u001b[1;32m   1926\u001b[0m         \u001b[0margs\u001b[0m\u001b[0;34m,\u001b[0m\u001b[0;34m\u001b[0m\u001b[0;34m\u001b[0m\u001b[0m\n",
            "\u001b[0;32m/usr/local/lib/python3.6/dist-packages/tensorflow/python/eager/function.py\u001b[0m in \u001b[0;36mcall\u001b[0;34m(self, ctx, args, cancellation_manager)\u001b[0m\n\u001b[1;32m    548\u001b[0m               \u001b[0minputs\u001b[0m\u001b[0;34m=\u001b[0m\u001b[0margs\u001b[0m\u001b[0;34m,\u001b[0m\u001b[0;34m\u001b[0m\u001b[0;34m\u001b[0m\u001b[0m\n\u001b[1;32m    549\u001b[0m               \u001b[0mattrs\u001b[0m\u001b[0;34m=\u001b[0m\u001b[0mattrs\u001b[0m\u001b[0;34m,\u001b[0m\u001b[0;34m\u001b[0m\u001b[0;34m\u001b[0m\u001b[0m\n\u001b[0;32m--> 550\u001b[0;31m               ctx=ctx)\n\u001b[0m\u001b[1;32m    551\u001b[0m         \u001b[0;32melse\u001b[0m\u001b[0;34m:\u001b[0m\u001b[0;34m\u001b[0m\u001b[0;34m\u001b[0m\u001b[0m\n\u001b[1;32m    552\u001b[0m           outputs = execute.execute_with_cancellation(\n",
            "\u001b[0;32m/usr/local/lib/python3.6/dist-packages/tensorflow/python/eager/execute.py\u001b[0m in \u001b[0;36mquick_execute\u001b[0;34m(op_name, num_outputs, inputs, attrs, ctx, name)\u001b[0m\n\u001b[1;32m     58\u001b[0m     \u001b[0mctx\u001b[0m\u001b[0;34m.\u001b[0m\u001b[0mensure_initialized\u001b[0m\u001b[0;34m(\u001b[0m\u001b[0;34m)\u001b[0m\u001b[0;34m\u001b[0m\u001b[0;34m\u001b[0m\u001b[0m\n\u001b[1;32m     59\u001b[0m     tensors = pywrap_tfe.TFE_Py_Execute(ctx._handle, device_name, op_name,\n\u001b[0;32m---> 60\u001b[0;31m                                         inputs, attrs, num_outputs)\n\u001b[0m\u001b[1;32m     61\u001b[0m   \u001b[0;32mexcept\u001b[0m \u001b[0mcore\u001b[0m\u001b[0;34m.\u001b[0m\u001b[0m_NotOkStatusException\u001b[0m \u001b[0;32mas\u001b[0m \u001b[0me\u001b[0m\u001b[0;34m:\u001b[0m\u001b[0;34m\u001b[0m\u001b[0;34m\u001b[0m\u001b[0m\n\u001b[1;32m     62\u001b[0m     \u001b[0;32mif\u001b[0m \u001b[0mname\u001b[0m \u001b[0;32mis\u001b[0m \u001b[0;32mnot\u001b[0m \u001b[0;32mNone\u001b[0m\u001b[0;34m:\u001b[0m\u001b[0;34m\u001b[0m\u001b[0;34m\u001b[0m\u001b[0m\n",
            "\u001b[0;31mKeyboardInterrupt\u001b[0m: "
          ]
        }
      ]
    },
    {
      "cell_type": "code",
      "metadata": {
        "colab": {
          "base_uri": "https://localhost:8080/"
        },
        "id": "dowQuHnqtIXY",
        "outputId": "f9158ee6-a14d-4190-9f02-d9f31a27f655"
      },
      "source": [
        ""
      ],
      "execution_count": null,
      "outputs": [
        {
          "output_type": "stream",
          "text": [
            "rmdir: failed to remove 'logs': No such file or directory\n"
          ],
          "name": "stdout"
        }
      ]
    },
    {
      "cell_type": "code",
      "metadata": {
        "id": "Oam_cLp4tRa3"
      },
      "source": [
        ""
      ],
      "execution_count": null,
      "outputs": []
    }
  ]
}